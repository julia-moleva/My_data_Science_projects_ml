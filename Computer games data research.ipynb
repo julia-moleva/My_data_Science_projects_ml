{
 "cells": [
  {
   "cell_type": "markdown",
   "metadata": {},
   "source": [
    "# Исследование данных о компьютерных играх\n",
    "\n",
    "Из открытых источников доступны исторические данные о продажах игр, оценки пользователей и экспертов, жанры и платформы (например, Xbox или PlayStation). Нам нужно выявить определяющие успешность игры закономерности. Это позволит сделать ставку на потенциально популярный продукт и спланировать рекламные кампании для интернет-магазина «Стрим», который продаёт по всему миру компьютерные игры.\n",
    "Перед нами данные до 2016 года. В наборе данных попадается аббревиатура ESRB (Entertainment Software Rating Board) — это ассоциация, определяющая возрастной рейтинг компьютерных игр. ESRB оценивает игровой контент и присваивает ему подходящую возрастную категорию, например, «Для взрослых», «Для детей младшего возраста» или «Для подростков»."
   ]
  },
  {
   "cell_type": "markdown",
   "metadata": {},
   "source": [
    "### Откроем файл с данными и изучим основную информацию"
   ]
  },
  {
   "cell_type": "markdown",
   "metadata": {},
   "source": [
    "Импортируем библиотеку pandas, numpy, matplotlib.pyplot, seaborn и scipy. Считаем данные из csv-файла в датафрейм и сохраним в переменную data. Выведем первые 10 строк таблицы:"
   ]
  },
  {
   "cell_type": "code",
   "execution_count": 1,
   "metadata": {},
   "outputs": [
    {
     "data": {
      "text/html": [
       "<div>\n",
       "<style scoped>\n",
       "    .dataframe tbody tr th:only-of-type {\n",
       "        vertical-align: middle;\n",
       "    }\n",
       "\n",
       "    .dataframe tbody tr th {\n",
       "        vertical-align: top;\n",
       "    }\n",
       "\n",
       "    .dataframe thead th {\n",
       "        text-align: right;\n",
       "    }\n",
       "</style>\n",
       "<table border=\"1\" class=\"dataframe\">\n",
       "  <thead>\n",
       "    <tr style=\"text-align: right;\">\n",
       "      <th></th>\n",
       "      <th>Name</th>\n",
       "      <th>Platform</th>\n",
       "      <th>Year_of_Release</th>\n",
       "      <th>Genre</th>\n",
       "      <th>NA_sales</th>\n",
       "      <th>EU_sales</th>\n",
       "      <th>JP_sales</th>\n",
       "      <th>Other_sales</th>\n",
       "      <th>Critic_Score</th>\n",
       "      <th>User_Score</th>\n",
       "      <th>Rating</th>\n",
       "    </tr>\n",
       "  </thead>\n",
       "  <tbody>\n",
       "    <tr>\n",
       "      <th>0</th>\n",
       "      <td>Wii Sports</td>\n",
       "      <td>Wii</td>\n",
       "      <td>2006.0</td>\n",
       "      <td>Sports</td>\n",
       "      <td>41.36</td>\n",
       "      <td>28.96</td>\n",
       "      <td>3.77</td>\n",
       "      <td>8.45</td>\n",
       "      <td>76.0</td>\n",
       "      <td>8</td>\n",
       "      <td>E</td>\n",
       "    </tr>\n",
       "    <tr>\n",
       "      <th>1</th>\n",
       "      <td>Super Mario Bros.</td>\n",
       "      <td>NES</td>\n",
       "      <td>1985.0</td>\n",
       "      <td>Platform</td>\n",
       "      <td>29.08</td>\n",
       "      <td>3.58</td>\n",
       "      <td>6.81</td>\n",
       "      <td>0.77</td>\n",
       "      <td>NaN</td>\n",
       "      <td>NaN</td>\n",
       "      <td>NaN</td>\n",
       "    </tr>\n",
       "    <tr>\n",
       "      <th>2</th>\n",
       "      <td>Mario Kart Wii</td>\n",
       "      <td>Wii</td>\n",
       "      <td>2008.0</td>\n",
       "      <td>Racing</td>\n",
       "      <td>15.68</td>\n",
       "      <td>12.76</td>\n",
       "      <td>3.79</td>\n",
       "      <td>3.29</td>\n",
       "      <td>82.0</td>\n",
       "      <td>8.3</td>\n",
       "      <td>E</td>\n",
       "    </tr>\n",
       "    <tr>\n",
       "      <th>3</th>\n",
       "      <td>Wii Sports Resort</td>\n",
       "      <td>Wii</td>\n",
       "      <td>2009.0</td>\n",
       "      <td>Sports</td>\n",
       "      <td>15.61</td>\n",
       "      <td>10.93</td>\n",
       "      <td>3.28</td>\n",
       "      <td>2.95</td>\n",
       "      <td>80.0</td>\n",
       "      <td>8</td>\n",
       "      <td>E</td>\n",
       "    </tr>\n",
       "    <tr>\n",
       "      <th>4</th>\n",
       "      <td>Pokemon Red/Pokemon Blue</td>\n",
       "      <td>GB</td>\n",
       "      <td>1996.0</td>\n",
       "      <td>Role-Playing</td>\n",
       "      <td>11.27</td>\n",
       "      <td>8.89</td>\n",
       "      <td>10.22</td>\n",
       "      <td>1.00</td>\n",
       "      <td>NaN</td>\n",
       "      <td>NaN</td>\n",
       "      <td>NaN</td>\n",
       "    </tr>\n",
       "    <tr>\n",
       "      <th>5</th>\n",
       "      <td>Tetris</td>\n",
       "      <td>GB</td>\n",
       "      <td>1989.0</td>\n",
       "      <td>Puzzle</td>\n",
       "      <td>23.20</td>\n",
       "      <td>2.26</td>\n",
       "      <td>4.22</td>\n",
       "      <td>0.58</td>\n",
       "      <td>NaN</td>\n",
       "      <td>NaN</td>\n",
       "      <td>NaN</td>\n",
       "    </tr>\n",
       "    <tr>\n",
       "      <th>6</th>\n",
       "      <td>New Super Mario Bros.</td>\n",
       "      <td>DS</td>\n",
       "      <td>2006.0</td>\n",
       "      <td>Platform</td>\n",
       "      <td>11.28</td>\n",
       "      <td>9.14</td>\n",
       "      <td>6.50</td>\n",
       "      <td>2.88</td>\n",
       "      <td>89.0</td>\n",
       "      <td>8.5</td>\n",
       "      <td>E</td>\n",
       "    </tr>\n",
       "    <tr>\n",
       "      <th>7</th>\n",
       "      <td>Wii Play</td>\n",
       "      <td>Wii</td>\n",
       "      <td>2006.0</td>\n",
       "      <td>Misc</td>\n",
       "      <td>13.96</td>\n",
       "      <td>9.18</td>\n",
       "      <td>2.93</td>\n",
       "      <td>2.84</td>\n",
       "      <td>58.0</td>\n",
       "      <td>6.6</td>\n",
       "      <td>E</td>\n",
       "    </tr>\n",
       "    <tr>\n",
       "      <th>8</th>\n",
       "      <td>New Super Mario Bros. Wii</td>\n",
       "      <td>Wii</td>\n",
       "      <td>2009.0</td>\n",
       "      <td>Platform</td>\n",
       "      <td>14.44</td>\n",
       "      <td>6.94</td>\n",
       "      <td>4.70</td>\n",
       "      <td>2.24</td>\n",
       "      <td>87.0</td>\n",
       "      <td>8.4</td>\n",
       "      <td>E</td>\n",
       "    </tr>\n",
       "    <tr>\n",
       "      <th>9</th>\n",
       "      <td>Duck Hunt</td>\n",
       "      <td>NES</td>\n",
       "      <td>1984.0</td>\n",
       "      <td>Shooter</td>\n",
       "      <td>26.93</td>\n",
       "      <td>0.63</td>\n",
       "      <td>0.28</td>\n",
       "      <td>0.47</td>\n",
       "      <td>NaN</td>\n",
       "      <td>NaN</td>\n",
       "      <td>NaN</td>\n",
       "    </tr>\n",
       "  </tbody>\n",
       "</table>\n",
       "</div>"
      ],
      "text/plain": [
       "                        Name Platform  Year_of_Release         Genre  \\\n",
       "0                 Wii Sports      Wii           2006.0        Sports   \n",
       "1          Super Mario Bros.      NES           1985.0      Platform   \n",
       "2             Mario Kart Wii      Wii           2008.0        Racing   \n",
       "3          Wii Sports Resort      Wii           2009.0        Sports   \n",
       "4   Pokemon Red/Pokemon Blue       GB           1996.0  Role-Playing   \n",
       "5                     Tetris       GB           1989.0        Puzzle   \n",
       "6      New Super Mario Bros.       DS           2006.0      Platform   \n",
       "7                   Wii Play      Wii           2006.0          Misc   \n",
       "8  New Super Mario Bros. Wii      Wii           2009.0      Platform   \n",
       "9                  Duck Hunt      NES           1984.0       Shooter   \n",
       "\n",
       "   NA_sales  EU_sales  JP_sales  Other_sales  Critic_Score User_Score Rating  \n",
       "0     41.36     28.96      3.77         8.45          76.0          8      E  \n",
       "1     29.08      3.58      6.81         0.77           NaN        NaN    NaN  \n",
       "2     15.68     12.76      3.79         3.29          82.0        8.3      E  \n",
       "3     15.61     10.93      3.28         2.95          80.0          8      E  \n",
       "4     11.27      8.89     10.22         1.00           NaN        NaN    NaN  \n",
       "5     23.20      2.26      4.22         0.58           NaN        NaN    NaN  \n",
       "6     11.28      9.14      6.50         2.88          89.0        8.5      E  \n",
       "7     13.96      9.18      2.93         2.84          58.0        6.6      E  \n",
       "8     14.44      6.94      4.70         2.24          87.0        8.4      E  \n",
       "9     26.93      0.63      0.28         0.47           NaN        NaN    NaN  "
      ]
     },
     "execution_count": 1,
     "metadata": {},
     "output_type": "execute_result"
    }
   ],
   "source": [
    "import pandas as pd\n",
    "import matplotlib.pyplot as plt\n",
    "import numpy as np\n",
    "import seaborn as sbrn\n",
    "from scipy import stats as st\n",
    "data = pd.read_csv('/datasets/games.csv')\n",
    "data.head(10)"
   ]
  },
  {
   "cell_type": "markdown",
   "metadata": {},
   "source": [
    "Построим общую гистограмму для всех числовых столбцов таблицы:"
   ]
  },
  {
   "cell_type": "code",
   "execution_count": 2,
   "metadata": {},
   "outputs": [
    {
     "data": {
      "image/png": "[encoded data removed]",
      "text/plain": [
       "<Figure size 864x720 with 6 Axes>"
      ]
     },
     "metadata": {
      "needs_background": "light"
     },
     "output_type": "display_data"
    }
   ],
   "source": [
    "data.hist(figsize=(12, 10),bins=10);"
   ]
  },
  {
   "cell_type": "markdown",
   "metadata": {},
   "source": [
    "Выведем основную информацию с помощью метода info() и проверим данные на наличие явных дубликатов:"
   ]
  },
  {
   "cell_type": "code",
   "execution_count": 3,
   "metadata": {},
   "outputs": [
    {
     "name": "stdout",
     "output_type": "stream",
     "text": [
      "Количество явных дубликатов: 0\n",
      "\n",
      "<class 'pandas.core.frame.DataFrame'>\n",
      "RangeIndex: 16715 entries, 0 to 16714\n",
      "Data columns (total 11 columns):\n",
      " #   Column           Non-Null Count  Dtype  \n",
      "---  ------           --------------  -----  \n",
      " 0   Name             16713 non-null  object \n",
      " 1   Platform         16715 non-null  object \n",
      " 2   Year_of_Release  16446 non-null  float64\n",
      " 3   Genre            16713 non-null  object \n",
      " 4   NA_sales         16715 non-null  float64\n",
      " 5   EU_sales         16715 non-null  float64\n",
      " 6   JP_sales         16715 non-null  float64\n",
      " 7   Other_sales      16715 non-null  float64\n",
      " 8   Critic_Score     8137 non-null   float64\n",
      " 9   User_Score       10014 non-null  object \n",
      " 10  Rating           9949 non-null   object \n",
      "dtypes: float64(6), object(5)\n",
      "memory usage: 1.4+ MB\n"
     ]
    }
   ],
   "source": [
    "print('Количество явных дубликатов:', data.duplicated().sum())\n",
    "print()\n",
    "data.info()"
   ]
  },
  {
   "cell_type": "markdown",
   "metadata": {},
   "source": [
    "Вывод: в полученных данных при изучении информации выделяется наличие пропущенных значений, написание столбцов не нижним регистром, неверные типы данных значений. Количество явных дубликатов не найдено, гистограммы требуют более детального анализа."
   ]
  },
  {
   "cell_type": "markdown",
   "metadata": {},
   "source": [
    "### Предобработка данных"
   ]
  },
  {
   "cell_type": "markdown",
   "metadata": {},
   "source": [
    "Заменим названия столбцов на корректные (приведем их к нижнему регистру) и поясняющие в каких величинах представлены данные:"
   ]
  },
  {
   "cell_type": "code",
   "execution_count": 4,
   "metadata": {
    "scrolled": true
   },
   "outputs": [
    {
     "data": {
      "text/html": [
       "<div>\n",
       "<style scoped>\n",
       "    .dataframe tbody tr th:only-of-type {\n",
       "        vertical-align: middle;\n",
       "    }\n",
       "\n",
       "    .dataframe tbody tr th {\n",
       "        vertical-align: top;\n",
       "    }\n",
       "\n",
       "    .dataframe thead th {\n",
       "        text-align: right;\n",
       "    }\n",
       "</style>\n",
       "<table border=\"1\" class=\"dataframe\">\n",
       "  <thead>\n",
       "    <tr style=\"text-align: right;\">\n",
       "      <th></th>\n",
       "      <th>name</th>\n",
       "      <th>platform</th>\n",
       "      <th>year_of_release</th>\n",
       "      <th>genre</th>\n",
       "      <th>na_sales_mln_copies</th>\n",
       "      <th>eu_sales_mln_copies</th>\n",
       "      <th>jp_sales_mln_copies</th>\n",
       "      <th>other_sales_mln_copies</th>\n",
       "      <th>critic_score_out_of_100</th>\n",
       "      <th>user_score_out_of_10</th>\n",
       "      <th>rating</th>\n",
       "    </tr>\n",
       "  </thead>\n",
       "  <tbody>\n",
       "    <tr>\n",
       "      <th>16710</th>\n",
       "      <td>Samurai Warriors: Sanada Maru</td>\n",
       "      <td>PS3</td>\n",
       "      <td>2016.0</td>\n",
       "      <td>Action</td>\n",
       "      <td>0.00</td>\n",
       "      <td>0.00</td>\n",
       "      <td>0.01</td>\n",
       "      <td>0.0</td>\n",
       "      <td>NaN</td>\n",
       "      <td>NaN</td>\n",
       "      <td>NaN</td>\n",
       "    </tr>\n",
       "    <tr>\n",
       "      <th>16711</th>\n",
       "      <td>LMA Manager 2007</td>\n",
       "      <td>X360</td>\n",
       "      <td>2006.0</td>\n",
       "      <td>Sports</td>\n",
       "      <td>0.00</td>\n",
       "      <td>0.01</td>\n",
       "      <td>0.00</td>\n",
       "      <td>0.0</td>\n",
       "      <td>NaN</td>\n",
       "      <td>NaN</td>\n",
       "      <td>NaN</td>\n",
       "    </tr>\n",
       "    <tr>\n",
       "      <th>16712</th>\n",
       "      <td>Haitaka no Psychedelica</td>\n",
       "      <td>PSV</td>\n",
       "      <td>2016.0</td>\n",
       "      <td>Adventure</td>\n",
       "      <td>0.00</td>\n",
       "      <td>0.00</td>\n",
       "      <td>0.01</td>\n",
       "      <td>0.0</td>\n",
       "      <td>NaN</td>\n",
       "      <td>NaN</td>\n",
       "      <td>NaN</td>\n",
       "    </tr>\n",
       "    <tr>\n",
       "      <th>16713</th>\n",
       "      <td>Spirits &amp; Spells</td>\n",
       "      <td>GBA</td>\n",
       "      <td>2003.0</td>\n",
       "      <td>Platform</td>\n",
       "      <td>0.01</td>\n",
       "      <td>0.00</td>\n",
       "      <td>0.00</td>\n",
       "      <td>0.0</td>\n",
       "      <td>NaN</td>\n",
       "      <td>NaN</td>\n",
       "      <td>NaN</td>\n",
       "    </tr>\n",
       "    <tr>\n",
       "      <th>16714</th>\n",
       "      <td>Winning Post 8 2016</td>\n",
       "      <td>PSV</td>\n",
       "      <td>2016.0</td>\n",
       "      <td>Simulation</td>\n",
       "      <td>0.00</td>\n",
       "      <td>0.00</td>\n",
       "      <td>0.01</td>\n",
       "      <td>0.0</td>\n",
       "      <td>NaN</td>\n",
       "      <td>NaN</td>\n",
       "      <td>NaN</td>\n",
       "    </tr>\n",
       "  </tbody>\n",
       "</table>\n",
       "</div>"
      ],
      "text/plain": [
       "                                name platform  year_of_release       genre  \\\n",
       "16710  Samurai Warriors: Sanada Maru      PS3           2016.0      Action   \n",
       "16711               LMA Manager 2007     X360           2006.0      Sports   \n",
       "16712        Haitaka no Psychedelica      PSV           2016.0   Adventure   \n",
       "16713               Spirits & Spells      GBA           2003.0    Platform   \n",
       "16714            Winning Post 8 2016      PSV           2016.0  Simulation   \n",
       "\n",
       "       na_sales_mln_copies  eu_sales_mln_copies  jp_sales_mln_copies  \\\n",
       "16710                 0.00                 0.00                 0.01   \n",
       "16711                 0.00                 0.01                 0.00   \n",
       "16712                 0.00                 0.00                 0.01   \n",
       "16713                 0.01                 0.00                 0.00   \n",
       "16714                 0.00                 0.00                 0.01   \n",
       "\n",
       "       other_sales_mln_copies  critic_score_out_of_100 user_score_out_of_10  \\\n",
       "16710                     0.0                      NaN                  NaN   \n",
       "16711                     0.0                      NaN                  NaN   \n",
       "16712                     0.0                      NaN                  NaN   \n",
       "16713                     0.0                      NaN                  NaN   \n",
       "16714                     0.0                      NaN                  NaN   \n",
       "\n",
       "      rating  \n",
       "16710    NaN  \n",
       "16711    NaN  \n",
       "16712    NaN  \n",
       "16713    NaN  \n",
       "16714    NaN  "
      ]
     },
     "execution_count": 4,
     "metadata": {},
     "output_type": "execute_result"
    }
   ],
   "source": [
    "data.columns = data.columns.str.lower()\n",
    "data.rename(columns = {'na_sales': 'na_sales_mln_copies',\\\n",
    "                       'eu_sales':'eu_sales_mln_copies',\\\n",
    "                       'jp_sales':'jp_sales_mln_copies',\\\n",
    "                       'other_sales':'other_sales_mln_copies',\\\n",
    "                       'critic_score': 'critic_score_out_of_100',\\\n",
    "                       'user_score': 'user_score_out_of_10'},inplace=True)\n",
    "data.tail(5)"
   ]
  },
  {
   "cell_type": "markdown",
   "metadata": {},
   "source": [
    "В данных обнаружены пропущенные значения, выведем их количество по каждому столбцу:"
   ]
  },
  {
   "cell_type": "code",
   "execution_count": 5,
   "metadata": {},
   "outputs": [
    {
     "data": {
      "text/plain": [
       "name                          2\n",
       "platform                      0\n",
       "year_of_release             269\n",
       "genre                         2\n",
       "na_sales_mln_copies           0\n",
       "eu_sales_mln_copies           0\n",
       "jp_sales_mln_copies           0\n",
       "other_sales_mln_copies        0\n",
       "critic_score_out_of_100    8578\n",
       "user_score_out_of_10       6701\n",
       "rating                     6766\n",
       "dtype: int64"
      ]
     },
     "execution_count": 5,
     "metadata": {},
     "output_type": "execute_result"
    }
   ],
   "source": [
    "data.isna().sum()"
   ]
  },
  {
   "cell_type": "markdown",
   "metadata": {},
   "source": [
    "В столбце `name` всего 2 пропущенных значения, посмотрим что содержат эти строки:"
   ]
  },
  {
   "cell_type": "code",
   "execution_count": 6,
   "metadata": {},
   "outputs": [
    {
     "data": {
      "text/html": [
       "<div>\n",
       "<style scoped>\n",
       "    .dataframe tbody tr th:only-of-type {\n",
       "        vertical-align: middle;\n",
       "    }\n",
       "\n",
       "    .dataframe tbody tr th {\n",
       "        vertical-align: top;\n",
       "    }\n",
       "\n",
       "    .dataframe thead th {\n",
       "        text-align: right;\n",
       "    }\n",
       "</style>\n",
       "<table border=\"1\" class=\"dataframe\">\n",
       "  <thead>\n",
       "    <tr style=\"text-align: right;\">\n",
       "      <th></th>\n",
       "      <th>name</th>\n",
       "      <th>platform</th>\n",
       "      <th>year_of_release</th>\n",
       "      <th>genre</th>\n",
       "      <th>na_sales_mln_copies</th>\n",
       "      <th>eu_sales_mln_copies</th>\n",
       "      <th>jp_sales_mln_copies</th>\n",
       "      <th>other_sales_mln_copies</th>\n",
       "      <th>critic_score_out_of_100</th>\n",
       "      <th>user_score_out_of_10</th>\n",
       "      <th>rating</th>\n",
       "    </tr>\n",
       "  </thead>\n",
       "  <tbody>\n",
       "    <tr>\n",
       "      <th>659</th>\n",
       "      <td>NaN</td>\n",
       "      <td>GEN</td>\n",
       "      <td>1993.0</td>\n",
       "      <td>NaN</td>\n",
       "      <td>1.78</td>\n",
       "      <td>0.53</td>\n",
       "      <td>0.00</td>\n",
       "      <td>0.08</td>\n",
       "      <td>NaN</td>\n",
       "      <td>NaN</td>\n",
       "      <td>NaN</td>\n",
       "    </tr>\n",
       "    <tr>\n",
       "      <th>14244</th>\n",
       "      <td>NaN</td>\n",
       "      <td>GEN</td>\n",
       "      <td>1993.0</td>\n",
       "      <td>NaN</td>\n",
       "      <td>0.00</td>\n",
       "      <td>0.00</td>\n",
       "      <td>0.03</td>\n",
       "      <td>0.00</td>\n",
       "      <td>NaN</td>\n",
       "      <td>NaN</td>\n",
       "      <td>NaN</td>\n",
       "    </tr>\n",
       "  </tbody>\n",
       "</table>\n",
       "</div>"
      ],
      "text/plain": [
       "      name platform  year_of_release genre  na_sales_mln_copies  \\\n",
       "659    NaN      GEN           1993.0   NaN                 1.78   \n",
       "14244  NaN      GEN           1993.0   NaN                 0.00   \n",
       "\n",
       "       eu_sales_mln_copies  jp_sales_mln_copies  other_sales_mln_copies  \\\n",
       "659                   0.53                 0.00                    0.08   \n",
       "14244                 0.00                 0.03                    0.00   \n",
       "\n",
       "       critic_score_out_of_100 user_score_out_of_10 rating  \n",
       "659                        NaN                  NaN    NaN  \n",
       "14244                      NaN                  NaN    NaN  "
      ]
     },
     "execution_count": 6,
     "metadata": {},
     "output_type": "execute_result"
    }
   ],
   "source": [
    "data[data['name'].isnull() == True]"
   ]
  },
  {
   "cell_type": "markdown",
   "metadata": {},
   "source": [
    "Обе игры 1993 года с платформой GEN, которая уже потеряла свою актуальность, информация в остальных столбцах не значительна, поэтому удалим эти строки. Данный тип пропусков полностью случайный."
   ]
  },
  {
   "cell_type": "code",
   "execution_count": 7,
   "metadata": {},
   "outputs": [
    {
     "data": {
      "text/plain": [
       "name                          0\n",
       "platform                      0\n",
       "year_of_release             269\n",
       "genre                         0\n",
       "na_sales_mln_copies           0\n",
       "eu_sales_mln_copies           0\n",
       "jp_sales_mln_copies           0\n",
       "other_sales_mln_copies        0\n",
       "critic_score_out_of_100    8576\n",
       "user_score_out_of_10       6699\n",
       "rating                     6764\n",
       "dtype: int64"
      ]
     },
     "execution_count": 7,
     "metadata": {},
     "output_type": "execute_result"
    }
   ],
   "source": [
    "data = data.dropna(subset=['name'])\n",
    "data.isna().sum()"
   ]
  },
  {
   "cell_type": "markdown",
   "metadata": {},
   "source": [
    "Также удалим строки с пропущенными значениями столбца `year of release`. Данный тип пропуска полностью случайный. Заменить его другими значениями не получится, так как выпуск одной и той же игры на разных платформах происходит в разное время."
   ]
  },
  {
   "cell_type": "code",
   "execution_count": 8,
   "metadata": {},
   "outputs": [
    {
     "data": {
      "text/plain": [
       "name                          0\n",
       "platform                      0\n",
       "year_of_release               0\n",
       "genre                         0\n",
       "na_sales_mln_copies           0\n",
       "eu_sales_mln_copies           0\n",
       "jp_sales_mln_copies           0\n",
       "other_sales_mln_copies        0\n",
       "critic_score_out_of_100    8461\n",
       "user_score_out_of_10       6605\n",
       "rating                     6676\n",
       "dtype: int64"
      ]
     },
     "execution_count": 8,
     "metadata": {},
     "output_type": "execute_result"
    }
   ],
   "source": [
    "data = data.dropna(subset=['year_of_release'])\n",
    "data.isna().sum()"
   ]
  },
  {
   "cell_type": "markdown",
   "metadata": {},
   "source": [
    "Пропуски в столбцах `critic_score_out_of_100`, `user_score_out_of_10` и `rating` мы не можем заменить другими значениями или удалить, причина по которой эти данные не заполнены не известна, поэтому их оставляем. Рассмотрим подробнее столбец `rating` на наличие уникальных значений, содержащихся в нем:"
   ]
  },
  {
   "cell_type": "code",
   "execution_count": 9,
   "metadata": {},
   "outputs": [
    {
     "data": {
      "text/plain": [
       "array(['8', nan, '8.3', '8.5', '6.6', '8.4', '8.6', '7.7', '6.3', '7.4',\n",
       "       '8.2', '9', '7.9', '8.1', '8.7', '7.1', '3.4', '5.3', '4.8', '3.2',\n",
       "       '8.9', '6.4', '7.8', '7.5', '2.6', '7.2', '9.2', '7', '7.3', '4.3',\n",
       "       '7.6', '5.7', '5', '9.1', '6.5', 'tbd', '8.8', '6.9', '9.4', '6.8',\n",
       "       '6.1', '6.7', '5.4', '4', '4.9', '4.5', '9.3', '6.2', '4.2', '6',\n",
       "       '3.7', '4.1', '5.8', '5.6', '5.5', '4.4', '4.6', '5.9', '3.9',\n",
       "       '3.1', '2.9', '5.2', '3.3', '4.7', '5.1', '3.5', '2.5', '1.9', '3',\n",
       "       '2.7', '2.2', '2', '9.5', '2.1', '3.6', '2.8', '1.8', '3.8', '0',\n",
       "       '1.6', '9.6', '2.4', '1.7', '1.1', '0.3', '1.5', '0.7', '1.2',\n",
       "       '2.3', '0.5', '1.3', '0.2', '0.6', '1.4', '0.9', '1', '9.7'],\n",
       "      dtype=object)"
      ]
     },
     "execution_count": 9,
     "metadata": {},
     "output_type": "execute_result"
    }
   ],
   "source": [
    "data['user_score_out_of_10'].unique()"
   ]
  },
  {
   "cell_type": "markdown",
   "metadata": {},
   "source": [
    "Из данных следует, что помимо значения nan в столбце содержится значение tbd, которое дословно означает 'подлежит уточнению', так как по смысловой нагрузке в рамках столбца с рейтингом nan и tbd равны - заменим значение tbd на nan."
   ]
  },
  {
   "cell_type": "code",
   "execution_count": 10,
   "metadata": {},
   "outputs": [],
   "source": [
    "data.loc[data['user_score_out_of_10'] == 'tbd', 'user_score_out_of_10'] = np.nan"
   ]
  },
  {
   "cell_type": "markdown",
   "metadata": {},
   "source": [
    "Проверим типы данных в каждом столбце:"
   ]
  },
  {
   "cell_type": "code",
   "execution_count": 11,
   "metadata": {},
   "outputs": [
    {
     "data": {
      "text/plain": [
       "name                        object\n",
       "platform                    object\n",
       "year_of_release            float64\n",
       "genre                       object\n",
       "na_sales_mln_copies        float64\n",
       "eu_sales_mln_copies        float64\n",
       "jp_sales_mln_copies        float64\n",
       "other_sales_mln_copies     float64\n",
       "critic_score_out_of_100    float64\n",
       "user_score_out_of_10        object\n",
       "rating                      object\n",
       "dtype: object"
      ]
     },
     "execution_count": 11,
     "metadata": {},
     "output_type": "execute_result"
    }
   ],
   "source": [
    "data.dtypes"
   ]
  },
  {
   "cell_type": "markdown",
   "metadata": {},
   "source": [
    "Из таблицы следует, что тип данных в столбце `year_of_release` следует заменить с **float64** на **int**, так как год это целое число. `user_score_out_of_10` на **float64**, потому что данные столбца содержат числовой рейтинг оценки."
   ]
  },
  {
   "cell_type": "code",
   "execution_count": 12,
   "metadata": {},
   "outputs": [
    {
     "data": {
      "text/plain": [
       "name                        object\n",
       "platform                    object\n",
       "year_of_release              int64\n",
       "genre                       object\n",
       "na_sales_mln_copies        float64\n",
       "eu_sales_mln_copies        float64\n",
       "jp_sales_mln_copies        float64\n",
       "other_sales_mln_copies     float64\n",
       "critic_score_out_of_100    float64\n",
       "user_score_out_of_10       float64\n",
       "rating                      object\n",
       "dtype: object"
      ]
     },
     "execution_count": 12,
     "metadata": {},
     "output_type": "execute_result"
    }
   ],
   "source": [
    "data['year_of_release'] = data['year_of_release'].astype('int')\n",
    "data['user_score_out_of_10'] = data['user_score_out_of_10'].astype('float64')\n",
    "data.dtypes"
   ]
  },
  {
   "cell_type": "markdown",
   "metadata": {},
   "source": [
    "Добавим столбец с общим количеством проданных копий игр, для этого просуммируем столбцы с данными по продажам копий `na_sales_mln_copies`, `eu_sales_mln_copies`, `jp_sales_mln_copies`, `other_sales_mln_copies`"
   ]
  },
  {
   "cell_type": "code",
   "execution_count": 13,
   "metadata": {},
   "outputs": [
    {
     "data": {
      "text/html": [
       "<div>\n",
       "<style scoped>\n",
       "    .dataframe tbody tr th:only-of-type {\n",
       "        vertical-align: middle;\n",
       "    }\n",
       "\n",
       "    .dataframe tbody tr th {\n",
       "        vertical-align: top;\n",
       "    }\n",
       "\n",
       "    .dataframe thead th {\n",
       "        text-align: right;\n",
       "    }\n",
       "</style>\n",
       "<table border=\"1\" class=\"dataframe\">\n",
       "  <thead>\n",
       "    <tr style=\"text-align: right;\">\n",
       "      <th></th>\n",
       "      <th>name</th>\n",
       "      <th>platform</th>\n",
       "      <th>year_of_release</th>\n",
       "      <th>genre</th>\n",
       "      <th>na_sales_mln_copies</th>\n",
       "      <th>eu_sales_mln_copies</th>\n",
       "      <th>jp_sales_mln_copies</th>\n",
       "      <th>other_sales_mln_copies</th>\n",
       "      <th>critic_score_out_of_100</th>\n",
       "      <th>user_score_out_of_10</th>\n",
       "      <th>rating</th>\n",
       "      <th>total_sales_mln_copies</th>\n",
       "    </tr>\n",
       "  </thead>\n",
       "  <tbody>\n",
       "    <tr>\n",
       "      <th>0</th>\n",
       "      <td>Wii Sports</td>\n",
       "      <td>Wii</td>\n",
       "      <td>2006</td>\n",
       "      <td>Sports</td>\n",
       "      <td>41.36</td>\n",
       "      <td>28.96</td>\n",
       "      <td>3.77</td>\n",
       "      <td>8.45</td>\n",
       "      <td>76.0</td>\n",
       "      <td>8.0</td>\n",
       "      <td>E</td>\n",
       "      <td>82.54</td>\n",
       "    </tr>\n",
       "    <tr>\n",
       "      <th>1</th>\n",
       "      <td>Super Mario Bros.</td>\n",
       "      <td>NES</td>\n",
       "      <td>1985</td>\n",
       "      <td>Platform</td>\n",
       "      <td>29.08</td>\n",
       "      <td>3.58</td>\n",
       "      <td>6.81</td>\n",
       "      <td>0.77</td>\n",
       "      <td>NaN</td>\n",
       "      <td>NaN</td>\n",
       "      <td>NaN</td>\n",
       "      <td>40.24</td>\n",
       "    </tr>\n",
       "    <tr>\n",
       "      <th>2</th>\n",
       "      <td>Mario Kart Wii</td>\n",
       "      <td>Wii</td>\n",
       "      <td>2008</td>\n",
       "      <td>Racing</td>\n",
       "      <td>15.68</td>\n",
       "      <td>12.76</td>\n",
       "      <td>3.79</td>\n",
       "      <td>3.29</td>\n",
       "      <td>82.0</td>\n",
       "      <td>8.3</td>\n",
       "      <td>E</td>\n",
       "      <td>35.52</td>\n",
       "    </tr>\n",
       "    <tr>\n",
       "      <th>3</th>\n",
       "      <td>Wii Sports Resort</td>\n",
       "      <td>Wii</td>\n",
       "      <td>2009</td>\n",
       "      <td>Sports</td>\n",
       "      <td>15.61</td>\n",
       "      <td>10.93</td>\n",
       "      <td>3.28</td>\n",
       "      <td>2.95</td>\n",
       "      <td>80.0</td>\n",
       "      <td>8.0</td>\n",
       "      <td>E</td>\n",
       "      <td>32.77</td>\n",
       "    </tr>\n",
       "    <tr>\n",
       "      <th>4</th>\n",
       "      <td>Pokemon Red/Pokemon Blue</td>\n",
       "      <td>GB</td>\n",
       "      <td>1996</td>\n",
       "      <td>Role-Playing</td>\n",
       "      <td>11.27</td>\n",
       "      <td>8.89</td>\n",
       "      <td>10.22</td>\n",
       "      <td>1.00</td>\n",
       "      <td>NaN</td>\n",
       "      <td>NaN</td>\n",
       "      <td>NaN</td>\n",
       "      <td>31.38</td>\n",
       "    </tr>\n",
       "  </tbody>\n",
       "</table>\n",
       "</div>"
      ],
      "text/plain": [
       "                       name platform  year_of_release         genre  \\\n",
       "0                Wii Sports      Wii             2006        Sports   \n",
       "1         Super Mario Bros.      NES             1985      Platform   \n",
       "2            Mario Kart Wii      Wii             2008        Racing   \n",
       "3         Wii Sports Resort      Wii             2009        Sports   \n",
       "4  Pokemon Red/Pokemon Blue       GB             1996  Role-Playing   \n",
       "\n",
       "   na_sales_mln_copies  eu_sales_mln_copies  jp_sales_mln_copies  \\\n",
       "0                41.36                28.96                 3.77   \n",
       "1                29.08                 3.58                 6.81   \n",
       "2                15.68                12.76                 3.79   \n",
       "3                15.61                10.93                 3.28   \n",
       "4                11.27                 8.89                10.22   \n",
       "\n",
       "   other_sales_mln_copies  critic_score_out_of_100  user_score_out_of_10  \\\n",
       "0                    8.45                     76.0                   8.0   \n",
       "1                    0.77                      NaN                   NaN   \n",
       "2                    3.29                     82.0                   8.3   \n",
       "3                    2.95                     80.0                   8.0   \n",
       "4                    1.00                      NaN                   NaN   \n",
       "\n",
       "  rating  total_sales_mln_copies  \n",
       "0      E                   82.54  \n",
       "1    NaN                   40.24  \n",
       "2      E                   35.52  \n",
       "3      E                   32.77  \n",
       "4    NaN                   31.38  "
      ]
     },
     "execution_count": 13,
     "metadata": {},
     "output_type": "execute_result"
    }
   ],
   "source": [
    "data['total_sales_mln_copies'] = data.na_sales_mln_copies +\\\n",
    "data.eu_sales_mln_copies + data.jp_sales_mln_copies + data.other_sales_mln_copies\n",
    "data.head(5)"
   ]
  },
  {
   "cell_type": "markdown",
   "metadata": {},
   "source": [
    "Вывод: мы обработали данные, а именно -  привели столбцы к нижнему регистру и изменили названия на корректные, разобрались с пропущенными значениями, привели столбцы к верным типам данных и создали столбец с общим количеством проданных копий. Теперь таблица намного удобнее в использовании, можно приступать к анализу данных."
   ]
  },
  {
   "cell_type": "markdown",
   "metadata": {},
   "source": [
    "### Исследовательский анализ данных"
   ]
  },
  {
   "cell_type": "markdown",
   "metadata": {},
   "source": [
    "- **Проанализируем количество игр в рамках разных лет выпуска, для этого построим диаграмму размаха и гистограмму:**"
   ]
  },
  {
   "cell_type": "code",
   "execution_count": 14,
   "metadata": {},
   "outputs": [
    {
     "data": {
      "text/plain": [
       "count      37.000000\n",
       "mean      444.432432\n",
       "std       451.604334\n",
       "min         9.000000\n",
       "25%        36.000000\n",
       "50%       338.000000\n",
       "75%       762.000000\n",
       "max      1427.000000\n",
       "Name: year_of_release, dtype: float64"
      ]
     },
     "execution_count": 14,
     "metadata": {},
     "output_type": "execute_result"
    },
    {
     "data": {
      "image/png": "[encoded data removed]",
      "text/plain": [
       "<Figure size 432x288 with 1 Axes>"
      ]
     },
     "metadata": {
      "needs_background": "light"
     },
     "output_type": "display_data"
    }
   ],
   "source": [
    "data.boxplot(column=['year_of_release']);\n",
    "data['year_of_release'].value_counts().describe()"
   ]
  },
  {
   "cell_type": "code",
   "execution_count": 15,
   "metadata": {},
   "outputs": [
    {
     "data": {
      "image/png": "[encoded data removed]",
      "text/plain": [
       "<Figure size 432x288 with 1 Axes>"
      ]
     },
     "metadata": {
      "needs_background": "light"
     },
     "output_type": "display_data"
    }
   ],
   "source": [
    "data['year_of_release'].hist(bins=35);"
   ]
  },
  {
   "cell_type": "code",
   "execution_count": 16,
   "metadata": {},
   "outputs": [
    {
     "data": {
      "text/plain": [
       "2008    1427\n",
       "2009    1426\n",
       "2010    1255\n",
       "2007    1197\n",
       "2011    1136\n",
       "2006    1006\n",
       "2005     939\n",
       "2002     829\n",
       "2003     775\n",
       "2004     762\n",
       "Name: year_of_release, dtype: int64"
      ]
     },
     "execution_count": 16,
     "metadata": {},
     "output_type": "execute_result"
    }
   ],
   "source": [
    "data['year_of_release'].value_counts().head(10)"
   ]
  },
  {
   "cell_type": "markdown",
   "metadata": {},
   "source": [
    "Из графиков следует: \n",
    "- всего рассматриваются данные за 37 лет\n",
    "- в среднем в год выпускалось 338 игр\n",
    "- данные до 1994 года можно не учитывать, такие выбросы хорошо видно на диаграмме размаха (с 1980 по 1994 в год выпускалось менее 60 игр)\n",
    "- наибольшее количество игр выпустилось в 2008 (1427 игр) и 2009 (1426 игр), после этого пика последовал спад, что можно связать с большей работой над качеством игр и соответственно увеличением временного интервала между релизами, а также доля консолевых игр могла сократиться засчет увеличения количества мобильных приложений."
   ]
  },
  {
   "cell_type": "markdown",
   "metadata": {},
   "source": [
    "- **Проанализируем, как менялись продажи по платформам. Выберем платформы с наибольшими суммарными продажами и построим распределение по годам. Выясним, за какой характерный срок появляются новые и исчезают старые платформы**"
   ]
  },
  {
   "cell_type": "markdown",
   "metadata": {},
   "source": [
    "Посмотрим какие разновидности платформ содержатся в данных:"
   ]
  },
  {
   "cell_type": "code",
   "execution_count": 17,
   "metadata": {},
   "outputs": [
    {
     "data": {
      "text/plain": [
       "array(['Wii', 'NES', 'GB', 'DS', 'X360', 'PS3', 'PS2', 'SNES', 'GBA',\n",
       "       'PS4', '3DS', 'N64', 'PS', 'XB', 'PC', '2600', 'PSP', 'XOne',\n",
       "       'WiiU', 'GC', 'GEN', 'DC', 'PSV', 'SAT', 'SCD', 'WS', 'NG', 'TG16',\n",
       "       '3DO', 'GG', 'PCFX'], dtype=object)"
      ]
     },
     "execution_count": 17,
     "metadata": {},
     "output_type": "execute_result"
    }
   ],
   "source": [
    "data['platform'].unique()"
   ]
  },
  {
   "cell_type": "markdown",
   "metadata": {},
   "source": [
    "Сгруппируем данные по платформе и ее суммарным продажам и посмотрим на графике какие платформы оказались наиболее успешными по продажам игр за весь период времени:"
   ]
  },
  {
   "cell_type": "code",
   "execution_count": 18,
   "metadata": {},
   "outputs": [
    {
     "data": {
      "image/png": "[encoded data removed]",
      "text/plain": [
       "<Figure size 720x360 with 1 Axes>"
      ]
     },
     "metadata": {
      "needs_background": "light"
     },
     "output_type": "display_data"
    }
   ],
   "source": [
    "data.groupby('platform').agg({'total_sales_mln_copies':'sum'})\\\n",
    ".sort_values('total_sales_mln_copies',ascending=False)\\\n",
    ".plot(kind='bar',figsize=(10,5), color = 'y');"
   ]
  },
  {
   "cell_type": "markdown",
   "metadata": {},
   "source": [
    "Наибольшее количество копий было продано на платформе PS2, X360, PS3, Wii, DS, PS. Половина платформ, попавших в топ, принадлежит компании Sony, в том числе первое место по продажам за все время (PS2). Посмотрим эти платформы более детально, для этого построим отдельные гистограммы по каждой из них:"
   ]
  },
  {
   "cell_type": "code",
   "execution_count": 19,
   "metadata": {},
   "outputs": [],
   "source": [
    "def platform_hist (name,title):\n",
    "    data[data['platform'] == name]\\\n",
    "        .groupby('year_of_release')\\\n",
    "        .agg({'total_sales_mln_copies':'sum'})\\\n",
    "        .plot(kind='bar', figsize=(6,5))\n",
    "    plt.title(title)"
   ]
  },
  {
   "cell_type": "code",
   "execution_count": 20,
   "metadata": {},
   "outputs": [
    {
     "data": {
      "image/png": "[encoded data removed]",
      "text/plain": [
       "<Figure size 432x360 with 1 Axes>"
      ]
     },
     "metadata": {
      "needs_background": "light"
     },
     "output_type": "display_data"
    }
   ],
   "source": [
    "platform_hist('PS2','PS2')"
   ]
  },
  {
   "cell_type": "code",
   "execution_count": 21,
   "metadata": {},
   "outputs": [
    {
     "data": {
      "image/png": "[encoded data removed]",
      "text/plain": [
       "<Figure size 432x360 with 1 Axes>"
      ]
     },
     "metadata": {
      "needs_background": "light"
     },
     "output_type": "display_data"
    }
   ],
   "source": [
    "platform_hist('X360','X360')"
   ]
  },
  {
   "cell_type": "code",
   "execution_count": 22,
   "metadata": {},
   "outputs": [
    {
     "data": {
      "image/png": "[encoded data removed]",
      "text/plain": [
       "<Figure size 432x360 with 1 Axes>"
      ]
     },
     "metadata": {
      "needs_background": "light"
     },
     "output_type": "display_data"
    }
   ],
   "source": [
    "platform_hist('PS3','PS3')"
   ]
  },
  {
   "cell_type": "code",
   "execution_count": 23,
   "metadata": {},
   "outputs": [
    {
     "data": {
      "image/png": "[encoded data removed]",
      "text/plain": [
       "<Figure size 432x360 with 1 Axes>"
      ]
     },
     "metadata": {
      "needs_background": "light"
     },
     "output_type": "display_data"
    }
   ],
   "source": [
    "platform_hist('Wii','Wii')"
   ]
  },
  {
   "cell_type": "code",
   "execution_count": 24,
   "metadata": {},
   "outputs": [
    {
     "data": {
      "image/png": "[encoded data removed]",
      "text/plain": [
       "<Figure size 432x360 with 1 Axes>"
      ]
     },
     "metadata": {
      "needs_background": "light"
     },
     "output_type": "display_data"
    }
   ],
   "source": [
    "platform_hist('DS','DS')"
   ]
  },
  {
   "cell_type": "code",
   "execution_count": 25,
   "metadata": {},
   "outputs": [
    {
     "data": {
      "image/png": "[encoded data removed]",
      "text/plain": [
       "<Figure size 432x360 with 1 Axes>"
      ]
     },
     "metadata": {
      "needs_background": "light"
     },
     "output_type": "display_data"
    }
   ],
   "source": [
    "platform_hist('PS','PS')"
   ]
  },
  {
   "cell_type": "markdown",
   "metadata": {},
   "source": [
    "В среднем каждая платформа существовала на протяжении 10 лет, пик продаж происходит в среднем через 4 года с даты релиза. На примере компании Sony прослеживается закономерность - при падении продаж происходит выпуск новой платформы, например спад продаж PS2 пришелся на 2005 и в 2006 вышла новая платформа PS3. Компания Sony занимает половину лидирующих позиций. Построим график роста и спад продаж между разными платформами внутри одной компании. Данные помогут нам ориентрироваться за какой период стоит взять актуальные данные и работать с ними.Определим актуальный период, который поможет построить прогноз на 2017 год."
   ]
  },
  {
   "cell_type": "code",
   "execution_count": 26,
   "metadata": {},
   "outputs": [],
   "source": [
    "PS = data[data['platform'] == 'PS']\\\n",
    "    .groupby('year_of_release', as_index=False)\\\n",
    "    .agg({'total_sales_mln_copies':'sum'})\n",
    "PS2 = data[data['platform'] == 'PS2']\\\n",
    "    .groupby('year_of_release', as_index=False)\\\n",
    "    .agg({'total_sales_mln_copies':'sum'})\n",
    "PS3 = data[data['platform'] == 'PS3']\\\n",
    "    .groupby('year_of_release', as_index=False)\\\n",
    "    .agg({'total_sales_mln_copies':'sum'})\n",
    "PS4 = data[data['platform'] == 'PS4']\\\n",
    "    .groupby('year_of_release', as_index=False)\\\n",
    "    .agg({'total_sales_mln_copies':'sum'})"
   ]
  },
  {
   "cell_type": "code",
   "execution_count": 27,
   "metadata": {},
   "outputs": [
    {
     "data": {
      "image/png": "[encoded data removed]",
      "text/plain": [
       "<Figure size 720x360 with 1 Axes>"
      ]
     },
     "metadata": {
      "needs_background": "light"
     },
     "output_type": "display_data"
    }
   ],
   "source": [
    "plt.figure(figsize=(10, 5))\n",
    "plt.plot(PS.year_of_release, PS.total_sales_mln_copies, 'y',\n",
    "         PS2.year_of_release, PS2.total_sales_mln_copies, 'g',\n",
    "         PS3.year_of_release, PS3.total_sales_mln_copies, 'r',\n",
    "         PS4.year_of_release, PS4.total_sales_mln_copies)\n",
    "plt.title('Sony platforms')\n",
    "plt.legend(['PS','PS2', 'PS3', 'PS4'], fontsize=12, shadow=True, title='Platform')\n",
    "plt.xlabel('Year of release')\n",
    "plt.ylabel('Total sales (mln copies)');"
   ]
  },
  {
   "cell_type": "markdown",
   "metadata": {},
   "source": [
    "Посмотрим на график разных платформ внутри компании Microsoft"
   ]
  },
  {
   "cell_type": "code",
   "execution_count": 28,
   "metadata": {},
   "outputs": [],
   "source": [
    "XB = data[data['platform'] == 'XB']\\\n",
    "    .groupby('year_of_release', as_index=False)\\\n",
    "    .agg({'total_sales_mln_copies':'sum'})\n",
    "X360 = data[data['platform'] == 'X360']\\\n",
    "    .groupby('year_of_release', as_index=False)\\\n",
    "    .agg({'total_sales_mln_copies':'sum'})\n",
    "XOne = data[data['platform'] == 'XOne']\\\n",
    "    .groupby('year_of_release', as_index=False)\\\n",
    "    .agg({'total_sales_mln_copies':'sum'})"
   ]
  },
  {
   "cell_type": "code",
   "execution_count": 29,
   "metadata": {},
   "outputs": [
    {
     "data": {
      "image/png": "[encoded data removed]",
      "text/plain": [
       "<Figure size 720x360 with 1 Axes>"
      ]
     },
     "metadata": {
      "needs_background": "light"
     },
     "output_type": "display_data"
    }
   ],
   "source": [
    "plt.figure( figsize=(10, 5))\n",
    "plt.plot(XB.year_of_release, XB.total_sales_mln_copies, 'y',\n",
    "         X360.year_of_release, X360.total_sales_mln_copies, 'g',\n",
    "         XOne.year_of_release, XOne.total_sales_mln_copies, 'r')\n",
    "plt.title('Microsoft platforms')\n",
    "plt.legend(['XB','X360', 'XOne'], fontsize=12, shadow=True, title='Platform')\n",
    "plt.xlabel('Year of release')\n",
    "plt.ylabel('Total sales (mln copies)');"
   ]
  },
  {
   "cell_type": "markdown",
   "metadata": {},
   "source": [
    "Закономерность выпуска новых платформ компании Microsoft такая же как у Sony. При спаде продаж старой платформы, появляется новая. Исходя из того, что жизненный цикл платформ составляет 10 лет, а их пик приходится на четвертый год продаж, чтобы объективно составить прогноз на 2017 год - возьмем данные начиная с 2014 года. В этот год заметен рост продаж новых платформ и спад старых. Более ранние периоды не имеет смысла анализировать, потому что их пик продаж произойдет спустя 4 года и в 2017 начнется спад, выгоды от продвижения таких платформ будет меньше, чем от новых поколений."
   ]
  },
  {
   "cell_type": "markdown",
   "metadata": {},
   "source": [
    "- **Создадим новый датафрейм с актуальным периодом и посмотрим распределение платформ по суммарным продажам за 2014-2016:**"
   ]
  },
  {
   "cell_type": "code",
   "execution_count": 30,
   "metadata": {},
   "outputs": [],
   "source": [
    "actual_data = data[data['year_of_release'] >= 2014]"
   ]
  },
  {
   "cell_type": "code",
   "execution_count": 31,
   "metadata": {},
   "outputs": [
    {
     "data": {
      "image/png": "[encoded data removed]",
      "text/plain": [
       "<Figure size 504x360 with 1 Axes>"
      ]
     },
     "metadata": {
      "needs_background": "light"
     },
     "output_type": "display_data"
    }
   ],
   "source": [
    "actual_data.groupby('platform').agg({'total_sales_mln_copies':'sum'})\\\n",
    ".sort_values('total_sales_mln_copies',ascending=False)\\\n",
    ".plot(kind='bar',figsize=(7,5), color = 'g');"
   ]
  },
  {
   "cell_type": "markdown",
   "metadata": {},
   "source": [
    "- **Посмотрим рапределение каждой платформы в рамках одного года актуального периода, чтобы выявить лидеров продаж и выбрать потенциально прибыльные платформы:**"
   ]
  },
  {
   "cell_type": "code",
   "execution_count": 32,
   "metadata": {},
   "outputs": [],
   "source": [
    "def platform_by_year (year,title):\n",
    "    actual_data[actual_data['year_of_release'] == year]\\\n",
    "    .groupby('platform')\\\n",
    "    .agg({'total_sales_mln_copies':'sum'})\\\n",
    "    .sort_values('total_sales_mln_copies', ascending=False)\\\n",
    "    .plot(kind='bar', figsize=(7,5))\n",
    "    plt.title(title)"
   ]
  },
  {
   "cell_type": "code",
   "execution_count": 33,
   "metadata": {},
   "outputs": [
    {
     "data": {
      "image/png": "[encoded data removed]",
      "text/plain": [
       "<Figure size 504x360 with 1 Axes>"
      ]
     },
     "metadata": {
      "needs_background": "light"
     },
     "output_type": "display_data"
    }
   ],
   "source": [
    "platform_by_year(2014,2014)"
   ]
  },
  {
   "cell_type": "code",
   "execution_count": 34,
   "metadata": {},
   "outputs": [
    {
     "data": {
      "image/png": "[encoded data removed]",
      "text/plain": [
       "<Figure size 504x360 with 1 Axes>"
      ]
     },
     "metadata": {
      "needs_background": "light"
     },
     "output_type": "display_data"
    }
   ],
   "source": [
    "platform_by_year(2015,2015)"
   ]
  },
  {
   "cell_type": "code",
   "execution_count": 35,
   "metadata": {},
   "outputs": [
    {
     "data": {
      "image/png": "[encoded data removed]",
      "text/plain": [
       "<Figure size 504x360 with 1 Axes>"
      ]
     },
     "metadata": {
      "needs_background": "light"
     },
     "output_type": "display_data"
    }
   ],
   "source": [
    "platform_by_year(2016,2016)"
   ]
  },
  {
   "cell_type": "markdown",
   "metadata": {},
   "source": [
    "Из полученных данных следует, что платформа PS4 занимает лидирующие позиции за выбранный актуальный период, на втором месте с ощутимым отставанием находится платформа Xone. Третье место в 2014 году занимала PS3, но так как ее выместила PS4, с 2015 года ее продажи сильно сократились и на смену ей пришла 3DS, занимающая третье место с 2015 года. Рассмотрим на графиках каждую из этих платформ в рамках актуального периода"
   ]
  },
  {
   "cell_type": "code",
   "execution_count": 36,
   "metadata": {},
   "outputs": [],
   "source": [
    "PS4 = actual_data[actual_data['platform'] == 'PS4']\\\n",
    "    .groupby('year_of_release', as_index=False)\\\n",
    "    .agg({'total_sales_mln_copies':'sum'})\n",
    "XOne = actual_data[actual_data['platform'] == 'XOne']\\\n",
    "    .groupby('year_of_release', as_index=False)\\\n",
    "    .agg({'total_sales_mln_copies':'sum'})\n",
    "DS3 = actual_data[actual_data['platform'] == '3DS']\\\n",
    "    .groupby('year_of_release', as_index=False)\\\n",
    "    .agg({'total_sales_mln_copies':'sum'})"
   ]
  },
  {
   "cell_type": "code",
   "execution_count": 37,
   "metadata": {},
   "outputs": [
    {
     "data": {
      "image/png": "[encoded data removed]",
      "text/plain": [
       "<Figure size 720x360 with 1 Axes>"
      ]
     },
     "metadata": {
      "needs_background": "light"
     },
     "output_type": "display_data"
    }
   ],
   "source": [
    "plt.figure( figsize=(10, 5))\n",
    "plt.plot(PS4.year_of_release, PS4.total_sales_mln_copies, 'b',\n",
    "         XOne.year_of_release, XOne.total_sales_mln_copies, 'g',\n",
    "         DS3.year_of_release, DS3.total_sales_mln_copies, 'y')\n",
    "plt.title('Top platform actual')\n",
    "plt.legend(['PS4','XOne', '3DS'], fontsize=12, shadow=True, title='Platform')\n",
    "plt.xlabel('Year of release')\n",
    "plt.ylabel('Total sales (mln copies)');"
   ]
  },
  {
   "cell_type": "markdown",
   "metadata": {},
   "source": [
    "На графике можно наблюдать рост платформ PS4 и XOne с пиком в 2015 году и дальнейший спад продаж в 2016, это может быть связано с общим спадом в индустрии о котором говорилось ранее, а также с тем, что данные за 2016 год не полные, поэтому с полной уверенностью нельзя утверждать, что данные лидирующие платформы стали менее востребованы. Что касается 3DS, ее спад равномерен с 2014 года и вкладываться в рекламу данной платформы потенциально не выгодно. Таким образом мы выбрали две потенциально прибыльные платформы - это PS4 и XOne."
   ]
  },
  {
   "cell_type": "markdown",
   "metadata": {},
   "source": [
    "- **Построим график «ящик с усами» по глобальным продажам игр в разбивке по платформам**"
   ]
  },
  {
   "cell_type": "code",
   "execution_count": 38,
   "metadata": {},
   "outputs": [
    {
     "data": {
      "image/png": "[encoded data removed]",
      "text/plain": [
       "<Figure size 864x432 with 1 Axes>"
      ]
     },
     "metadata": {
      "needs_background": "light"
     },
     "output_type": "display_data"
    }
   ],
   "source": [
    "plt.figure(figsize=(12,6))\n",
    "sbrn.boxplot(x='platform', y='total_sales_mln_copies', data=actual_data)\n",
    "plt.xlabel('Platform')\n",
    "plt.ylabel('Total sales (mln copies)')\n",
    "plt.title('Actual Period')\n",
    "plt.ylim([0, 4]);"
   ]
  },
  {
   "cell_type": "code",
   "execution_count": 39,
   "metadata": {},
   "outputs": [
    {
     "data": {
      "text/html": [
       "<div>\n",
       "<style scoped>\n",
       "    .dataframe tbody tr th:only-of-type {\n",
       "        vertical-align: middle;\n",
       "    }\n",
       "\n",
       "    .dataframe tbody tr th {\n",
       "        vertical-align: top;\n",
       "    }\n",
       "\n",
       "    .dataframe thead th {\n",
       "        text-align: right;\n",
       "    }\n",
       "</style>\n",
       "<table border=\"1\" class=\"dataframe\">\n",
       "  <thead>\n",
       "    <tr style=\"text-align: right;\">\n",
       "      <th></th>\n",
       "      <th>count</th>\n",
       "      <th>mean</th>\n",
       "      <th>median</th>\n",
       "    </tr>\n",
       "    <tr>\n",
       "      <th>platform</th>\n",
       "      <th></th>\n",
       "      <th></th>\n",
       "      <th></th>\n",
       "    </tr>\n",
       "  </thead>\n",
       "  <tbody>\n",
       "    <tr>\n",
       "      <th>3DS</th>\n",
       "      <td>212</td>\n",
       "      <td>0.408868</td>\n",
       "      <td>0.090</td>\n",
       "    </tr>\n",
       "    <tr>\n",
       "      <th>PC</th>\n",
       "      <td>151</td>\n",
       "      <td>0.179139</td>\n",
       "      <td>0.060</td>\n",
       "    </tr>\n",
       "    <tr>\n",
       "      <th>PS3</th>\n",
       "      <td>219</td>\n",
       "      <td>0.311324</td>\n",
       "      <td>0.110</td>\n",
       "    </tr>\n",
       "    <tr>\n",
       "      <th>PS4</th>\n",
       "      <td>376</td>\n",
       "      <td>0.766356</td>\n",
       "      <td>0.185</td>\n",
       "    </tr>\n",
       "    <tr>\n",
       "      <th>PSP</th>\n",
       "      <td>13</td>\n",
       "      <td>0.027692</td>\n",
       "      <td>0.020</td>\n",
       "    </tr>\n",
       "    <tr>\n",
       "      <th>PSV</th>\n",
       "      <td>295</td>\n",
       "      <td>0.075932</td>\n",
       "      <td>0.040</td>\n",
       "    </tr>\n",
       "    <tr>\n",
       "      <th>Wii</th>\n",
       "      <td>11</td>\n",
       "      <td>0.460909</td>\n",
       "      <td>0.180</td>\n",
       "    </tr>\n",
       "    <tr>\n",
       "      <th>WiiU</th>\n",
       "      <td>73</td>\n",
       "      <td>0.588767</td>\n",
       "      <td>0.190</td>\n",
       "    </tr>\n",
       "    <tr>\n",
       "      <th>X360</th>\n",
       "      <td>111</td>\n",
       "      <td>0.434414</td>\n",
       "      <td>0.180</td>\n",
       "    </tr>\n",
       "    <tr>\n",
       "      <th>XOne</th>\n",
       "      <td>228</td>\n",
       "      <td>0.615614</td>\n",
       "      <td>0.205</td>\n",
       "    </tr>\n",
       "  </tbody>\n",
       "</table>\n",
       "</div>"
      ],
      "text/plain": [
       "          count      mean  median\n",
       "platform                         \n",
       "3DS         212  0.408868   0.090\n",
       "PC          151  0.179139   0.060\n",
       "PS3         219  0.311324   0.110\n",
       "PS4         376  0.766356   0.185\n",
       "PSP          13  0.027692   0.020\n",
       "PSV         295  0.075932   0.040\n",
       "Wii          11  0.460909   0.180\n",
       "WiiU         73  0.588767   0.190\n",
       "X360        111  0.434414   0.180\n",
       "XOne        228  0.615614   0.205"
      ]
     },
     "execution_count": 39,
     "metadata": {},
     "output_type": "execute_result"
    }
   ],
   "source": [
    "actual_data.groupby('platform')['total_sales_mln_copies'].agg(['count', 'mean', 'median'])"
   ]
  },
  {
   "cell_type": "markdown",
   "metadata": {},
   "source": [
    "График подтверждает предыдущие выводы о лидирующих позициях PS4 и XOne, но стоит отметить средние продажи платформ X360 и WiiU, которые близки к лидерам. На графике также выделяется платформа Wii c такой же медианой как и X360, но так как количество игр на Wii за актуальный период составляет 11 штук, а новая платформа WiiU набирает обороты, нет смысла фокусироваться на старой платформе Wii"
   ]
  },
  {
   "cell_type": "markdown",
   "metadata": {},
   "source": [
    "- **Посмотрим, как влияют на продажи внутри одной популярной платформы отзывы пользователей и критиков, также построим диаграмму рассеяния и посчитаем корреляцию между отзывами и продажами.**"
   ]
  },
  {
   "cell_type": "markdown",
   "metadata": {},
   "source": [
    "Рассмотрим взаимосвязь продаж с отзывами на примере PS4:"
   ]
  },
  {
   "cell_type": "code",
   "execution_count": 40,
   "metadata": {},
   "outputs": [
    {
     "data": {
      "text/html": [
       "<div>\n",
       "<style scoped>\n",
       "    .dataframe tbody tr th:only-of-type {\n",
       "        vertical-align: middle;\n",
       "    }\n",
       "\n",
       "    .dataframe tbody tr th {\n",
       "        vertical-align: top;\n",
       "    }\n",
       "\n",
       "    .dataframe thead th {\n",
       "        text-align: right;\n",
       "    }\n",
       "</style>\n",
       "<table border=\"1\" class=\"dataframe\">\n",
       "  <thead>\n",
       "    <tr style=\"text-align: right;\">\n",
       "      <th></th>\n",
       "      <th>total_sales_mln_copies</th>\n",
       "      <th>critic_score_out_of_100</th>\n",
       "      <th>user_score_out_of_10</th>\n",
       "    </tr>\n",
       "  </thead>\n",
       "  <tbody>\n",
       "    <tr>\n",
       "      <th>total_sales_mln_copies</th>\n",
       "      <td>1.000000</td>\n",
       "      <td>0.402661</td>\n",
       "      <td>-0.040132</td>\n",
       "    </tr>\n",
       "    <tr>\n",
       "      <th>critic_score_out_of_100</th>\n",
       "      <td>0.402661</td>\n",
       "      <td>1.000000</td>\n",
       "      <td>0.546434</td>\n",
       "    </tr>\n",
       "    <tr>\n",
       "      <th>user_score_out_of_10</th>\n",
       "      <td>-0.040132</td>\n",
       "      <td>0.546434</td>\n",
       "      <td>1.000000</td>\n",
       "    </tr>\n",
       "  </tbody>\n",
       "</table>\n",
       "</div>"
      ],
      "text/plain": [
       "                         total_sales_mln_copies  critic_score_out_of_100  \\\n",
       "total_sales_mln_copies                 1.000000                 0.402661   \n",
       "critic_score_out_of_100                0.402661                 1.000000   \n",
       "user_score_out_of_10                  -0.040132                 0.546434   \n",
       "\n",
       "                         user_score_out_of_10  \n",
       "total_sales_mln_copies              -0.040132  \n",
       "critic_score_out_of_100              0.546434  \n",
       "user_score_out_of_10                 1.000000  "
      ]
     },
     "execution_count": 40,
     "metadata": {},
     "output_type": "execute_result"
    },
    {
     "data": {
      "image/png": "[encoded data removed]",
      "text/plain": [
       "<Figure size 648x648 with 9 Axes>"
      ]
     },
     "metadata": {
      "needs_background": "light"
     },
     "output_type": "display_data"
    }
   ],
   "source": [
    "ps4_sales_score = actual_data[actual_data['platform'] == 'PS4']\n",
    "ps4_sales_score = \\\n",
    "ps4_sales_score[['total_sales_mln_copies', 'critic_score_out_of_100', 'user_score_out_of_10']]\n",
    "pd.plotting.scatter_matrix(ps4_sales_score, figsize=(9, 9));\n",
    "ps4_sales_score.corr()"
   ]
  },
  {
   "cell_type": "markdown",
   "metadata": {},
   "source": [
    "На графиках видно, что взаимосвязь между отзывами критиков и продажами слабая (0.4), а между отзывами пользователей и продажами отсутствует (-0.04). Из этого следует вывод, что отзывы пользователей не влияют на продажи игр, а отзывы критиков влияют, но очень слабо. Проверим данный вывод на примере остальных платформ:"
   ]
  },
  {
   "cell_type": "code",
   "execution_count": 41,
   "metadata": {},
   "outputs": [
    {
     "data": {
      "text/html": [
       "<div>\n",
       "<style scoped>\n",
       "    .dataframe tbody tr th:only-of-type {\n",
       "        vertical-align: middle;\n",
       "    }\n",
       "\n",
       "    .dataframe tbody tr th {\n",
       "        vertical-align: top;\n",
       "    }\n",
       "\n",
       "    .dataframe thead th {\n",
       "        text-align: right;\n",
       "    }\n",
       "</style>\n",
       "<table border=\"1\" class=\"dataframe\">\n",
       "  <thead>\n",
       "    <tr style=\"text-align: right;\">\n",
       "      <th></th>\n",
       "      <th>total_sales_mln_copies</th>\n",
       "      <th>critic_score_out_of_100</th>\n",
       "      <th>user_score_out_of_10</th>\n",
       "    </tr>\n",
       "  </thead>\n",
       "  <tbody>\n",
       "    <tr>\n",
       "      <th>total_sales_mln_copies</th>\n",
       "      <td>1.000000</td>\n",
       "      <td>0.309474</td>\n",
       "      <td>-0.023478</td>\n",
       "    </tr>\n",
       "    <tr>\n",
       "      <th>critic_score_out_of_100</th>\n",
       "      <td>0.309474</td>\n",
       "      <td>1.000000</td>\n",
       "      <td>0.485783</td>\n",
       "    </tr>\n",
       "    <tr>\n",
       "      <th>user_score_out_of_10</th>\n",
       "      <td>-0.023478</td>\n",
       "      <td>0.485783</td>\n",
       "      <td>1.000000</td>\n",
       "    </tr>\n",
       "  </tbody>\n",
       "</table>\n",
       "</div>"
      ],
      "text/plain": [
       "                         total_sales_mln_copies  critic_score_out_of_100  \\\n",
       "total_sales_mln_copies                 1.000000                 0.309474   \n",
       "critic_score_out_of_100                0.309474                 1.000000   \n",
       "user_score_out_of_10                  -0.023478                 0.485783   \n",
       "\n",
       "                         user_score_out_of_10  \n",
       "total_sales_mln_copies              -0.023478  \n",
       "critic_score_out_of_100              0.485783  \n",
       "user_score_out_of_10                 1.000000  "
      ]
     },
     "execution_count": 41,
     "metadata": {},
     "output_type": "execute_result"
    },
    {
     "data": {
      "image/png": "[encoded data removed]",
      "text/plain": [
       "<Figure size 648x648 with 9 Axes>"
      ]
     },
     "metadata": {
      "needs_background": "light"
     },
     "output_type": "display_data"
    }
   ],
   "source": [
    "actual_data_without_ps4 = actual_data[actual_data['platform'] != 'PS4']\n",
    "total_sales_score = \\\n",
    "actual_data_without_ps4[['total_sales_mln_copies', 'critic_score_out_of_100', 'user_score_out_of_10']]\n",
    "pd.plotting.scatter_matrix(total_sales_score, figsize=(9, 9));\n",
    "total_sales_score.corr()"
   ]
  },
  {
   "cell_type": "markdown",
   "metadata": {},
   "source": [
    "Вывод подтвердился, отзывы пользователей не влияют на продажи игр (-0.02), а отзывы критиков влияют несущественно, взаимосвязь слабая (0.3)."
   ]
  },
  {
   "cell_type": "markdown",
   "metadata": {},
   "source": [
    "- **Посмотрим на общее распределение игр по жанрам, выявим самые прибыльные жанры и проверим выделяются ли жанры с высокими и низкими продажами.**"
   ]
  },
  {
   "cell_type": "code",
   "execution_count": 42,
   "metadata": {},
   "outputs": [
    {
     "data": {
      "text/html": [
       "<div>\n",
       "<style scoped>\n",
       "    .dataframe tbody tr th:only-of-type {\n",
       "        vertical-align: middle;\n",
       "    }\n",
       "\n",
       "    .dataframe tbody tr th {\n",
       "        vertical-align: top;\n",
       "    }\n",
       "\n",
       "    .dataframe thead th {\n",
       "        text-align: right;\n",
       "    }\n",
       "</style>\n",
       "<table border=\"1\" class=\"dataframe\">\n",
       "  <thead>\n",
       "    <tr style=\"text-align: right;\">\n",
       "      <th></th>\n",
       "      <th>count</th>\n",
       "      <th>mean</th>\n",
       "      <th>median</th>\n",
       "    </tr>\n",
       "    <tr>\n",
       "      <th>genre</th>\n",
       "      <th></th>\n",
       "      <th></th>\n",
       "      <th></th>\n",
       "    </tr>\n",
       "  </thead>\n",
       "  <tbody>\n",
       "    <tr>\n",
       "      <th>Action</th>\n",
       "      <td>619</td>\n",
       "      <td>0.322068</td>\n",
       "      <td>0.090</td>\n",
       "    </tr>\n",
       "    <tr>\n",
       "      <th>Role-Playing</th>\n",
       "      <td>221</td>\n",
       "      <td>0.459005</td>\n",
       "      <td>0.110</td>\n",
       "    </tr>\n",
       "    <tr>\n",
       "      <th>Adventure</th>\n",
       "      <td>185</td>\n",
       "      <td>0.094865</td>\n",
       "      <td>0.030</td>\n",
       "    </tr>\n",
       "    <tr>\n",
       "      <th>Sports</th>\n",
       "      <td>161</td>\n",
       "      <td>0.680000</td>\n",
       "      <td>0.180</td>\n",
       "    </tr>\n",
       "    <tr>\n",
       "      <th>Shooter</th>\n",
       "      <td>128</td>\n",
       "      <td>1.335469</td>\n",
       "      <td>0.515</td>\n",
       "    </tr>\n",
       "    <tr>\n",
       "      <th>Misc</th>\n",
       "      <td>113</td>\n",
       "      <td>0.332301</td>\n",
       "      <td>0.090</td>\n",
       "    </tr>\n",
       "    <tr>\n",
       "      <th>Racing</th>\n",
       "      <td>69</td>\n",
       "      <td>0.398841</td>\n",
       "      <td>0.090</td>\n",
       "    </tr>\n",
       "    <tr>\n",
       "      <th>Fighting</th>\n",
       "      <td>60</td>\n",
       "      <td>0.470333</td>\n",
       "      <td>0.125</td>\n",
       "    </tr>\n",
       "    <tr>\n",
       "      <th>Simulation</th>\n",
       "      <td>44</td>\n",
       "      <td>0.298409</td>\n",
       "      <td>0.100</td>\n",
       "    </tr>\n",
       "    <tr>\n",
       "      <th>Platform</th>\n",
       "      <td>38</td>\n",
       "      <td>0.476053</td>\n",
       "      <td>0.140</td>\n",
       "    </tr>\n",
       "    <tr>\n",
       "      <th>Strategy</th>\n",
       "      <td>37</td>\n",
       "      <td>0.107027</td>\n",
       "      <td>0.060</td>\n",
       "    </tr>\n",
       "    <tr>\n",
       "      <th>Puzzle</th>\n",
       "      <td>14</td>\n",
       "      <td>0.157857</td>\n",
       "      <td>0.045</td>\n",
       "    </tr>\n",
       "  </tbody>\n",
       "</table>\n",
       "</div>"
      ],
      "text/plain": [
       "              count      mean  median\n",
       "genre                                \n",
       "Action          619  0.322068   0.090\n",
       "Role-Playing    221  0.459005   0.110\n",
       "Adventure       185  0.094865   0.030\n",
       "Sports          161  0.680000   0.180\n",
       "Shooter         128  1.335469   0.515\n",
       "Misc            113  0.332301   0.090\n",
       "Racing           69  0.398841   0.090\n",
       "Fighting         60  0.470333   0.125\n",
       "Simulation       44  0.298409   0.100\n",
       "Platform         38  0.476053   0.140\n",
       "Strategy         37  0.107027   0.060\n",
       "Puzzle           14  0.157857   0.045"
      ]
     },
     "execution_count": 42,
     "metadata": {},
     "output_type": "execute_result"
    },
    {
     "data": {
      "image/png": "[encoded data removed]",
      "text/plain": [
       "<Figure size 864x432 with 1 Axes>"
      ]
     },
     "metadata": {
      "needs_background": "light"
     },
     "output_type": "display_data"
    }
   ],
   "source": [
    "plt.figure(figsize=(12,6))\n",
    "sbrn.boxplot(x='genre', y='total_sales_mln_copies', data=actual_data)\n",
    "plt.xlabel('Genre')\n",
    "plt.ylabel('Total sales (mln copies)')\n",
    "plt.title('Actual Period')\n",
    "plt.ylim([0, 3]);\n",
    "actual_data.groupby('genre')['total_sales_mln_copies'].agg(['count', 'mean', 'median'])\\\n",
    ".sort_values('count',ascending=False)"
   ]
  },
  {
   "cell_type": "code",
   "execution_count": 43,
   "metadata": {},
   "outputs": [
    {
     "data": {
      "image/png": "[encoded data removed]",
      "text/plain": [
       "<Figure size 720x360 with 1 Axes>"
      ]
     },
     "metadata": {
      "needs_background": "light"
     },
     "output_type": "display_data"
    }
   ],
   "source": [
    "actual_data.groupby('genre').agg({'total_sales_mln_copies':'sum'})\\\n",
    ".sort_values('total_sales_mln_copies',ascending=False)\\\n",
    ".plot(kind='bar',figsize=(10,5), color = 'y');\n",
    "plt.xlabel('Genre')\n",
    "plt.ylabel('Total sales (mln copies)')\n",
    "plt.title('Actual Period');"
   ]
  },
  {
   "cell_type": "markdown",
   "metadata": {},
   "source": [
    "Из данных следует, что самым выпускаемым жанром на всех платформах актуального периода является Action, после него следуют Role-Playing и Adventure. Наименее выпускаемыми являются жанры Puzzle, Strategy и Platform. При этом, наибольшее количество проданных копий принадлежит жанрам Action, Shooter и Sports, а наименьшее количество проданных копий жанрам - Puzzle, Strategy и Simmulation. По средним продажам лидирует жанр Shooter. В целом можно сделать вывод, что более интеллектуальные игры менее прибыльные, это можно объяснить более простой графикой и меньшей активностью в самой игре по сравнению с Action и Shooter. В целом распределение выглядит вполне логично."
   ]
  },
  {
   "cell_type": "markdown",
   "metadata": {},
   "source": [
    "Вывод: \n",
    "- наибольшее количество игр выпустилось в 2008 (1427 игр) и 2009 (1426 игр), после этого пика последовал спад, что можно связать с большей работой над качеством игр и соответственно увеличением временного интервала между релизами, а также доля консолевых игр могла сократиться засчет увеличения количества мобильных приложений;\n",
    "- наибольшее количество копий за все время было продано на платформе PS2, X360, PS3, Wii, DS, PS. Половина платформ, попавших в топ, принадлежит компании Sony, в том числе первое место по продажам за все время (PS2);\n",
    "- в среднем каждая платформа существовала на протяжении 10 лет, пик продаж происходит в среднем через 4 года с даты релиза. На примере компании Sony прослеживается закономерность - при падении продаж происходит выпуск новой платформы, например спад продаж PS2 пришелся на 2005 и в 2006 вышла новая платформа PS3. Закономерность выпуска новых платформ компании Microsoft такая же как у Sony. При спаде продаж старой платформы, появляется новая. Исходя из того, что жизненный цикл платформ составляет 10 лет, а их пик приходится на четвертый год продаж, чтобы объективно составить прогноз на 2017 год за актуальный период взяты данные с 2014 года. В этот год заметен рост продаж новых платформ и спад старых. Более ранние периоды не имеет смысла анализировать, потому что их пик продаж произойдет спустя 4 года и в 2017 начнется спад, выгоды от продвижения таких платформ будет меньше, чем от новых поколений;\n",
    "- две потенциально прибыльные платформы - это PS4 и XOne. У обеих платформ пик продаж в 2015 году и дальнейший спад продаж в 2016, это может быть связано с общим спадом в индустрии о котором говорилось ранее, а также с тем, что данные за 2016 год не полные, поэтому с полной уверенностью нельзя утверждать, что данные лидирующие платформы стали менее востребованы;\n",
    "- отзывы пользователей не влияют на продажи игр, а отзывы критиков влияют, но очень слабо;\n",
    "- самым выпускаемым жанром на всех платформах актуального периода является Action, после него следуют Role-Playing и Adventure. Наименее выпускаемыми являются жанры Puzzle, Strategy и Platform. При этом, наибольшее количество проданных копий принадлежит жанрам Action, Shooter и Sports, а наименьшее количество проданных копий жанрам - Puzzle, Strategy и Simmulation. По средним продажам лидирует жанр Shooter. Потенциально прибыльные жанры - это Action, Shooter и Sports."
   ]
  },
  {
   "cell_type": "markdown",
   "metadata": {},
   "source": [
    "### Составим портрет пользователя каждого региона"
   ]
  },
  {
   "cell_type": "markdown",
   "metadata": {},
   "source": [
    "- **Определим для пользователя каждого региона (NA, EU, JP) самые популярные платформы (топ-5) и опишем различия в долях продаж.**"
   ]
  },
  {
   "cell_type": "code",
   "execution_count": 44,
   "metadata": {},
   "outputs": [],
   "source": [
    "def top_sales_region(group, region, xlabel, title):\n",
    "    data = actual_data.groupby(group, as_index=False).agg({region:'sum'})\\\n",
    "    .sort_values(region, ascending=False)\n",
    "    data['share'] = data[region] / data[region].sum()*100\n",
    "    print(data.head())\n",
    "    fig, ax = plt.subplots(figsize=(8,4))\n",
    "    sbrn.barplot(ax=ax, x = group, y = data['share'], data = data.head())\n",
    "    plt.xlabel(xlabel)\n",
    "    plt.ylabel('Sales share')\n",
    "    plt.title(title)"
   ]
  },
  {
   "cell_type": "code",
   "execution_count": 45,
   "metadata": {},
   "outputs": [
    {
     "name": "stdout",
     "output_type": "stream",
     "text": [
      "  platform  na_sales_mln_copies      share\n",
      "3      PS4                98.61  34.714497\n",
      "9     XOne                81.27  28.610153\n",
      "8     X360                28.30   9.962684\n",
      "0      3DS                22.64   7.970147\n",
      "2      PS3                22.05   7.762445\n"
     ]
    },
    {
     "data": {
      "image/png": "[encoded data removed]",
      "text/plain": [
       "<Figure size 576x288 with 1 Axes>"
      ]
     },
     "metadata": {
      "needs_background": "light"
     },
     "output_type": "display_data"
    }
   ],
   "source": [
    "top_sales_region('platform', 'na_sales_mln_copies','Platform', 'North America')"
   ]
  },
  {
   "cell_type": "markdown",
   "metadata": {},
   "source": [
    "В Северной Америке лидирующую позицию занимает PS4 с долей рынка 34.7%, но стоит отметить, что XOne не сильно отстает и занимает 28.6% рынка."
   ]
  },
  {
   "cell_type": "code",
   "execution_count": 46,
   "metadata": {},
   "outputs": [
    {
     "name": "stdout",
     "output_type": "stream",
     "text": [
      "  platform  eu_sales_mln_copies      share\n",
      "3      PS4               130.04  48.041968\n",
      "9     XOne                46.25  17.086597\n",
      "2      PS3                25.54   9.435496\n",
      "1       PC                17.97   6.638836\n",
      "0      3DS                16.12   5.955372\n"
     ]
    },
    {
     "data": {
      "image/png": "[encoded data removed]",
      "text/plain": [
       "<Figure size 576x288 with 1 Axes>"
      ]
     },
     "metadata": {
      "needs_background": "light"
     },
     "output_type": "display_data"
    }
   ],
   "source": [
    "top_sales_region('platform', 'eu_sales_mln_copies','Platform', 'Europe')"
   ]
  },
  {
   "cell_type": "markdown",
   "metadata": {},
   "source": [
    "В Европе большую долю рынка также занимает PS4(48%), но существенно опережает XOne(17%)"
   ]
  },
  {
   "cell_type": "code",
   "execution_count": 47,
   "metadata": {},
   "outputs": [
    {
     "name": "stdout",
     "output_type": "stream",
     "text": [
      "  platform  jp_sales_mln_copies      share\n",
      "0      3DS                44.24  47.523902\n",
      "3      PS4                15.02  16.134923\n",
      "5      PSV                14.54  15.619293\n",
      "2      PS3                11.22  12.052852\n",
      "7     WiiU                 7.31   7.852616\n"
     ]
    },
    {
     "data": {
      "image/png": "[encoded data removed]",
      "text/plain": [
       "<Figure size 576x288 with 1 Axes>"
      ]
     },
     "metadata": {
      "needs_background": "light"
     },
     "output_type": "display_data"
    }
   ],
   "source": [
    "top_sales_region('platform', 'jp_sales_mln_copies','Platform', 'Japan')"
   ]
  },
  {
   "cell_type": "markdown",
   "metadata": {},
   "source": [
    "В Японии ситуация не похожа на предыдущие два региона, здесь лидирует 3DS (что логично, производитель этой платформы японская компания Nintendo) с долей рынка 47.5%, при этом PS4 намного менее популярен (доля рынка 16%) и стоит отметить, что практически наравне со вторым третье место по доле на рынке занимает PSV (15.6%). Стоит отметить, что в топ-5 не вошел XOne, первое и последнее место в топе занимают японские производители платформ, остальные заняты разными платформами компании Sony."
   ]
  },
  {
   "cell_type": "markdown",
   "metadata": {},
   "source": [
    "- **Теперь определим самые популярные жанры (топ-5)**"
   ]
  },
  {
   "cell_type": "code",
   "execution_count": 48,
   "metadata": {},
   "outputs": [
    {
     "name": "stdout",
     "output_type": "stream",
     "text": [
      "           genre  na_sales_mln_copies      share\n",
      "8        Shooter                79.02  27.818067\n",
      "0         Action                72.53  25.533338\n",
      "10        Sports                46.13  16.239527\n",
      "7   Role-Playing                33.47  11.782722\n",
      "3           Misc                15.05   5.298176\n"
     ]
    },
    {
     "data": {
      "image/png": "[encoded data removed]",
      "text/plain": [
       "<Figure size 576x288 with 1 Axes>"
      ]
     },
     "metadata": {
      "needs_background": "light"
     },
     "output_type": "display_data"
    }
   ],
   "source": [
    "top_sales_region('genre', 'na_sales_mln_copies','Genre', 'North America')"
   ]
  },
  {
   "cell_type": "markdown",
   "metadata": {},
   "source": [
    "В Северной Америке лидирует жанр Shooter(27.8%), второе место с незначительным отставанием занимает жанр Action(25.5%) и завершает тройку лидеров жанр Sports(16.2%), оставшиеся доли в топ-5 принадлежат жанрам Role-Playing(11.8%) и Misc(5.2%)"
   ]
  },
  {
   "cell_type": "code",
   "execution_count": 49,
   "metadata": {},
   "outputs": [
    {
     "name": "stdout",
     "output_type": "stream",
     "text": [
      "           genre  eu_sales_mln_copies      share\n",
      "0         Action                74.68  27.589774\n",
      "8        Shooter                65.52  24.205704\n",
      "10        Sports                45.73  16.894488\n",
      "7   Role-Playing                28.17  10.407123\n",
      "6         Racing                14.13   5.220186\n"
     ]
    },
    {
     "data": {
      "image/png": "[encoded data removed]",
      "text/plain": [
       "<Figure size 576x288 with 1 Axes>"
      ]
     },
     "metadata": {
      "needs_background": "light"
     },
     "output_type": "display_data"
    }
   ],
   "source": [
    "top_sales_region('genre', 'eu_sales_mln_copies','Genre', 'Europe')"
   ]
  },
  {
   "cell_type": "markdown",
   "metadata": {},
   "source": [
    "В Европе также наибольшие доли рынка занимают Action (27.6%) и Shooter(24.2%), только в отличие от Америки в Европе на первое место вышли игры в жанре Action. На третьем и четвертом месте топа также Sports(16.9%) и Role-Playing(10.4%), завершает пятерку лидеров жанр Racing(5.2%)"
   ]
  },
  {
   "cell_type": "code",
   "execution_count": 50,
   "metadata": {},
   "outputs": [
    {
     "name": "stdout",
     "output_type": "stream",
     "text": [
      "          genre  jp_sales_mln_copies      share\n",
      "7  Role-Playing                31.16  33.472983\n",
      "0        Action                29.58  31.775701\n",
      "2      Fighting                 6.37   6.842840\n",
      "3          Misc                 5.61   6.026426\n",
      "8       Shooter                 4.87   5.231496\n"
     ]
    },
    {
     "data": {
      "image/png": "[encoded data removed]",
      "text/plain": [
       "<Figure size 576x288 with 1 Axes>"
      ]
     },
     "metadata": {
      "needs_background": "light"
     },
     "output_type": "display_data"
    }
   ],
   "source": [
    "top_sales_region('genre', 'jp_sales_mln_copies','Genre', 'Japan')"
   ]
  },
  {
   "cell_type": "markdown",
   "metadata": {},
   "source": [
    "В Японии лидирующую долю рынка занимают игры в жанре Role-Playing(33.5%) и с незначительным отставанием второе место занимают игры в жанре Action(31.8%). Доли остальных жанров в топ-5 значительно меньше и примерно равны: Fighting(6.8%), Misc(6%) и Shooter(5.2%)"
   ]
  },
  {
   "cell_type": "markdown",
   "metadata": {},
   "source": [
    "- **Определим влияет ли рейтинг ESRB на продажи в отдельном регионе.**"
   ]
  },
  {
   "cell_type": "markdown",
   "metadata": {},
   "source": [
    "Entertainment Software Rating Board — это ассоциация, определяющая возрастной рейтинг компьютерных игр. ESRB оценивает игровой контент и присваивает ему подходящую возрастную категорию, например, «Для взрослых», «Для детей младшего возраста» или «Для подростков». Ниже представлено описание каждого элемента рейтинга:\n",
    "- **EC** (Early childhood) - 'для детей младшего возраста': игра подходит для детей от 3 лет и не содержит материалов, которые родители могли бы счесть неподходящими;\n",
    "- **E** (Everyone) - 'для всех': содержание вполне подходит для всех возрастов. Такие игры могут понравиться и взрослым. Первоначально назывался **K-A** (Kids to Adults);\n",
    "- **E10+** (Everyone 10 and older) - 'для всех от 10 лет и старше': проекты с данным рейтингом могут содержать или немного больше мультипликационного или мягкого насилия, или несколько откровенные сцены, или минимальное количество крови;\n",
    "- **T** (Teen) - 'подросткам': игра подходит для лиц от 13 лет. Проекты из данной категории могут содержать насилие, непристойные сцены, грубый юмор, в меру откровенное сексуальное содержимое, кровь или нечастое использование ненормативной лексики;\n",
    "- **M** (Mature) - 'для взрослых': материалы игры не подходят для лиц младше 17 лет. Проекты с данным рейтингом могут содержать достаточно жестокое насилие, большое количество крови с расчленением, непристойные сексуальные сцены или грубую ненормативную лексику, нежелательную для младшей аудитории;\n",
    "- **AO** (Adults Only 18+) - 'только для взрослых': содержание игры только для взрослых старше 18 лет. Продукты из данной категории могут содержать длительные сцены жестокого насилия и/или очень откровенное сексуальное содержимое, а также сцены с обнажением;\n",
    "- **RP** (Rating Pending) - 'рейтинг ожидается': Продукт был отправлен в ESRB и ожидает присвоения рейтинга. Данный логотип используется только на рекламных презентациях и в демо-версиях игр до официальной даты выпуска в продажу;\n",
    "- **RP 17+** (Rating Pending) - 'рейтинг ожидается - примерно 17+': Продукт отправлен ESRB на оценку, но примерное содержание близко к рейтингу **M**."
   ]
  },
  {
   "cell_type": "markdown",
   "metadata": {},
   "source": [
    "Сначала посмотрим доли рейтингов всех регионов за актуальный период:"
   ]
  },
  {
   "cell_type": "code",
   "execution_count": 51,
   "metadata": {},
   "outputs": [
    {
     "data": {
      "image/png": "[encoded data removed]",
      "text/plain": [
       "<Figure size 432x288 with 1 Axes>"
      ]
     },
     "metadata": {},
     "output_type": "display_data"
    }
   ],
   "source": [
    "actual_data['rating'].value_counts().plot(kind='pie', autopct='%1.1f%%');"
   ]
  },
  {
   "cell_type": "markdown",
   "metadata": {},
   "source": [
    "В данном актуальном периоде игры делятся на 4 возрастные группы 'игры для подростков' и 'для взрослых' занимают по 28% от общего числа игр, далее с долей в 23% идут 'игры для всех' и на последнем месте 'игры для всех от 10 лет и старше'. Теперь посмотрим влияет ли рейтинг на продажи по регионам"
   ]
  },
  {
   "cell_type": "code",
   "execution_count": 52,
   "metadata": {},
   "outputs": [
    {
     "name": "stdout",
     "output_type": "stream",
     "text": [
      "  rating  na_sales_mln_copies      share\n",
      "2      M                96.42  43.959150\n",
      "0      E                50.74  23.133035\n",
      "3      T                38.95  17.757819\n",
      "1   E10+                33.23  15.149995\n"
     ]
    },
    {
     "data": {
      "image/png": "[encoded data removed]",
      "text/plain": [
       "<Figure size 576x288 with 1 Axes>"
      ]
     },
     "metadata": {
      "needs_background": "light"
     },
     "output_type": "display_data"
    }
   ],
   "source": [
    "top_sales_region('rating', 'na_sales_mln_copies','Rating', 'North America')"
   ]
  },
  {
   "cell_type": "code",
   "execution_count": 53,
   "metadata": {},
   "outputs": [
    {
     "name": "stdout",
     "output_type": "stream",
     "text": [
      "  rating  eu_sales_mln_copies      share\n",
      "2      M                93.44  44.131677\n",
      "0      E                58.06  27.421716\n",
      "3      T                34.07  16.091248\n",
      "1   E10+                26.16  12.355358\n"
     ]
    },
    {
     "data": {
      "image/png": "[encoded data removed]",
      "text/plain": [
       "<Figure size 576x288 with 1 Axes>"
      ]
     },
     "metadata": {
      "needs_background": "light"
     },
     "output_type": "display_data"
    }
   ],
   "source": [
    "top_sales_region('rating', 'eu_sales_mln_copies','Rating', 'Europe')"
   ]
  },
  {
   "cell_type": "code",
   "execution_count": 54,
   "metadata": {},
   "outputs": [
    {
     "name": "stdout",
     "output_type": "stream",
     "text": [
      "  rating  jp_sales_mln_copies      share\n",
      "3      T                14.78  40.840011\n",
      "0      E                 8.94  24.702957\n",
      "2      M                 8.01  22.133186\n",
      "1   E10+                 4.46  12.323846\n"
     ]
    },
    {
     "data": {
      "image/png": "[encoded data removed]",
      "text/plain": [
       "<Figure size 576x288 with 1 Axes>"
      ]
     },
     "metadata": {
      "needs_background": "light"
     },
     "output_type": "display_data"
    }
   ],
   "source": [
    "top_sales_region('rating', 'jp_sales_mln_copies','Rating', 'Japan')"
   ]
  },
  {
   "cell_type": "markdown",
   "metadata": {},
   "source": [
    "Из данных следует, что в Северной Америке и Европе наибольшую долю проданных игр занимает категория с рейтингом **M**(44%), В Японии ситуация отличается, первое место там занимают игры с рейтингом **T**(41%). Второе место во всех трех регионах принадлежит играм с рейтингом **E** (~25%). Ситуация с третьим(**T**) и четвертым(**E10+**) местом похожая в Северной Америке и Европе, занимают примерно одинаковые доли. В Японии доли распределились наоборот, третье место принадлежит категории **M**(22%) и четвертое **E10+**(12%)."
   ]
  },
  {
   "cell_type": "markdown",
   "metadata": {},
   "source": [
    "Вывод: \n",
    "- в Северной Америке в топ-5 самых популярных платформ входит PS4(34.7%), XOne(28.6%), X360(10%), 3DS(8%) и PS3(8%). По жанрам лидирует Shooter(27.8%), второе место с незначительным отставанием занимает жанр Action(25.5%) и завершает тройку лидеров жанр Sports(16.2%), оставшиеся доли в топ-5 принадлежат жанрам Role-Playing(11.8%) и Misc(5.2%), а также наибольшую долю проданных игр занимает категория с рейтингом M(44%), второе место принадлежит играм с рейтингом E (25%), третье T (18%) и четвертое E10+(15%). Таким образом наиболее вероятный портрет пользователей из Северной Америки - это взрослые люди старше 17 лет, предпочитающие игры в жанре Shooter и Action на платформах PS4 и Xone.\n",
    "- в Европе в топ-5 самых популярных платформ входит PS4(48%), XOne(17%), PS3(9.4%), PC(6.6%) и 3DS(6%). По жанрам лидирует Action (27.6%), второе место с незначительным отставанием занимает жанр Shooter(24%) и завершает тройку лидеров жанр Sports(16.9%), оставшиеся доли в топ-5 принадлежат жанрам Role-Playing(10.4%) и Racing(5.2%), а также наибольшую долю проданных игр занимает категория с рейтингом M(44%), второе место принадлежит играм с рейтингом E (27.4%), третье T (16%) и четвертое E10+(12%). Таким образом наиболее вероятный портрет пользователей из Европы - это взрослые люди старше 17 лет, предпочитающие игры в жанре Action и Shooter на платформе PS4.\n",
    "- в Японии в топ-5 самых популярных платформ входит 3DS(47.5%), PS4(16.1%), PSV(15.6%), PS3(12%) и WiiU(7.8%). По жанрам лидирует Role-playing (33.5%), второе место с незначительным отставанием занимает жанр Action(31.7%) и завершает тройку лидеров жанр Fighting(6.8%), оставшиеся доли в топ-5 принадлежат жанрам Misc(6%) и Shooter(5.2%), а также наибольшую долю проданных игр занимает категория с рейтингом T(40.8%), второе место принадлежит играм с рейтингом E (24.7%), третье M (22.1%) и четвертое E10+(12.3%). Таким образом наиболее вероятный портрет пользователей из Японии - это подростки старше 13 лет, предпочитающие игры в жанре Role-Playing и Action на платформе 3DS.\n",
    "\n",
    "Таким образом портрет пользователей из Северной Америки и Европы имеют много схожих характеристик и в целом похожи, а пользователи из Японии сильно отличаются по всем проанализированным параметрам, начиная от возрастной категории до предпочитаемых жанров игр и платформ, это может быть обусловлено особенностями данного региона, например предпочитаемый японцами DS3 принадлежит японской компании Nintendo."
   ]
  },
  {
   "cell_type": "markdown",
   "metadata": {},
   "source": [
    "### Проверка гипотез"
   ]
  },
  {
   "cell_type": "markdown",
   "metadata": {},
   "source": [
    "**1 гипотеза: средние пользовательские рейтинги платформ Xbox One и PC одинаковые**"
   ]
  },
  {
   "cell_type": "markdown",
   "metadata": {},
   "source": [
    "- Нулевая гипотеза - средняя пользовательская оценка платформы Xbox One **равна** средней пользовательской оценке платформы PC\n",
    "- Альтернативная гипотеза - средняя пользовательская оценка платформы Xbox One **не равна** средней пользовательской оценке платформы PC\n",
    "- уровень значимости **alpha = 0.05**\n",
    "- используем критерий Левене  для исследования равенства дисперсий и затем проведем t-тест, чтобы проверить гипотезу"
   ]
  },
  {
   "cell_type": "code",
   "execution_count": 55,
   "metadata": {},
   "outputs": [],
   "source": [
    "xbox_one = actual_data[actual_data['platform'] =='XOne']\n",
    "xbox_one = xbox_one[xbox_one['user_score_out_of_10'].isnull() == False]\n",
    "pc = actual_data[actual_data['platform'] =='PC']\n",
    "pc = pc[pc['user_score_out_of_10'].isnull() == False]"
   ]
  },
  {
   "cell_type": "code",
   "execution_count": 56,
   "metadata": {},
   "outputs": [
    {
     "data": {
      "text/plain": [
       "LeveneResult(statistic=6.004772988517075, pvalue=0.014868430917663678)"
      ]
     },
     "execution_count": 56,
     "metadata": {},
     "output_type": "execute_result"
    },
    {
     "data": {
      "image/png": "[encoded data removed]",
      "text/plain": [
       "<Figure size 432x288 with 1 Axes>"
      ]
     },
     "metadata": {
      "needs_background": "light"
     },
     "output_type": "display_data"
    }
   ],
   "source": [
    "xbox_one.user_score_out_of_10.hist()\n",
    "pc.user_score_out_of_10.hist(alpha=0.7)\n",
    "plt.xlabel('Rating')\n",
    "plt.ylabel('Rating count')\n",
    "plt.title('Distribution');\n",
    "st.levene(xbox_one.user_score_out_of_10, pc.user_score_out_of_10, center ='median')"
   ]
  },
  {
   "cell_type": "markdown",
   "metadata": {},
   "source": [
    "P-value меньше, чем alpha, то есть можно предположить, что дисперсии генеральных совокупностей разные, это значит, что следует указать equal_var = False при вызове метода scipy.stats.ttest_ind()."
   ]
  },
  {
   "cell_type": "code",
   "execution_count": 57,
   "metadata": {},
   "outputs": [
    {
     "name": "stdout",
     "output_type": "stream",
     "text": [
      "p-значение: 0.11601398086668832\n",
      "Не получилось отвергнуть нулевую гипотезу\n"
     ]
    }
   ],
   "source": [
    "xbox_one = xbox_one['user_score_out_of_10']\n",
    "pc = pc['user_score_out_of_10']\n",
    "results = st.ttest_ind(xbox_one, pc, equal_var=False)\n",
    "alpha = 0.05\n",
    "print('p-значение:', results.pvalue)\n",
    "if (results.pvalue<alpha):\n",
    "    print('Отвергаем нулевую гипотезу')\n",
    "else:\n",
    "    print('Не получилось отвергнуть нулевую гипотезу')"
   ]
  },
  {
   "cell_type": "markdown",
   "metadata": {},
   "source": [
    "Полученный результат p-value говорит о том, что нулевая гипотеза не может быть отвергнута, так как p-value больше alpha. Данные не противоречат гипотезе 'средняя пользовательская оценка Xbox One равна средней пользовательской оценке PC'."
   ]
  },
  {
   "cell_type": "markdown",
   "metadata": {},
   "source": [
    "**2 гипотеза: Средние пользовательские рейтинги жанров Action и Sports разные.**"
   ]
  },
  {
   "cell_type": "markdown",
   "metadata": {},
   "source": [
    "- Нулевая гипотеза - средняя пользовательская оценка жанра Action **равна** средней пользовательской оценке жанра Sports\n",
    "- Альтернативная гипотеза - средняя пользовательская оценка жанра Action **не равна** средней пользовательской оценке жанра Sports\n",
    "- уровень значимости **alpha = 0.05**\n",
    "- используем критерий Левене  для исследования равенства дисперсий и затем проведем t-тест, чтобы проверить гипотезу"
   ]
  },
  {
   "cell_type": "code",
   "execution_count": 58,
   "metadata": {},
   "outputs": [],
   "source": [
    "action = actual_data[actual_data['genre'] =='Action']\n",
    "action = action[action['user_score_out_of_10'].isnull() == False]\n",
    "sports = actual_data[actual_data['genre'] =='Sports']\n",
    "sports = sports[sports['user_score_out_of_10'].isnull() == False]"
   ]
  },
  {
   "cell_type": "code",
   "execution_count": 59,
   "metadata": {},
   "outputs": [
    {
     "data": {
      "text/plain": [
       "LeveneResult(statistic=21.607428421856284, pvalue=4.480161685830322e-06)"
      ]
     },
     "execution_count": 59,
     "metadata": {},
     "output_type": "execute_result"
    },
    {
     "data": {
      "image/png": "[encoded data removed]",
      "text/plain": [
       "<Figure size 432x288 with 1 Axes>"
      ]
     },
     "metadata": {
      "needs_background": "light"
     },
     "output_type": "display_data"
    }
   ],
   "source": [
    "action.user_score_out_of_10.hist()\n",
    "sports.user_score_out_of_10.hist(alpha=0.7)\n",
    "plt.xlabel('Rating')\n",
    "plt.ylabel('Rating count')\n",
    "plt.title('Distribution');\n",
    "st.levene(action.user_score_out_of_10, sports.user_score_out_of_10, center ='median')"
   ]
  },
  {
   "cell_type": "markdown",
   "metadata": {},
   "source": [
    "P-value больше, чем alpha, то есть у нас нет оснований полагать, что дисперсии генеральных совокупностей разные, это значит, что указывать equal_var = False при вызове метода scipy.stats.ttest_ind() не обязательно, потому что по умолчанию этот параметр примет значение True."
   ]
  },
  {
   "cell_type": "code",
   "execution_count": 60,
   "metadata": {},
   "outputs": [
    {
     "name": "stdout",
     "output_type": "stream",
     "text": [
      "p-значение: 2.8711147985105864e-19\n",
      "Отвергаем нулевую гипотезу\n"
     ]
    }
   ],
   "source": [
    "action = action['user_score_out_of_10']\n",
    "sports = sports['user_score_out_of_10']\n",
    "results = st.ttest_ind(action, sports)\n",
    "alpha = 0.05\n",
    "print('p-значение:', results.pvalue)\n",
    "if results.pvalue < alpha:\n",
    "    print('Отвергаем нулевую гипотезу')\n",
    "else:\n",
    "    print('Не получилось отвергнуть нулевую гипотезу')"
   ]
  },
  {
   "cell_type": "markdown",
   "metadata": {},
   "source": [
    "Полученный результат о том, что нулевая гипотеза может быть отвергнута, означает, что средняя пользовательская оценка жанра Action не равна средней пользовательской оценке жанра Sports."
   ]
  },
  {
   "cell_type": "markdown",
   "metadata": {},
   "source": [
    "Вывод: полученные данные по первой гипотезе не противоречат нулевой гипотезе о том, что средняя пользовательская оценка платформы Xbox One равна средней пользовательской оценке платформы PC. Это говорит о верной изначальной гипотезе. Полученные данные по второй гипотезе позволяют отвергнуть нулевую гипотезу о том, что средняя пользовательская оценка жанра Action равна средней пользовательской оценке жанра Sports. Это означает, что изначальная гипотеза была верной и пользовательские оценки действительно разные."
   ]
  },
  {
   "cell_type": "markdown",
   "metadata": {},
   "source": [
    "### Общий вывод"
   ]
  },
  {
   "cell_type": "markdown",
   "metadata": {},
   "source": [
    "В процессе исследования, была проведена предобработка данных, выявлены закономерности, проведен анализ данных, составлен портрет пользователя каждого региона, сформулированы гипотезы и сделаны следующие выводы:\n",
    "- наибольшее количество игр выпустилось в 2008 (1427 игр) и 2009 (1426 игр), после этого пика последовал спад, что можно связать с большей работой над качеством игр и соответственно увеличением временного интервала между релизами, а также доля консолевых игр могла сократиться засчет увеличения количества мобильных приложений;\n",
    "- наибольшее количество копий за все время было продано на платформе PS2, X360, PS3, Wii, DS, PS. Половина платформ, попавших в топ, принадлежит компании Sony, в том числе первое место по продажам за все время (PS2);\n",
    "- в среднем каждая платформа существовала на протяжении 10 лет, пик продаж происходит в среднем через 4 года с даты релиза. На примере компании Sony прослеживается закономерность - при падении продаж происходит выпуск новой платформы, например спад продаж PS2 пришелся на 2005 и в 2006 вышла новая платформа PS3. Закономерность выпуска новых платформ компании Microsoft такая же как у Sony. При спаде продаж старой платформы, появляется новая. Исходя из того, что жизненный цикл платформ составляет 10 лет, а их пик приходится на четвертый год продаж, чтобы объективно составить прогноз на 2017 год за актуальный период взяты данные с 2014 года. В этот год заметен рост продаж новых платформ и спад старых. Более ранние периоды не имеет смысла анализировать, потому что их пик продаж произойдет спустя 4 года и в 2017 начнется спад, выгоды от продвижения таких платформ будет меньше, чем от новых поколений;\n",
    "- две потенциально прибыльные платформы - это PS4 и XOne. У обеих платформ пик продаж в 2015 году и дальнейший спад продаж в 2016, это может быть связано с общим спадом в индустрии о котором говорилось ранее, а также с тем, что данные за 2016 год не полные, поэтому с полной уверенностью нельзя утверждать, что данные лидирующие платформы стали менее востребованы;\n",
    "- отзывы пользователей не влияют на продажи игр, а отзывы критиков влияют, но очень слабо;\n",
    "- самым выпускаемым жанром на всех платформах актуального периода является Action, после него следуют Role-Playing и Adventure. Наименее выпускаемыми являются жанры Puzzle, Strategy и Platform. При этом, наибольшее количество проданных копий принадлежит жанрам Action, Shooter и Sports, а наименьшее количество проданных копий жанрам - Puzzle, Strategy и Simmulation. По средним продажам лидирует жанр Shooter. Потенциально прибыльные жанры - это Action, Shooter и Sports.\n",
    "- в Северной Америке в топ-5 самых популярных платформ входит PS4(34.7%), XOne(28.6%), X360(10%), 3DS(8%) и PS3(8%). По жанрам лидирует Shooter(27.8%), второе место с незначительным отставанием занимает жанр Action(25.5%) и завершает тройку лидеров жанр Sports(16.2%), оставшиеся доли в топ-5 принадлежат жанрам Role-Playing(11.8%) и Misc(5.2%), а также наибольшую долю проданных игр занимает категория с рейтингом M(44%), второе место принадлежит играм с рейтингом E (25%), третье T (18%) и четвертое E10+(15%). Таким образом наиболее вероятный портрет пользователей из Северной Америки - это взрослые люди старше 17 лет, предпочитающие игры в жанре Shooter и Action на платформах PS4 и Xone.\n",
    "- в Европе в топ-5 самых популярных платформ входит PS4(48%), XOne(17%), PS3(9.4%), PC(6.6%) и 3DS(6%). По жанрам лидирует Action (27.6%), второе место с незначительным отставанием занимает жанр Shooter(24%) и завершает тройку лидеров жанр Sports(16.9%), оставшиеся доли в топ-5 принадлежат жанрам Role-Playing(10.4%) и Racing(5.2%), а также наибольшую долю проданных игр занимает категория с рейтингом M(44%), второе место принадлежит играм с рейтингом E (27.4%), третье T (16%) и четвертое E10+(12%). Таким образом наиболее вероятный портрет пользователей из Европы - это взрослые люди старше 17 лет, предпочитающие игры в жанре Action и Shooter на платформе PS4.\n",
    "- в Японии в топ-5 самых популярных платформ входит 3DS(47.5%), PS4(16.1%), PSV(15.6%), PS3(12%) и WiiU(7.8%). По жанрам лидирует Role-playing (33.5%), второе место с незначительным отставанием занимает жанр Action(31.7%) и завершает тройку лидеров жанр Fighting(6.8%), оставшиеся доли в топ-5 принадлежат жанрам Misc(6%) и Shooter(5.2%), а также наибольшую долю проданных игр занимает категория с рейтингом T(40.8%), второе место принадлежит играм с рейтингом E (24.7%), третье M (22.1%) и четвертое E10+(12.3%). Таким образом наиболее вероятный портрет пользователей из Японии - это подростки старше 13 лет, предпочитающие игры в жанре Role-Playing и Action на платформе 3DS.\n",
    "- портреты пользователей из Северной Америки и Европы имеют много схожих характеристик и в целом похожи, а пользователи из Японии сильно отличаются по всем проанализированным параметрам, начиная от возрастной категории до предпочитаемых жанров игр и платформ, это может быть обусловлено особенностями данного региона, например предпочитаемый японцами DS3 принадлежит японской компании Nintendo.\n",
    "- полученные данные по первой гипотезе не противоречат нулевой гипотезе о том, что средняя пользовательская оценка платформы Xbox One равна средней пользовательской оценке платформы PC. Это говорит о верной изначальной гипотезе. Полученные данные по второй гипотезе позволяют отвергнуть нулевую гипотезу о том, что средняя пользовательская оценка жанра Action равна средней пользовательской оценке жанра Sports. Это означает, что изначальная гипотеза была верной и пользовательские оценки действительно разные. "
   ]
  }
 ],
 "metadata": {
  "ExecuteTimeLog": [
   {
    "duration": 75,
    "start_time": "2022-12-19T11:49:28.906Z"
   },
   {
    "duration": 426,
    "start_time": "2022-12-19T11:49:43.534Z"
   },
   {
    "duration": 138,
    "start_time": "2022-12-19T11:50:01.575Z"
   },
   {
    "duration": 2,
    "start_time": "2022-12-19T11:56:53.091Z"
   },
   {
    "duration": 1565,
    "start_time": "2022-12-19T12:08:18.712Z"
   },
   {
    "duration": 76,
    "start_time": "2022-12-19T12:08:50.932Z"
   },
   {
    "duration": 73,
    "start_time": "2022-12-19T12:09:06.244Z"
   },
   {
    "duration": 989,
    "start_time": "2022-12-19T12:10:23.012Z"
   },
   {
    "duration": 854,
    "start_time": "2022-12-19T12:10:40.923Z"
   },
   {
    "duration": 65,
    "start_time": "2022-12-19T12:11:26.451Z"
   },
   {
    "duration": 15,
    "start_time": "2022-12-19T12:12:27.124Z"
   },
   {
    "duration": 29,
    "start_time": "2022-12-19T12:13:37.244Z"
   },
   {
    "duration": 16,
    "start_time": "2022-12-19T13:01:44.331Z"
   },
   {
    "duration": 9,
    "start_time": "2022-12-19T13:01:55.511Z"
   },
   {
    "duration": 55,
    "start_time": "2022-12-19T13:02:34.091Z"
   },
   {
    "duration": 4,
    "start_time": "2022-12-19T13:02:40.782Z"
   },
   {
    "duration": 22,
    "start_time": "2022-12-19T13:02:45.751Z"
   },
   {
    "duration": 24,
    "start_time": "2022-12-19T13:07:19.094Z"
   },
   {
    "duration": 13,
    "start_time": "2022-12-19T13:10:30.807Z"
   },
   {
    "duration": 11,
    "start_time": "2022-12-19T13:10:49.481Z"
   },
   {
    "duration": 5,
    "start_time": "2022-12-19T13:10:54.640Z"
   },
   {
    "duration": 22,
    "start_time": "2022-12-19T13:11:01.632Z"
   },
   {
    "duration": 16,
    "start_time": "2022-12-19T13:11:16.861Z"
   },
   {
    "duration": 16,
    "start_time": "2022-12-19T13:11:23.781Z"
   },
   {
    "duration": 16,
    "start_time": "2022-12-19T13:14:51.623Z"
   },
   {
    "duration": 23,
    "start_time": "2022-12-19T13:15:29.254Z"
   },
   {
    "duration": 5,
    "start_time": "2022-12-19T13:17:06.187Z"
   },
   {
    "duration": 17,
    "start_time": "2022-12-19T13:23:51.307Z"
   },
   {
    "duration": 26,
    "start_time": "2022-12-19T13:24:19.166Z"
   },
   {
    "duration": 13,
    "start_time": "2022-12-19T13:24:42.446Z"
   },
   {
    "duration": 83,
    "start_time": "2022-12-19T13:25:28.506Z"
   },
   {
    "duration": 883,
    "start_time": "2022-12-19T13:25:28.592Z"
   },
   {
    "duration": 37,
    "start_time": "2022-12-19T13:25:29.477Z"
   },
   {
    "duration": 20,
    "start_time": "2022-12-19T13:25:29.516Z"
   },
   {
    "duration": 10,
    "start_time": "2022-12-19T13:25:29.556Z"
   },
   {
    "duration": 25,
    "start_time": "2022-12-19T13:25:29.568Z"
   },
   {
    "duration": 11,
    "start_time": "2022-12-19T13:29:30.237Z"
   },
   {
    "duration": 15,
    "start_time": "2022-12-19T13:40:48.519Z"
   },
   {
    "duration": 15,
    "start_time": "2022-12-19T13:48:49.177Z"
   },
   {
    "duration": 30,
    "start_time": "2022-12-19T13:48:51.650Z"
   },
   {
    "duration": 15,
    "start_time": "2022-12-19T13:49:06.930Z"
   },
   {
    "duration": 7,
    "start_time": "2022-12-19T13:49:43.990Z"
   },
   {
    "duration": 13,
    "start_time": "2022-12-19T13:49:46.402Z"
   },
   {
    "duration": 6,
    "start_time": "2022-12-19T13:49:51.090Z"
   },
   {
    "duration": 63,
    "start_time": "2022-12-19T13:49:57.562Z"
   },
   {
    "duration": 822,
    "start_time": "2022-12-19T13:49:57.627Z"
   },
   {
    "duration": 26,
    "start_time": "2022-12-19T13:49:58.455Z"
   },
   {
    "duration": 17,
    "start_time": "2022-12-19T13:49:58.483Z"
   },
   {
    "duration": 29,
    "start_time": "2022-12-19T13:49:58.502Z"
   },
   {
    "duration": 25,
    "start_time": "2022-12-19T13:49:58.533Z"
   },
   {
    "duration": 22,
    "start_time": "2022-12-19T13:49:58.559Z"
   },
   {
    "duration": 24,
    "start_time": "2022-12-19T13:49:58.583Z"
   },
   {
    "duration": 20,
    "start_time": "2022-12-19T13:49:58.609Z"
   },
   {
    "duration": 20,
    "start_time": "2022-12-19T13:49:58.631Z"
   },
   {
    "duration": 5,
    "start_time": "2022-12-19T13:50:38.850Z"
   },
   {
    "duration": 10,
    "start_time": "2022-12-19T13:50:41.242Z"
   },
   {
    "duration": 11,
    "start_time": "2022-12-19T13:56:44.495Z"
   },
   {
    "duration": 4,
    "start_time": "2022-12-19T13:56:49.731Z"
   },
   {
    "duration": 10,
    "start_time": "2022-12-19T13:56:52.003Z"
   },
   {
    "duration": 68,
    "start_time": "2022-12-19T13:57:00.816Z"
   },
   {
    "duration": 771,
    "start_time": "2022-12-19T13:57:00.887Z"
   },
   {
    "duration": 27,
    "start_time": "2022-12-19T13:57:01.660Z"
   },
   {
    "duration": 30,
    "start_time": "2022-12-19T13:57:01.690Z"
   },
   {
    "duration": 16,
    "start_time": "2022-12-19T13:57:01.722Z"
   },
   {
    "duration": 29,
    "start_time": "2022-12-19T13:57:01.740Z"
   },
   {
    "duration": 21,
    "start_time": "2022-12-19T13:57:01.771Z"
   },
   {
    "duration": 33,
    "start_time": "2022-12-19T13:57:01.794Z"
   },
   {
    "duration": 19,
    "start_time": "2022-12-19T13:57:01.830Z"
   },
   {
    "duration": 32,
    "start_time": "2022-12-19T13:57:01.852Z"
   },
   {
    "duration": 10,
    "start_time": "2022-12-19T13:57:56.236Z"
   },
   {
    "duration": 10,
    "start_time": "2022-12-19T13:58:05.869Z"
   },
   {
    "duration": 14,
    "start_time": "2022-12-19T13:58:17.965Z"
   },
   {
    "duration": 15,
    "start_time": "2022-12-19T13:58:38.554Z"
   },
   {
    "duration": 15,
    "start_time": "2022-12-19T13:58:44.045Z"
   },
   {
    "duration": 13,
    "start_time": "2022-12-19T13:58:47.265Z"
   },
   {
    "duration": 61,
    "start_time": "2022-12-19T13:58:53.266Z"
   },
   {
    "duration": 757,
    "start_time": "2022-12-19T13:58:53.328Z"
   },
   {
    "duration": 25,
    "start_time": "2022-12-19T13:58:54.086Z"
   },
   {
    "duration": 16,
    "start_time": "2022-12-19T13:58:54.113Z"
   },
   {
    "duration": 37,
    "start_time": "2022-12-19T13:58:54.130Z"
   },
   {
    "duration": 18,
    "start_time": "2022-12-19T13:58:54.169Z"
   },
   {
    "duration": 16,
    "start_time": "2022-12-19T13:58:54.188Z"
   },
   {
    "duration": 13,
    "start_time": "2022-12-19T13:58:54.207Z"
   },
   {
    "duration": 34,
    "start_time": "2022-12-19T13:58:54.222Z"
   },
   {
    "duration": 15,
    "start_time": "2022-12-19T13:58:54.259Z"
   },
   {
    "duration": 8,
    "start_time": "2022-12-19T14:10:41.379Z"
   },
   {
    "duration": 5,
    "start_time": "2022-12-19T14:11:02.791Z"
   },
   {
    "duration": 8,
    "start_time": "2022-12-19T14:11:54.851Z"
   },
   {
    "duration": 68,
    "start_time": "2022-12-19T14:12:32.999Z"
   },
   {
    "duration": 64,
    "start_time": "2022-12-19T14:12:49.841Z"
   },
   {
    "duration": 61,
    "start_time": "2022-12-19T14:13:20.132Z"
   },
   {
    "duration": 65,
    "start_time": "2022-12-19T14:13:28.571Z"
   },
   {
    "duration": 78,
    "start_time": "2022-12-19T14:13:32.912Z"
   },
   {
    "duration": 22,
    "start_time": "2022-12-19T14:13:59.039Z"
   },
   {
    "duration": 6,
    "start_time": "2022-12-19T14:16:14.360Z"
   },
   {
    "duration": 8,
    "start_time": "2022-12-19T14:21:26.160Z"
   },
   {
    "duration": 5,
    "start_time": "2022-12-19T14:23:51.781Z"
   },
   {
    "duration": 8,
    "start_time": "2022-12-19T14:24:07.734Z"
   },
   {
    "duration": 10,
    "start_time": "2022-12-19T14:24:17.294Z"
   },
   {
    "duration": 70,
    "start_time": "2022-12-19T14:25:01.194Z"
   },
   {
    "duration": 821,
    "start_time": "2022-12-19T14:25:01.266Z"
   },
   {
    "duration": 25,
    "start_time": "2022-12-19T14:25:02.089Z"
   },
   {
    "duration": 50,
    "start_time": "2022-12-19T14:25:02.116Z"
   },
   {
    "duration": 44,
    "start_time": "2022-12-19T14:25:02.168Z"
   },
   {
    "duration": 47,
    "start_time": "2022-12-19T14:25:02.214Z"
   },
   {
    "duration": 38,
    "start_time": "2022-12-19T14:25:02.263Z"
   },
   {
    "duration": 30,
    "start_time": "2022-12-19T14:25:02.303Z"
   },
   {
    "duration": 70,
    "start_time": "2022-12-19T14:25:02.335Z"
   },
   {
    "duration": 1471,
    "start_time": "2022-12-19T14:25:02.408Z"
   },
   {
    "duration": 1,
    "start_time": "2022-12-19T14:25:03.880Z"
   },
   {
    "duration": 0,
    "start_time": "2022-12-19T14:25:03.882Z"
   },
   {
    "duration": 10,
    "start_time": "2022-12-19T14:25:24.541Z"
   },
   {
    "duration": 4,
    "start_time": "2022-12-19T14:25:39.174Z"
   },
   {
    "duration": 6,
    "start_time": "2022-12-19T14:30:53.923Z"
   },
   {
    "duration": 9,
    "start_time": "2022-12-19T14:31:44.865Z"
   },
   {
    "duration": 22,
    "start_time": "2022-12-19T14:32:19.978Z"
   },
   {
    "duration": 8,
    "start_time": "2022-12-19T14:32:28.777Z"
   },
   {
    "duration": 61,
    "start_time": "2022-12-19T14:37:49.658Z"
   },
   {
    "duration": 60,
    "start_time": "2022-12-19T14:38:09.791Z"
   },
   {
    "duration": 715,
    "start_time": "2022-12-19T14:38:09.854Z"
   },
   {
    "duration": 26,
    "start_time": "2022-12-19T14:38:10.571Z"
   },
   {
    "duration": 69,
    "start_time": "2022-12-19T14:38:10.599Z"
   },
   {
    "duration": 0,
    "start_time": "2022-12-19T14:38:10.670Z"
   },
   {
    "duration": 0,
    "start_time": "2022-12-19T14:38:10.671Z"
   },
   {
    "duration": 0,
    "start_time": "2022-12-19T14:38:10.672Z"
   },
   {
    "duration": 0,
    "start_time": "2022-12-19T14:38:10.673Z"
   },
   {
    "duration": 0,
    "start_time": "2022-12-19T14:38:10.674Z"
   },
   {
    "duration": 0,
    "start_time": "2022-12-19T14:38:10.675Z"
   },
   {
    "duration": 0,
    "start_time": "2022-12-19T14:38:10.676Z"
   },
   {
    "duration": 0,
    "start_time": "2022-12-19T14:38:10.678Z"
   },
   {
    "duration": 49,
    "start_time": "2022-12-19T14:38:33.850Z"
   },
   {
    "duration": 17,
    "start_time": "2022-12-19T14:39:04.118Z"
   },
   {
    "duration": 69,
    "start_time": "2022-12-19T14:39:19.091Z"
   },
   {
    "duration": 733,
    "start_time": "2022-12-19T14:39:19.163Z"
   },
   {
    "duration": 25,
    "start_time": "2022-12-19T14:39:19.898Z"
   },
   {
    "duration": 14,
    "start_time": "2022-12-19T14:39:19.924Z"
   },
   {
    "duration": 9,
    "start_time": "2022-12-19T14:39:19.955Z"
   },
   {
    "duration": 13,
    "start_time": "2022-12-19T14:39:19.966Z"
   },
   {
    "duration": 15,
    "start_time": "2022-12-19T14:39:19.980Z"
   },
   {
    "duration": 11,
    "start_time": "2022-12-19T14:39:19.996Z"
   },
   {
    "duration": 4,
    "start_time": "2022-12-19T14:39:20.009Z"
   },
   {
    "duration": 9,
    "start_time": "2022-12-19T14:39:20.014Z"
   },
   {
    "duration": 5,
    "start_time": "2022-12-19T14:39:20.056Z"
   },
   {
    "duration": 11,
    "start_time": "2022-12-19T14:39:20.063Z"
   },
   {
    "duration": 13,
    "start_time": "2022-12-19T14:46:08.766Z"
   },
   {
    "duration": 10,
    "start_time": "2022-12-19T14:46:36.826Z"
   },
   {
    "duration": 5,
    "start_time": "2022-12-19T14:47:39.690Z"
   },
   {
    "duration": 24,
    "start_time": "2022-12-19T14:47:55.229Z"
   },
   {
    "duration": 5,
    "start_time": "2022-12-19T14:48:45.388Z"
   },
   {
    "duration": 15,
    "start_time": "2022-12-19T14:48:59.299Z"
   },
   {
    "duration": 16,
    "start_time": "2022-12-19T14:49:03.578Z"
   },
   {
    "duration": 111,
    "start_time": "2022-12-19T14:49:18.641Z"
   },
   {
    "duration": 17,
    "start_time": "2022-12-19T14:49:39.231Z"
   },
   {
    "duration": 18,
    "start_time": "2022-12-19T14:49:50.908Z"
   },
   {
    "duration": 8,
    "start_time": "2022-12-19T14:59:06.957Z"
   },
   {
    "duration": 5,
    "start_time": "2022-12-19T14:59:53.598Z"
   },
   {
    "duration": 70,
    "start_time": "2022-12-19T15:00:39.021Z"
   },
   {
    "duration": 755,
    "start_time": "2022-12-19T15:00:39.093Z"
   },
   {
    "duration": 27,
    "start_time": "2022-12-19T15:00:39.855Z"
   },
   {
    "duration": 15,
    "start_time": "2022-12-19T15:00:39.883Z"
   },
   {
    "duration": 12,
    "start_time": "2022-12-19T15:00:39.900Z"
   },
   {
    "duration": 15,
    "start_time": "2022-12-19T15:00:39.914Z"
   },
   {
    "duration": 39,
    "start_time": "2022-12-19T15:00:39.931Z"
   },
   {
    "duration": 13,
    "start_time": "2022-12-19T15:00:39.972Z"
   },
   {
    "duration": 5,
    "start_time": "2022-12-19T15:00:39.986Z"
   },
   {
    "duration": 9,
    "start_time": "2022-12-19T15:00:39.993Z"
   },
   {
    "duration": 7,
    "start_time": "2022-12-19T15:00:40.004Z"
   },
   {
    "duration": 14,
    "start_time": "2022-12-19T15:00:40.013Z"
   },
   {
    "duration": 44,
    "start_time": "2022-12-19T15:00:40.028Z"
   },
   {
    "duration": 11,
    "start_time": "2022-12-19T15:00:40.074Z"
   },
   {
    "duration": 12,
    "start_time": "2022-12-19T15:01:01.971Z"
   },
   {
    "duration": 8,
    "start_time": "2022-12-19T16:51:24.569Z"
   },
   {
    "duration": 7,
    "start_time": "2022-12-19T16:51:43.289Z"
   },
   {
    "duration": 130,
    "start_time": "2022-12-19T16:56:16.272Z"
   },
   {
    "duration": 134,
    "start_time": "2022-12-19T16:56:32.236Z"
   },
   {
    "duration": 1491,
    "start_time": "2022-12-19T16:56:43.434Z"
   },
   {
    "duration": 241,
    "start_time": "2022-12-19T16:56:52.224Z"
   },
   {
    "duration": 6,
    "start_time": "2022-12-19T16:57:04.505Z"
   },
   {
    "duration": 134,
    "start_time": "2022-12-19T16:57:11.173Z"
   },
   {
    "duration": 208,
    "start_time": "2022-12-19T16:58:03.893Z"
   },
   {
    "duration": 306,
    "start_time": "2022-12-19T16:58:24.796Z"
   },
   {
    "duration": 219,
    "start_time": "2022-12-19T16:58:51.105Z"
   },
   {
    "duration": 205,
    "start_time": "2022-12-19T16:59:06.313Z"
   },
   {
    "duration": 207,
    "start_time": "2022-12-19T16:59:13.504Z"
   },
   {
    "duration": 194,
    "start_time": "2022-12-19T16:59:19.992Z"
   },
   {
    "duration": 163,
    "start_time": "2022-12-19T16:59:44.424Z"
   },
   {
    "duration": 188,
    "start_time": "2022-12-19T16:59:54.305Z"
   },
   {
    "duration": 227,
    "start_time": "2022-12-19T17:00:14.425Z"
   },
   {
    "duration": 187,
    "start_time": "2022-12-19T17:00:26.872Z"
   },
   {
    "duration": 68,
    "start_time": "2022-12-19T17:01:31.202Z"
   },
   {
    "duration": 741,
    "start_time": "2022-12-19T17:01:31.272Z"
   },
   {
    "duration": 26,
    "start_time": "2022-12-19T17:01:32.014Z"
   },
   {
    "duration": 45,
    "start_time": "2022-12-19T17:01:32.041Z"
   },
   {
    "duration": 38,
    "start_time": "2022-12-19T17:01:32.088Z"
   },
   {
    "duration": 59,
    "start_time": "2022-12-19T17:01:32.128Z"
   },
   {
    "duration": 47,
    "start_time": "2022-12-19T17:01:32.189Z"
   },
   {
    "duration": 31,
    "start_time": "2022-12-19T17:01:32.237Z"
   },
   {
    "duration": 18,
    "start_time": "2022-12-19T17:01:32.270Z"
   },
   {
    "duration": 142,
    "start_time": "2022-12-19T17:01:32.290Z"
   },
   {
    "duration": 34,
    "start_time": "2022-12-19T17:01:32.433Z"
   },
   {
    "duration": 41,
    "start_time": "2022-12-19T17:01:32.468Z"
   },
   {
    "duration": 52,
    "start_time": "2022-12-19T17:01:32.510Z"
   },
   {
    "duration": 193,
    "start_time": "2022-12-19T17:01:32.564Z"
   },
   {
    "duration": 167,
    "start_time": "2022-12-19T17:02:08.272Z"
   },
   {
    "duration": 184,
    "start_time": "2022-12-19T17:02:41.471Z"
   },
   {
    "duration": 177,
    "start_time": "2022-12-19T17:03:26.223Z"
   },
   {
    "duration": 175,
    "start_time": "2022-12-19T17:05:11.682Z"
   },
   {
    "duration": 172,
    "start_time": "2022-12-19T17:05:27.518Z"
   },
   {
    "duration": 123,
    "start_time": "2022-12-19T17:05:37.003Z"
   },
   {
    "duration": 180,
    "start_time": "2022-12-19T17:06:40.542Z"
   },
   {
    "duration": 181,
    "start_time": "2022-12-19T17:06:52.763Z"
   },
   {
    "duration": 172,
    "start_time": "2022-12-19T17:10:08.990Z"
   },
   {
    "duration": 113,
    "start_time": "2022-12-19T17:10:14.391Z"
   },
   {
    "duration": 118,
    "start_time": "2022-12-19T17:10:47.902Z"
   },
   {
    "duration": 336,
    "start_time": "2022-12-19T17:13:23.029Z"
   },
   {
    "duration": 131,
    "start_time": "2022-12-19T17:13:38.101Z"
   },
   {
    "duration": 141,
    "start_time": "2022-12-19T17:13:44.901Z"
   },
   {
    "duration": 129,
    "start_time": "2022-12-19T17:14:25.221Z"
   },
   {
    "duration": 140,
    "start_time": "2022-12-19T17:14:36.329Z"
   },
   {
    "duration": 141,
    "start_time": "2022-12-19T17:16:08.728Z"
   },
   {
    "duration": 135,
    "start_time": "2022-12-19T17:16:48.400Z"
   },
   {
    "duration": 184,
    "start_time": "2022-12-19T17:18:07.232Z"
   },
   {
    "duration": 172,
    "start_time": "2022-12-19T17:18:15.667Z"
   },
   {
    "duration": 199,
    "start_time": "2022-12-19T17:18:24.349Z"
   },
   {
    "duration": 6,
    "start_time": "2022-12-19T17:19:14.427Z"
   },
   {
    "duration": 7,
    "start_time": "2022-12-19T17:19:21.080Z"
   },
   {
    "duration": 7,
    "start_time": "2022-12-19T17:19:35.763Z"
   },
   {
    "duration": 6,
    "start_time": "2022-12-19T17:19:49.300Z"
   },
   {
    "duration": 8,
    "start_time": "2022-12-19T17:20:05.279Z"
   },
   {
    "duration": 6,
    "start_time": "2022-12-19T17:20:24.032Z"
   },
   {
    "duration": 184,
    "start_time": "2022-12-19T17:22:15.868Z"
   },
   {
    "duration": 6,
    "start_time": "2022-12-19T17:23:51.991Z"
   },
   {
    "duration": 6,
    "start_time": "2022-12-19T17:26:09.775Z"
   },
   {
    "duration": 8,
    "start_time": "2022-12-19T20:10:50.279Z"
   },
   {
    "duration": 6,
    "start_time": "2022-12-19T20:11:12.451Z"
   },
   {
    "duration": 49,
    "start_time": "2022-12-19T20:13:48.580Z"
   },
   {
    "duration": 7,
    "start_time": "2022-12-19T20:15:47.907Z"
   },
   {
    "duration": 7,
    "start_time": "2022-12-19T20:17:28.479Z"
   },
   {
    "duration": 15,
    "start_time": "2022-12-19T20:17:42.370Z"
   },
   {
    "duration": 12,
    "start_time": "2022-12-19T20:17:54.171Z"
   },
   {
    "duration": 12,
    "start_time": "2022-12-19T20:18:36.838Z"
   },
   {
    "duration": 12,
    "start_time": "2022-12-19T20:18:46.991Z"
   },
   {
    "duration": 132,
    "start_time": "2022-12-19T20:21:31.307Z"
   },
   {
    "duration": 12,
    "start_time": "2022-12-19T20:22:03.186Z"
   },
   {
    "duration": 12,
    "start_time": "2022-12-19T20:22:38.637Z"
   },
   {
    "duration": 773,
    "start_time": "2022-12-19T20:23:14.579Z"
   },
   {
    "duration": 222,
    "start_time": "2022-12-19T20:23:27.302Z"
   },
   {
    "duration": 13,
    "start_time": "2022-12-19T20:23:41.219Z"
   },
   {
    "duration": 262,
    "start_time": "2022-12-19T20:23:45.849Z"
   },
   {
    "duration": 304,
    "start_time": "2022-12-19T20:24:09.591Z"
   },
   {
    "duration": 450,
    "start_time": "2022-12-19T20:24:18.699Z"
   },
   {
    "duration": 278,
    "start_time": "2022-12-19T20:24:28.058Z"
   },
   {
    "duration": 289,
    "start_time": "2022-12-19T20:24:45.858Z"
   },
   {
    "duration": 123,
    "start_time": "2022-12-19T20:27:01.612Z"
   },
   {
    "duration": 121,
    "start_time": "2022-12-19T20:27:05.374Z"
   },
   {
    "duration": 271,
    "start_time": "2022-12-19T20:27:27.467Z"
   },
   {
    "duration": 277,
    "start_time": "2022-12-19T20:27:32.153Z"
   },
   {
    "duration": 128,
    "start_time": "2022-12-19T20:27:39.259Z"
   },
   {
    "duration": 274,
    "start_time": "2022-12-19T20:27:43.204Z"
   },
   {
    "duration": 258,
    "start_time": "2022-12-19T20:27:46.969Z"
   },
   {
    "duration": 114,
    "start_time": "2022-12-19T20:27:51.379Z"
   },
   {
    "duration": 127,
    "start_time": "2022-12-19T20:27:55.826Z"
   },
   {
    "duration": 113,
    "start_time": "2022-12-19T20:27:59.264Z"
   },
   {
    "duration": 271,
    "start_time": "2022-12-19T20:28:03.409Z"
   },
   {
    "duration": 287,
    "start_time": "2022-12-19T20:28:08.809Z"
   },
   {
    "duration": 120,
    "start_time": "2022-12-19T20:28:13.323Z"
   },
   {
    "duration": 261,
    "start_time": "2022-12-19T20:28:17.769Z"
   },
   {
    "duration": 117,
    "start_time": "2022-12-19T20:28:23.114Z"
   },
   {
    "duration": 281,
    "start_time": "2022-12-19T20:28:27.274Z"
   },
   {
    "duration": 116,
    "start_time": "2022-12-19T20:28:32.259Z"
   },
   {
    "duration": 123,
    "start_time": "2022-12-19T20:28:36.067Z"
   },
   {
    "duration": 120,
    "start_time": "2022-12-19T20:28:39.564Z"
   },
   {
    "duration": 118,
    "start_time": "2022-12-19T20:28:46.418Z"
   },
   {
    "duration": 267,
    "start_time": "2022-12-19T20:28:50.743Z"
   },
   {
    "duration": 118,
    "start_time": "2022-12-19T20:28:54.757Z"
   },
   {
    "duration": 117,
    "start_time": "2022-12-19T20:28:58.499Z"
   },
   {
    "duration": 114,
    "start_time": "2022-12-19T20:29:04.147Z"
   },
   {
    "duration": 116,
    "start_time": "2022-12-19T20:29:09.308Z"
   },
   {
    "duration": 261,
    "start_time": "2022-12-19T20:29:14.129Z"
   },
   {
    "duration": 117,
    "start_time": "2022-12-19T20:29:18.604Z"
   },
   {
    "duration": 263,
    "start_time": "2022-12-19T20:29:22.429Z"
   },
   {
    "duration": 119,
    "start_time": "2022-12-19T20:29:27.974Z"
   },
   {
    "duration": 259,
    "start_time": "2022-12-19T20:29:31.674Z"
   },
   {
    "duration": 457,
    "start_time": "2022-12-19T20:33:05.139Z"
   },
   {
    "duration": 264,
    "start_time": "2022-12-19T20:33:43.264Z"
   },
   {
    "duration": 305,
    "start_time": "2022-12-19T20:34:27.179Z"
   },
   {
    "duration": 263,
    "start_time": "2022-12-19T20:41:22.022Z"
   },
   {
    "duration": 12,
    "start_time": "2022-12-19T20:42:01.029Z"
   },
   {
    "duration": 16,
    "start_time": "2022-12-19T20:42:24.944Z"
   },
   {
    "duration": 26,
    "start_time": "2022-12-19T20:42:31.211Z"
   },
   {
    "duration": 26,
    "start_time": "2022-12-19T20:42:57.627Z"
   },
   {
    "duration": 28,
    "start_time": "2022-12-19T20:43:25.627Z"
   },
   {
    "duration": 241,
    "start_time": "2022-12-19T20:44:33.666Z"
   },
   {
    "duration": 223,
    "start_time": "2022-12-19T20:44:46.818Z"
   },
   {
    "duration": 4,
    "start_time": "2022-12-19T20:50:27.059Z"
   },
   {
    "duration": 8,
    "start_time": "2022-12-19T20:50:48.386Z"
   },
   {
    "duration": 18,
    "start_time": "2022-12-19T20:50:55.446Z"
   },
   {
    "duration": 4,
    "start_time": "2022-12-19T20:51:55.845Z"
   },
   {
    "duration": 7,
    "start_time": "2022-12-19T20:51:59.079Z"
   },
   {
    "duration": 17,
    "start_time": "2022-12-19T20:52:05.666Z"
   },
   {
    "duration": 3,
    "start_time": "2022-12-19T20:53:01.826Z"
   },
   {
    "duration": 168,
    "start_time": "2022-12-19T20:53:05.097Z"
   },
   {
    "duration": 3,
    "start_time": "2022-12-19T20:53:20.486Z"
   },
   {
    "duration": 162,
    "start_time": "2022-12-19T20:53:23.358Z"
   },
   {
    "duration": 1109,
    "start_time": "2022-12-19T20:55:12.887Z"
   },
   {
    "duration": 60,
    "start_time": "2022-12-19T20:57:12.624Z"
   },
   {
    "duration": 62,
    "start_time": "2022-12-19T20:57:35.408Z"
   },
   {
    "duration": 944,
    "start_time": "2022-12-19T20:57:35.472Z"
   },
   {
    "duration": 25,
    "start_time": "2022-12-19T20:57:36.418Z"
   },
   {
    "duration": 15,
    "start_time": "2022-12-19T20:57:36.454Z"
   },
   {
    "duration": 13,
    "start_time": "2022-12-19T20:57:36.471Z"
   },
   {
    "duration": 14,
    "start_time": "2022-12-19T20:57:36.485Z"
   },
   {
    "duration": 17,
    "start_time": "2022-12-19T20:57:36.500Z"
   },
   {
    "duration": 38,
    "start_time": "2022-12-19T20:57:36.518Z"
   },
   {
    "duration": 5,
    "start_time": "2022-12-19T20:57:36.558Z"
   },
   {
    "duration": 7,
    "start_time": "2022-12-19T20:57:36.565Z"
   },
   {
    "duration": 18,
    "start_time": "2022-12-19T20:57:36.574Z"
   },
   {
    "duration": 13,
    "start_time": "2022-12-19T20:57:36.594Z"
   },
   {
    "duration": 17,
    "start_time": "2022-12-19T20:57:36.609Z"
   },
   {
    "duration": 135,
    "start_time": "2022-12-19T20:57:36.629Z"
   },
   {
    "duration": 192,
    "start_time": "2022-12-19T20:57:36.766Z"
   },
   {
    "duration": 7,
    "start_time": "2022-12-19T20:57:36.960Z"
   },
   {
    "duration": 8,
    "start_time": "2022-12-19T20:57:36.968Z"
   },
   {
    "duration": 274,
    "start_time": "2022-12-19T20:57:36.978Z"
   },
   {
    "duration": 61,
    "start_time": "2022-12-19T20:57:37.254Z"
   },
   {
    "duration": 0,
    "start_time": "2022-12-19T20:57:37.316Z"
   },
   {
    "duration": 60,
    "start_time": "2022-12-19T20:58:22.436Z"
   },
   {
    "duration": 61,
    "start_time": "2022-12-19T20:58:25.927Z"
   },
   {
    "duration": 698,
    "start_time": "2022-12-19T20:58:25.990Z"
   },
   {
    "duration": 25,
    "start_time": "2022-12-19T20:58:26.690Z"
   },
   {
    "duration": 14,
    "start_time": "2022-12-19T20:58:26.717Z"
   },
   {
    "duration": 28,
    "start_time": "2022-12-19T20:58:26.732Z"
   },
   {
    "duration": 14,
    "start_time": "2022-12-19T20:58:26.762Z"
   },
   {
    "duration": 14,
    "start_time": "2022-12-19T20:58:26.778Z"
   },
   {
    "duration": 11,
    "start_time": "2022-12-19T20:58:26.794Z"
   },
   {
    "duration": 5,
    "start_time": "2022-12-19T20:58:26.806Z"
   },
   {
    "duration": 6,
    "start_time": "2022-12-19T20:58:26.813Z"
   },
   {
    "duration": 36,
    "start_time": "2022-12-19T20:58:26.820Z"
   },
   {
    "duration": 9,
    "start_time": "2022-12-19T20:58:26.857Z"
   },
   {
    "duration": 16,
    "start_time": "2022-12-19T20:58:26.867Z"
   },
   {
    "duration": 136,
    "start_time": "2022-12-19T20:58:26.885Z"
   },
   {
    "duration": 168,
    "start_time": "2022-12-19T20:58:27.022Z"
   },
   {
    "duration": 6,
    "start_time": "2022-12-19T20:58:27.192Z"
   },
   {
    "duration": 10,
    "start_time": "2022-12-19T20:58:27.199Z"
   },
   {
    "duration": 277,
    "start_time": "2022-12-19T20:58:27.211Z"
   },
   {
    "duration": 50,
    "start_time": "2022-12-19T20:58:27.490Z"
   },
   {
    "duration": 0,
    "start_time": "2022-12-19T20:58:27.542Z"
   },
   {
    "duration": 4,
    "start_time": "2022-12-19T20:58:38.707Z"
   },
   {
    "duration": 177,
    "start_time": "2022-12-19T20:58:50.068Z"
   },
   {
    "duration": 1215,
    "start_time": "2022-12-19T20:59:28.577Z"
   },
   {
    "duration": 1081,
    "start_time": "2022-12-19T21:00:03.368Z"
   },
   {
    "duration": 167,
    "start_time": "2022-12-19T21:00:17.086Z"
   },
   {
    "duration": 172,
    "start_time": "2022-12-19T21:00:26.524Z"
   },
   {
    "duration": 163,
    "start_time": "2022-12-19T21:00:35.969Z"
   },
   {
    "duration": 206,
    "start_time": "2022-12-19T21:00:44.491Z"
   },
   {
    "duration": 167,
    "start_time": "2022-12-19T21:00:51.944Z"
   },
   {
    "duration": 169,
    "start_time": "2022-12-19T21:00:56.396Z"
   },
   {
    "duration": 10,
    "start_time": "2022-12-19T21:43:21.494Z"
   },
   {
    "duration": 62,
    "start_time": "2022-12-19T21:43:51.868Z"
   },
   {
    "duration": 9,
    "start_time": "2022-12-19T21:47:04.935Z"
   },
   {
    "duration": 20,
    "start_time": "2022-12-19T21:58:38.707Z"
   },
   {
    "duration": 30,
    "start_time": "2022-12-19T22:01:41.428Z"
   },
   {
    "duration": 28,
    "start_time": "2022-12-19T22:02:04.053Z"
   },
   {
    "duration": 29,
    "start_time": "2022-12-19T22:03:54.689Z"
   },
   {
    "duration": 28,
    "start_time": "2022-12-19T22:04:34.265Z"
   },
   {
    "duration": 29,
    "start_time": "2022-12-19T22:05:19.974Z"
   },
   {
    "duration": 30,
    "start_time": "2022-12-19T22:06:06.455Z"
   },
   {
    "duration": 33,
    "start_time": "2022-12-19T22:06:26.029Z"
   },
   {
    "duration": 60,
    "start_time": "2022-12-19T22:07:13.236Z"
   },
   {
    "duration": 736,
    "start_time": "2022-12-19T22:07:13.298Z"
   },
   {
    "duration": 36,
    "start_time": "2022-12-19T22:07:14.036Z"
   },
   {
    "duration": 15,
    "start_time": "2022-12-19T22:07:14.074Z"
   },
   {
    "duration": 13,
    "start_time": "2022-12-19T22:07:14.091Z"
   },
   {
    "duration": 14,
    "start_time": "2022-12-19T22:07:14.105Z"
   },
   {
    "duration": 34,
    "start_time": "2022-12-19T22:07:14.121Z"
   },
   {
    "duration": 12,
    "start_time": "2022-12-19T22:07:14.157Z"
   },
   {
    "duration": 5,
    "start_time": "2022-12-19T22:07:14.171Z"
   },
   {
    "duration": 247,
    "start_time": "2022-12-19T22:07:14.178Z"
   },
   {
    "duration": 8,
    "start_time": "2022-12-19T22:07:14.427Z"
   },
   {
    "duration": 25,
    "start_time": "2022-12-19T22:07:14.437Z"
   },
   {
    "duration": 19,
    "start_time": "2022-12-19T22:07:14.464Z"
   },
   {
    "duration": 157,
    "start_time": "2022-12-19T22:07:14.486Z"
   },
   {
    "duration": 181,
    "start_time": "2022-12-19T22:07:14.645Z"
   },
   {
    "duration": 6,
    "start_time": "2022-12-19T22:07:14.827Z"
   },
   {
    "duration": 21,
    "start_time": "2022-12-19T22:07:14.835Z"
   },
   {
    "duration": 281,
    "start_time": "2022-12-19T22:07:14.857Z"
   },
   {
    "duration": 4,
    "start_time": "2022-12-19T22:07:15.140Z"
   },
   {
    "duration": 184,
    "start_time": "2022-12-19T22:07:15.155Z"
   },
   {
    "duration": 189,
    "start_time": "2022-12-19T22:07:15.341Z"
   },
   {
    "duration": 173,
    "start_time": "2022-12-19T22:07:15.531Z"
   },
   {
    "duration": 174,
    "start_time": "2022-12-19T22:07:15.706Z"
   },
   {
    "duration": 166,
    "start_time": "2022-12-19T22:07:15.881Z"
   },
   {
    "duration": 168,
    "start_time": "2022-12-19T22:07:16.048Z"
   },
   {
    "duration": 39,
    "start_time": "2022-12-19T22:07:16.218Z"
   },
   {
    "duration": 21,
    "start_time": "2022-12-19T22:07:25.376Z"
   },
   {
    "duration": 13,
    "start_time": "2022-12-19T22:07:31.431Z"
   },
   {
    "duration": 62,
    "start_time": "2022-12-19T22:09:15.655Z"
   },
   {
    "duration": 801,
    "start_time": "2022-12-19T22:09:15.719Z"
   },
   {
    "duration": 35,
    "start_time": "2022-12-19T22:09:16.522Z"
   },
   {
    "duration": 15,
    "start_time": "2022-12-19T22:09:16.558Z"
   },
   {
    "duration": 13,
    "start_time": "2022-12-19T22:09:16.575Z"
   },
   {
    "duration": 16,
    "start_time": "2022-12-19T22:09:16.590Z"
   },
   {
    "duration": 19,
    "start_time": "2022-12-19T22:09:16.608Z"
   },
   {
    "duration": 35,
    "start_time": "2022-12-19T22:09:16.628Z"
   },
   {
    "duration": 6,
    "start_time": "2022-12-19T22:09:16.664Z"
   },
   {
    "duration": 9,
    "start_time": "2022-12-19T22:09:16.671Z"
   },
   {
    "duration": 7,
    "start_time": "2022-12-19T22:09:16.682Z"
   },
   {
    "duration": 13,
    "start_time": "2022-12-19T22:09:16.691Z"
   },
   {
    "duration": 15,
    "start_time": "2022-12-19T22:09:16.706Z"
   },
   {
    "duration": 146,
    "start_time": "2022-12-19T22:09:16.724Z"
   },
   {
    "duration": 167,
    "start_time": "2022-12-19T22:09:16.871Z"
   },
   {
    "duration": 6,
    "start_time": "2022-12-19T22:09:17.039Z"
   },
   {
    "duration": 5,
    "start_time": "2022-12-19T22:09:17.055Z"
   },
   {
    "duration": 273,
    "start_time": "2022-12-19T22:09:17.062Z"
   },
   {
    "duration": 3,
    "start_time": "2022-12-19T22:09:17.336Z"
   },
   {
    "duration": 371,
    "start_time": "2022-12-19T22:09:17.341Z"
   },
   {
    "duration": 186,
    "start_time": "2022-12-19T22:09:17.714Z"
   },
   {
    "duration": 169,
    "start_time": "2022-12-19T22:09:17.902Z"
   },
   {
    "duration": 184,
    "start_time": "2022-12-19T22:09:18.073Z"
   },
   {
    "duration": 175,
    "start_time": "2022-12-19T22:09:18.259Z"
   },
   {
    "duration": 170,
    "start_time": "2022-12-19T22:09:18.436Z"
   },
   {
    "duration": 19,
    "start_time": "2022-12-19T22:09:18.608Z"
   },
   {
    "duration": 27,
    "start_time": "2022-12-19T22:09:18.629Z"
   },
   {
    "duration": 63,
    "start_time": "2022-12-19T22:09:39.232Z"
   },
   {
    "duration": 60,
    "start_time": "2022-12-19T22:09:43.794Z"
   },
   {
    "duration": 691,
    "start_time": "2022-12-19T22:09:43.856Z"
   },
   {
    "duration": 33,
    "start_time": "2022-12-19T22:09:44.549Z"
   },
   {
    "duration": 21,
    "start_time": "2022-12-19T22:09:44.585Z"
   },
   {
    "duration": 18,
    "start_time": "2022-12-19T22:09:44.608Z"
   },
   {
    "duration": 41,
    "start_time": "2022-12-19T22:09:44.628Z"
   },
   {
    "duration": 18,
    "start_time": "2022-12-19T22:09:44.671Z"
   },
   {
    "duration": 14,
    "start_time": "2022-12-19T22:09:44.690Z"
   },
   {
    "duration": 10,
    "start_time": "2022-12-19T22:09:44.706Z"
   },
   {
    "duration": 12,
    "start_time": "2022-12-19T22:09:44.720Z"
   },
   {
    "duration": 26,
    "start_time": "2022-12-19T22:09:44.733Z"
   },
   {
    "duration": 22,
    "start_time": "2022-12-19T22:09:44.761Z"
   },
   {
    "duration": 27,
    "start_time": "2022-12-19T22:09:44.785Z"
   },
   {
    "duration": 114,
    "start_time": "2022-12-19T22:09:44.814Z"
   },
   {
    "duration": 172,
    "start_time": "2022-12-19T22:09:44.929Z"
   },
   {
    "duration": 6,
    "start_time": "2022-12-19T22:09:45.102Z"
   },
   {
    "duration": 11,
    "start_time": "2022-12-19T22:09:45.109Z"
   },
   {
    "duration": 285,
    "start_time": "2022-12-19T22:09:45.122Z"
   },
   {
    "duration": 3,
    "start_time": "2022-12-19T22:09:45.409Z"
   },
   {
    "duration": 183,
    "start_time": "2022-12-19T22:09:45.413Z"
   },
   {
    "duration": 183,
    "start_time": "2022-12-19T22:09:45.598Z"
   },
   {
    "duration": 175,
    "start_time": "2022-12-19T22:09:45.783Z"
   },
   {
    "duration": 341,
    "start_time": "2022-12-19T22:09:45.959Z"
   },
   {
    "duration": 173,
    "start_time": "2022-12-19T22:09:46.301Z"
   },
   {
    "duration": 175,
    "start_time": "2022-12-19T22:09:46.475Z"
   },
   {
    "duration": 24,
    "start_time": "2022-12-19T22:09:46.652Z"
   },
   {
    "duration": 12,
    "start_time": "2022-12-19T22:09:46.678Z"
   },
   {
    "duration": 194,
    "start_time": "2022-12-19T22:11:00.751Z"
   },
   {
    "duration": 185,
    "start_time": "2022-12-19T22:11:11.887Z"
   },
   {
    "duration": 178,
    "start_time": "2022-12-19T22:11:36.881Z"
   },
   {
    "duration": 135,
    "start_time": "2022-12-19T22:13:14.514Z"
   },
   {
    "duration": 14,
    "start_time": "2022-12-19T22:16:56.890Z"
   },
   {
    "duration": 24,
    "start_time": "2022-12-19T22:17:24.167Z"
   },
   {
    "duration": 13,
    "start_time": "2022-12-19T22:17:30.103Z"
   },
   {
    "duration": 15,
    "start_time": "2022-12-19T22:17:54.319Z"
   },
   {
    "duration": 29,
    "start_time": "2022-12-19T22:20:19.494Z"
   },
   {
    "duration": 28,
    "start_time": "2022-12-19T22:20:24.387Z"
   },
   {
    "duration": 22,
    "start_time": "2022-12-19T22:20:37.202Z"
   },
   {
    "duration": 9,
    "start_time": "2022-12-19T22:21:28.162Z"
   },
   {
    "duration": 9,
    "start_time": "2022-12-19T22:24:47.965Z"
   },
   {
    "duration": 8,
    "start_time": "2022-12-19T22:25:29.548Z"
   },
   {
    "duration": 21,
    "start_time": "2022-12-19T22:25:43.286Z"
   },
   {
    "duration": 21,
    "start_time": "2022-12-19T22:26:13.018Z"
   },
   {
    "duration": 13,
    "start_time": "2022-12-19T22:26:58.506Z"
   },
   {
    "duration": 23,
    "start_time": "2022-12-19T22:28:16.796Z"
   },
   {
    "duration": 195,
    "start_time": "2022-12-19T22:28:19.000Z"
   },
   {
    "duration": 176,
    "start_time": "2022-12-19T22:28:28.682Z"
   },
   {
    "duration": 180,
    "start_time": "2022-12-19T22:28:37.957Z"
   },
   {
    "duration": 160,
    "start_time": "2022-12-19T22:28:59.127Z"
   },
   {
    "duration": 4,
    "start_time": "2022-12-19T22:30:45.123Z"
   },
   {
    "duration": 3,
    "start_time": "2022-12-19T22:31:53.267Z"
   },
   {
    "duration": 4,
    "start_time": "2022-12-19T22:32:07.277Z"
   },
   {
    "duration": 183,
    "start_time": "2022-12-19T22:32:10.203Z"
   },
   {
    "duration": 184,
    "start_time": "2022-12-19T22:32:25.132Z"
   },
   {
    "duration": 3,
    "start_time": "2022-12-19T22:32:46.519Z"
   },
   {
    "duration": 172,
    "start_time": "2022-12-19T22:32:49.469Z"
   },
   {
    "duration": 202,
    "start_time": "2022-12-19T22:32:56.527Z"
   },
   {
    "duration": 4,
    "start_time": "2022-12-19T22:33:12.621Z"
   },
   {
    "duration": 4,
    "start_time": "2022-12-19T22:33:21.521Z"
   },
   {
    "duration": 173,
    "start_time": "2022-12-19T22:33:24.227Z"
   },
   {
    "duration": 3,
    "start_time": "2022-12-19T22:33:31.092Z"
   },
   {
    "duration": 176,
    "start_time": "2022-12-19T22:33:31.844Z"
   },
   {
    "duration": 181,
    "start_time": "2022-12-19T22:33:36.274Z"
   },
   {
    "duration": 160,
    "start_time": "2022-12-19T22:33:40.674Z"
   },
   {
    "duration": 183,
    "start_time": "2022-12-19T22:33:44.953Z"
   },
   {
    "duration": 356,
    "start_time": "2022-12-19T22:33:48.554Z"
   },
   {
    "duration": 177,
    "start_time": "2022-12-19T22:33:52.929Z"
   },
   {
    "duration": 164,
    "start_time": "2022-12-19T22:34:05.112Z"
   },
   {
    "duration": 154,
    "start_time": "2022-12-19T22:34:25.594Z"
   },
   {
    "duration": 146,
    "start_time": "2022-12-19T22:34:45.864Z"
   },
   {
    "duration": 166,
    "start_time": "2022-12-19T22:34:52.953Z"
   },
   {
    "duration": 152,
    "start_time": "2022-12-19T22:34:59.434Z"
   },
   {
    "duration": 163,
    "start_time": "2022-12-19T22:35:07.528Z"
   },
   {
    "duration": 156,
    "start_time": "2022-12-19T22:35:19.083Z"
   },
   {
    "duration": 152,
    "start_time": "2022-12-19T22:35:25.679Z"
   },
   {
    "duration": 154,
    "start_time": "2022-12-19T22:35:33.367Z"
   },
   {
    "duration": 163,
    "start_time": "2022-12-19T22:35:40.554Z"
   },
   {
    "duration": 157,
    "start_time": "2022-12-19T22:35:55.937Z"
   },
   {
    "duration": 148,
    "start_time": "2022-12-19T22:36:16.943Z"
   },
   {
    "duration": 160,
    "start_time": "2022-12-19T22:36:37.507Z"
   },
   {
    "duration": 162,
    "start_time": "2022-12-19T22:36:50.849Z"
   },
   {
    "duration": 115,
    "start_time": "2022-12-19T22:37:00.594Z"
   },
   {
    "duration": 167,
    "start_time": "2022-12-19T22:37:05.279Z"
   },
   {
    "duration": 116,
    "start_time": "2022-12-19T22:37:12.824Z"
   },
   {
    "duration": 154,
    "start_time": "2022-12-19T22:37:16.719Z"
   },
   {
    "duration": 157,
    "start_time": "2022-12-19T22:37:32.639Z"
   },
   {
    "duration": 191,
    "start_time": "2022-12-19T22:37:40.129Z"
   },
   {
    "duration": 148,
    "start_time": "2022-12-19T22:37:47.098Z"
   },
   {
    "duration": 155,
    "start_time": "2022-12-19T22:37:52.680Z"
   },
   {
    "duration": 156,
    "start_time": "2022-12-19T22:37:59.028Z"
   },
   {
    "duration": 397,
    "start_time": "2022-12-19T22:38:03.409Z"
   },
   {
    "duration": 146,
    "start_time": "2022-12-19T22:39:56.764Z"
   },
   {
    "duration": 177,
    "start_time": "2022-12-19T22:40:11.842Z"
   },
   {
    "duration": 155,
    "start_time": "2022-12-19T22:40:23.729Z"
   },
   {
    "duration": 15,
    "start_time": "2022-12-19T22:40:46.153Z"
   },
   {
    "duration": 11,
    "start_time": "2022-12-19T22:40:56.884Z"
   },
   {
    "duration": 12,
    "start_time": "2022-12-19T22:41:36.482Z"
   },
   {
    "duration": 149,
    "start_time": "2022-12-19T22:41:52.883Z"
   },
   {
    "duration": 117,
    "start_time": "2022-12-19T22:42:17.527Z"
   },
   {
    "duration": 152,
    "start_time": "2022-12-19T22:42:22.479Z"
   },
   {
    "duration": 156,
    "start_time": "2022-12-19T22:42:39.324Z"
   },
   {
    "duration": 5,
    "start_time": "2022-12-19T22:43:24.997Z"
   },
   {
    "duration": 11,
    "start_time": "2022-12-19T22:46:39.780Z"
   },
   {
    "duration": 17,
    "start_time": "2022-12-19T22:46:56.307Z"
   },
   {
    "duration": 169,
    "start_time": "2022-12-19T22:46:57.989Z"
   },
   {
    "duration": 184,
    "start_time": "2022-12-19T22:48:57.872Z"
   },
   {
    "duration": 199,
    "start_time": "2022-12-19T22:49:06.556Z"
   },
   {
    "duration": 162,
    "start_time": "2022-12-19T22:49:35.704Z"
   },
   {
    "duration": 5,
    "start_time": "2022-12-19T23:10:32.599Z"
   },
   {
    "duration": 191,
    "start_time": "2022-12-19T23:12:13.614Z"
   },
   {
    "duration": 149,
    "start_time": "2022-12-19T23:12:28.813Z"
   },
   {
    "duration": 147,
    "start_time": "2022-12-19T23:12:40.388Z"
   },
   {
    "duration": 56,
    "start_time": "2022-12-19T23:14:50.879Z"
   },
   {
    "duration": 130,
    "start_time": "2022-12-19T23:18:12.225Z"
   },
   {
    "duration": 8,
    "start_time": "2022-12-19T23:18:15.240Z"
   },
   {
    "duration": 9,
    "start_time": "2022-12-19T23:18:51.346Z"
   },
   {
    "duration": 121,
    "start_time": "2022-12-19T23:18:56.926Z"
   },
   {
    "duration": 509,
    "start_time": "2022-12-19T23:20:01.866Z"
   },
   {
    "duration": 913,
    "start_time": "2022-12-19T23:20:02.377Z"
   },
   {
    "duration": 24,
    "start_time": "2022-12-19T23:20:03.291Z"
   },
   {
    "duration": 37,
    "start_time": "2022-12-19T23:20:03.317Z"
   },
   {
    "duration": 10,
    "start_time": "2022-12-19T23:20:03.356Z"
   },
   {
    "duration": 17,
    "start_time": "2022-12-19T23:20:03.368Z"
   },
   {
    "duration": 16,
    "start_time": "2022-12-19T23:20:03.386Z"
   },
   {
    "duration": 12,
    "start_time": "2022-12-19T23:20:03.404Z"
   },
   {
    "duration": 5,
    "start_time": "2022-12-19T23:20:03.418Z"
   },
   {
    "duration": 9,
    "start_time": "2022-12-19T23:20:03.424Z"
   },
   {
    "duration": 5,
    "start_time": "2022-12-19T23:20:03.456Z"
   },
   {
    "duration": 12,
    "start_time": "2022-12-19T23:20:03.462Z"
   },
   {
    "duration": 17,
    "start_time": "2022-12-19T23:20:03.476Z"
   },
   {
    "duration": 149,
    "start_time": "2022-12-19T23:20:03.496Z"
   },
   {
    "duration": 213,
    "start_time": "2022-12-19T23:20:03.647Z"
   },
   {
    "duration": 6,
    "start_time": "2022-12-19T23:20:03.862Z"
   },
   {
    "duration": 11,
    "start_time": "2022-12-19T23:20:03.869Z"
   },
   {
    "duration": 306,
    "start_time": "2022-12-19T23:20:03.882Z"
   },
   {
    "duration": 3,
    "start_time": "2022-12-19T23:20:04.190Z"
   },
   {
    "duration": 183,
    "start_time": "2022-12-19T23:20:04.195Z"
   },
   {
    "duration": 211,
    "start_time": "2022-12-19T23:20:04.379Z"
   },
   {
    "duration": 174,
    "start_time": "2022-12-19T23:20:04.592Z"
   },
   {
    "duration": 182,
    "start_time": "2022-12-19T23:20:04.768Z"
   },
   {
    "duration": 170,
    "start_time": "2022-12-19T23:20:04.952Z"
   },
   {
    "duration": 174,
    "start_time": "2022-12-19T23:20:05.124Z"
   },
   {
    "duration": 20,
    "start_time": "2022-12-19T23:20:05.300Z"
   },
   {
    "duration": 184,
    "start_time": "2022-12-19T23:20:05.322Z"
   },
   {
    "duration": 18,
    "start_time": "2022-12-19T23:20:05.507Z"
   },
   {
    "duration": 196,
    "start_time": "2022-12-19T23:20:05.526Z"
   },
   {
    "duration": 4,
    "start_time": "2022-12-19T23:20:05.724Z"
   },
   {
    "duration": 156,
    "start_time": "2022-12-19T23:20:05.729Z"
   },
   {
    "duration": 8,
    "start_time": "2022-12-19T23:20:05.887Z"
   },
   {
    "duration": 168,
    "start_time": "2022-12-19T23:20:05.897Z"
   },
   {
    "duration": 128,
    "start_time": "2022-12-19T23:20:14.858Z"
   },
   {
    "duration": 147,
    "start_time": "2022-12-19T23:21:17.823Z"
   },
   {
    "duration": 163,
    "start_time": "2022-12-19T23:22:01.094Z"
   },
   {
    "duration": 74,
    "start_time": "2022-12-19T23:23:26.070Z"
   },
   {
    "duration": 969,
    "start_time": "2022-12-19T23:23:26.146Z"
   },
   {
    "duration": 26,
    "start_time": "2022-12-19T23:23:27.117Z"
   },
   {
    "duration": 16,
    "start_time": "2022-12-19T23:23:27.154Z"
   },
   {
    "duration": 10,
    "start_time": "2022-12-19T23:23:27.173Z"
   },
   {
    "duration": 14,
    "start_time": "2022-12-19T23:23:27.185Z"
   },
   {
    "duration": 14,
    "start_time": "2022-12-19T23:23:27.201Z"
   },
   {
    "duration": 43,
    "start_time": "2022-12-19T23:23:27.217Z"
   },
   {
    "duration": 6,
    "start_time": "2022-12-19T23:23:27.262Z"
   },
   {
    "duration": 12,
    "start_time": "2022-12-19T23:23:27.269Z"
   },
   {
    "duration": 10,
    "start_time": "2022-12-19T23:23:27.283Z"
   },
   {
    "duration": 13,
    "start_time": "2022-12-19T23:23:27.294Z"
   },
   {
    "duration": 23,
    "start_time": "2022-12-19T23:23:27.309Z"
   },
   {
    "duration": 140,
    "start_time": "2022-12-19T23:23:27.336Z"
   },
   {
    "duration": 165,
    "start_time": "2022-12-19T23:23:27.478Z"
   },
   {
    "duration": 14,
    "start_time": "2022-12-19T23:23:27.645Z"
   },
   {
    "duration": 10,
    "start_time": "2022-12-19T23:23:27.660Z"
   },
   {
    "duration": 274,
    "start_time": "2022-12-19T23:23:27.671Z"
   },
   {
    "duration": 9,
    "start_time": "2022-12-19T23:23:27.946Z"
   },
   {
    "duration": 178,
    "start_time": "2022-12-19T23:23:27.956Z"
   },
   {
    "duration": 182,
    "start_time": "2022-12-19T23:23:28.136Z"
   },
   {
    "duration": 177,
    "start_time": "2022-12-19T23:23:28.320Z"
   },
   {
    "duration": 179,
    "start_time": "2022-12-19T23:23:28.498Z"
   },
   {
    "duration": 170,
    "start_time": "2022-12-19T23:23:28.679Z"
   },
   {
    "duration": 174,
    "start_time": "2022-12-19T23:23:28.850Z"
   },
   {
    "duration": 20,
    "start_time": "2022-12-19T23:23:29.026Z"
   },
   {
    "duration": 170,
    "start_time": "2022-12-19T23:23:29.055Z"
   },
   {
    "duration": 28,
    "start_time": "2022-12-19T23:23:29.227Z"
   },
   {
    "duration": 190,
    "start_time": "2022-12-19T23:23:29.257Z"
   },
   {
    "duration": 8,
    "start_time": "2022-12-19T23:23:29.449Z"
   },
   {
    "duration": 166,
    "start_time": "2022-12-19T23:23:29.458Z"
   },
   {
    "duration": 9,
    "start_time": "2022-12-19T23:23:29.625Z"
   },
   {
    "duration": 151,
    "start_time": "2022-12-19T23:23:29.636Z"
   },
   {
    "duration": 145,
    "start_time": "2022-12-19T23:24:51.913Z"
   },
   {
    "duration": 152,
    "start_time": "2022-12-19T23:24:57.783Z"
   },
   {
    "duration": 122,
    "start_time": "2022-12-19T23:25:14.053Z"
   },
   {
    "duration": 3,
    "start_time": "2022-12-19T23:27:12.719Z"
   },
   {
    "duration": 131,
    "start_time": "2022-12-19T23:27:35.329Z"
   },
   {
    "duration": 4,
    "start_time": "2022-12-19T23:27:39.623Z"
   },
   {
    "duration": 162,
    "start_time": "2022-12-19T23:27:42.290Z"
   },
   {
    "duration": 9,
    "start_time": "2022-12-19T23:28:27.672Z"
   },
   {
    "duration": 8,
    "start_time": "2022-12-19T23:28:44.195Z"
   },
   {
    "duration": 3,
    "start_time": "2022-12-19T23:28:46.378Z"
   },
   {
    "duration": 125,
    "start_time": "2022-12-19T23:28:48.621Z"
   },
   {
    "duration": 3,
    "start_time": "2022-12-19T23:29:09.658Z"
   },
   {
    "duration": 132,
    "start_time": "2022-12-19T23:29:13.723Z"
   },
   {
    "duration": 132,
    "start_time": "2022-12-19T23:30:07.878Z"
   },
   {
    "duration": 3,
    "start_time": "2022-12-19T23:30:10.265Z"
   },
   {
    "duration": 125,
    "start_time": "2022-12-19T23:30:14.625Z"
   },
   {
    "duration": 3,
    "start_time": "2022-12-19T23:30:45.253Z"
   },
   {
    "duration": 131,
    "start_time": "2022-12-19T23:30:48.079Z"
   },
   {
    "duration": 3,
    "start_time": "2022-12-19T23:31:12.543Z"
   },
   {
    "duration": 133,
    "start_time": "2022-12-19T23:31:16.288Z"
   },
   {
    "duration": 147,
    "start_time": "2022-12-19T23:31:25.016Z"
   },
   {
    "duration": 3,
    "start_time": "2022-12-19T23:31:54.998Z"
   },
   {
    "duration": 416,
    "start_time": "2022-12-19T23:31:57.497Z"
   },
   {
    "duration": 4,
    "start_time": "2022-12-19T23:32:20.760Z"
   },
   {
    "duration": 158,
    "start_time": "2022-12-19T23:32:22.782Z"
   },
   {
    "duration": 3,
    "start_time": "2022-12-19T23:33:01.774Z"
   },
   {
    "duration": 154,
    "start_time": "2022-12-19T23:33:02.680Z"
   },
   {
    "duration": 54,
    "start_time": "2022-12-19T23:33:40.308Z"
   },
   {
    "duration": 3,
    "start_time": "2022-12-19T23:33:55.658Z"
   },
   {
    "duration": 15,
    "start_time": "2022-12-19T23:33:57.986Z"
   },
   {
    "duration": 3,
    "start_time": "2022-12-19T23:34:39.323Z"
   },
   {
    "duration": 14,
    "start_time": "2022-12-19T23:34:40.460Z"
   },
   {
    "duration": 3,
    "start_time": "2022-12-19T23:34:52.753Z"
   },
   {
    "duration": 15,
    "start_time": "2022-12-19T23:34:53.618Z"
   },
   {
    "duration": 153,
    "start_time": "2022-12-19T23:34:59.295Z"
   },
   {
    "duration": 62,
    "start_time": "2022-12-19T23:35:03.774Z"
   },
   {
    "duration": 710,
    "start_time": "2022-12-19T23:35:03.838Z"
   },
   {
    "duration": 26,
    "start_time": "2022-12-19T23:35:04.554Z"
   },
   {
    "duration": 15,
    "start_time": "2022-12-19T23:35:04.581Z"
   },
   {
    "duration": 14,
    "start_time": "2022-12-19T23:35:04.598Z"
   },
   {
    "duration": 21,
    "start_time": "2022-12-19T23:35:04.613Z"
   },
   {
    "duration": 35,
    "start_time": "2022-12-19T23:35:04.635Z"
   },
   {
    "duration": 17,
    "start_time": "2022-12-19T23:35:04.671Z"
   },
   {
    "duration": 5,
    "start_time": "2022-12-19T23:35:04.690Z"
   },
   {
    "duration": 10,
    "start_time": "2022-12-19T23:35:04.696Z"
   },
   {
    "duration": 9,
    "start_time": "2022-12-19T23:35:04.707Z"
   },
   {
    "duration": 17,
    "start_time": "2022-12-19T23:35:04.717Z"
   },
   {
    "duration": 34,
    "start_time": "2022-12-19T23:35:04.736Z"
   },
   {
    "duration": 137,
    "start_time": "2022-12-19T23:35:04.773Z"
   },
   {
    "duration": 174,
    "start_time": "2022-12-19T23:35:04.911Z"
   },
   {
    "duration": 6,
    "start_time": "2022-12-19T23:35:05.087Z"
   },
   {
    "duration": 8,
    "start_time": "2022-12-19T23:35:05.094Z"
   },
   {
    "duration": 289,
    "start_time": "2022-12-19T23:35:05.104Z"
   },
   {
    "duration": 3,
    "start_time": "2022-12-19T23:35:05.395Z"
   },
   {
    "duration": 188,
    "start_time": "2022-12-19T23:35:05.400Z"
   },
   {
    "duration": 175,
    "start_time": "2022-12-19T23:35:05.589Z"
   },
   {
    "duration": 178,
    "start_time": "2022-12-19T23:35:05.766Z"
   },
   {
    "duration": 182,
    "start_time": "2022-12-19T23:35:05.946Z"
   },
   {
    "duration": 175,
    "start_time": "2022-12-19T23:35:06.130Z"
   },
   {
    "duration": 175,
    "start_time": "2022-12-19T23:35:06.307Z"
   },
   {
    "duration": 23,
    "start_time": "2022-12-19T23:35:06.484Z"
   },
   {
    "duration": 189,
    "start_time": "2022-12-19T23:35:06.509Z"
   },
   {
    "duration": 18,
    "start_time": "2022-12-19T23:35:06.699Z"
   },
   {
    "duration": 193,
    "start_time": "2022-12-19T23:35:06.719Z"
   },
   {
    "duration": 5,
    "start_time": "2022-12-19T23:35:06.914Z"
   },
   {
    "duration": 164,
    "start_time": "2022-12-19T23:35:06.920Z"
   },
   {
    "duration": 4,
    "start_time": "2022-12-19T23:35:07.085Z"
   },
   {
    "duration": 20,
    "start_time": "2022-12-19T23:35:07.090Z"
   },
   {
    "duration": 4,
    "start_time": "2022-12-19T23:35:44.887Z"
   },
   {
    "duration": 159,
    "start_time": "2022-12-19T23:35:46.419Z"
   },
   {
    "duration": 413,
    "start_time": "2022-12-19T23:36:13.159Z"
   },
   {
    "duration": 150,
    "start_time": "2022-12-19T23:36:27.570Z"
   },
   {
    "duration": 3,
    "start_time": "2022-12-19T23:37:01.068Z"
   },
   {
    "duration": 162,
    "start_time": "2022-12-19T23:37:01.785Z"
   },
   {
    "duration": 153,
    "start_time": "2022-12-19T23:37:03.169Z"
   },
   {
    "duration": 157,
    "start_time": "2022-12-19T23:37:04.504Z"
   },
   {
    "duration": 64,
    "start_time": "2022-12-20T11:53:41.221Z"
   },
   {
    "duration": 1359,
    "start_time": "2022-12-20T11:53:46.961Z"
   },
   {
    "duration": 687,
    "start_time": "2022-12-20T11:53:48.322Z"
   },
   {
    "duration": 34,
    "start_time": "2022-12-20T11:53:49.011Z"
   },
   {
    "duration": 15,
    "start_time": "2022-12-20T11:53:49.047Z"
   },
   {
    "duration": 11,
    "start_time": "2022-12-20T11:53:49.065Z"
   },
   {
    "duration": 16,
    "start_time": "2022-12-20T11:53:49.078Z"
   },
   {
    "duration": 36,
    "start_time": "2022-12-20T11:53:49.096Z"
   },
   {
    "duration": 13,
    "start_time": "2022-12-20T11:53:49.134Z"
   },
   {
    "duration": 5,
    "start_time": "2022-12-20T11:53:49.149Z"
   },
   {
    "duration": 10,
    "start_time": "2022-12-20T11:53:49.156Z"
   },
   {
    "duration": 11,
    "start_time": "2022-12-20T11:53:49.168Z"
   },
   {
    "duration": 9,
    "start_time": "2022-12-20T11:53:49.181Z"
   },
   {
    "duration": 37,
    "start_time": "2022-12-20T11:53:49.191Z"
   },
   {
    "duration": 120,
    "start_time": "2022-12-20T11:53:49.231Z"
   },
   {
    "duration": 170,
    "start_time": "2022-12-20T11:53:49.353Z"
   },
   {
    "duration": 5,
    "start_time": "2022-12-20T11:53:49.524Z"
   },
   {
    "duration": 8,
    "start_time": "2022-12-20T11:53:49.530Z"
   },
   {
    "duration": 267,
    "start_time": "2022-12-20T11:53:49.540Z"
   },
   {
    "duration": 3,
    "start_time": "2022-12-20T11:53:49.809Z"
   },
   {
    "duration": 241,
    "start_time": "2022-12-20T11:53:49.813Z"
   },
   {
    "duration": 164,
    "start_time": "2022-12-20T11:53:50.055Z"
   },
   {
    "duration": 176,
    "start_time": "2022-12-20T11:53:50.221Z"
   },
   {
    "duration": 165,
    "start_time": "2022-12-20T11:53:50.399Z"
   },
   {
    "duration": 179,
    "start_time": "2022-12-20T11:53:50.566Z"
   },
   {
    "duration": 161,
    "start_time": "2022-12-20T11:53:50.746Z"
   },
   {
    "duration": 21,
    "start_time": "2022-12-20T11:53:50.908Z"
   },
   {
    "duration": 173,
    "start_time": "2022-12-20T11:53:50.931Z"
   },
   {
    "duration": 22,
    "start_time": "2022-12-20T11:53:51.106Z"
   },
   {
    "duration": 184,
    "start_time": "2022-12-20T11:53:51.129Z"
   },
   {
    "duration": 9,
    "start_time": "2022-12-20T11:53:51.314Z"
   },
   {
    "duration": 159,
    "start_time": "2022-12-20T11:53:51.324Z"
   },
   {
    "duration": 3,
    "start_time": "2022-12-20T11:53:51.485Z"
   },
   {
    "duration": 198,
    "start_time": "2022-12-20T11:53:51.491Z"
   },
   {
    "duration": 154,
    "start_time": "2022-12-20T11:53:51.691Z"
   },
   {
    "duration": 226,
    "start_time": "2022-12-20T11:53:51.847Z"
   },
   {
    "duration": 53,
    "start_time": "2022-12-20T11:53:52.075Z"
   },
   {
    "duration": 0,
    "start_time": "2022-12-20T11:53:52.130Z"
   },
   {
    "duration": 47,
    "start_time": "2022-12-20T11:55:20.941Z"
   },
   {
    "duration": 57,
    "start_time": "2022-12-20T11:55:31.911Z"
   },
   {
    "duration": 16,
    "start_time": "2022-12-20T11:56:27.100Z"
   },
   {
    "duration": 175,
    "start_time": "2022-12-20T11:56:31.000Z"
   },
   {
    "duration": 251,
    "start_time": "2022-12-20T12:26:36.861Z"
   },
   {
    "duration": 280,
    "start_time": "2022-12-20T12:26:57.102Z"
   },
   {
    "duration": 254,
    "start_time": "2022-12-20T12:27:08.146Z"
   },
   {
    "duration": 255,
    "start_time": "2022-12-20T12:27:21.862Z"
   },
   {
    "duration": 337,
    "start_time": "2022-12-20T12:27:42.541Z"
   },
   {
    "duration": 267,
    "start_time": "2022-12-20T12:28:13.101Z"
   },
   {
    "duration": 245,
    "start_time": "2022-12-20T12:28:57.662Z"
   },
   {
    "duration": 247,
    "start_time": "2022-12-20T12:29:06.809Z"
   },
   {
    "duration": 207,
    "start_time": "2022-12-20T12:29:18.621Z"
   },
   {
    "duration": 226,
    "start_time": "2022-12-20T12:31:43.001Z"
   },
   {
    "duration": 308,
    "start_time": "2022-12-20T12:31:54.821Z"
   },
   {
    "duration": 102,
    "start_time": "2022-12-20T12:32:06.921Z"
   },
   {
    "duration": 207,
    "start_time": "2022-12-20T12:32:12.061Z"
   },
   {
    "duration": 211,
    "start_time": "2022-12-20T12:32:25.685Z"
   },
   {
    "duration": 204,
    "start_time": "2022-12-20T12:32:42.101Z"
   },
   {
    "duration": 224,
    "start_time": "2022-12-20T12:32:50.161Z"
   },
   {
    "duration": 333,
    "start_time": "2022-12-20T12:33:03.661Z"
   },
   {
    "duration": 232,
    "start_time": "2022-12-20T12:33:15.101Z"
   },
   {
    "duration": 232,
    "start_time": "2022-12-20T12:33:32.467Z"
   },
   {
    "duration": 238,
    "start_time": "2022-12-20T12:33:50.142Z"
   },
   {
    "duration": 11,
    "start_time": "2022-12-20T12:35:28.841Z"
   },
   {
    "duration": 45,
    "start_time": "2022-12-20T12:36:13.662Z"
   },
   {
    "duration": 5,
    "start_time": "2022-12-20T12:36:23.802Z"
   },
   {
    "duration": 7,
    "start_time": "2022-12-20T12:37:15.902Z"
   },
   {
    "duration": 12,
    "start_time": "2022-12-20T12:38:36.434Z"
   },
   {
    "duration": 13,
    "start_time": "2022-12-20T12:38:49.421Z"
   },
   {
    "duration": 11,
    "start_time": "2022-12-20T12:38:59.672Z"
   },
   {
    "duration": 11,
    "start_time": "2022-12-20T12:39:51.797Z"
   },
   {
    "duration": 12,
    "start_time": "2022-12-20T12:40:40.061Z"
   },
   {
    "duration": 13,
    "start_time": "2022-12-20T12:41:22.832Z"
   },
   {
    "duration": 11,
    "start_time": "2022-12-20T12:41:27.322Z"
   },
   {
    "duration": 58,
    "start_time": "2022-12-20T12:41:39.264Z"
   },
   {
    "duration": 706,
    "start_time": "2022-12-20T12:41:39.324Z"
   },
   {
    "duration": 26,
    "start_time": "2022-12-20T12:41:40.031Z"
   },
   {
    "duration": 14,
    "start_time": "2022-12-20T12:41:40.059Z"
   },
   {
    "duration": 30,
    "start_time": "2022-12-20T12:41:40.076Z"
   },
   {
    "duration": 43,
    "start_time": "2022-12-20T12:41:40.108Z"
   },
   {
    "duration": 31,
    "start_time": "2022-12-20T12:41:40.153Z"
   },
   {
    "duration": 18,
    "start_time": "2022-12-20T12:41:40.186Z"
   },
   {
    "duration": 10,
    "start_time": "2022-12-20T12:41:40.205Z"
   },
   {
    "duration": 123,
    "start_time": "2022-12-20T12:41:40.217Z"
   },
   {
    "duration": 8,
    "start_time": "2022-12-20T12:41:40.341Z"
   },
   {
    "duration": 18,
    "start_time": "2022-12-20T12:41:40.350Z"
   },
   {
    "duration": 19,
    "start_time": "2022-12-20T12:41:40.369Z"
   },
   {
    "duration": 130,
    "start_time": "2022-12-20T12:41:40.391Z"
   },
   {
    "duration": 172,
    "start_time": "2022-12-20T12:41:40.522Z"
   },
   {
    "duration": 6,
    "start_time": "2022-12-20T12:41:40.696Z"
   },
   {
    "duration": 35,
    "start_time": "2022-12-20T12:41:40.703Z"
   },
   {
    "duration": 281,
    "start_time": "2022-12-20T12:41:40.740Z"
   },
   {
    "duration": 3,
    "start_time": "2022-12-20T12:41:41.023Z"
   },
   {
    "duration": 184,
    "start_time": "2022-12-20T12:41:41.028Z"
   },
   {
    "duration": 188,
    "start_time": "2022-12-20T12:41:41.214Z"
   },
   {
    "duration": 200,
    "start_time": "2022-12-20T12:41:41.404Z"
   },
   {
    "duration": 189,
    "start_time": "2022-12-20T12:41:41.606Z"
   },
   {
    "duration": 165,
    "start_time": "2022-12-20T12:41:41.797Z"
   },
   {
    "duration": 164,
    "start_time": "2022-12-20T12:41:41.964Z"
   },
   {
    "duration": 20,
    "start_time": "2022-12-20T12:41:42.129Z"
   },
   {
    "duration": 189,
    "start_time": "2022-12-20T12:41:42.151Z"
   },
   {
    "duration": 19,
    "start_time": "2022-12-20T12:41:42.341Z"
   },
   {
    "duration": 301,
    "start_time": "2022-12-20T12:41:42.361Z"
   },
   {
    "duration": 4,
    "start_time": "2022-12-20T12:41:42.664Z"
   },
   {
    "duration": 190,
    "start_time": "2022-12-20T12:41:42.669Z"
   },
   {
    "duration": 4,
    "start_time": "2022-12-20T12:41:42.861Z"
   },
   {
    "duration": 193,
    "start_time": "2022-12-20T12:41:42.867Z"
   },
   {
    "duration": 161,
    "start_time": "2022-12-20T12:41:43.062Z"
   },
   {
    "duration": 151,
    "start_time": "2022-12-20T12:41:43.224Z"
   },
   {
    "duration": 14,
    "start_time": "2022-12-20T12:41:43.376Z"
   },
   {
    "duration": 178,
    "start_time": "2022-12-20T12:41:43.392Z"
   },
   {
    "duration": 253,
    "start_time": "2022-12-20T12:41:43.571Z"
   },
   {
    "duration": 11,
    "start_time": "2022-12-20T12:41:43.825Z"
   },
   {
    "duration": 12,
    "start_time": "2022-12-20T12:43:22.245Z"
   },
   {
    "duration": 15,
    "start_time": "2022-12-20T12:44:24.361Z"
   },
   {
    "duration": 13,
    "start_time": "2022-12-20T12:44:35.572Z"
   },
   {
    "duration": 11,
    "start_time": "2022-12-20T12:45:02.701Z"
   },
   {
    "duration": 11,
    "start_time": "2022-12-20T12:45:31.339Z"
   },
   {
    "duration": 10,
    "start_time": "2022-12-20T12:46:05.961Z"
   },
   {
    "duration": 216,
    "start_time": "2022-12-20T12:59:49.180Z"
   },
   {
    "duration": 313,
    "start_time": "2022-12-20T13:00:25.023Z"
   },
   {
    "duration": 21,
    "start_time": "2022-12-20T13:13:07.823Z"
   },
   {
    "duration": 8,
    "start_time": "2022-12-20T13:15:16.401Z"
   },
   {
    "duration": 9,
    "start_time": "2022-12-20T13:16:15.113Z"
   },
   {
    "duration": 11,
    "start_time": "2022-12-20T13:16:27.157Z"
   },
   {
    "duration": 14,
    "start_time": "2022-12-20T13:16:46.835Z"
   },
   {
    "duration": 15,
    "start_time": "2022-12-20T13:17:13.275Z"
   },
   {
    "duration": 15,
    "start_time": "2022-12-20T13:17:17.805Z"
   },
   {
    "duration": 8,
    "start_time": "2022-12-20T13:17:36.904Z"
   },
   {
    "duration": 12,
    "start_time": "2022-12-20T13:17:58.263Z"
   },
   {
    "duration": 897,
    "start_time": "2022-12-20T13:18:29.564Z"
   },
   {
    "duration": 750,
    "start_time": "2022-12-20T13:18:47.875Z"
   },
   {
    "duration": 9,
    "start_time": "2022-12-20T13:19:12.355Z"
   },
   {
    "duration": 9,
    "start_time": "2022-12-20T13:19:26.836Z"
   },
   {
    "duration": 10,
    "start_time": "2022-12-20T13:21:10.455Z"
   },
   {
    "duration": 5,
    "start_time": "2022-12-20T13:21:23.354Z"
   },
   {
    "duration": 6,
    "start_time": "2022-12-20T13:21:25.715Z"
   },
   {
    "duration": 13,
    "start_time": "2022-12-20T13:21:42.283Z"
   },
   {
    "duration": 13,
    "start_time": "2022-12-20T13:22:00.374Z"
   },
   {
    "duration": 14,
    "start_time": "2022-12-20T13:22:32.076Z"
   },
   {
    "duration": 600,
    "start_time": "2022-12-20T13:30:33.324Z"
   },
   {
    "duration": 527,
    "start_time": "2022-12-20T13:30:40.904Z"
   },
   {
    "duration": 519,
    "start_time": "2022-12-20T13:30:53.283Z"
   },
   {
    "duration": 573,
    "start_time": "2022-12-20T13:31:01.312Z"
   },
   {
    "duration": 548,
    "start_time": "2022-12-20T13:31:13.276Z"
   },
   {
    "duration": 667,
    "start_time": "2022-12-20T13:32:53.918Z"
   },
   {
    "duration": 580,
    "start_time": "2022-12-20T13:34:12.235Z"
   },
   {
    "duration": 542,
    "start_time": "2022-12-20T13:34:20.903Z"
   },
   {
    "duration": 682,
    "start_time": "2022-12-20T13:43:04.307Z"
   },
   {
    "duration": 582,
    "start_time": "2022-12-20T13:43:38.372Z"
   },
   {
    "duration": 601,
    "start_time": "2022-12-20T13:44:03.110Z"
   },
   {
    "duration": 61,
    "start_time": "2022-12-20T13:44:33.266Z"
   },
   {
    "duration": 823,
    "start_time": "2022-12-20T13:44:33.328Z"
   },
   {
    "duration": 25,
    "start_time": "2022-12-20T13:44:34.152Z"
   },
   {
    "duration": 14,
    "start_time": "2022-12-20T13:44:34.178Z"
   },
   {
    "duration": 30,
    "start_time": "2022-12-20T13:44:34.195Z"
   },
   {
    "duration": 22,
    "start_time": "2022-12-20T13:44:34.227Z"
   },
   {
    "duration": 18,
    "start_time": "2022-12-20T13:44:34.250Z"
   },
   {
    "duration": 12,
    "start_time": "2022-12-20T13:44:34.269Z"
   },
   {
    "duration": 5,
    "start_time": "2022-12-20T13:44:34.283Z"
   },
   {
    "duration": 13,
    "start_time": "2022-12-20T13:44:34.289Z"
   },
   {
    "duration": 18,
    "start_time": "2022-12-20T13:44:34.304Z"
   },
   {
    "duration": 9,
    "start_time": "2022-12-20T13:44:34.324Z"
   },
   {
    "duration": 16,
    "start_time": "2022-12-20T13:44:34.335Z"
   },
   {
    "duration": 142,
    "start_time": "2022-12-20T13:44:34.354Z"
   },
   {
    "duration": 173,
    "start_time": "2022-12-20T13:44:34.498Z"
   },
   {
    "duration": 5,
    "start_time": "2022-12-20T13:44:34.672Z"
   },
   {
    "duration": 7,
    "start_time": "2022-12-20T13:44:34.679Z"
   },
   {
    "duration": 267,
    "start_time": "2022-12-20T13:44:34.687Z"
   },
   {
    "duration": 2,
    "start_time": "2022-12-20T13:44:34.956Z"
   },
   {
    "duration": 193,
    "start_time": "2022-12-20T13:44:34.960Z"
   },
   {
    "duration": 206,
    "start_time": "2022-12-20T13:44:35.154Z"
   },
   {
    "duration": 191,
    "start_time": "2022-12-20T13:44:35.362Z"
   },
   {
    "duration": 270,
    "start_time": "2022-12-20T13:44:35.554Z"
   },
   {
    "duration": 156,
    "start_time": "2022-12-20T13:44:35.826Z"
   },
   {
    "duration": 172,
    "start_time": "2022-12-20T13:44:35.983Z"
   },
   {
    "duration": 20,
    "start_time": "2022-12-20T13:44:36.157Z"
   },
   {
    "duration": 171,
    "start_time": "2022-12-20T13:44:36.178Z"
   },
   {
    "duration": 16,
    "start_time": "2022-12-20T13:44:36.350Z"
   },
   {
    "duration": 197,
    "start_time": "2022-12-20T13:44:36.368Z"
   },
   {
    "duration": 6,
    "start_time": "2022-12-20T13:44:36.567Z"
   },
   {
    "duration": 160,
    "start_time": "2022-12-20T13:44:36.574Z"
   },
   {
    "duration": 3,
    "start_time": "2022-12-20T13:44:36.735Z"
   },
   {
    "duration": 148,
    "start_time": "2022-12-20T13:44:36.740Z"
   },
   {
    "duration": 166,
    "start_time": "2022-12-20T13:44:36.889Z"
   },
   {
    "duration": 158,
    "start_time": "2022-12-20T13:44:37.057Z"
   },
   {
    "duration": 14,
    "start_time": "2022-12-20T13:44:37.220Z"
   },
   {
    "duration": 183,
    "start_time": "2022-12-20T13:44:37.236Z"
   },
   {
    "duration": 247,
    "start_time": "2022-12-20T13:44:37.420Z"
   },
   {
    "duration": 12,
    "start_time": "2022-12-20T13:44:37.668Z"
   },
   {
    "duration": 664,
    "start_time": "2022-12-20T13:44:37.682Z"
   },
   {
    "duration": 601,
    "start_time": "2022-12-20T13:44:38.351Z"
   },
   {
    "duration": 656,
    "start_time": "2022-12-20T13:45:28.502Z"
   },
   {
    "duration": 561,
    "start_time": "2022-12-20T13:45:39.864Z"
   },
   {
    "duration": 566,
    "start_time": "2022-12-20T13:47:41.224Z"
   },
   {
    "duration": 21,
    "start_time": "2022-12-20T13:53:40.324Z"
   },
   {
    "duration": 21,
    "start_time": "2022-12-20T13:54:23.510Z"
   },
   {
    "duration": 22,
    "start_time": "2022-12-20T13:55:30.609Z"
   },
   {
    "duration": 258,
    "start_time": "2022-12-20T15:03:59.778Z"
   },
   {
    "duration": 284,
    "start_time": "2022-12-20T15:04:27.217Z"
   },
   {
    "duration": 6,
    "start_time": "2022-12-20T15:08:16.452Z"
   },
   {
    "duration": 10,
    "start_time": "2022-12-20T15:09:46.692Z"
   },
   {
    "duration": 6,
    "start_time": "2022-12-20T15:10:11.203Z"
   },
   {
    "duration": 63,
    "start_time": "2022-12-20T15:16:14.805Z"
   },
   {
    "duration": 908,
    "start_time": "2022-12-20T15:16:14.870Z"
   },
   {
    "duration": 24,
    "start_time": "2022-12-20T15:16:15.780Z"
   },
   {
    "duration": 25,
    "start_time": "2022-12-20T15:16:15.806Z"
   },
   {
    "duration": 12,
    "start_time": "2022-12-20T15:16:15.832Z"
   },
   {
    "duration": 49,
    "start_time": "2022-12-20T15:16:15.845Z"
   },
   {
    "duration": 16,
    "start_time": "2022-12-20T15:16:15.895Z"
   },
   {
    "duration": 11,
    "start_time": "2022-12-20T15:16:15.912Z"
   },
   {
    "duration": 4,
    "start_time": "2022-12-20T15:16:15.925Z"
   },
   {
    "duration": 10,
    "start_time": "2022-12-20T15:16:15.932Z"
   },
   {
    "duration": 6,
    "start_time": "2022-12-20T15:16:15.943Z"
   },
   {
    "duration": 12,
    "start_time": "2022-12-20T15:16:15.950Z"
   },
   {
    "duration": 15,
    "start_time": "2022-12-20T15:16:15.964Z"
   },
   {
    "duration": 148,
    "start_time": "2022-12-20T15:16:15.981Z"
   },
   {
    "duration": 169,
    "start_time": "2022-12-20T15:16:16.131Z"
   },
   {
    "duration": 5,
    "start_time": "2022-12-20T15:16:16.302Z"
   },
   {
    "duration": 26,
    "start_time": "2022-12-20T15:16:16.308Z"
   },
   {
    "duration": 269,
    "start_time": "2022-12-20T15:16:16.336Z"
   },
   {
    "duration": 3,
    "start_time": "2022-12-20T15:16:16.607Z"
   },
   {
    "duration": 196,
    "start_time": "2022-12-20T15:16:16.611Z"
   },
   {
    "duration": 166,
    "start_time": "2022-12-20T15:16:16.809Z"
   },
   {
    "duration": 177,
    "start_time": "2022-12-20T15:16:16.976Z"
   },
   {
    "duration": 175,
    "start_time": "2022-12-20T15:16:17.155Z"
   },
   {
    "duration": 176,
    "start_time": "2022-12-20T15:16:17.332Z"
   },
   {
    "duration": 164,
    "start_time": "2022-12-20T15:16:17.510Z"
   },
   {
    "duration": 20,
    "start_time": "2022-12-20T15:16:17.676Z"
   },
   {
    "duration": 311,
    "start_time": "2022-12-20T15:16:17.698Z"
   },
   {
    "duration": 16,
    "start_time": "2022-12-20T15:16:18.020Z"
   },
   {
    "duration": 179,
    "start_time": "2022-12-20T15:16:18.038Z"
   },
   {
    "duration": 4,
    "start_time": "2022-12-20T15:16:18.222Z"
   },
   {
    "duration": 159,
    "start_time": "2022-12-20T15:16:18.228Z"
   },
   {
    "duration": 3,
    "start_time": "2022-12-20T15:16:18.389Z"
   },
   {
    "duration": 160,
    "start_time": "2022-12-20T15:16:18.394Z"
   },
   {
    "duration": 169,
    "start_time": "2022-12-20T15:16:18.556Z"
   },
   {
    "duration": 161,
    "start_time": "2022-12-20T15:16:18.727Z"
   },
   {
    "duration": 15,
    "start_time": "2022-12-20T15:16:18.889Z"
   },
   {
    "duration": 208,
    "start_time": "2022-12-20T15:16:18.905Z"
   },
   {
    "duration": 249,
    "start_time": "2022-12-20T15:16:19.115Z"
   },
   {
    "duration": 11,
    "start_time": "2022-12-20T15:16:19.365Z"
   },
   {
    "duration": 651,
    "start_time": "2022-12-20T15:16:19.378Z"
   },
   {
    "duration": 564,
    "start_time": "2022-12-20T15:16:20.031Z"
   },
   {
    "duration": 7,
    "start_time": "2022-12-20T15:16:20.597Z"
   },
   {
    "duration": 204,
    "start_time": "2022-12-20T15:16:20.606Z"
   },
   {
    "duration": 19,
    "start_time": "2022-12-20T15:16:20.812Z"
   },
   {
    "duration": 10,
    "start_time": "2022-12-20T15:17:13.253Z"
   },
   {
    "duration": 10,
    "start_time": "2022-12-20T15:17:25.093Z"
   },
   {
    "duration": 11,
    "start_time": "2022-12-20T15:17:33.225Z"
   },
   {
    "duration": 10,
    "start_time": "2022-12-20T15:17:53.065Z"
   },
   {
    "duration": 12,
    "start_time": "2022-12-20T15:18:08.525Z"
   },
   {
    "duration": 11,
    "start_time": "2022-12-20T15:18:36.833Z"
   },
   {
    "duration": 277,
    "start_time": "2022-12-20T15:19:58.372Z"
   },
   {
    "duration": 252,
    "start_time": "2022-12-20T15:20:10.445Z"
   },
   {
    "duration": 11,
    "start_time": "2022-12-20T15:20:33.733Z"
   },
   {
    "duration": 267,
    "start_time": "2022-12-20T15:20:45.853Z"
   },
   {
    "duration": 355,
    "start_time": "2022-12-20T15:21:01.893Z"
   },
   {
    "duration": 18,
    "start_time": "2022-12-20T15:31:41.213Z"
   },
   {
    "duration": 12,
    "start_time": "2022-12-20T15:31:53.919Z"
   },
   {
    "duration": 17,
    "start_time": "2022-12-20T15:32:34.899Z"
   },
   {
    "duration": 11,
    "start_time": "2022-12-20T15:32:59.672Z"
   },
   {
    "duration": 22,
    "start_time": "2022-12-20T15:34:57.531Z"
   },
   {
    "duration": 13,
    "start_time": "2022-12-20T15:35:37.918Z"
   },
   {
    "duration": 4,
    "start_time": "2022-12-20T15:35:56.730Z"
   },
   {
    "duration": 20,
    "start_time": "2022-12-20T15:36:07.690Z"
   },
   {
    "duration": 13,
    "start_time": "2022-12-20T15:36:29.518Z"
   },
   {
    "duration": 19,
    "start_time": "2022-12-20T15:36:58.491Z"
   },
   {
    "duration": 13,
    "start_time": "2022-12-20T15:37:20.818Z"
   },
   {
    "duration": 11,
    "start_time": "2022-12-20T15:38:55.999Z"
   },
   {
    "duration": 12,
    "start_time": "2022-12-20T15:39:21.986Z"
   },
   {
    "duration": 18,
    "start_time": "2022-12-20T15:40:08.631Z"
   },
   {
    "duration": 12,
    "start_time": "2022-12-20T15:40:18.418Z"
   },
   {
    "duration": 12,
    "start_time": "2022-12-20T15:40:28.091Z"
   },
   {
    "duration": 13,
    "start_time": "2022-12-20T15:40:41.389Z"
   },
   {
    "duration": 14,
    "start_time": "2022-12-20T15:40:58.970Z"
   },
   {
    "duration": 12,
    "start_time": "2022-12-20T15:43:07.499Z"
   },
   {
    "duration": 12,
    "start_time": "2022-12-20T15:43:16.099Z"
   },
   {
    "duration": 14,
    "start_time": "2022-12-20T15:43:23.510Z"
   },
   {
    "duration": 13,
    "start_time": "2022-12-20T15:43:30.431Z"
   },
   {
    "duration": 11,
    "start_time": "2022-12-20T15:45:06.500Z"
   },
   {
    "duration": 12,
    "start_time": "2022-12-20T15:45:16.478Z"
   },
   {
    "duration": 11,
    "start_time": "2022-12-20T15:45:23.050Z"
   },
   {
    "duration": 11,
    "start_time": "2022-12-20T15:45:28.610Z"
   },
   {
    "duration": 13,
    "start_time": "2022-12-20T15:45:48.251Z"
   },
   {
    "duration": 13,
    "start_time": "2022-12-20T15:45:53.931Z"
   },
   {
    "duration": 12,
    "start_time": "2022-12-20T15:46:00.011Z"
   },
   {
    "duration": 13,
    "start_time": "2022-12-20T15:50:30.660Z"
   },
   {
    "duration": 11,
    "start_time": "2022-12-20T15:53:56.988Z"
   },
   {
    "duration": 8,
    "start_time": "2022-12-20T15:54:20.177Z"
   },
   {
    "duration": 18,
    "start_time": "2022-12-20T15:54:44.867Z"
   },
   {
    "duration": 5,
    "start_time": "2022-12-20T15:55:00.069Z"
   },
   {
    "duration": 22,
    "start_time": "2022-12-20T15:55:04.449Z"
   },
   {
    "duration": 30,
    "start_time": "2022-12-20T15:55:53.497Z"
   },
   {
    "duration": 22,
    "start_time": "2022-12-20T15:56:52.417Z"
   },
   {
    "duration": 21,
    "start_time": "2022-12-20T15:57:30.395Z"
   },
   {
    "duration": 23,
    "start_time": "2022-12-20T15:58:50.737Z"
   },
   {
    "duration": 14,
    "start_time": "2022-12-20T16:03:55.929Z"
   },
   {
    "duration": 12,
    "start_time": "2022-12-20T16:04:02.649Z"
   },
   {
    "duration": 13,
    "start_time": "2022-12-20T16:12:32.527Z"
   },
   {
    "duration": 11,
    "start_time": "2022-12-20T16:15:45.413Z"
   },
   {
    "duration": 4,
    "start_time": "2022-12-20T16:16:03.306Z"
   },
   {
    "duration": 24,
    "start_time": "2022-12-20T16:16:07.685Z"
   },
   {
    "duration": 8,
    "start_time": "2022-12-20T16:18:49.413Z"
   },
   {
    "duration": 25,
    "start_time": "2022-12-20T16:18:54.174Z"
   },
   {
    "duration": 8,
    "start_time": "2022-12-20T16:19:54.213Z"
   },
   {
    "duration": 28,
    "start_time": "2022-12-20T16:20:01.686Z"
   },
   {
    "duration": 23,
    "start_time": "2022-12-20T16:21:16.537Z"
   },
   {
    "duration": 20,
    "start_time": "2022-12-20T16:21:33.730Z"
   },
   {
    "duration": 56,
    "start_time": "2022-12-20T16:21:54.150Z"
   },
   {
    "duration": 17,
    "start_time": "2022-12-20T16:21:58.391Z"
   },
   {
    "duration": 58,
    "start_time": "2022-12-20T16:22:20.000Z"
   },
   {
    "duration": 678,
    "start_time": "2022-12-20T16:22:20.061Z"
   },
   {
    "duration": 25,
    "start_time": "2022-12-20T16:22:20.741Z"
   },
   {
    "duration": 15,
    "start_time": "2022-12-20T16:22:20.768Z"
   },
   {
    "duration": 36,
    "start_time": "2022-12-20T16:22:20.786Z"
   },
   {
    "duration": 15,
    "start_time": "2022-12-20T16:22:20.824Z"
   },
   {
    "duration": 27,
    "start_time": "2022-12-20T16:22:20.841Z"
   },
   {
    "duration": 12,
    "start_time": "2022-12-20T16:22:20.869Z"
   },
   {
    "duration": 20,
    "start_time": "2022-12-20T16:22:20.882Z"
   },
   {
    "duration": 21,
    "start_time": "2022-12-20T16:22:20.904Z"
   },
   {
    "duration": 13,
    "start_time": "2022-12-20T16:22:20.926Z"
   },
   {
    "duration": 16,
    "start_time": "2022-12-20T16:22:20.940Z"
   },
   {
    "duration": 21,
    "start_time": "2022-12-20T16:22:20.958Z"
   },
   {
    "duration": 120,
    "start_time": "2022-12-20T16:22:20.981Z"
   },
   {
    "duration": 178,
    "start_time": "2022-12-20T16:22:21.103Z"
   },
   {
    "duration": 5,
    "start_time": "2022-12-20T16:22:21.283Z"
   },
   {
    "duration": 14,
    "start_time": "2022-12-20T16:22:21.289Z"
   },
   {
    "duration": 277,
    "start_time": "2022-12-20T16:22:21.305Z"
   },
   {
    "duration": 3,
    "start_time": "2022-12-20T16:22:21.584Z"
   },
   {
    "duration": 185,
    "start_time": "2022-12-20T16:22:21.589Z"
   },
   {
    "duration": 171,
    "start_time": "2022-12-20T16:22:21.776Z"
   },
   {
    "duration": 304,
    "start_time": "2022-12-20T16:22:21.948Z"
   },
   {
    "duration": 178,
    "start_time": "2022-12-20T16:22:22.254Z"
   },
   {
    "duration": 173,
    "start_time": "2022-12-20T16:22:22.434Z"
   },
   {
    "duration": 176,
    "start_time": "2022-12-20T16:22:22.609Z"
   },
   {
    "duration": 39,
    "start_time": "2022-12-20T16:22:22.788Z"
   },
   {
    "duration": 171,
    "start_time": "2022-12-20T16:22:22.829Z"
   },
   {
    "duration": 27,
    "start_time": "2022-12-20T16:22:23.002Z"
   },
   {
    "duration": 190,
    "start_time": "2022-12-20T16:22:23.031Z"
   },
   {
    "duration": 5,
    "start_time": "2022-12-20T16:22:23.223Z"
   },
   {
    "duration": 152,
    "start_time": "2022-12-20T16:22:23.230Z"
   },
   {
    "duration": 2,
    "start_time": "2022-12-20T16:22:23.384Z"
   },
   {
    "duration": 146,
    "start_time": "2022-12-20T16:22:23.388Z"
   },
   {
    "duration": 150,
    "start_time": "2022-12-20T16:22:23.536Z"
   },
   {
    "duration": 154,
    "start_time": "2022-12-20T16:22:23.687Z"
   },
   {
    "duration": 14,
    "start_time": "2022-12-20T16:22:23.842Z"
   },
   {
    "duration": 177,
    "start_time": "2022-12-20T16:22:23.858Z"
   },
   {
    "duration": 251,
    "start_time": "2022-12-20T16:22:24.037Z"
   },
   {
    "duration": 10,
    "start_time": "2022-12-20T16:22:24.289Z"
   },
   {
    "duration": 652,
    "start_time": "2022-12-20T16:22:24.301Z"
   },
   {
    "duration": 565,
    "start_time": "2022-12-20T16:22:24.956Z"
   },
   {
    "duration": 257,
    "start_time": "2022-12-20T16:22:25.523Z"
   },
   {
    "duration": 228,
    "start_time": "2022-12-20T16:22:25.781Z"
   },
   {
    "duration": 20,
    "start_time": "2022-12-20T16:22:26.011Z"
   },
   {
    "duration": 22,
    "start_time": "2022-12-20T16:22:26.033Z"
   },
   {
    "duration": 29,
    "start_time": "2022-12-20T16:22:26.057Z"
   },
   {
    "duration": 39,
    "start_time": "2022-12-20T16:22:26.089Z"
   },
   {
    "duration": 22,
    "start_time": "2022-12-20T16:22:26.130Z"
   },
   {
    "duration": 9,
    "start_time": "2022-12-20T16:24:06.344Z"
   },
   {
    "duration": 25,
    "start_time": "2022-12-20T16:25:05.420Z"
   },
   {
    "duration": 4,
    "start_time": "2022-12-20T16:30:05.523Z"
   },
   {
    "duration": 127,
    "start_time": "2022-12-20T16:31:02.294Z"
   },
   {
    "duration": 3,
    "start_time": "2022-12-20T16:31:53.292Z"
   },
   {
    "duration": 4,
    "start_time": "2022-12-20T16:32:00.812Z"
   },
   {
    "duration": 8,
    "start_time": "2022-12-20T16:32:03.484Z"
   },
   {
    "duration": 8,
    "start_time": "2022-12-20T16:32:21.466Z"
   },
   {
    "duration": 4,
    "start_time": "2022-12-20T16:32:26.252Z"
   },
   {
    "duration": 7,
    "start_time": "2022-12-20T16:32:27.184Z"
   },
   {
    "duration": 9,
    "start_time": "2022-12-20T16:32:30.552Z"
   },
   {
    "duration": 4,
    "start_time": "2022-12-20T16:32:38.732Z"
   },
   {
    "duration": 11,
    "start_time": "2022-12-20T16:32:40.623Z"
   },
   {
    "duration": 42,
    "start_time": "2022-12-20T16:33:23.152Z"
   },
   {
    "duration": 4,
    "start_time": "2022-12-20T16:33:28.092Z"
   },
   {
    "duration": 16,
    "start_time": "2022-12-20T16:33:30.443Z"
   },
   {
    "duration": 3,
    "start_time": "2022-12-20T16:33:49.432Z"
   },
   {
    "duration": 12,
    "start_time": "2022-12-20T16:33:50.303Z"
   },
   {
    "duration": 42,
    "start_time": "2022-12-20T16:34:49.812Z"
   },
   {
    "duration": 48,
    "start_time": "2022-12-20T16:34:57.084Z"
   },
   {
    "duration": 3,
    "start_time": "2022-12-20T16:35:01.493Z"
   },
   {
    "duration": 87,
    "start_time": "2022-12-20T16:35:02.864Z"
   },
   {
    "duration": 11,
    "start_time": "2022-12-20T16:35:08.744Z"
   },
   {
    "duration": 11,
    "start_time": "2022-12-20T16:35:46.501Z"
   },
   {
    "duration": 13,
    "start_time": "2022-12-20T16:36:15.852Z"
   },
   {
    "duration": 12,
    "start_time": "2022-12-20T16:36:31.473Z"
   },
   {
    "duration": 4,
    "start_time": "2022-12-20T16:37:01.173Z"
   },
   {
    "duration": 11,
    "start_time": "2022-12-20T16:37:15.812Z"
   },
   {
    "duration": 16,
    "start_time": "2022-12-20T16:37:32.005Z"
   },
   {
    "duration": 21,
    "start_time": "2022-12-20T16:37:45.645Z"
   },
   {
    "duration": 11,
    "start_time": "2022-12-20T16:38:05.864Z"
   },
   {
    "duration": 10,
    "start_time": "2022-12-20T16:38:17.012Z"
   },
   {
    "duration": 20,
    "start_time": "2022-12-20T16:38:45.593Z"
   },
   {
    "duration": 136,
    "start_time": "2022-12-20T16:40:00.992Z"
   },
   {
    "duration": 285,
    "start_time": "2022-12-20T16:40:53.764Z"
   },
   {
    "duration": 9,
    "start_time": "2022-12-20T16:41:14.144Z"
   },
   {
    "duration": 10,
    "start_time": "2022-12-20T16:41:57.466Z"
   },
   {
    "duration": 5,
    "start_time": "2022-12-20T16:42:11.198Z"
   },
   {
    "duration": 8,
    "start_time": "2022-12-20T16:42:13.705Z"
   },
   {
    "duration": 7,
    "start_time": "2022-12-20T16:42:17.533Z"
   },
   {
    "duration": 164,
    "start_time": "2022-12-20T16:42:44.532Z"
   },
   {
    "duration": 4,
    "start_time": "2022-12-20T16:43:28.433Z"
   },
   {
    "duration": 4,
    "start_time": "2022-12-20T16:43:40.691Z"
   },
   {
    "duration": 125,
    "start_time": "2022-12-20T16:43:43.052Z"
   },
   {
    "duration": 4,
    "start_time": "2022-12-20T16:43:54.253Z"
   },
   {
    "duration": 123,
    "start_time": "2022-12-20T16:43:57.885Z"
   },
   {
    "duration": 5,
    "start_time": "2022-12-20T16:44:04.432Z"
   },
   {
    "duration": 124,
    "start_time": "2022-12-20T16:44:04.704Z"
   },
   {
    "duration": 5,
    "start_time": "2022-12-20T16:44:48.773Z"
   },
   {
    "duration": 107,
    "start_time": "2022-12-20T16:44:55.084Z"
   },
   {
    "duration": 5,
    "start_time": "2022-12-20T16:45:12.234Z"
   },
   {
    "duration": 146,
    "start_time": "2022-12-20T16:45:12.507Z"
   },
   {
    "duration": 4,
    "start_time": "2022-12-20T16:45:28.852Z"
   },
   {
    "duration": 16,
    "start_time": "2022-12-20T16:45:31.405Z"
   },
   {
    "duration": 4,
    "start_time": "2022-12-20T16:45:38.298Z"
   },
   {
    "duration": 135,
    "start_time": "2022-12-20T16:45:38.483Z"
   },
   {
    "duration": 130,
    "start_time": "2022-12-20T16:46:34.872Z"
   },
   {
    "duration": 112,
    "start_time": "2022-12-20T16:46:50.184Z"
   },
   {
    "duration": 115,
    "start_time": "2022-12-20T16:47:07.044Z"
   },
   {
    "duration": 118,
    "start_time": "2022-12-20T16:47:30.104Z"
   },
   {
    "duration": 116,
    "start_time": "2022-12-20T16:47:44.605Z"
   },
   {
    "duration": 119,
    "start_time": "2022-12-20T16:48:01.894Z"
   },
   {
    "duration": 10,
    "start_time": "2022-12-20T17:10:18.931Z"
   },
   {
    "duration": 4,
    "start_time": "2022-12-20T17:10:21.305Z"
   },
   {
    "duration": 127,
    "start_time": "2022-12-20T17:10:22.604Z"
   },
   {
    "duration": 116,
    "start_time": "2022-12-20T17:10:27.726Z"
   },
   {
    "duration": 123,
    "start_time": "2022-12-20T17:10:31.405Z"
   },
   {
    "duration": 141,
    "start_time": "2022-12-20T17:10:35.245Z"
   },
   {
    "duration": 254,
    "start_time": "2022-12-20T17:10:38.845Z"
   },
   {
    "duration": 118,
    "start_time": "2022-12-20T17:12:39.572Z"
   },
   {
    "duration": 116,
    "start_time": "2022-12-20T17:13:13.565Z"
   },
   {
    "duration": 165,
    "start_time": "2022-12-20T17:20:55.436Z"
   },
   {
    "duration": 123,
    "start_time": "2022-12-20T17:20:59.421Z"
   },
   {
    "duration": 132,
    "start_time": "2022-12-20T17:21:02.994Z"
   },
   {
    "duration": 128,
    "start_time": "2022-12-20T17:21:08.044Z"
   },
   {
    "duration": 133,
    "start_time": "2022-12-20T17:21:11.030Z"
   },
   {
    "duration": 129,
    "start_time": "2022-12-20T17:21:14.035Z"
   },
   {
    "duration": 20,
    "start_time": "2022-12-20T17:39:31.194Z"
   },
   {
    "duration": 59,
    "start_time": "2022-12-20T17:39:54.923Z"
   },
   {
    "duration": 725,
    "start_time": "2022-12-20T17:39:54.984Z"
   },
   {
    "duration": 29,
    "start_time": "2022-12-20T17:39:55.711Z"
   },
   {
    "duration": 14,
    "start_time": "2022-12-20T17:39:55.742Z"
   },
   {
    "duration": 11,
    "start_time": "2022-12-20T17:39:55.759Z"
   },
   {
    "duration": 16,
    "start_time": "2022-12-20T17:39:55.771Z"
   },
   {
    "duration": 39,
    "start_time": "2022-12-20T17:39:55.789Z"
   },
   {
    "duration": 13,
    "start_time": "2022-12-20T17:39:55.830Z"
   },
   {
    "duration": 8,
    "start_time": "2022-12-20T17:39:55.845Z"
   },
   {
    "duration": 8,
    "start_time": "2022-12-20T17:39:55.855Z"
   },
   {
    "duration": 7,
    "start_time": "2022-12-20T17:39:55.865Z"
   },
   {
    "duration": 12,
    "start_time": "2022-12-20T17:39:55.874Z"
   },
   {
    "duration": 37,
    "start_time": "2022-12-20T17:39:55.888Z"
   },
   {
    "duration": 133,
    "start_time": "2022-12-20T17:39:55.929Z"
   },
   {
    "duration": 287,
    "start_time": "2022-12-20T17:39:56.063Z"
   },
   {
    "duration": 6,
    "start_time": "2022-12-20T17:39:56.352Z"
   },
   {
    "duration": 10,
    "start_time": "2022-12-20T17:39:56.359Z"
   },
   {
    "duration": 279,
    "start_time": "2022-12-20T17:39:56.370Z"
   },
   {
    "duration": 2,
    "start_time": "2022-12-20T17:39:56.651Z"
   },
   {
    "duration": 174,
    "start_time": "2022-12-20T17:39:56.655Z"
   },
   {
    "duration": 165,
    "start_time": "2022-12-20T17:39:56.830Z"
   },
   {
    "duration": 166,
    "start_time": "2022-12-20T17:39:56.996Z"
   },
   {
    "duration": 170,
    "start_time": "2022-12-20T17:39:57.163Z"
   },
   {
    "duration": 165,
    "start_time": "2022-12-20T17:39:57.335Z"
   },
   {
    "duration": 165,
    "start_time": "2022-12-20T17:39:57.501Z"
   },
   {
    "duration": 20,
    "start_time": "2022-12-20T17:39:57.667Z"
   },
   {
    "duration": 165,
    "start_time": "2022-12-20T17:39:57.689Z"
   },
   {
    "duration": 15,
    "start_time": "2022-12-20T17:39:57.856Z"
   },
   {
    "duration": 191,
    "start_time": "2022-12-20T17:39:57.872Z"
   },
   {
    "duration": 4,
    "start_time": "2022-12-20T17:39:58.065Z"
   },
   {
    "duration": 159,
    "start_time": "2022-12-20T17:39:58.070Z"
   },
   {
    "duration": 3,
    "start_time": "2022-12-20T17:39:58.231Z"
   },
   {
    "duration": 147,
    "start_time": "2022-12-20T17:39:58.235Z"
   },
   {
    "duration": 168,
    "start_time": "2022-12-20T17:39:58.384Z"
   },
   {
    "duration": 278,
    "start_time": "2022-12-20T17:39:58.554Z"
   },
   {
    "duration": 13,
    "start_time": "2022-12-20T17:39:58.834Z"
   },
   {
    "duration": 185,
    "start_time": "2022-12-20T17:39:58.848Z"
   },
   {
    "duration": 238,
    "start_time": "2022-12-20T17:39:59.035Z"
   },
   {
    "duration": 11,
    "start_time": "2022-12-20T17:39:59.274Z"
   },
   {
    "duration": 539,
    "start_time": "2022-12-20T17:39:59.286Z"
   },
   {
    "duration": 688,
    "start_time": "2022-12-20T17:39:59.828Z"
   },
   {
    "duration": 276,
    "start_time": "2022-12-20T17:40:00.521Z"
   },
   {
    "duration": 200,
    "start_time": "2022-12-20T17:40:00.798Z"
   },
   {
    "duration": 5,
    "start_time": "2022-12-20T17:40:00.999Z"
   },
   {
    "duration": 188,
    "start_time": "2022-12-20T17:40:01.005Z"
   },
   {
    "duration": 129,
    "start_time": "2022-12-20T17:40:01.194Z"
   },
   {
    "duration": 128,
    "start_time": "2022-12-20T17:40:01.325Z"
   },
   {
    "duration": 150,
    "start_time": "2022-12-20T17:40:01.454Z"
   },
   {
    "duration": 133,
    "start_time": "2022-12-20T17:40:01.606Z"
   },
   {
    "duration": 137,
    "start_time": "2022-12-20T17:40:01.741Z"
   },
   {
    "duration": 1726,
    "start_time": "2022-12-20T17:40:01.880Z"
   },
   {
    "duration": 0,
    "start_time": "2022-12-20T17:40:03.607Z"
   },
   {
    "duration": 20,
    "start_time": "2022-12-20T17:40:09.183Z"
   },
   {
    "duration": 5,
    "start_time": "2022-12-20T17:40:49.025Z"
   },
   {
    "duration": 9,
    "start_time": "2022-12-20T17:48:10.892Z"
   },
   {
    "duration": 9,
    "start_time": "2022-12-20T17:48:14.542Z"
   },
   {
    "duration": 13,
    "start_time": "2022-12-20T18:39:55.395Z"
   },
   {
    "duration": 14,
    "start_time": "2022-12-20T18:40:20.434Z"
   },
   {
    "duration": 9,
    "start_time": "2022-12-20T18:41:15.274Z"
   },
   {
    "duration": 18,
    "start_time": "2022-12-20T18:43:47.514Z"
   },
   {
    "duration": 5,
    "start_time": "2022-12-20T18:44:21.939Z"
   },
   {
    "duration": 11,
    "start_time": "2022-12-20T18:44:50.435Z"
   },
   {
    "duration": 10,
    "start_time": "2022-12-20T18:44:54.875Z"
   },
   {
    "duration": 81,
    "start_time": "2022-12-20T18:45:02.707Z"
   },
   {
    "duration": 127,
    "start_time": "2022-12-20T18:45:28.375Z"
   },
   {
    "duration": 73,
    "start_time": "2022-12-20T18:45:37.807Z"
   },
   {
    "duration": 76,
    "start_time": "2022-12-20T18:47:40.775Z"
   },
   {
    "duration": 74,
    "start_time": "2022-12-20T18:47:51.972Z"
   },
   {
    "duration": 81,
    "start_time": "2022-12-20T18:48:12.756Z"
   },
   {
    "duration": 76,
    "start_time": "2022-12-20T18:48:41.448Z"
   },
   {
    "duration": 82,
    "start_time": "2022-12-20T18:48:44.547Z"
   },
   {
    "duration": 81,
    "start_time": "2022-12-20T18:48:52.647Z"
   },
   {
    "duration": 93,
    "start_time": "2022-12-20T18:51:12.400Z"
   },
   {
    "duration": 200,
    "start_time": "2022-12-20T18:52:47.395Z"
   },
   {
    "duration": 186,
    "start_time": "2022-12-20T18:52:57.781Z"
   },
   {
    "duration": 224,
    "start_time": "2022-12-20T18:53:12.075Z"
   },
   {
    "duration": 79,
    "start_time": "2022-12-20T18:53:26.907Z"
   },
   {
    "duration": 78,
    "start_time": "2022-12-20T18:53:33.948Z"
   },
   {
    "duration": 77,
    "start_time": "2022-12-20T18:53:37.908Z"
   },
   {
    "duration": 9,
    "start_time": "2022-12-20T18:54:42.824Z"
   },
   {
    "duration": 8,
    "start_time": "2022-12-20T18:54:53.028Z"
   },
   {
    "duration": 79,
    "start_time": "2022-12-20T18:55:03.881Z"
   },
   {
    "duration": 76,
    "start_time": "2022-12-20T18:55:10.628Z"
   },
   {
    "duration": 118,
    "start_time": "2022-12-20T19:01:04.916Z"
   },
   {
    "duration": 106,
    "start_time": "2022-12-20T19:03:54.668Z"
   },
   {
    "duration": 105,
    "start_time": "2022-12-20T19:04:08.108Z"
   },
   {
    "duration": 3,
    "start_time": "2022-12-20T19:29:12.004Z"
   },
   {
    "duration": 12,
    "start_time": "2022-12-20T20:33:02.336Z"
   },
   {
    "duration": 11,
    "start_time": "2022-12-20T20:33:07.769Z"
   },
   {
    "duration": 553,
    "start_time": "2022-12-20T20:33:18.269Z"
   },
   {
    "duration": 688,
    "start_time": "2022-12-20T20:33:23.968Z"
   },
   {
    "duration": 19,
    "start_time": "2022-12-20T20:51:39.387Z"
   },
   {
    "duration": 13,
    "start_time": "2022-12-20T20:56:01.006Z"
   },
   {
    "duration": 59,
    "start_time": "2022-12-20T20:56:32.932Z"
   },
   {
    "duration": 690,
    "start_time": "2022-12-20T20:56:32.994Z"
   },
   {
    "duration": 24,
    "start_time": "2022-12-20T20:56:33.685Z"
   },
   {
    "duration": 13,
    "start_time": "2022-12-20T20:56:33.721Z"
   },
   {
    "duration": 17,
    "start_time": "2022-12-20T20:56:33.736Z"
   },
   {
    "duration": 12,
    "start_time": "2022-12-20T20:56:33.755Z"
   },
   {
    "duration": 15,
    "start_time": "2022-12-20T20:56:33.769Z"
   },
   {
    "duration": 12,
    "start_time": "2022-12-20T20:56:33.785Z"
   },
   {
    "duration": 6,
    "start_time": "2022-12-20T20:56:33.821Z"
   },
   {
    "duration": 6,
    "start_time": "2022-12-20T20:56:33.828Z"
   },
   {
    "duration": 9,
    "start_time": "2022-12-20T20:56:33.835Z"
   },
   {
    "duration": 13,
    "start_time": "2022-12-20T20:56:33.846Z"
   },
   {
    "duration": 16,
    "start_time": "2022-12-20T20:56:33.860Z"
   },
   {
    "duration": 134,
    "start_time": "2022-12-20T20:56:33.879Z"
   },
   {
    "duration": 159,
    "start_time": "2022-12-20T20:56:34.020Z"
   },
   {
    "duration": 5,
    "start_time": "2022-12-20T20:56:34.181Z"
   },
   {
    "duration": 7,
    "start_time": "2022-12-20T20:56:34.188Z"
   },
   {
    "duration": 259,
    "start_time": "2022-12-20T20:56:34.197Z"
   },
   {
    "duration": 3,
    "start_time": "2022-12-20T20:56:34.457Z"
   },
   {
    "duration": 336,
    "start_time": "2022-12-20T20:56:34.462Z"
   },
   {
    "duration": 168,
    "start_time": "2022-12-20T20:56:34.799Z"
   },
   {
    "duration": 162,
    "start_time": "2022-12-20T20:56:34.969Z"
   },
   {
    "duration": 189,
    "start_time": "2022-12-20T20:56:35.132Z"
   },
   {
    "duration": 190,
    "start_time": "2022-12-20T20:56:35.323Z"
   },
   {
    "duration": 170,
    "start_time": "2022-12-20T20:56:35.515Z"
   },
   {
    "duration": 20,
    "start_time": "2022-12-20T20:56:35.686Z"
   },
   {
    "duration": 165,
    "start_time": "2022-12-20T20:56:35.707Z"
   },
   {
    "duration": 16,
    "start_time": "2022-12-20T20:56:35.873Z"
   },
   {
    "duration": 184,
    "start_time": "2022-12-20T20:56:35.890Z"
   },
   {
    "duration": 4,
    "start_time": "2022-12-20T20:56:36.075Z"
   },
   {
    "duration": 155,
    "start_time": "2022-12-20T20:56:36.080Z"
   },
   {
    "duration": 3,
    "start_time": "2022-12-20T20:56:36.238Z"
   },
   {
    "duration": 154,
    "start_time": "2022-12-20T20:56:36.243Z"
   },
   {
    "duration": 154,
    "start_time": "2022-12-20T20:56:36.398Z"
   },
   {
    "duration": 158,
    "start_time": "2022-12-20T20:56:36.553Z"
   },
   {
    "duration": 20,
    "start_time": "2022-12-20T20:56:36.713Z"
   },
   {
    "duration": 169,
    "start_time": "2022-12-20T20:56:36.735Z"
   },
   {
    "duration": 231,
    "start_time": "2022-12-20T20:56:36.905Z"
   },
   {
    "duration": 11,
    "start_time": "2022-12-20T20:56:37.137Z"
   },
   {
    "duration": 698,
    "start_time": "2022-12-20T20:56:37.150Z"
   },
   {
    "duration": 545,
    "start_time": "2022-12-20T20:56:37.851Z"
   },
   {
    "duration": 300,
    "start_time": "2022-12-20T20:56:38.398Z"
   },
   {
    "duration": 200,
    "start_time": "2022-12-20T20:56:38.699Z"
   },
   {
    "duration": 4,
    "start_time": "2022-12-20T20:56:38.901Z"
   },
   {
    "duration": 142,
    "start_time": "2022-12-20T20:56:38.906Z"
   },
   {
    "duration": 137,
    "start_time": "2022-12-20T20:56:39.050Z"
   },
   {
    "duration": 132,
    "start_time": "2022-12-20T20:56:39.189Z"
   },
   {
    "duration": 123,
    "start_time": "2022-12-20T20:56:39.323Z"
   },
   {
    "duration": 135,
    "start_time": "2022-12-20T20:56:39.447Z"
   },
   {
    "duration": 139,
    "start_time": "2022-12-20T20:56:39.583Z"
   },
   {
    "duration": 75,
    "start_time": "2022-12-20T20:56:39.724Z"
   },
   {
    "duration": 121,
    "start_time": "2022-12-20T20:56:39.801Z"
   },
   {
    "duration": 115,
    "start_time": "2022-12-20T20:56:39.924Z"
   },
   {
    "duration": 125,
    "start_time": "2022-12-20T20:56:40.040Z"
   },
   {
    "duration": 16,
    "start_time": "2022-12-20T20:56:40.166Z"
   },
   {
    "duration": 19,
    "start_time": "2022-12-20T20:56:40.184Z"
   },
   {
    "duration": 546,
    "start_time": "2022-12-20T21:00:27.616Z"
   },
   {
    "duration": 552,
    "start_time": "2022-12-20T21:00:48.680Z"
   },
   {
    "duration": 23,
    "start_time": "2022-12-20T21:01:31.900Z"
   },
   {
    "duration": 19,
    "start_time": "2022-12-20T21:03:10.381Z"
   },
   {
    "duration": 21,
    "start_time": "2022-12-20T21:03:31.175Z"
   },
   {
    "duration": 11,
    "start_time": "2022-12-20T21:04:28.897Z"
   },
   {
    "duration": 10,
    "start_time": "2022-12-20T21:10:26.380Z"
   },
   {
    "duration": 10,
    "start_time": "2022-12-20T21:10:39.812Z"
   },
   {
    "duration": 6,
    "start_time": "2022-12-20T21:31:08.382Z"
   },
   {
    "duration": 8,
    "start_time": "2022-12-20T21:31:08.746Z"
   },
   {
    "duration": 7,
    "start_time": "2022-12-20T21:37:07.134Z"
   },
   {
    "duration": 5,
    "start_time": "2022-12-20T21:37:09.286Z"
   },
   {
    "duration": 10,
    "start_time": "2022-12-20T21:43:59.896Z"
   },
   {
    "duration": 8,
    "start_time": "2022-12-20T21:44:15.781Z"
   },
   {
    "duration": 10,
    "start_time": "2022-12-20T21:44:16.188Z"
   },
   {
    "duration": 8,
    "start_time": "2022-12-20T21:44:44.611Z"
   },
   {
    "duration": 10,
    "start_time": "2022-12-20T21:44:44.793Z"
   },
   {
    "duration": 9,
    "start_time": "2022-12-20T21:48:29.712Z"
   },
   {
    "duration": 60,
    "start_time": "2022-12-20T21:48:55.982Z"
   },
   {
    "duration": 856,
    "start_time": "2022-12-20T21:48:56.044Z"
   },
   {
    "duration": 30,
    "start_time": "2022-12-20T21:48:56.901Z"
   },
   {
    "duration": 14,
    "start_time": "2022-12-20T21:48:56.932Z"
   },
   {
    "duration": 12,
    "start_time": "2022-12-20T21:48:56.948Z"
   },
   {
    "duration": 17,
    "start_time": "2022-12-20T21:48:56.962Z"
   },
   {
    "duration": 15,
    "start_time": "2022-12-20T21:48:56.980Z"
   },
   {
    "duration": 29,
    "start_time": "2022-12-20T21:48:56.997Z"
   },
   {
    "duration": 4,
    "start_time": "2022-12-20T21:48:57.027Z"
   },
   {
    "duration": 6,
    "start_time": "2022-12-20T21:48:57.033Z"
   },
   {
    "duration": 8,
    "start_time": "2022-12-20T21:48:57.041Z"
   },
   {
    "duration": 10,
    "start_time": "2022-12-20T21:48:57.050Z"
   },
   {
    "duration": 17,
    "start_time": "2022-12-20T21:48:57.062Z"
   },
   {
    "duration": 138,
    "start_time": "2022-12-20T21:48:57.083Z"
   },
   {
    "duration": 169,
    "start_time": "2022-12-20T21:48:57.223Z"
   },
   {
    "duration": 5,
    "start_time": "2022-12-20T21:48:57.393Z"
   },
   {
    "duration": 11,
    "start_time": "2022-12-20T21:48:57.399Z"
   },
   {
    "duration": 265,
    "start_time": "2022-12-20T21:48:57.411Z"
   },
   {
    "duration": 4,
    "start_time": "2022-12-20T21:48:57.677Z"
   },
   {
    "duration": 171,
    "start_time": "2022-12-20T21:48:57.683Z"
   },
   {
    "duration": 171,
    "start_time": "2022-12-20T21:48:57.856Z"
   },
   {
    "duration": 165,
    "start_time": "2022-12-20T21:48:58.029Z"
   },
   {
    "duration": 157,
    "start_time": "2022-12-20T21:48:58.196Z"
   },
   {
    "duration": 155,
    "start_time": "2022-12-20T21:48:58.354Z"
   },
   {
    "duration": 161,
    "start_time": "2022-12-20T21:48:58.510Z"
   },
   {
    "duration": 19,
    "start_time": "2022-12-20T21:48:58.673Z"
   },
   {
    "duration": 167,
    "start_time": "2022-12-20T21:48:58.694Z"
   },
   {
    "duration": 15,
    "start_time": "2022-12-20T21:48:58.862Z"
   },
   {
    "duration": 333,
    "start_time": "2022-12-20T21:48:58.879Z"
   },
   {
    "duration": 9,
    "start_time": "2022-12-20T21:48:59.213Z"
   },
   {
    "duration": 144,
    "start_time": "2022-12-20T21:48:59.224Z"
   },
   {
    "duration": 3,
    "start_time": "2022-12-20T21:48:59.370Z"
   },
   {
    "duration": 149,
    "start_time": "2022-12-20T21:48:59.374Z"
   },
   {
    "duration": 155,
    "start_time": "2022-12-20T21:48:59.525Z"
   },
   {
    "duration": 149,
    "start_time": "2022-12-20T21:48:59.682Z"
   },
   {
    "duration": 13,
    "start_time": "2022-12-20T21:48:59.832Z"
   },
   {
    "duration": 186,
    "start_time": "2022-12-20T21:48:59.847Z"
   },
   {
    "duration": 243,
    "start_time": "2022-12-20T21:49:00.035Z"
   },
   {
    "duration": 11,
    "start_time": "2022-12-20T21:49:00.279Z"
   },
   {
    "duration": 556,
    "start_time": "2022-12-20T21:49:00.292Z"
   },
   {
    "duration": 715,
    "start_time": "2022-12-20T21:49:00.852Z"
   },
   {
    "duration": 263,
    "start_time": "2022-12-20T21:49:01.569Z"
   },
   {
    "duration": 202,
    "start_time": "2022-12-20T21:49:01.834Z"
   },
   {
    "duration": 3,
    "start_time": "2022-12-20T21:49:02.038Z"
   },
   {
    "duration": 135,
    "start_time": "2022-12-20T21:49:02.043Z"
   },
   {
    "duration": 128,
    "start_time": "2022-12-20T21:49:02.180Z"
   },
   {
    "duration": 119,
    "start_time": "2022-12-20T21:49:02.309Z"
   },
   {
    "duration": 132,
    "start_time": "2022-12-20T21:49:02.429Z"
   },
   {
    "duration": 136,
    "start_time": "2022-12-20T21:49:02.563Z"
   },
   {
    "duration": 152,
    "start_time": "2022-12-20T21:49:02.701Z"
   },
   {
    "duration": 88,
    "start_time": "2022-12-20T21:49:02.855Z"
   },
   {
    "duration": 114,
    "start_time": "2022-12-20T21:49:02.945Z"
   },
   {
    "duration": 113,
    "start_time": "2022-12-20T21:49:03.060Z"
   },
   {
    "duration": 124,
    "start_time": "2022-12-20T21:49:03.174Z"
   },
   {
    "duration": 7,
    "start_time": "2022-12-20T21:49:03.300Z"
   },
   {
    "duration": 24,
    "start_time": "2022-12-20T21:49:03.308Z"
   },
   {
    "duration": 0,
    "start_time": "2022-12-20T21:49:03.334Z"
   },
   {
    "duration": 10,
    "start_time": "2022-12-20T21:49:33.793Z"
   },
   {
    "duration": 4,
    "start_time": "2022-12-20T21:49:47.472Z"
   },
   {
    "duration": 6,
    "start_time": "2022-12-20T21:54:56.601Z"
   },
   {
    "duration": 149,
    "start_time": "2022-12-20T21:54:58.743Z"
   },
   {
    "duration": 143,
    "start_time": "2022-12-20T21:55:10.572Z"
   },
   {
    "duration": 147,
    "start_time": "2022-12-20T21:55:21.318Z"
   },
   {
    "duration": 147,
    "start_time": "2022-12-20T21:55:28.846Z"
   },
   {
    "duration": 15,
    "start_time": "2022-12-20T21:55:47.836Z"
   },
   {
    "duration": 166,
    "start_time": "2022-12-20T21:56:09.355Z"
   },
   {
    "duration": 10,
    "start_time": "2022-12-20T21:56:40.590Z"
   },
   {
    "duration": 5,
    "start_time": "2022-12-20T21:57:21.409Z"
   },
   {
    "duration": 141,
    "start_time": "2022-12-20T21:58:07.966Z"
   },
   {
    "duration": 10,
    "start_time": "2022-12-20T22:03:35.467Z"
   },
   {
    "duration": 693,
    "start_time": "2022-12-20T22:03:46.935Z"
   },
   {
    "duration": 548,
    "start_time": "2022-12-20T22:04:10.678Z"
   },
   {
    "duration": 5,
    "start_time": "2022-12-20T22:04:52.886Z"
   },
   {
    "duration": 10,
    "start_time": "2022-12-20T22:06:40.605Z"
   },
   {
    "duration": 742,
    "start_time": "2022-12-20T22:08:17.655Z"
   },
   {
    "duration": 155,
    "start_time": "2022-12-20T22:08:48.830Z"
   },
   {
    "duration": 9,
    "start_time": "2022-12-20T22:10:25.615Z"
   },
   {
    "duration": 7,
    "start_time": "2022-12-20T22:10:29.563Z"
   },
   {
    "duration": 151,
    "start_time": "2022-12-20T22:10:29.842Z"
   },
   {
    "duration": 12,
    "start_time": "2022-12-20T22:14:31.300Z"
   },
   {
    "duration": 7,
    "start_time": "2022-12-20T22:14:39.445Z"
   },
   {
    "duration": 56,
    "start_time": "2022-12-20T22:14:59.420Z"
   },
   {
    "duration": 6,
    "start_time": "2022-12-20T22:15:03.517Z"
   },
   {
    "duration": 153,
    "start_time": "2022-12-20T22:15:05.437Z"
   },
   {
    "duration": 525,
    "start_time": "2022-12-20T22:16:24.860Z"
   },
   {
    "duration": 10,
    "start_time": "2022-12-20T22:18:55.375Z"
   },
   {
    "duration": 10,
    "start_time": "2022-12-20T22:19:10.734Z"
   },
   {
    "duration": 177,
    "start_time": "2022-12-20T23:14:29.111Z"
   },
   {
    "duration": 56,
    "start_time": "2022-12-21T11:56:10.107Z"
   },
   {
    "duration": 1571,
    "start_time": "2022-12-21T11:56:19.981Z"
   },
   {
    "duration": 784,
    "start_time": "2022-12-21T11:56:21.554Z"
   },
   {
    "duration": 26,
    "start_time": "2022-12-21T11:56:22.339Z"
   },
   {
    "duration": 15,
    "start_time": "2022-12-21T11:56:22.367Z"
   },
   {
    "duration": 29,
    "start_time": "2022-12-21T11:56:22.384Z"
   },
   {
    "duration": 33,
    "start_time": "2022-12-21T11:56:22.414Z"
   },
   {
    "duration": 12,
    "start_time": "2022-12-21T11:56:22.449Z"
   },
   {
    "duration": 12,
    "start_time": "2022-12-21T11:56:22.462Z"
   },
   {
    "duration": 4,
    "start_time": "2022-12-21T11:56:22.476Z"
   },
   {
    "duration": 23,
    "start_time": "2022-12-21T11:56:22.482Z"
   },
   {
    "duration": 14,
    "start_time": "2022-12-21T11:56:22.507Z"
   },
   {
    "duration": 15,
    "start_time": "2022-12-21T11:56:22.523Z"
   },
   {
    "duration": 16,
    "start_time": "2022-12-21T11:56:22.539Z"
   },
   {
    "duration": 140,
    "start_time": "2022-12-21T11:56:22.557Z"
   },
   {
    "duration": 188,
    "start_time": "2022-12-21T11:56:22.699Z"
   },
   {
    "duration": 6,
    "start_time": "2022-12-21T11:56:22.888Z"
   },
   {
    "duration": 6,
    "start_time": "2022-12-21T11:56:22.904Z"
   },
   {
    "duration": 290,
    "start_time": "2022-12-21T11:56:22.912Z"
   },
   {
    "duration": 4,
    "start_time": "2022-12-21T11:56:23.204Z"
   },
   {
    "duration": 271,
    "start_time": "2022-12-21T11:56:23.210Z"
   },
   {
    "duration": 187,
    "start_time": "2022-12-21T11:56:23.483Z"
   },
   {
    "duration": 193,
    "start_time": "2022-12-21T11:56:23.672Z"
   },
   {
    "duration": 201,
    "start_time": "2022-12-21T11:56:23.867Z"
   },
   {
    "duration": 201,
    "start_time": "2022-12-21T11:56:24.070Z"
   },
   {
    "duration": 189,
    "start_time": "2022-12-21T11:56:24.273Z"
   },
   {
    "duration": 21,
    "start_time": "2022-12-21T11:56:24.463Z"
   },
   {
    "duration": 196,
    "start_time": "2022-12-21T11:56:24.503Z"
   },
   {
    "duration": 19,
    "start_time": "2022-12-21T11:56:24.704Z"
   },
   {
    "duration": 207,
    "start_time": "2022-12-21T11:56:24.726Z"
   },
   {
    "duration": 6,
    "start_time": "2022-12-21T11:56:24.935Z"
   },
   {
    "duration": 178,
    "start_time": "2022-12-21T11:56:24.942Z"
   },
   {
    "duration": 4,
    "start_time": "2022-12-21T11:56:25.121Z"
   },
   {
    "duration": 180,
    "start_time": "2022-12-21T11:56:25.127Z"
   },
   {
    "duration": 181,
    "start_time": "2022-12-21T11:56:25.309Z"
   },
   {
    "duration": 265,
    "start_time": "2022-12-21T11:56:25.492Z"
   },
   {
    "duration": 15,
    "start_time": "2022-12-21T11:56:25.759Z"
   },
   {
    "duration": 207,
    "start_time": "2022-12-21T11:56:25.776Z"
   },
   {
    "duration": 297,
    "start_time": "2022-12-21T11:56:25.984Z"
   },
   {
    "duration": 11,
    "start_time": "2022-12-21T11:56:26.283Z"
   },
   {
    "duration": 712,
    "start_time": "2022-12-21T11:56:26.305Z"
   },
   {
    "duration": 796,
    "start_time": "2022-12-21T11:56:27.022Z"
   },
   {
    "duration": 317,
    "start_time": "2022-12-21T11:56:27.820Z"
   },
   {
    "duration": 234,
    "start_time": "2022-12-21T11:56:28.139Z"
   },
   {
    "duration": 5,
    "start_time": "2022-12-21T11:56:28.374Z"
   },
   {
    "duration": 167,
    "start_time": "2022-12-21T11:56:28.381Z"
   },
   {
    "duration": 141,
    "start_time": "2022-12-21T11:56:28.549Z"
   },
   {
    "duration": 151,
    "start_time": "2022-12-21T11:56:28.692Z"
   },
   {
    "duration": 235,
    "start_time": "2022-12-21T11:56:28.845Z"
   },
   {
    "duration": 138,
    "start_time": "2022-12-21T11:56:29.081Z"
   },
   {
    "duration": 162,
    "start_time": "2022-12-21T11:56:29.222Z"
   },
   {
    "duration": 97,
    "start_time": "2022-12-21T11:56:29.386Z"
   },
   {
    "duration": 133,
    "start_time": "2022-12-21T11:56:29.484Z"
   },
   {
    "duration": 228,
    "start_time": "2022-12-21T11:56:29.618Z"
   },
   {
    "duration": 135,
    "start_time": "2022-12-21T11:56:29.847Z"
   },
   {
    "duration": 7,
    "start_time": "2022-12-21T11:56:29.983Z"
   },
   {
    "duration": 190,
    "start_time": "2022-12-21T11:56:29.992Z"
   },
   {
    "duration": 10,
    "start_time": "2022-12-21T11:56:30.184Z"
   },
   {
    "duration": 915,
    "start_time": "2022-12-21T11:56:30.205Z"
   },
   {
    "duration": 7,
    "start_time": "2022-12-21T11:57:00.787Z"
   },
   {
    "duration": 173,
    "start_time": "2022-12-21T12:01:13.694Z"
   },
   {
    "duration": 7,
    "start_time": "2022-12-21T12:02:11.994Z"
   },
   {
    "duration": 167,
    "start_time": "2022-12-21T12:02:12.471Z"
   },
   {
    "duration": 9,
    "start_time": "2022-12-21T12:02:55.815Z"
   },
   {
    "duration": 7,
    "start_time": "2022-12-21T12:03:10.283Z"
   },
   {
    "duration": 172,
    "start_time": "2022-12-21T12:03:10.905Z"
   },
   {
    "duration": 10,
    "start_time": "2022-12-21T12:06:19.475Z"
   },
   {
    "duration": 10,
    "start_time": "2022-12-21T12:12:43.215Z"
   },
   {
    "duration": 10,
    "start_time": "2022-12-21T12:14:02.796Z"
   },
   {
    "duration": 9,
    "start_time": "2022-12-21T12:14:10.394Z"
   },
   {
    "duration": 11,
    "start_time": "2022-12-21T12:28:30.139Z"
   },
   {
    "duration": 59,
    "start_time": "2022-12-21T12:28:52.873Z"
   },
   {
    "duration": 708,
    "start_time": "2022-12-21T12:28:52.934Z"
   },
   {
    "duration": 24,
    "start_time": "2022-12-21T12:28:53.644Z"
   },
   {
    "duration": 14,
    "start_time": "2022-12-21T12:28:53.670Z"
   },
   {
    "duration": 26,
    "start_time": "2022-12-21T12:28:53.687Z"
   },
   {
    "duration": 15,
    "start_time": "2022-12-21T12:28:53.714Z"
   },
   {
    "duration": 21,
    "start_time": "2022-12-21T12:28:53.730Z"
   },
   {
    "duration": 13,
    "start_time": "2022-12-21T12:28:53.753Z"
   },
   {
    "duration": 6,
    "start_time": "2022-12-21T12:28:53.768Z"
   },
   {
    "duration": 6,
    "start_time": "2022-12-21T12:28:53.805Z"
   },
   {
    "duration": 10,
    "start_time": "2022-12-21T12:28:53.812Z"
   },
   {
    "duration": 10,
    "start_time": "2022-12-21T12:28:53.824Z"
   },
   {
    "duration": 16,
    "start_time": "2022-12-21T12:28:53.836Z"
   },
   {
    "duration": 144,
    "start_time": "2022-12-21T12:28:53.855Z"
   },
   {
    "duration": 264,
    "start_time": "2022-12-21T12:28:54.000Z"
   },
   {
    "duration": 6,
    "start_time": "2022-12-21T12:28:54.266Z"
   },
   {
    "duration": 11,
    "start_time": "2022-12-21T12:28:54.274Z"
   },
   {
    "duration": 268,
    "start_time": "2022-12-21T12:28:54.287Z"
   },
   {
    "duration": 3,
    "start_time": "2022-12-21T12:28:54.556Z"
   },
   {
    "duration": 190,
    "start_time": "2022-12-21T12:28:54.561Z"
   },
   {
    "duration": 186,
    "start_time": "2022-12-21T12:28:54.752Z"
   },
   {
    "duration": 185,
    "start_time": "2022-12-21T12:28:54.940Z"
   },
   {
    "duration": 180,
    "start_time": "2022-12-21T12:28:55.126Z"
   },
   {
    "duration": 167,
    "start_time": "2022-12-21T12:28:55.308Z"
   },
   {
    "duration": 165,
    "start_time": "2022-12-21T12:28:55.477Z"
   },
   {
    "duration": 21,
    "start_time": "2022-12-21T12:28:55.644Z"
   },
   {
    "duration": 186,
    "start_time": "2022-12-21T12:28:55.667Z"
   },
   {
    "duration": 17,
    "start_time": "2022-12-21T12:28:55.855Z"
   },
   {
    "duration": 204,
    "start_time": "2022-12-21T12:28:55.873Z"
   },
   {
    "duration": 5,
    "start_time": "2022-12-21T12:28:56.079Z"
   },
   {
    "duration": 270,
    "start_time": "2022-12-21T12:28:56.086Z"
   },
   {
    "duration": 4,
    "start_time": "2022-12-21T12:28:56.358Z"
   },
   {
    "duration": 162,
    "start_time": "2022-12-21T12:28:56.363Z"
   },
   {
    "duration": 168,
    "start_time": "2022-12-21T12:28:56.526Z"
   },
   {
    "duration": 162,
    "start_time": "2022-12-21T12:28:56.696Z"
   },
   {
    "duration": 15,
    "start_time": "2022-12-21T12:28:56.860Z"
   },
   {
    "duration": 191,
    "start_time": "2022-12-21T12:28:56.877Z"
   },
   {
    "duration": 256,
    "start_time": "2022-12-21T12:28:57.070Z"
   },
   {
    "duration": 11,
    "start_time": "2022-12-21T12:28:57.328Z"
   },
   {
    "duration": 673,
    "start_time": "2022-12-21T12:28:57.341Z"
   },
   {
    "duration": 737,
    "start_time": "2022-12-21T12:28:58.017Z"
   },
   {
    "duration": 295,
    "start_time": "2022-12-21T12:28:58.756Z"
   },
   {
    "duration": 205,
    "start_time": "2022-12-21T12:28:59.053Z"
   },
   {
    "duration": 4,
    "start_time": "2022-12-21T12:28:59.259Z"
   },
   {
    "duration": 160,
    "start_time": "2022-12-21T12:28:59.265Z"
   },
   {
    "duration": 139,
    "start_time": "2022-12-21T12:28:59.427Z"
   },
   {
    "duration": 138,
    "start_time": "2022-12-21T12:28:59.568Z"
   },
   {
    "duration": 138,
    "start_time": "2022-12-21T12:28:59.708Z"
   },
   {
    "duration": 239,
    "start_time": "2022-12-21T12:28:59.848Z"
   },
   {
    "duration": 159,
    "start_time": "2022-12-21T12:29:00.088Z"
   },
   {
    "duration": 92,
    "start_time": "2022-12-21T12:29:00.249Z"
   },
   {
    "duration": 122,
    "start_time": "2022-12-21T12:29:00.342Z"
   },
   {
    "duration": 126,
    "start_time": "2022-12-21T12:29:00.466Z"
   },
   {
    "duration": 145,
    "start_time": "2022-12-21T12:29:00.594Z"
   },
   {
    "duration": 10,
    "start_time": "2022-12-21T12:29:00.741Z"
   },
   {
    "duration": 229,
    "start_time": "2022-12-21T12:29:00.753Z"
   },
   {
    "duration": 10,
    "start_time": "2022-12-21T12:29:00.983Z"
   },
   {
    "duration": 55,
    "start_time": "2022-12-21T12:29:00.995Z"
   },
   {
    "duration": 178,
    "start_time": "2022-12-21T12:29:01.052Z"
   },
   {
    "duration": 10,
    "start_time": "2022-12-21T12:29:01.232Z"
   },
   {
    "duration": 12,
    "start_time": "2022-12-21T12:35:01.195Z"
   },
   {
    "duration": 13,
    "start_time": "2022-12-21T12:35:08.181Z"
   },
   {
    "duration": 59,
    "start_time": "2022-12-21T12:35:14.919Z"
   },
   {
    "duration": 715,
    "start_time": "2022-12-21T12:35:14.980Z"
   },
   {
    "duration": 25,
    "start_time": "2022-12-21T12:35:15.704Z"
   },
   {
    "duration": 15,
    "start_time": "2022-12-21T12:35:15.731Z"
   },
   {
    "duration": 11,
    "start_time": "2022-12-21T12:35:15.748Z"
   },
   {
    "duration": 28,
    "start_time": "2022-12-21T12:35:15.760Z"
   },
   {
    "duration": 13,
    "start_time": "2022-12-21T12:35:15.805Z"
   },
   {
    "duration": 12,
    "start_time": "2022-12-21T12:35:15.819Z"
   },
   {
    "duration": 5,
    "start_time": "2022-12-21T12:35:15.833Z"
   },
   {
    "duration": 7,
    "start_time": "2022-12-21T12:35:15.839Z"
   },
   {
    "duration": 13,
    "start_time": "2022-12-21T12:35:15.848Z"
   },
   {
    "duration": 128,
    "start_time": "2022-12-21T12:35:15.863Z"
   },
   {
    "duration": 23,
    "start_time": "2022-12-21T12:35:15.993Z"
   },
   {
    "duration": 134,
    "start_time": "2022-12-21T12:35:16.019Z"
   },
   {
    "duration": 175,
    "start_time": "2022-12-21T12:35:16.155Z"
   },
   {
    "duration": 6,
    "start_time": "2022-12-21T12:35:16.332Z"
   },
   {
    "duration": 14,
    "start_time": "2022-12-21T12:35:16.339Z"
   },
   {
    "duration": 280,
    "start_time": "2022-12-21T12:35:16.354Z"
   },
   {
    "duration": 3,
    "start_time": "2022-12-21T12:35:16.635Z"
   },
   {
    "duration": 185,
    "start_time": "2022-12-21T12:35:16.640Z"
   },
   {
    "duration": 174,
    "start_time": "2022-12-21T12:35:16.826Z"
   },
   {
    "duration": 162,
    "start_time": "2022-12-21T12:35:17.004Z"
   },
   {
    "duration": 170,
    "start_time": "2022-12-21T12:35:17.168Z"
   },
   {
    "duration": 167,
    "start_time": "2022-12-21T12:35:17.339Z"
   },
   {
    "duration": 190,
    "start_time": "2022-12-21T12:35:17.508Z"
   },
   {
    "duration": 28,
    "start_time": "2022-12-21T12:35:17.700Z"
   },
   {
    "duration": 224,
    "start_time": "2022-12-21T12:35:17.731Z"
   },
   {
    "duration": 17,
    "start_time": "2022-12-21T12:35:17.957Z"
   },
   {
    "duration": 305,
    "start_time": "2022-12-21T12:35:17.976Z"
   },
   {
    "duration": 5,
    "start_time": "2022-12-21T12:35:18.283Z"
   },
   {
    "duration": 177,
    "start_time": "2022-12-21T12:35:18.290Z"
   },
   {
    "duration": 3,
    "start_time": "2022-12-21T12:35:18.469Z"
   },
   {
    "duration": 169,
    "start_time": "2022-12-21T12:35:18.474Z"
   },
   {
    "duration": 165,
    "start_time": "2022-12-21T12:35:18.645Z"
   },
   {
    "duration": 162,
    "start_time": "2022-12-21T12:35:18.812Z"
   },
   {
    "duration": 16,
    "start_time": "2022-12-21T12:35:18.976Z"
   },
   {
    "duration": 224,
    "start_time": "2022-12-21T12:35:19.006Z"
   },
   {
    "duration": 247,
    "start_time": "2022-12-21T12:35:19.231Z"
   },
   {
    "duration": 11,
    "start_time": "2022-12-21T12:35:19.480Z"
   },
   {
    "duration": 661,
    "start_time": "2022-12-21T12:35:19.504Z"
   },
   {
    "duration": 593,
    "start_time": "2022-12-21T12:35:20.169Z"
   },
   {
    "duration": 298,
    "start_time": "2022-12-21T12:35:20.764Z"
   },
   {
    "duration": 213,
    "start_time": "2022-12-21T12:35:21.064Z"
   },
   {
    "duration": 4,
    "start_time": "2022-12-21T12:35:21.279Z"
   },
   {
    "duration": 148,
    "start_time": "2022-12-21T12:35:21.285Z"
   },
   {
    "duration": 131,
    "start_time": "2022-12-21T12:35:21.434Z"
   },
   {
    "duration": 141,
    "start_time": "2022-12-21T12:35:21.567Z"
   },
   {
    "duration": 243,
    "start_time": "2022-12-21T12:35:21.710Z"
   },
   {
    "duration": 135,
    "start_time": "2022-12-21T12:35:21.955Z"
   },
   {
    "duration": 167,
    "start_time": "2022-12-21T12:35:22.091Z"
   },
   {
    "duration": 93,
    "start_time": "2022-12-21T12:35:22.260Z"
   },
   {
    "duration": 120,
    "start_time": "2022-12-21T12:35:22.355Z"
   },
   {
    "duration": 122,
    "start_time": "2022-12-21T12:35:22.477Z"
   },
   {
    "duration": 138,
    "start_time": "2022-12-21T12:35:22.604Z"
   },
   {
    "duration": 7,
    "start_time": "2022-12-21T12:35:22.744Z"
   },
   {
    "duration": 178,
    "start_time": "2022-12-21T12:35:22.752Z"
   },
   {
    "duration": 10,
    "start_time": "2022-12-21T12:35:22.931Z"
   },
   {
    "duration": 24,
    "start_time": "2022-12-21T12:35:22.942Z"
   },
   {
    "duration": 161,
    "start_time": "2022-12-21T12:35:22.968Z"
   },
   {
    "duration": 10,
    "start_time": "2022-12-21T12:35:23.130Z"
   },
   {
    "duration": 11,
    "start_time": "2022-12-21T12:41:17.197Z"
   },
   {
    "duration": 68,
    "start_time": "2022-12-21T12:41:34.477Z"
   },
   {
    "duration": 11,
    "start_time": "2022-12-21T12:41:47.297Z"
   },
   {
    "duration": 11,
    "start_time": "2022-12-21T12:43:20.729Z"
   },
   {
    "duration": 62,
    "start_time": "2022-12-21T12:43:31.302Z"
   },
   {
    "duration": 794,
    "start_time": "2022-12-21T12:43:31.366Z"
   },
   {
    "duration": 50,
    "start_time": "2022-12-21T12:43:32.162Z"
   },
   {
    "duration": 15,
    "start_time": "2022-12-21T12:43:32.214Z"
   },
   {
    "duration": 15,
    "start_time": "2022-12-21T12:43:32.231Z"
   },
   {
    "duration": 13,
    "start_time": "2022-12-21T12:43:32.247Z"
   },
   {
    "duration": 15,
    "start_time": "2022-12-21T12:43:32.262Z"
   },
   {
    "duration": 37,
    "start_time": "2022-12-21T12:43:32.279Z"
   },
   {
    "duration": 5,
    "start_time": "2022-12-21T12:43:32.318Z"
   },
   {
    "duration": 6,
    "start_time": "2022-12-21T12:43:32.325Z"
   },
   {
    "duration": 8,
    "start_time": "2022-12-21T12:43:32.333Z"
   },
   {
    "duration": 11,
    "start_time": "2022-12-21T12:43:32.343Z"
   },
   {
    "duration": 16,
    "start_time": "2022-12-21T12:43:32.355Z"
   },
   {
    "duration": 170,
    "start_time": "2022-12-21T12:43:32.374Z"
   },
   {
    "duration": 169,
    "start_time": "2022-12-21T12:43:32.546Z"
   },
   {
    "duration": 6,
    "start_time": "2022-12-21T12:43:32.717Z"
   },
   {
    "duration": 9,
    "start_time": "2022-12-21T12:43:32.725Z"
   },
   {
    "duration": 280,
    "start_time": "2022-12-21T12:43:32.736Z"
   },
   {
    "duration": 3,
    "start_time": "2022-12-21T12:43:33.018Z"
   },
   {
    "duration": 190,
    "start_time": "2022-12-21T12:43:33.023Z"
   },
   {
    "duration": 180,
    "start_time": "2022-12-21T12:43:33.215Z"
   },
   {
    "duration": 169,
    "start_time": "2022-12-21T12:43:33.404Z"
   },
   {
    "duration": 172,
    "start_time": "2022-12-21T12:43:33.575Z"
   },
   {
    "duration": 169,
    "start_time": "2022-12-21T12:43:33.748Z"
   },
   {
    "duration": 270,
    "start_time": "2022-12-21T12:43:33.919Z"
   },
   {
    "duration": 27,
    "start_time": "2022-12-21T12:43:34.190Z"
   },
   {
    "duration": 172,
    "start_time": "2022-12-21T12:43:34.219Z"
   },
   {
    "duration": 22,
    "start_time": "2022-12-21T12:43:34.392Z"
   },
   {
    "duration": 189,
    "start_time": "2022-12-21T12:43:34.415Z"
   },
   {
    "duration": 4,
    "start_time": "2022-12-21T12:43:34.606Z"
   },
   {
    "duration": 153,
    "start_time": "2022-12-21T12:43:34.611Z"
   },
   {
    "duration": 3,
    "start_time": "2022-12-21T12:43:34.766Z"
   },
   {
    "duration": 168,
    "start_time": "2022-12-21T12:43:34.770Z"
   },
   {
    "duration": 158,
    "start_time": "2022-12-21T12:43:34.939Z"
   },
   {
    "duration": 153,
    "start_time": "2022-12-21T12:43:35.099Z"
   },
   {
    "duration": 15,
    "start_time": "2022-12-21T12:43:35.254Z"
   },
   {
    "duration": 192,
    "start_time": "2022-12-21T12:43:35.271Z"
   },
   {
    "duration": 235,
    "start_time": "2022-12-21T12:43:35.464Z"
   },
   {
    "duration": 12,
    "start_time": "2022-12-21T12:43:35.701Z"
   },
   {
    "duration": 656,
    "start_time": "2022-12-21T12:43:35.715Z"
   },
   {
    "duration": 588,
    "start_time": "2022-12-21T12:43:36.375Z"
   },
   {
    "duration": 279,
    "start_time": "2022-12-21T12:43:36.964Z"
   },
   {
    "duration": 199,
    "start_time": "2022-12-21T12:43:37.245Z"
   },
   {
    "duration": 5,
    "start_time": "2022-12-21T12:43:37.446Z"
   },
   {
    "duration": 155,
    "start_time": "2022-12-21T12:43:37.453Z"
   },
   {
    "duration": 234,
    "start_time": "2022-12-21T12:43:37.610Z"
   },
   {
    "duration": 160,
    "start_time": "2022-12-21T12:43:37.848Z"
   },
   {
    "duration": 140,
    "start_time": "2022-12-21T12:43:38.010Z"
   },
   {
    "duration": 157,
    "start_time": "2022-12-21T12:43:38.153Z"
   },
   {
    "duration": 153,
    "start_time": "2022-12-21T12:43:38.312Z"
   },
   {
    "duration": 96,
    "start_time": "2022-12-21T12:43:38.467Z"
   },
   {
    "duration": 121,
    "start_time": "2022-12-21T12:43:38.564Z"
   },
   {
    "duration": 125,
    "start_time": "2022-12-21T12:43:38.687Z"
   },
   {
    "duration": 130,
    "start_time": "2022-12-21T12:43:38.814Z"
   },
   {
    "duration": 6,
    "start_time": "2022-12-21T12:43:38.945Z"
   },
   {
    "duration": 171,
    "start_time": "2022-12-21T12:43:38.953Z"
   },
   {
    "duration": 10,
    "start_time": "2022-12-21T12:43:39.126Z"
   },
   {
    "duration": 7,
    "start_time": "2022-12-21T12:43:39.137Z"
   },
   {
    "duration": 172,
    "start_time": "2022-12-21T12:43:39.145Z"
   },
   {
    "duration": 9,
    "start_time": "2022-12-21T12:43:39.319Z"
   },
   {
    "duration": 13,
    "start_time": "2022-12-21T12:43:39.329Z"
   },
   {
    "duration": 9,
    "start_time": "2022-12-21T12:50:06.244Z"
   },
   {
    "duration": 11,
    "start_time": "2022-12-21T12:53:00.220Z"
   },
   {
    "duration": 10,
    "start_time": "2022-12-21T12:53:03.926Z"
   },
   {
    "duration": 10,
    "start_time": "2022-12-21T12:54:23.278Z"
   },
   {
    "duration": 11,
    "start_time": "2022-12-21T12:54:34.698Z"
   },
   {
    "duration": 10,
    "start_time": "2022-12-21T12:54:45.471Z"
   },
   {
    "duration": 9,
    "start_time": "2022-12-21T12:54:52.930Z"
   },
   {
    "duration": 11,
    "start_time": "2022-12-21T12:55:00.379Z"
   },
   {
    "duration": 10,
    "start_time": "2022-12-21T12:55:04.007Z"
   },
   {
    "duration": 4,
    "start_time": "2022-12-21T12:56:34.600Z"
   },
   {
    "duration": 5,
    "start_time": "2022-12-21T12:56:56.564Z"
   },
   {
    "duration": 10,
    "start_time": "2022-12-21T12:57:49.519Z"
   },
   {
    "duration": 10,
    "start_time": "2022-12-21T12:57:50.899Z"
   },
   {
    "duration": 4,
    "start_time": "2022-12-21T12:57:52.667Z"
   },
   {
    "duration": 64,
    "start_time": "2022-12-21T12:57:56.881Z"
   },
   {
    "duration": 881,
    "start_time": "2022-12-21T12:57:56.947Z"
   },
   {
    "duration": 25,
    "start_time": "2022-12-21T12:57:57.830Z"
   },
   {
    "duration": 16,
    "start_time": "2022-12-21T12:57:57.857Z"
   },
   {
    "duration": 10,
    "start_time": "2022-12-21T12:57:57.904Z"
   },
   {
    "duration": 16,
    "start_time": "2022-12-21T12:57:57.916Z"
   },
   {
    "duration": 15,
    "start_time": "2022-12-21T12:57:57.934Z"
   },
   {
    "duration": 11,
    "start_time": "2022-12-21T12:57:57.951Z"
   },
   {
    "duration": 5,
    "start_time": "2022-12-21T12:57:57.964Z"
   },
   {
    "duration": 7,
    "start_time": "2022-12-21T12:57:57.970Z"
   },
   {
    "duration": 5,
    "start_time": "2022-12-21T12:57:58.006Z"
   },
   {
    "duration": 10,
    "start_time": "2022-12-21T12:57:58.012Z"
   },
   {
    "duration": 17,
    "start_time": "2022-12-21T12:57:58.024Z"
   },
   {
    "duration": 151,
    "start_time": "2022-12-21T12:57:58.043Z"
   },
   {
    "duration": 198,
    "start_time": "2022-12-21T12:57:58.196Z"
   },
   {
    "duration": 10,
    "start_time": "2022-12-21T12:57:58.396Z"
   },
   {
    "duration": 12,
    "start_time": "2022-12-21T12:57:58.408Z"
   },
   {
    "duration": 300,
    "start_time": "2022-12-21T12:57:58.422Z"
   },
   {
    "duration": 3,
    "start_time": "2022-12-21T12:57:58.724Z"
   },
   {
    "duration": 192,
    "start_time": "2022-12-21T12:57:58.728Z"
   },
   {
    "duration": 180,
    "start_time": "2022-12-21T12:57:58.921Z"
   },
   {
    "duration": 175,
    "start_time": "2022-12-21T12:57:59.102Z"
   },
   {
    "duration": 262,
    "start_time": "2022-12-21T12:57:59.279Z"
   },
   {
    "duration": 179,
    "start_time": "2022-12-21T12:57:59.543Z"
   },
   {
    "duration": 178,
    "start_time": "2022-12-21T12:57:59.724Z"
   },
   {
    "duration": 21,
    "start_time": "2022-12-21T12:57:59.905Z"
   },
   {
    "duration": 184,
    "start_time": "2022-12-21T12:57:59.927Z"
   },
   {
    "duration": 17,
    "start_time": "2022-12-21T12:58:00.113Z"
   },
   {
    "duration": 208,
    "start_time": "2022-12-21T12:58:00.132Z"
   },
   {
    "duration": 5,
    "start_time": "2022-12-21T12:58:00.341Z"
   },
   {
    "duration": 169,
    "start_time": "2022-12-21T12:58:00.347Z"
   },
   {
    "duration": 3,
    "start_time": "2022-12-21T12:58:00.518Z"
   },
   {
    "duration": 175,
    "start_time": "2022-12-21T12:58:00.523Z"
   },
   {
    "duration": 172,
    "start_time": "2022-12-21T12:58:00.700Z"
   },
   {
    "duration": 162,
    "start_time": "2022-12-21T12:58:00.873Z"
   },
   {
    "duration": 15,
    "start_time": "2022-12-21T12:58:01.037Z"
   },
   {
    "duration": 201,
    "start_time": "2022-12-21T12:58:01.053Z"
   },
   {
    "duration": 340,
    "start_time": "2022-12-21T12:58:01.255Z"
   },
   {
    "duration": 17,
    "start_time": "2022-12-21T12:58:01.596Z"
   },
   {
    "duration": 591,
    "start_time": "2022-12-21T12:58:01.614Z"
   },
   {
    "duration": 585,
    "start_time": "2022-12-21T12:58:02.209Z"
   },
   {
    "duration": 292,
    "start_time": "2022-12-21T12:58:02.795Z"
   },
   {
    "duration": 299,
    "start_time": "2022-12-21T12:58:03.089Z"
   },
   {
    "duration": 4,
    "start_time": "2022-12-21T12:58:03.390Z"
   },
   {
    "duration": 137,
    "start_time": "2022-12-21T12:58:03.395Z"
   },
   {
    "duration": 127,
    "start_time": "2022-12-21T12:58:03.534Z"
   },
   {
    "duration": 127,
    "start_time": "2022-12-21T12:58:03.662Z"
   },
   {
    "duration": 137,
    "start_time": "2022-12-21T12:58:03.791Z"
   },
   {
    "duration": 139,
    "start_time": "2022-12-21T12:58:03.930Z"
   },
   {
    "duration": 159,
    "start_time": "2022-12-21T12:58:04.071Z"
   },
   {
    "duration": 98,
    "start_time": "2022-12-21T12:58:04.232Z"
   },
   {
    "duration": 123,
    "start_time": "2022-12-21T12:58:04.332Z"
   },
   {
    "duration": 129,
    "start_time": "2022-12-21T12:58:04.457Z"
   },
   {
    "duration": 162,
    "start_time": "2022-12-21T12:58:04.589Z"
   },
   {
    "duration": 8,
    "start_time": "2022-12-21T12:58:04.753Z"
   },
   {
    "duration": 288,
    "start_time": "2022-12-21T12:58:04.763Z"
   },
   {
    "duration": 11,
    "start_time": "2022-12-21T12:58:05.053Z"
   },
   {
    "duration": 7,
    "start_time": "2022-12-21T12:58:05.065Z"
   },
   {
    "duration": 169,
    "start_time": "2022-12-21T12:58:05.074Z"
   },
   {
    "duration": 10,
    "start_time": "2022-12-21T12:58:05.244Z"
   },
   {
    "duration": 4,
    "start_time": "2022-12-21T12:58:05.256Z"
   },
   {
    "duration": 11,
    "start_time": "2022-12-21T12:59:53.847Z"
   },
   {
    "duration": 12,
    "start_time": "2022-12-21T13:00:13.133Z"
   },
   {
    "duration": 13,
    "start_time": "2022-12-21T13:14:31.577Z"
   },
   {
    "duration": 10,
    "start_time": "2022-12-21T13:14:40.061Z"
   },
   {
    "duration": 10,
    "start_time": "2022-12-21T13:14:58.279Z"
   },
   {
    "duration": 10,
    "start_time": "2022-12-21T13:15:09.065Z"
   },
   {
    "duration": 11,
    "start_time": "2022-12-21T13:15:23.639Z"
   },
   {
    "duration": 8,
    "start_time": "2022-12-21T13:15:28.217Z"
   },
   {
    "duration": 155,
    "start_time": "2022-12-21T13:15:28.466Z"
   },
   {
    "duration": 60,
    "start_time": "2022-12-21T13:16:58.038Z"
   },
   {
    "duration": 773,
    "start_time": "2022-12-21T13:16:58.100Z"
   },
   {
    "duration": 36,
    "start_time": "2022-12-21T13:16:58.874Z"
   },
   {
    "duration": 15,
    "start_time": "2022-12-21T13:16:58.911Z"
   },
   {
    "duration": 13,
    "start_time": "2022-12-21T13:16:58.928Z"
   },
   {
    "duration": 18,
    "start_time": "2022-12-21T13:16:58.942Z"
   },
   {
    "duration": 14,
    "start_time": "2022-12-21T13:16:58.962Z"
   },
   {
    "duration": 33,
    "start_time": "2022-12-21T13:16:58.978Z"
   },
   {
    "duration": 5,
    "start_time": "2022-12-21T13:16:59.013Z"
   },
   {
    "duration": 6,
    "start_time": "2022-12-21T13:16:59.019Z"
   },
   {
    "duration": 7,
    "start_time": "2022-12-21T13:16:59.026Z"
   },
   {
    "duration": 11,
    "start_time": "2022-12-21T13:16:59.035Z"
   },
   {
    "duration": 20,
    "start_time": "2022-12-21T13:16:59.048Z"
   },
   {
    "duration": 151,
    "start_time": "2022-12-21T13:16:59.071Z"
   },
   {
    "duration": 171,
    "start_time": "2022-12-21T13:16:59.224Z"
   },
   {
    "duration": 12,
    "start_time": "2022-12-21T13:16:59.405Z"
   },
   {
    "duration": 11,
    "start_time": "2022-12-21T13:16:59.420Z"
   },
   {
    "duration": 277,
    "start_time": "2022-12-21T13:16:59.433Z"
   },
   {
    "duration": 4,
    "start_time": "2022-12-21T13:16:59.712Z"
   },
   {
    "duration": 288,
    "start_time": "2022-12-21T13:16:59.717Z"
   },
   {
    "duration": 203,
    "start_time": "2022-12-21T13:17:00.006Z"
   },
   {
    "duration": 183,
    "start_time": "2022-12-21T13:17:00.210Z"
   },
   {
    "duration": 188,
    "start_time": "2022-12-21T13:17:00.394Z"
   },
   {
    "duration": 206,
    "start_time": "2022-12-21T13:17:00.583Z"
   },
   {
    "duration": 186,
    "start_time": "2022-12-21T13:17:00.790Z"
   },
   {
    "duration": 30,
    "start_time": "2022-12-21T13:17:00.978Z"
   },
   {
    "duration": 179,
    "start_time": "2022-12-21T13:17:01.010Z"
   },
   {
    "duration": 23,
    "start_time": "2022-12-21T13:17:01.191Z"
   },
   {
    "duration": 228,
    "start_time": "2022-12-21T13:17:01.215Z"
   },
   {
    "duration": 4,
    "start_time": "2022-12-21T13:17:01.445Z"
   },
   {
    "duration": 166,
    "start_time": "2022-12-21T13:17:01.451Z"
   },
   {
    "duration": 3,
    "start_time": "2022-12-21T13:17:01.619Z"
   },
   {
    "duration": 203,
    "start_time": "2022-12-21T13:17:01.624Z"
   },
   {
    "duration": 178,
    "start_time": "2022-12-21T13:17:01.828Z"
   },
   {
    "duration": 258,
    "start_time": "2022-12-21T13:17:02.007Z"
   },
   {
    "duration": 13,
    "start_time": "2022-12-21T13:17:02.267Z"
   },
   {
    "duration": 191,
    "start_time": "2022-12-21T13:17:02.281Z"
   },
   {
    "duration": 242,
    "start_time": "2022-12-21T13:17:02.473Z"
   },
   {
    "duration": 12,
    "start_time": "2022-12-21T13:17:02.717Z"
   },
   {
    "duration": 571,
    "start_time": "2022-12-21T13:17:02.730Z"
   },
   {
    "duration": 660,
    "start_time": "2022-12-21T13:17:03.308Z"
   },
   {
    "duration": 308,
    "start_time": "2022-12-21T13:17:03.970Z"
   },
   {
    "duration": 206,
    "start_time": "2022-12-21T13:17:04.279Z"
   },
   {
    "duration": 4,
    "start_time": "2022-12-21T13:17:04.487Z"
   },
   {
    "duration": 147,
    "start_time": "2022-12-21T13:17:04.493Z"
   },
   {
    "duration": 141,
    "start_time": "2022-12-21T13:17:04.642Z"
   },
   {
    "duration": 138,
    "start_time": "2022-12-21T13:17:04.785Z"
   },
   {
    "duration": 150,
    "start_time": "2022-12-21T13:17:04.925Z"
   },
   {
    "duration": 149,
    "start_time": "2022-12-21T13:17:05.077Z"
   },
   {
    "duration": 142,
    "start_time": "2022-12-21T13:17:05.227Z"
   },
   {
    "duration": 96,
    "start_time": "2022-12-21T13:17:05.371Z"
   },
   {
    "duration": 125,
    "start_time": "2022-12-21T13:17:05.468Z"
   },
   {
    "duration": 225,
    "start_time": "2022-12-21T13:17:05.594Z"
   },
   {
    "duration": 132,
    "start_time": "2022-12-21T13:17:05.821Z"
   },
   {
    "duration": 7,
    "start_time": "2022-12-21T13:17:05.955Z"
   },
   {
    "duration": 174,
    "start_time": "2022-12-21T13:17:05.963Z"
   },
   {
    "duration": 10,
    "start_time": "2022-12-21T13:17:06.140Z"
   },
   {
    "duration": 10,
    "start_time": "2022-12-21T13:17:06.151Z"
   },
   {
    "duration": 166,
    "start_time": "2022-12-21T13:17:06.163Z"
   },
   {
    "duration": 10,
    "start_time": "2022-12-21T13:17:06.331Z"
   },
   {
    "duration": 9,
    "start_time": "2022-12-21T13:21:33.638Z"
   },
   {
    "duration": 6,
    "start_time": "2022-12-21T13:27:21.327Z"
   },
   {
    "duration": 15,
    "start_time": "2022-12-21T13:29:27.306Z"
   },
   {
    "duration": 61,
    "start_time": "2022-12-21T13:30:43.755Z"
   },
   {
    "duration": 722,
    "start_time": "2022-12-21T13:30:43.818Z"
   },
   {
    "duration": 25,
    "start_time": "2022-12-21T13:30:44.542Z"
   },
   {
    "duration": 14,
    "start_time": "2022-12-21T13:30:44.569Z"
   },
   {
    "duration": 26,
    "start_time": "2022-12-21T13:30:44.585Z"
   },
   {
    "duration": 17,
    "start_time": "2022-12-21T13:30:44.612Z"
   },
   {
    "duration": 15,
    "start_time": "2022-12-21T13:30:44.630Z"
   },
   {
    "duration": 12,
    "start_time": "2022-12-21T13:30:44.646Z"
   },
   {
    "duration": 5,
    "start_time": "2022-12-21T13:30:44.659Z"
   },
   {
    "duration": 8,
    "start_time": "2022-12-21T13:30:44.666Z"
   },
   {
    "duration": 31,
    "start_time": "2022-12-21T13:30:44.675Z"
   },
   {
    "duration": 11,
    "start_time": "2022-12-21T13:30:44.707Z"
   },
   {
    "duration": 15,
    "start_time": "2022-12-21T13:30:44.720Z"
   },
   {
    "duration": 129,
    "start_time": "2022-12-21T13:30:44.737Z"
   },
   {
    "duration": 172,
    "start_time": "2022-12-21T13:30:44.867Z"
   },
   {
    "duration": 7,
    "start_time": "2022-12-21T13:30:45.041Z"
   },
   {
    "duration": 13,
    "start_time": "2022-12-21T13:30:45.049Z"
   },
   {
    "duration": 285,
    "start_time": "2022-12-21T13:30:45.063Z"
   },
   {
    "duration": 3,
    "start_time": "2022-12-21T13:30:45.350Z"
   },
   {
    "duration": 277,
    "start_time": "2022-12-21T13:30:45.355Z"
   },
   {
    "duration": 176,
    "start_time": "2022-12-21T13:30:45.634Z"
   },
   {
    "duration": 181,
    "start_time": "2022-12-21T13:30:45.812Z"
   },
   {
    "duration": 178,
    "start_time": "2022-12-21T13:30:45.995Z"
   },
   {
    "duration": 194,
    "start_time": "2022-12-21T13:30:46.175Z"
   },
   {
    "duration": 174,
    "start_time": "2022-12-21T13:30:46.371Z"
   },
   {
    "duration": 21,
    "start_time": "2022-12-21T13:30:46.546Z"
   },
   {
    "duration": 171,
    "start_time": "2022-12-21T13:30:46.569Z"
   },
   {
    "duration": 16,
    "start_time": "2022-12-21T13:30:46.742Z"
   },
   {
    "duration": 207,
    "start_time": "2022-12-21T13:30:46.760Z"
   },
   {
    "duration": 5,
    "start_time": "2022-12-21T13:30:46.969Z"
   },
   {
    "duration": 175,
    "start_time": "2022-12-21T13:30:46.975Z"
   },
   {
    "duration": 3,
    "start_time": "2022-12-21T13:30:47.152Z"
   },
   {
    "duration": 168,
    "start_time": "2022-12-21T13:30:47.157Z"
   },
   {
    "duration": 176,
    "start_time": "2022-12-21T13:30:47.328Z"
   },
   {
    "duration": 262,
    "start_time": "2022-12-21T13:30:47.506Z"
   },
   {
    "duration": 14,
    "start_time": "2022-12-21T13:30:47.770Z"
   },
   {
    "duration": 274,
    "start_time": "2022-12-21T13:30:47.786Z"
   },
   {
    "duration": 345,
    "start_time": "2022-12-21T13:30:48.062Z"
   },
   {
    "duration": 15,
    "start_time": "2022-12-21T13:30:48.409Z"
   },
   {
    "duration": 693,
    "start_time": "2022-12-21T13:30:48.426Z"
   },
   {
    "duration": 691,
    "start_time": "2022-12-21T13:30:49.123Z"
   },
   {
    "duration": 305,
    "start_time": "2022-12-21T13:30:49.816Z"
   },
   {
    "duration": 244,
    "start_time": "2022-12-21T13:30:50.122Z"
   },
   {
    "duration": 5,
    "start_time": "2022-12-21T13:30:50.368Z"
   },
   {
    "duration": 150,
    "start_time": "2022-12-21T13:30:50.375Z"
   },
   {
    "duration": 138,
    "start_time": "2022-12-21T13:30:50.527Z"
   },
   {
    "duration": 141,
    "start_time": "2022-12-21T13:30:50.666Z"
   },
   {
    "duration": 140,
    "start_time": "2022-12-21T13:30:50.808Z"
   },
   {
    "duration": 136,
    "start_time": "2022-12-21T13:30:50.949Z"
   },
   {
    "duration": 143,
    "start_time": "2022-12-21T13:30:51.087Z"
   },
   {
    "duration": 91,
    "start_time": "2022-12-21T13:30:51.231Z"
   },
   {
    "duration": 126,
    "start_time": "2022-12-21T13:30:51.324Z"
   },
   {
    "duration": 224,
    "start_time": "2022-12-21T13:30:51.451Z"
   },
   {
    "duration": 139,
    "start_time": "2022-12-21T13:30:51.677Z"
   },
   {
    "duration": 7,
    "start_time": "2022-12-21T13:30:51.818Z"
   },
   {
    "duration": 174,
    "start_time": "2022-12-21T13:30:51.826Z"
   },
   {
    "duration": 11,
    "start_time": "2022-12-21T13:30:52.005Z"
   },
   {
    "duration": 8,
    "start_time": "2022-12-21T13:30:52.018Z"
   },
   {
    "duration": 183,
    "start_time": "2022-12-21T13:30:52.028Z"
   },
   {
    "duration": 17,
    "start_time": "2022-12-21T13:30:52.213Z"
   },
   {
    "duration": 19,
    "start_time": "2022-12-21T13:31:40.626Z"
   },
   {
    "duration": 11,
    "start_time": "2022-12-21T13:31:50.947Z"
   },
   {
    "duration": 11,
    "start_time": "2022-12-21T13:32:50.138Z"
   },
   {
    "duration": 10,
    "start_time": "2022-12-21T13:33:03.309Z"
   },
   {
    "duration": 10,
    "start_time": "2022-12-21T13:33:26.087Z"
   },
   {
    "duration": 17,
    "start_time": "2022-12-21T13:46:21.001Z"
   },
   {
    "duration": 11,
    "start_time": "2022-12-21T13:46:28.642Z"
   },
   {
    "duration": 11,
    "start_time": "2022-12-21T13:46:45.141Z"
   },
   {
    "duration": 9,
    "start_time": "2022-12-21T13:46:52.408Z"
   },
   {
    "duration": 10,
    "start_time": "2022-12-21T13:52:00.253Z"
   },
   {
    "duration": 10,
    "start_time": "2022-12-21T13:52:18.962Z"
   },
   {
    "duration": 11,
    "start_time": "2022-12-21T13:52:31.296Z"
   },
   {
    "duration": 9,
    "start_time": "2022-12-21T13:54:01.999Z"
   },
   {
    "duration": 10,
    "start_time": "2022-12-21T13:54:09.430Z"
   },
   {
    "duration": 11,
    "start_time": "2022-12-21T13:54:15.579Z"
   },
   {
    "duration": 10,
    "start_time": "2022-12-21T13:54:24.770Z"
   },
   {
    "duration": 11,
    "start_time": "2022-12-21T13:54:30.300Z"
   },
   {
    "duration": 10,
    "start_time": "2022-12-21T13:54:40.318Z"
   },
   {
    "duration": 9,
    "start_time": "2022-12-21T13:54:54.300Z"
   },
   {
    "duration": 12,
    "start_time": "2022-12-21T13:55:00.038Z"
   },
   {
    "duration": 12,
    "start_time": "2022-12-21T13:55:04.378Z"
   },
   {
    "duration": 10,
    "start_time": "2022-12-21T13:55:12.712Z"
   },
   {
    "duration": 10,
    "start_time": "2022-12-21T13:55:17.939Z"
   },
   {
    "duration": 9,
    "start_time": "2022-12-21T13:57:27.119Z"
   },
   {
    "duration": 59,
    "start_time": "2022-12-21T13:57:35.440Z"
   },
   {
    "duration": 734,
    "start_time": "2022-12-21T13:57:35.501Z"
   },
   {
    "duration": 25,
    "start_time": "2022-12-21T13:57:36.237Z"
   },
   {
    "duration": 17,
    "start_time": "2022-12-21T13:57:36.264Z"
   },
   {
    "duration": 26,
    "start_time": "2022-12-21T13:57:36.283Z"
   },
   {
    "duration": 13,
    "start_time": "2022-12-21T13:57:36.311Z"
   },
   {
    "duration": 17,
    "start_time": "2022-12-21T13:57:36.326Z"
   },
   {
    "duration": 12,
    "start_time": "2022-12-21T13:57:36.344Z"
   },
   {
    "duration": 5,
    "start_time": "2022-12-21T13:57:36.357Z"
   },
   {
    "duration": 5,
    "start_time": "2022-12-21T13:57:36.365Z"
   },
   {
    "duration": 35,
    "start_time": "2022-12-21T13:57:36.371Z"
   },
   {
    "duration": 10,
    "start_time": "2022-12-21T13:57:36.408Z"
   },
   {
    "duration": 16,
    "start_time": "2022-12-21T13:57:36.419Z"
   },
   {
    "duration": 132,
    "start_time": "2022-12-21T13:57:36.436Z"
   },
   {
    "duration": 168,
    "start_time": "2022-12-21T13:57:36.570Z"
   },
   {
    "duration": 5,
    "start_time": "2022-12-21T13:57:36.740Z"
   },
   {
    "duration": 9,
    "start_time": "2022-12-21T13:57:36.747Z"
   },
   {
    "duration": 281,
    "start_time": "2022-12-21T13:57:36.757Z"
   },
   {
    "duration": 3,
    "start_time": "2022-12-21T13:57:37.039Z"
   },
   {
    "duration": 278,
    "start_time": "2022-12-21T13:57:37.044Z"
   },
   {
    "duration": 206,
    "start_time": "2022-12-21T13:57:37.323Z"
   },
   {
    "duration": 214,
    "start_time": "2022-12-21T13:57:37.531Z"
   },
   {
    "duration": 176,
    "start_time": "2022-12-21T13:57:37.746Z"
   },
   {
    "duration": 175,
    "start_time": "2022-12-21T13:57:37.924Z"
   },
   {
    "duration": 193,
    "start_time": "2022-12-21T13:57:38.100Z"
   },
   {
    "duration": 25,
    "start_time": "2022-12-21T13:57:38.295Z"
   },
   {
    "duration": 177,
    "start_time": "2022-12-21T13:57:38.321Z"
   },
   {
    "duration": 16,
    "start_time": "2022-12-21T13:57:38.506Z"
   },
   {
    "duration": 188,
    "start_time": "2022-12-21T13:57:38.523Z"
   },
   {
    "duration": 5,
    "start_time": "2022-12-21T13:57:38.713Z"
   },
   {
    "duration": 161,
    "start_time": "2022-12-21T13:57:38.720Z"
   },
   {
    "duration": 3,
    "start_time": "2022-12-21T13:57:38.883Z"
   },
   {
    "duration": 162,
    "start_time": "2022-12-21T13:57:38.888Z"
   },
   {
    "duration": 159,
    "start_time": "2022-12-21T13:57:39.052Z"
   },
   {
    "duration": 251,
    "start_time": "2022-12-21T13:57:39.212Z"
   },
   {
    "duration": 17,
    "start_time": "2022-12-21T13:57:39.465Z"
   },
   {
    "duration": 193,
    "start_time": "2022-12-21T13:57:39.483Z"
   },
   {
    "duration": 244,
    "start_time": "2022-12-21T13:57:39.678Z"
   },
   {
    "duration": 11,
    "start_time": "2022-12-21T13:57:39.923Z"
   },
   {
    "duration": 584,
    "start_time": "2022-12-21T13:57:39.935Z"
   },
   {
    "duration": 671,
    "start_time": "2022-12-21T13:57:40.521Z"
   },
   {
    "duration": 288,
    "start_time": "2022-12-21T13:57:41.193Z"
   },
   {
    "duration": 205,
    "start_time": "2022-12-21T13:57:41.483Z"
   },
   {
    "duration": 4,
    "start_time": "2022-12-21T13:57:41.689Z"
   },
   {
    "duration": 136,
    "start_time": "2022-12-21T13:57:41.695Z"
   },
   {
    "duration": 135,
    "start_time": "2022-12-21T13:57:41.832Z"
   },
   {
    "duration": 137,
    "start_time": "2022-12-21T13:57:41.969Z"
   },
   {
    "duration": 137,
    "start_time": "2022-12-21T13:57:42.108Z"
   },
   {
    "duration": 135,
    "start_time": "2022-12-21T13:57:42.247Z"
   },
   {
    "duration": 148,
    "start_time": "2022-12-21T13:57:42.384Z"
   },
   {
    "duration": 99,
    "start_time": "2022-12-21T13:57:42.533Z"
   },
   {
    "duration": 121,
    "start_time": "2022-12-21T13:57:42.634Z"
   },
   {
    "duration": 215,
    "start_time": "2022-12-21T13:57:42.757Z"
   },
   {
    "duration": 136,
    "start_time": "2022-12-21T13:57:42.974Z"
   },
   {
    "duration": 8,
    "start_time": "2022-12-21T13:57:43.111Z"
   },
   {
    "duration": 189,
    "start_time": "2022-12-21T13:57:43.121Z"
   },
   {
    "duration": 9,
    "start_time": "2022-12-21T13:57:43.311Z"
   },
   {
    "duration": 6,
    "start_time": "2022-12-21T13:57:43.322Z"
   },
   {
    "duration": 176,
    "start_time": "2022-12-21T13:57:43.330Z"
   },
   {
    "duration": 9,
    "start_time": "2022-12-21T13:57:43.508Z"
   },
   {
    "duration": 7,
    "start_time": "2022-12-21T13:59:02.198Z"
   },
   {
    "duration": 10,
    "start_time": "2022-12-21T13:59:03.510Z"
   },
   {
    "duration": 61,
    "start_time": "2022-12-21T13:59:17.220Z"
   },
   {
    "duration": 777,
    "start_time": "2022-12-21T13:59:17.283Z"
   },
   {
    "duration": 26,
    "start_time": "2022-12-21T13:59:18.061Z"
   },
   {
    "duration": 34,
    "start_time": "2022-12-21T13:59:18.089Z"
   },
   {
    "duration": 14,
    "start_time": "2022-12-21T13:59:18.126Z"
   },
   {
    "duration": 20,
    "start_time": "2022-12-21T13:59:18.141Z"
   },
   {
    "duration": 15,
    "start_time": "2022-12-21T13:59:18.162Z"
   },
   {
    "duration": 39,
    "start_time": "2022-12-21T13:59:18.178Z"
   },
   {
    "duration": 5,
    "start_time": "2022-12-21T13:59:18.219Z"
   },
   {
    "duration": 7,
    "start_time": "2022-12-21T13:59:18.225Z"
   },
   {
    "duration": 15,
    "start_time": "2022-12-21T13:59:18.233Z"
   },
   {
    "duration": 11,
    "start_time": "2022-12-21T13:59:18.250Z"
   },
   {
    "duration": 25,
    "start_time": "2022-12-21T13:59:18.263Z"
   },
   {
    "duration": 155,
    "start_time": "2022-12-21T13:59:18.291Z"
   },
   {
    "duration": 179,
    "start_time": "2022-12-21T13:59:18.448Z"
   },
   {
    "duration": 5,
    "start_time": "2022-12-21T13:59:18.628Z"
   },
   {
    "duration": 7,
    "start_time": "2022-12-21T13:59:18.635Z"
   },
   {
    "duration": 261,
    "start_time": "2022-12-21T13:59:18.643Z"
   },
   {
    "duration": 2,
    "start_time": "2022-12-21T13:59:18.906Z"
   },
   {
    "duration": 288,
    "start_time": "2022-12-21T13:59:18.910Z"
   },
   {
    "duration": 192,
    "start_time": "2022-12-21T13:59:19.199Z"
   },
   {
    "duration": 170,
    "start_time": "2022-12-21T13:59:19.393Z"
   },
   {
    "duration": 176,
    "start_time": "2022-12-21T13:59:19.565Z"
   },
   {
    "duration": 171,
    "start_time": "2022-12-21T13:59:19.743Z"
   },
   {
    "duration": 173,
    "start_time": "2022-12-21T13:59:19.916Z"
   },
   {
    "duration": 25,
    "start_time": "2022-12-21T13:59:20.091Z"
   },
   {
    "duration": 174,
    "start_time": "2022-12-21T13:59:20.118Z"
   },
   {
    "duration": 22,
    "start_time": "2022-12-21T13:59:20.294Z"
   },
   {
    "duration": 187,
    "start_time": "2022-12-21T13:59:20.317Z"
   },
   {
    "duration": 5,
    "start_time": "2022-12-21T13:59:20.506Z"
   },
   {
    "duration": 175,
    "start_time": "2022-12-21T13:59:20.513Z"
   },
   {
    "duration": 4,
    "start_time": "2022-12-21T13:59:20.689Z"
   },
   {
    "duration": 146,
    "start_time": "2022-12-21T13:59:20.705Z"
   },
   {
    "duration": 160,
    "start_time": "2022-12-21T13:59:20.853Z"
   },
   {
    "duration": 250,
    "start_time": "2022-12-21T13:59:21.015Z"
   },
   {
    "duration": 13,
    "start_time": "2022-12-21T13:59:21.267Z"
   },
   {
    "duration": 193,
    "start_time": "2022-12-21T13:59:21.282Z"
   },
   {
    "duration": 260,
    "start_time": "2022-12-21T13:59:21.477Z"
   },
   {
    "duration": 13,
    "start_time": "2022-12-21T13:59:21.739Z"
   },
   {
    "duration": 631,
    "start_time": "2022-12-21T13:59:21.753Z"
   },
   {
    "duration": 707,
    "start_time": "2022-12-21T13:59:22.388Z"
   },
   {
    "duration": 286,
    "start_time": "2022-12-21T13:59:23.105Z"
   },
   {
    "duration": 213,
    "start_time": "2022-12-21T13:59:23.392Z"
   },
   {
    "duration": 4,
    "start_time": "2022-12-21T13:59:23.606Z"
   },
   {
    "duration": 139,
    "start_time": "2022-12-21T13:59:23.612Z"
   },
   {
    "duration": 139,
    "start_time": "2022-12-21T13:59:23.752Z"
   },
   {
    "duration": 134,
    "start_time": "2022-12-21T13:59:23.892Z"
   },
   {
    "duration": 146,
    "start_time": "2022-12-21T13:59:24.028Z"
   },
   {
    "duration": 136,
    "start_time": "2022-12-21T13:59:24.176Z"
   },
   {
    "duration": 136,
    "start_time": "2022-12-21T13:59:24.314Z"
   },
   {
    "duration": 92,
    "start_time": "2022-12-21T13:59:24.452Z"
   },
   {
    "duration": 127,
    "start_time": "2022-12-21T13:59:24.546Z"
   },
   {
    "duration": 226,
    "start_time": "2022-12-21T13:59:24.674Z"
   },
   {
    "duration": 140,
    "start_time": "2022-12-21T13:59:24.904Z"
   },
   {
    "duration": 8,
    "start_time": "2022-12-21T13:59:25.046Z"
   },
   {
    "duration": 186,
    "start_time": "2022-12-21T13:59:25.055Z"
   },
   {
    "duration": 10,
    "start_time": "2022-12-21T13:59:25.243Z"
   },
   {
    "duration": 6,
    "start_time": "2022-12-21T13:59:25.254Z"
   },
   {
    "duration": 10,
    "start_time": "2022-12-21T13:59:25.261Z"
   },
   {
    "duration": 0,
    "start_time": "2022-12-21T13:59:25.273Z"
   },
   {
    "duration": 10,
    "start_time": "2022-12-21T14:00:09.838Z"
   },
   {
    "duration": 6,
    "start_time": "2022-12-21T14:00:39.080Z"
   },
   {
    "duration": 10,
    "start_time": "2022-12-21T14:00:39.574Z"
   },
   {
    "duration": 7,
    "start_time": "2022-12-21T14:01:03.838Z"
   },
   {
    "duration": 147,
    "start_time": "2022-12-21T14:01:04.114Z"
   },
   {
    "duration": 10,
    "start_time": "2022-12-21T14:01:09.278Z"
   },
   {
    "duration": 5,
    "start_time": "2022-12-21T14:01:58.538Z"
   },
   {
    "duration": 60,
    "start_time": "2022-12-21T14:02:05.187Z"
   },
   {
    "duration": 731,
    "start_time": "2022-12-21T14:02:05.249Z"
   },
   {
    "duration": 34,
    "start_time": "2022-12-21T14:02:05.982Z"
   },
   {
    "duration": 16,
    "start_time": "2022-12-21T14:02:06.018Z"
   },
   {
    "duration": 23,
    "start_time": "2022-12-21T14:02:06.036Z"
   },
   {
    "duration": 15,
    "start_time": "2022-12-21T14:02:06.061Z"
   },
   {
    "duration": 28,
    "start_time": "2022-12-21T14:02:06.077Z"
   },
   {
    "duration": 13,
    "start_time": "2022-12-21T14:02:06.107Z"
   },
   {
    "duration": 5,
    "start_time": "2022-12-21T14:02:06.122Z"
   },
   {
    "duration": 6,
    "start_time": "2022-12-21T14:02:06.129Z"
   },
   {
    "duration": 11,
    "start_time": "2022-12-21T14:02:06.137Z"
   },
   {
    "duration": 15,
    "start_time": "2022-12-21T14:02:06.149Z"
   },
   {
    "duration": 42,
    "start_time": "2022-12-21T14:02:06.166Z"
   },
   {
    "duration": 125,
    "start_time": "2022-12-21T14:02:06.219Z"
   },
   {
    "duration": 169,
    "start_time": "2022-12-21T14:02:06.346Z"
   },
   {
    "duration": 6,
    "start_time": "2022-12-21T14:02:06.517Z"
   },
   {
    "duration": 6,
    "start_time": "2022-12-21T14:02:06.525Z"
   },
   {
    "duration": 285,
    "start_time": "2022-12-21T14:02:06.533Z"
   },
   {
    "duration": 3,
    "start_time": "2022-12-21T14:02:06.820Z"
   },
   {
    "duration": 281,
    "start_time": "2022-12-21T14:02:06.824Z"
   },
   {
    "duration": 181,
    "start_time": "2022-12-21T14:02:07.106Z"
   },
   {
    "duration": 230,
    "start_time": "2022-12-21T14:02:07.288Z"
   },
   {
    "duration": 200,
    "start_time": "2022-12-21T14:02:07.520Z"
   },
   {
    "duration": 180,
    "start_time": "2022-12-21T14:02:07.722Z"
   },
   {
    "duration": 179,
    "start_time": "2022-12-21T14:02:07.904Z"
   },
   {
    "duration": 25,
    "start_time": "2022-12-21T14:02:08.085Z"
   },
   {
    "duration": 195,
    "start_time": "2022-12-21T14:02:08.112Z"
   },
   {
    "duration": 17,
    "start_time": "2022-12-21T14:02:08.308Z"
   },
   {
    "duration": 220,
    "start_time": "2022-12-21T14:02:08.327Z"
   },
   {
    "duration": 5,
    "start_time": "2022-12-21T14:02:08.548Z"
   },
   {
    "duration": 161,
    "start_time": "2022-12-21T14:02:08.554Z"
   },
   {
    "duration": 3,
    "start_time": "2022-12-21T14:02:08.717Z"
   },
   {
    "duration": 165,
    "start_time": "2022-12-21T14:02:08.722Z"
   },
   {
    "duration": 164,
    "start_time": "2022-12-21T14:02:08.889Z"
   },
   {
    "duration": 259,
    "start_time": "2022-12-21T14:02:09.055Z"
   },
   {
    "duration": 16,
    "start_time": "2022-12-21T14:02:09.316Z"
   },
   {
    "duration": 202,
    "start_time": "2022-12-21T14:02:09.334Z"
   },
   {
    "duration": 245,
    "start_time": "2022-12-21T14:02:09.538Z"
   },
   {
    "duration": 21,
    "start_time": "2022-12-21T14:02:09.784Z"
   },
   {
    "duration": 565,
    "start_time": "2022-12-21T14:02:09.807Z"
   },
   {
    "duration": 675,
    "start_time": "2022-12-21T14:02:10.376Z"
   },
   {
    "duration": 310,
    "start_time": "2022-12-21T14:02:11.053Z"
   },
   {
    "duration": 214,
    "start_time": "2022-12-21T14:02:11.364Z"
   },
   {
    "duration": 4,
    "start_time": "2022-12-21T14:02:11.580Z"
   },
   {
    "duration": 154,
    "start_time": "2022-12-21T14:02:11.585Z"
   },
   {
    "duration": 135,
    "start_time": "2022-12-21T14:02:11.741Z"
   },
   {
    "duration": 144,
    "start_time": "2022-12-21T14:02:11.877Z"
   },
   {
    "duration": 141,
    "start_time": "2022-12-21T14:02:12.023Z"
   },
   {
    "duration": 157,
    "start_time": "2022-12-21T14:02:12.166Z"
   },
   {
    "duration": 154,
    "start_time": "2022-12-21T14:02:12.324Z"
   },
   {
    "duration": 99,
    "start_time": "2022-12-21T14:02:12.480Z"
   },
   {
    "duration": 129,
    "start_time": "2022-12-21T14:02:12.581Z"
   },
   {
    "duration": 241,
    "start_time": "2022-12-21T14:02:12.712Z"
   },
   {
    "duration": 152,
    "start_time": "2022-12-21T14:02:12.955Z"
   },
   {
    "duration": 7,
    "start_time": "2022-12-21T14:02:13.109Z"
   },
   {
    "duration": 175,
    "start_time": "2022-12-21T14:02:13.118Z"
   },
   {
    "duration": 15,
    "start_time": "2022-12-21T14:02:13.295Z"
   },
   {
    "duration": 7,
    "start_time": "2022-12-21T14:02:13.312Z"
   },
   {
    "duration": 182,
    "start_time": "2022-12-21T14:02:13.320Z"
   },
   {
    "duration": 14,
    "start_time": "2022-12-21T14:02:13.504Z"
   },
   {
    "duration": 26,
    "start_time": "2022-12-21T14:03:40.698Z"
   },
   {
    "duration": 8,
    "start_time": "2022-12-21T14:05:22.928Z"
   },
   {
    "duration": 5,
    "start_time": "2022-12-21T14:05:59.800Z"
   },
   {
    "duration": 875,
    "start_time": "2022-12-21T14:06:13.925Z"
   },
   {
    "duration": 888,
    "start_time": "2022-12-21T14:06:19.834Z"
   },
   {
    "duration": 933,
    "start_time": "2022-12-21T14:07:05.266Z"
   },
   {
    "duration": 913,
    "start_time": "2022-12-21T14:07:21.400Z"
   },
   {
    "duration": 60,
    "start_time": "2022-12-21T14:07:31.282Z"
   },
   {
    "duration": 719,
    "start_time": "2022-12-21T14:07:31.343Z"
   },
   {
    "duration": 43,
    "start_time": "2022-12-21T14:07:32.063Z"
   },
   {
    "duration": 52,
    "start_time": "2022-12-21T14:07:32.107Z"
   },
   {
    "duration": 19,
    "start_time": "2022-12-21T14:07:32.162Z"
   },
   {
    "duration": 16,
    "start_time": "2022-12-21T14:07:32.182Z"
   },
   {
    "duration": 19,
    "start_time": "2022-12-21T14:07:32.200Z"
   },
   {
    "duration": 13,
    "start_time": "2022-12-21T14:07:32.221Z"
   },
   {
    "duration": 6,
    "start_time": "2022-12-21T14:07:32.236Z"
   },
   {
    "duration": 8,
    "start_time": "2022-12-21T14:07:32.243Z"
   },
   {
    "duration": 9,
    "start_time": "2022-12-21T14:07:32.252Z"
   },
   {
    "duration": 12,
    "start_time": "2022-12-21T14:07:32.263Z"
   },
   {
    "duration": 37,
    "start_time": "2022-12-21T14:07:32.277Z"
   },
   {
    "duration": 153,
    "start_time": "2022-12-21T14:07:32.318Z"
   },
   {
    "duration": 182,
    "start_time": "2022-12-21T14:07:32.473Z"
   },
   {
    "duration": 6,
    "start_time": "2022-12-21T14:07:32.656Z"
   },
   {
    "duration": 8,
    "start_time": "2022-12-21T14:07:32.663Z"
   },
   {
    "duration": 291,
    "start_time": "2022-12-21T14:07:32.672Z"
   },
   {
    "duration": 3,
    "start_time": "2022-12-21T14:07:32.965Z"
   },
   {
    "duration": 274,
    "start_time": "2022-12-21T14:07:32.970Z"
   },
   {
    "duration": 175,
    "start_time": "2022-12-21T14:07:33.246Z"
   },
   {
    "duration": 181,
    "start_time": "2022-12-21T14:07:33.423Z"
   },
   {
    "duration": 190,
    "start_time": "2022-12-21T14:07:33.606Z"
   },
   {
    "duration": 169,
    "start_time": "2022-12-21T14:07:33.798Z"
   },
   {
    "duration": 172,
    "start_time": "2022-12-21T14:07:33.969Z"
   },
   {
    "duration": 22,
    "start_time": "2022-12-21T14:07:34.143Z"
   },
   {
    "duration": 173,
    "start_time": "2022-12-21T14:07:34.167Z"
   },
   {
    "duration": 17,
    "start_time": "2022-12-21T14:07:34.341Z"
   },
   {
    "duration": 195,
    "start_time": "2022-12-21T14:07:34.359Z"
   },
   {
    "duration": 5,
    "start_time": "2022-12-21T14:07:34.555Z"
   },
   {
    "duration": 155,
    "start_time": "2022-12-21T14:07:34.561Z"
   },
   {
    "duration": 3,
    "start_time": "2022-12-21T14:07:34.717Z"
   },
   {
    "duration": 161,
    "start_time": "2022-12-21T14:07:34.722Z"
   },
   {
    "duration": 175,
    "start_time": "2022-12-21T14:07:34.885Z"
   },
   {
    "duration": 263,
    "start_time": "2022-12-21T14:07:35.062Z"
   },
   {
    "duration": 14,
    "start_time": "2022-12-21T14:07:35.327Z"
   },
   {
    "duration": 192,
    "start_time": "2022-12-21T14:07:35.343Z"
   },
   {
    "duration": 247,
    "start_time": "2022-12-21T14:07:35.537Z"
   },
   {
    "duration": 11,
    "start_time": "2022-12-21T14:07:35.785Z"
   },
   {
    "duration": 577,
    "start_time": "2022-12-21T14:07:35.805Z"
   },
   {
    "duration": 702,
    "start_time": "2022-12-21T14:07:36.387Z"
   },
   {
    "duration": 299,
    "start_time": "2022-12-21T14:07:37.091Z"
   },
   {
    "duration": 250,
    "start_time": "2022-12-21T14:07:37.392Z"
   },
   {
    "duration": 4,
    "start_time": "2022-12-21T14:07:37.643Z"
   },
   {
    "duration": 148,
    "start_time": "2022-12-21T14:07:37.649Z"
   },
   {
    "duration": 135,
    "start_time": "2022-12-21T14:07:37.804Z"
   },
   {
    "duration": 141,
    "start_time": "2022-12-21T14:07:37.940Z"
   },
   {
    "duration": 160,
    "start_time": "2022-12-21T14:07:38.082Z"
   },
   {
    "duration": 153,
    "start_time": "2022-12-21T14:07:38.243Z"
   },
   {
    "duration": 159,
    "start_time": "2022-12-21T14:07:38.398Z"
   },
   {
    "duration": 95,
    "start_time": "2022-12-21T14:07:38.559Z"
   },
   {
    "duration": 122,
    "start_time": "2022-12-21T14:07:38.656Z"
   },
   {
    "duration": 226,
    "start_time": "2022-12-21T14:07:38.780Z"
   },
   {
    "duration": 145,
    "start_time": "2022-12-21T14:07:39.007Z"
   },
   {
    "duration": 195,
    "start_time": "2022-12-21T14:07:39.154Z"
   },
   {
    "duration": 449,
    "start_time": "2022-12-21T14:07:39.351Z"
   },
   {
    "duration": 10,
    "start_time": "2022-12-21T14:07:39.801Z"
   },
   {
    "duration": 16,
    "start_time": "2022-12-21T14:07:39.812Z"
   },
   {
    "duration": 149,
    "start_time": "2022-12-21T14:07:39.830Z"
   },
   {
    "duration": 6,
    "start_time": "2022-12-21T14:07:39.981Z"
   },
   {
    "duration": 840,
    "start_time": "2022-12-21T14:07:49.038Z"
   },
   {
    "duration": 8,
    "start_time": "2022-12-21T14:08:03.760Z"
   },
   {
    "duration": 150,
    "start_time": "2022-12-21T14:08:04.212Z"
   },
   {
    "duration": 5,
    "start_time": "2022-12-21T14:08:09.086Z"
   },
   {
    "duration": 829,
    "start_time": "2022-12-21T14:09:00.640Z"
   },
   {
    "duration": 8,
    "start_time": "2022-12-21T14:09:09.886Z"
   },
   {
    "duration": 149,
    "start_time": "2022-12-21T14:09:10.691Z"
   },
   {
    "duration": 12,
    "start_time": "2022-12-21T14:09:14.740Z"
   },
   {
    "duration": 875,
    "start_time": "2022-12-21T14:10:52.890Z"
   },
   {
    "duration": 7,
    "start_time": "2022-12-21T14:10:58.980Z"
   },
   {
    "duration": 143,
    "start_time": "2022-12-21T14:10:59.352Z"
   },
   {
    "duration": 887,
    "start_time": "2022-12-21T14:11:03.400Z"
   },
   {
    "duration": 827,
    "start_time": "2022-12-21T14:11:12.740Z"
   },
   {
    "duration": 11,
    "start_time": "2022-12-21T14:11:17.337Z"
   },
   {
    "duration": 156,
    "start_time": "2022-12-21T14:11:17.990Z"
   },
   {
    "duration": 5,
    "start_time": "2022-12-21T14:11:22.179Z"
   },
   {
    "duration": 896,
    "start_time": "2022-12-21T14:12:37.785Z"
   },
   {
    "duration": 8,
    "start_time": "2022-12-21T14:12:42.960Z"
   },
   {
    "duration": 159,
    "start_time": "2022-12-21T14:12:43.711Z"
   },
   {
    "duration": 5,
    "start_time": "2022-12-21T14:12:45.537Z"
   },
   {
    "duration": 62,
    "start_time": "2022-12-21T14:46:26.710Z"
   },
   {
    "duration": 926,
    "start_time": "2022-12-21T14:46:26.775Z"
   },
   {
    "duration": 34,
    "start_time": "2022-12-21T14:46:27.704Z"
   },
   {
    "duration": 20,
    "start_time": "2022-12-21T14:46:27.740Z"
   },
   {
    "duration": 11,
    "start_time": "2022-12-21T14:46:27.762Z"
   },
   {
    "duration": 45,
    "start_time": "2022-12-21T14:46:27.774Z"
   },
   {
    "duration": 21,
    "start_time": "2022-12-21T14:46:27.821Z"
   },
   {
    "duration": 15,
    "start_time": "2022-12-21T14:46:27.843Z"
   },
   {
    "duration": 5,
    "start_time": "2022-12-21T14:46:27.860Z"
   },
   {
    "duration": 7,
    "start_time": "2022-12-21T14:46:27.867Z"
   },
   {
    "duration": 5,
    "start_time": "2022-12-21T14:46:27.906Z"
   },
   {
    "duration": 10,
    "start_time": "2022-12-21T14:46:27.913Z"
   },
   {
    "duration": 17,
    "start_time": "2022-12-21T14:46:27.925Z"
   },
   {
    "duration": 168,
    "start_time": "2022-12-21T14:46:27.945Z"
   },
   {
    "duration": 213,
    "start_time": "2022-12-21T14:46:28.115Z"
   },
   {
    "duration": 6,
    "start_time": "2022-12-21T14:46:28.330Z"
   },
   {
    "duration": 10,
    "start_time": "2022-12-21T14:46:28.338Z"
   },
   {
    "duration": 332,
    "start_time": "2022-12-21T14:46:28.350Z"
   },
   {
    "duration": 3,
    "start_time": "2022-12-21T14:46:28.684Z"
   },
   {
    "duration": 193,
    "start_time": "2022-12-21T14:46:28.689Z"
   },
   {
    "duration": 199,
    "start_time": "2022-12-21T14:46:28.883Z"
   },
   {
    "duration": 188,
    "start_time": "2022-12-21T14:46:29.084Z"
   },
   {
    "duration": 208,
    "start_time": "2022-12-21T14:46:29.274Z"
   },
   {
    "duration": 194,
    "start_time": "2022-12-21T14:46:29.484Z"
   },
   {
    "duration": 291,
    "start_time": "2022-12-21T14:46:29.680Z"
   },
   {
    "duration": 21,
    "start_time": "2022-12-21T14:46:29.973Z"
   },
   {
    "duration": 183,
    "start_time": "2022-12-21T14:46:30.005Z"
   },
   {
    "duration": 26,
    "start_time": "2022-12-21T14:46:30.190Z"
   },
   {
    "duration": 207,
    "start_time": "2022-12-21T14:46:30.218Z"
   },
   {
    "duration": 6,
    "start_time": "2022-12-21T14:46:30.427Z"
   },
   {
    "duration": 185,
    "start_time": "2022-12-21T14:46:30.435Z"
   },
   {
    "duration": 4,
    "start_time": "2022-12-21T14:46:30.622Z"
   },
   {
    "duration": 181,
    "start_time": "2022-12-21T14:46:30.627Z"
   },
   {
    "duration": 170,
    "start_time": "2022-12-21T14:46:30.811Z"
   },
   {
    "duration": 172,
    "start_time": "2022-12-21T14:46:30.982Z"
   },
   {
    "duration": 15,
    "start_time": "2022-12-21T14:46:31.156Z"
   },
   {
    "duration": 184,
    "start_time": "2022-12-21T14:46:31.172Z"
   },
   {
    "duration": 258,
    "start_time": "2022-12-21T14:46:31.358Z"
   },
   {
    "duration": 15,
    "start_time": "2022-12-21T14:46:31.618Z"
   },
   {
    "duration": 728,
    "start_time": "2022-12-21T14:46:31.635Z"
   },
   {
    "duration": 624,
    "start_time": "2022-12-21T14:46:32.368Z"
   },
   {
    "duration": 292,
    "start_time": "2022-12-21T14:46:32.994Z"
   },
   {
    "duration": 209,
    "start_time": "2022-12-21T14:46:33.288Z"
   },
   {
    "duration": 10,
    "start_time": "2022-12-21T14:46:33.498Z"
   },
   {
    "duration": 169,
    "start_time": "2022-12-21T14:46:33.510Z"
   },
   {
    "duration": 263,
    "start_time": "2022-12-21T14:46:33.681Z"
   },
   {
    "duration": 136,
    "start_time": "2022-12-21T14:46:33.945Z"
   },
   {
    "duration": 142,
    "start_time": "2022-12-21T14:46:34.084Z"
   },
   {
    "duration": 139,
    "start_time": "2022-12-21T14:46:34.227Z"
   },
   {
    "duration": 174,
    "start_time": "2022-12-21T14:46:34.368Z"
   },
   {
    "duration": 96,
    "start_time": "2022-12-21T14:46:34.544Z"
   },
   {
    "duration": 128,
    "start_time": "2022-12-21T14:46:34.641Z"
   },
   {
    "duration": 140,
    "start_time": "2022-12-21T14:46:34.771Z"
   },
   {
    "duration": 148,
    "start_time": "2022-12-21T14:46:34.913Z"
   },
   {
    "duration": 8,
    "start_time": "2022-12-21T14:46:35.062Z"
   },
   {
    "duration": 199,
    "start_time": "2022-12-21T14:46:35.071Z"
   },
   {
    "duration": 5,
    "start_time": "2022-12-21T14:46:35.272Z"
   },
   {
    "duration": 21,
    "start_time": "2022-12-21T14:46:35.279Z"
   },
   {
    "duration": 175,
    "start_time": "2022-12-21T14:46:35.302Z"
   },
   {
    "duration": 5,
    "start_time": "2022-12-21T14:46:35.479Z"
   },
   {
    "duration": 898,
    "start_time": "2022-12-21T14:47:55.506Z"
   },
   {
    "duration": 818,
    "start_time": "2022-12-21T14:48:16.379Z"
   },
   {
    "duration": 1327,
    "start_time": "2022-12-21T15:02:25.843Z"
   },
   {
    "duration": 645,
    "start_time": "2022-12-21T15:02:27.172Z"
   },
   {
    "duration": 25,
    "start_time": "2022-12-21T15:02:27.819Z"
   },
   {
    "duration": 15,
    "start_time": "2022-12-21T15:02:27.846Z"
   },
   {
    "duration": 26,
    "start_time": "2022-12-21T15:02:27.863Z"
   },
   {
    "duration": 20,
    "start_time": "2022-12-21T15:02:27.891Z"
   },
   {
    "duration": 12,
    "start_time": "2022-12-21T15:02:27.913Z"
   },
   {
    "duration": 12,
    "start_time": "2022-12-21T15:02:27.927Z"
   },
   {
    "duration": 6,
    "start_time": "2022-12-21T15:02:27.940Z"
   },
   {
    "duration": 33,
    "start_time": "2022-12-21T15:02:27.947Z"
   },
   {
    "duration": 9,
    "start_time": "2022-12-21T15:02:27.982Z"
   },
   {
    "duration": 14,
    "start_time": "2022-12-21T15:02:27.992Z"
   },
   {
    "duration": 24,
    "start_time": "2022-12-21T15:02:28.008Z"
   },
   {
    "duration": 143,
    "start_time": "2022-12-21T15:02:28.035Z"
   },
   {
    "duration": 163,
    "start_time": "2022-12-21T15:02:28.180Z"
   },
   {
    "duration": 5,
    "start_time": "2022-12-21T15:02:28.345Z"
   },
   {
    "duration": 9,
    "start_time": "2022-12-21T15:02:28.352Z"
   },
   {
    "duration": 290,
    "start_time": "2022-12-21T15:02:28.363Z"
   },
   {
    "duration": 4,
    "start_time": "2022-12-21T15:02:28.654Z"
   },
   {
    "duration": 179,
    "start_time": "2022-12-21T15:02:28.659Z"
   },
   {
    "duration": 275,
    "start_time": "2022-12-21T15:02:28.839Z"
   },
   {
    "duration": 177,
    "start_time": "2022-12-21T15:02:29.115Z"
   },
   {
    "duration": 191,
    "start_time": "2022-12-21T15:02:29.294Z"
   },
   {
    "duration": 178,
    "start_time": "2022-12-21T15:02:29.487Z"
   },
   {
    "duration": 170,
    "start_time": "2022-12-21T15:02:29.667Z"
   },
   {
    "duration": 22,
    "start_time": "2022-12-21T15:02:29.839Z"
   },
   {
    "duration": 177,
    "start_time": "2022-12-21T15:02:29.862Z"
   },
   {
    "duration": 17,
    "start_time": "2022-12-21T15:02:30.041Z"
   },
   {
    "duration": 194,
    "start_time": "2022-12-21T15:02:30.060Z"
   },
   {
    "duration": 5,
    "start_time": "2022-12-21T15:02:30.256Z"
   },
   {
    "duration": 168,
    "start_time": "2022-12-21T15:02:30.263Z"
   },
   {
    "duration": 4,
    "start_time": "2022-12-21T15:02:30.433Z"
   },
   {
    "duration": 182,
    "start_time": "2022-12-21T15:02:30.439Z"
   },
   {
    "duration": 164,
    "start_time": "2022-12-21T15:02:30.623Z"
   },
   {
    "duration": 167,
    "start_time": "2022-12-21T15:02:30.789Z"
   },
   {
    "duration": 28,
    "start_time": "2022-12-21T15:02:30.957Z"
   },
   {
    "duration": 285,
    "start_time": "2022-12-21T15:02:30.986Z"
   },
   {
    "duration": 241,
    "start_time": "2022-12-21T15:02:31.273Z"
   },
   {
    "duration": 12,
    "start_time": "2022-12-21T15:02:31.516Z"
   },
   {
    "duration": 565,
    "start_time": "2022-12-21T15:02:31.529Z"
   },
   {
    "duration": 576,
    "start_time": "2022-12-21T15:02:32.098Z"
   },
   {
    "duration": 394,
    "start_time": "2022-12-21T15:02:32.677Z"
   },
   {
    "duration": 198,
    "start_time": "2022-12-21T15:02:33.073Z"
   },
   {
    "duration": 5,
    "start_time": "2022-12-21T15:02:33.277Z"
   },
   {
    "duration": 143,
    "start_time": "2022-12-21T15:02:33.284Z"
   },
   {
    "duration": 134,
    "start_time": "2022-12-21T15:02:33.429Z"
   },
   {
    "duration": 140,
    "start_time": "2022-12-21T15:02:33.565Z"
   },
   {
    "duration": 141,
    "start_time": "2022-12-21T15:02:33.707Z"
   },
   {
    "duration": 183,
    "start_time": "2022-12-21T15:02:33.849Z"
   },
   {
    "duration": 188,
    "start_time": "2022-12-21T15:02:34.035Z"
   },
   {
    "duration": 98,
    "start_time": "2022-12-21T15:02:34.225Z"
   },
   {
    "duration": 135,
    "start_time": "2022-12-21T15:02:34.325Z"
   },
   {
    "duration": 217,
    "start_time": "2022-12-21T15:02:34.461Z"
   },
   {
    "duration": 150,
    "start_time": "2022-12-21T15:02:34.679Z"
   },
   {
    "duration": 8,
    "start_time": "2022-12-21T15:02:34.831Z"
   },
   {
    "duration": 214,
    "start_time": "2022-12-21T15:02:34.841Z"
   },
   {
    "duration": 6,
    "start_time": "2022-12-21T15:02:35.056Z"
   },
   {
    "duration": 13,
    "start_time": "2022-12-21T15:02:35.078Z"
   },
   {
    "duration": 172,
    "start_time": "2022-12-21T15:02:35.093Z"
   },
   {
    "duration": 11,
    "start_time": "2022-12-21T15:02:35.267Z"
   },
   {
    "duration": 1165,
    "start_time": "2022-12-21T15:34:37.765Z"
   },
   {
    "duration": 650,
    "start_time": "2022-12-21T15:34:38.932Z"
   },
   {
    "duration": 24,
    "start_time": "2022-12-21T15:34:39.584Z"
   },
   {
    "duration": 15,
    "start_time": "2022-12-21T15:34:39.610Z"
   },
   {
    "duration": 20,
    "start_time": "2022-12-21T15:34:39.627Z"
   },
   {
    "duration": 30,
    "start_time": "2022-12-21T15:34:39.649Z"
   },
   {
    "duration": 12,
    "start_time": "2022-12-21T15:34:39.681Z"
   },
   {
    "duration": 13,
    "start_time": "2022-12-21T15:34:39.695Z"
   },
   {
    "duration": 5,
    "start_time": "2022-12-21T15:34:39.710Z"
   },
   {
    "duration": 7,
    "start_time": "2022-12-21T15:34:39.716Z"
   },
   {
    "duration": 7,
    "start_time": "2022-12-21T15:34:39.725Z"
   },
   {
    "duration": 10,
    "start_time": "2022-12-21T15:34:39.734Z"
   },
   {
    "duration": 47,
    "start_time": "2022-12-21T15:34:39.746Z"
   },
   {
    "duration": 129,
    "start_time": "2022-12-21T15:34:39.796Z"
   },
   {
    "duration": 169,
    "start_time": "2022-12-21T15:34:39.927Z"
   },
   {
    "duration": 7,
    "start_time": "2022-12-21T15:34:40.098Z"
   },
   {
    "duration": 10,
    "start_time": "2022-12-21T15:34:40.106Z"
   },
   {
    "duration": 278,
    "start_time": "2022-12-21T15:34:40.118Z"
   },
   {
    "duration": 3,
    "start_time": "2022-12-21T15:34:40.397Z"
   },
   {
    "duration": 186,
    "start_time": "2022-12-21T15:34:40.402Z"
   },
   {
    "duration": 265,
    "start_time": "2022-12-21T15:34:40.590Z"
   },
   {
    "duration": 188,
    "start_time": "2022-12-21T15:34:40.856Z"
   },
   {
    "duration": 177,
    "start_time": "2022-12-21T15:34:41.046Z"
   },
   {
    "duration": 171,
    "start_time": "2022-12-21T15:34:41.224Z"
   },
   {
    "duration": 165,
    "start_time": "2022-12-21T15:34:41.396Z"
   },
   {
    "duration": 30,
    "start_time": "2022-12-21T15:34:41.562Z"
   },
   {
    "duration": 172,
    "start_time": "2022-12-21T15:34:41.593Z"
   },
   {
    "duration": 25,
    "start_time": "2022-12-21T15:34:41.767Z"
   },
   {
    "duration": 189,
    "start_time": "2022-12-21T15:34:41.794Z"
   },
   {
    "duration": 4,
    "start_time": "2022-12-21T15:34:41.985Z"
   },
   {
    "duration": 165,
    "start_time": "2022-12-21T15:34:41.991Z"
   },
   {
    "duration": 4,
    "start_time": "2022-12-21T15:34:42.158Z"
   },
   {
    "duration": 189,
    "start_time": "2022-12-21T15:34:42.164Z"
   },
   {
    "duration": 226,
    "start_time": "2022-12-21T15:34:42.354Z"
   },
   {
    "duration": 179,
    "start_time": "2022-12-21T15:34:42.582Z"
   },
   {
    "duration": 28,
    "start_time": "2022-12-21T15:34:42.764Z"
   },
   {
    "duration": 304,
    "start_time": "2022-12-21T15:34:42.793Z"
   },
   {
    "duration": 276,
    "start_time": "2022-12-21T15:34:43.098Z"
   },
   {
    "duration": 13,
    "start_time": "2022-12-21T15:34:43.378Z"
   },
   {
    "duration": 713,
    "start_time": "2022-12-21T15:34:43.393Z"
   },
   {
    "duration": 674,
    "start_time": "2022-12-21T15:34:44.111Z"
   },
   {
    "duration": 428,
    "start_time": "2022-12-21T15:34:44.787Z"
   },
   {
    "duration": 235,
    "start_time": "2022-12-21T15:34:45.217Z"
   },
   {
    "duration": 5,
    "start_time": "2022-12-21T15:34:45.454Z"
   },
   {
    "duration": 166,
    "start_time": "2022-12-21T15:34:45.462Z"
   },
   {
    "duration": 190,
    "start_time": "2022-12-21T15:34:45.629Z"
   },
   {
    "duration": 169,
    "start_time": "2022-12-21T15:34:45.821Z"
   },
   {
    "duration": 162,
    "start_time": "2022-12-21T15:34:45.992Z"
   },
   {
    "duration": 155,
    "start_time": "2022-12-21T15:34:46.156Z"
   },
   {
    "duration": 180,
    "start_time": "2022-12-21T15:34:46.313Z"
   },
   {
    "duration": 107,
    "start_time": "2022-12-21T15:34:46.496Z"
   },
   {
    "duration": 132,
    "start_time": "2022-12-21T15:34:46.605Z"
   },
   {
    "duration": 246,
    "start_time": "2022-12-21T15:34:46.738Z"
   },
   {
    "duration": 150,
    "start_time": "2022-12-21T15:34:46.986Z"
   },
   {
    "duration": 7,
    "start_time": "2022-12-21T15:34:47.137Z"
   },
   {
    "duration": 180,
    "start_time": "2022-12-21T15:34:47.145Z"
   },
   {
    "duration": 6,
    "start_time": "2022-12-21T15:34:47.327Z"
   },
   {
    "duration": 11,
    "start_time": "2022-12-21T15:34:47.335Z"
   },
   {
    "duration": 171,
    "start_time": "2022-12-21T15:34:47.347Z"
   },
   {
    "duration": 5,
    "start_time": "2022-12-21T15:34:47.520Z"
   },
   {
    "duration": 48,
    "start_time": "2022-12-21T16:19:39.685Z"
   },
   {
    "duration": 1491,
    "start_time": "2022-12-21T16:19:59.936Z"
   },
   {
    "duration": 647,
    "start_time": "2022-12-21T16:20:01.429Z"
   },
   {
    "duration": 29,
    "start_time": "2022-12-21T16:20:02.078Z"
   },
   {
    "duration": 16,
    "start_time": "2022-12-21T16:20:02.108Z"
   },
   {
    "duration": 19,
    "start_time": "2022-12-21T16:20:02.126Z"
   },
   {
    "duration": 26,
    "start_time": "2022-12-21T16:20:02.147Z"
   },
   {
    "duration": 17,
    "start_time": "2022-12-21T16:20:02.174Z"
   },
   {
    "duration": 22,
    "start_time": "2022-12-21T16:20:02.192Z"
   },
   {
    "duration": 5,
    "start_time": "2022-12-21T16:20:02.215Z"
   },
   {
    "duration": 14,
    "start_time": "2022-12-21T16:20:02.221Z"
   },
   {
    "duration": 22,
    "start_time": "2022-12-21T16:20:02.236Z"
   },
   {
    "duration": 13,
    "start_time": "2022-12-21T16:20:02.260Z"
   },
   {
    "duration": 27,
    "start_time": "2022-12-21T16:20:02.274Z"
   },
   {
    "duration": 132,
    "start_time": "2022-12-21T16:20:02.305Z"
   },
   {
    "duration": 173,
    "start_time": "2022-12-21T16:20:02.439Z"
   },
   {
    "duration": 6,
    "start_time": "2022-12-21T16:20:02.613Z"
   },
   {
    "duration": 34,
    "start_time": "2022-12-21T16:20:02.620Z"
   },
   {
    "duration": 70,
    "start_time": "2022-12-21T16:20:02.655Z"
   },
   {
    "duration": 0,
    "start_time": "2022-12-21T16:20:02.727Z"
   },
   {
    "duration": 0,
    "start_time": "2022-12-21T16:20:02.728Z"
   },
   {
    "duration": 0,
    "start_time": "2022-12-21T16:20:02.729Z"
   },
   {
    "duration": 0,
    "start_time": "2022-12-21T16:20:02.730Z"
   },
   {
    "duration": 0,
    "start_time": "2022-12-21T16:20:02.730Z"
   },
   {
    "duration": 0,
    "start_time": "2022-12-21T16:20:02.731Z"
   },
   {
    "duration": 0,
    "start_time": "2022-12-21T16:20:02.733Z"
   },
   {
    "duration": 0,
    "start_time": "2022-12-21T16:20:02.734Z"
   },
   {
    "duration": 0,
    "start_time": "2022-12-21T16:20:02.735Z"
   },
   {
    "duration": 0,
    "start_time": "2022-12-21T16:20:02.736Z"
   },
   {
    "duration": 0,
    "start_time": "2022-12-21T16:20:02.737Z"
   },
   {
    "duration": 0,
    "start_time": "2022-12-21T16:20:02.738Z"
   },
   {
    "duration": 0,
    "start_time": "2022-12-21T16:20:02.739Z"
   },
   {
    "duration": 0,
    "start_time": "2022-12-21T16:20:02.740Z"
   },
   {
    "duration": 0,
    "start_time": "2022-12-21T16:20:02.740Z"
   },
   {
    "duration": 0,
    "start_time": "2022-12-21T16:20:02.741Z"
   },
   {
    "duration": 0,
    "start_time": "2022-12-21T16:20:02.742Z"
   },
   {
    "duration": 0,
    "start_time": "2022-12-21T16:20:02.743Z"
   },
   {
    "duration": 0,
    "start_time": "2022-12-21T16:20:02.744Z"
   },
   {
    "duration": 0,
    "start_time": "2022-12-21T16:20:02.745Z"
   },
   {
    "duration": 0,
    "start_time": "2022-12-21T16:20:02.746Z"
   },
   {
    "duration": 0,
    "start_time": "2022-12-21T16:20:02.747Z"
   },
   {
    "duration": 0,
    "start_time": "2022-12-21T16:20:02.748Z"
   },
   {
    "duration": 0,
    "start_time": "2022-12-21T16:20:02.749Z"
   },
   {
    "duration": 0,
    "start_time": "2022-12-21T16:20:02.750Z"
   },
   {
    "duration": 0,
    "start_time": "2022-12-21T16:20:02.751Z"
   },
   {
    "duration": 0,
    "start_time": "2022-12-21T16:20:02.751Z"
   },
   {
    "duration": 0,
    "start_time": "2022-12-21T16:20:02.752Z"
   },
   {
    "duration": 0,
    "start_time": "2022-12-21T16:20:02.753Z"
   },
   {
    "duration": 0,
    "start_time": "2022-12-21T16:20:02.754Z"
   },
   {
    "duration": 0,
    "start_time": "2022-12-21T16:20:02.755Z"
   },
   {
    "duration": 0,
    "start_time": "2022-12-21T16:20:02.756Z"
   },
   {
    "duration": 0,
    "start_time": "2022-12-21T16:20:02.805Z"
   },
   {
    "duration": 0,
    "start_time": "2022-12-21T16:20:02.806Z"
   },
   {
    "duration": 0,
    "start_time": "2022-12-21T16:20:02.807Z"
   },
   {
    "duration": 0,
    "start_time": "2022-12-21T16:20:02.808Z"
   },
   {
    "duration": 0,
    "start_time": "2022-12-21T16:20:02.809Z"
   },
   {
    "duration": 0,
    "start_time": "2022-12-21T16:20:02.810Z"
   },
   {
    "duration": 0,
    "start_time": "2022-12-21T16:20:02.811Z"
   },
   {
    "duration": 0,
    "start_time": "2022-12-21T16:20:02.812Z"
   },
   {
    "duration": 0,
    "start_time": "2022-12-21T16:20:02.813Z"
   },
   {
    "duration": 0,
    "start_time": "2022-12-21T16:20:02.814Z"
   },
   {
    "duration": 17,
    "start_time": "2022-12-21T16:20:58.674Z"
   },
   {
    "duration": 301,
    "start_time": "2022-12-21T16:25:21.924Z"
   },
   {
    "duration": 63,
    "start_time": "2022-12-21T16:25:38.045Z"
   },
   {
    "duration": 779,
    "start_time": "2022-12-21T16:25:38.110Z"
   },
   {
    "duration": 32,
    "start_time": "2022-12-21T16:25:38.891Z"
   },
   {
    "duration": 15,
    "start_time": "2022-12-21T16:25:38.924Z"
   },
   {
    "duration": 13,
    "start_time": "2022-12-21T16:25:38.941Z"
   },
   {
    "duration": 15,
    "start_time": "2022-12-21T16:25:38.955Z"
   },
   {
    "duration": 40,
    "start_time": "2022-12-21T16:25:38.971Z"
   },
   {
    "duration": 12,
    "start_time": "2022-12-21T16:25:39.013Z"
   },
   {
    "duration": 5,
    "start_time": "2022-12-21T16:25:39.026Z"
   },
   {
    "duration": 7,
    "start_time": "2022-12-21T16:25:39.033Z"
   },
   {
    "duration": 8,
    "start_time": "2022-12-21T16:25:39.042Z"
   },
   {
    "duration": 12,
    "start_time": "2022-12-21T16:25:39.052Z"
   },
   {
    "duration": 40,
    "start_time": "2022-12-21T16:25:39.066Z"
   },
   {
    "duration": 129,
    "start_time": "2022-12-21T16:25:39.110Z"
   },
   {
    "duration": 171,
    "start_time": "2022-12-21T16:25:39.241Z"
   },
   {
    "duration": 6,
    "start_time": "2022-12-21T16:25:39.413Z"
   },
   {
    "duration": 11,
    "start_time": "2022-12-21T16:25:39.420Z"
   },
   {
    "duration": 296,
    "start_time": "2022-12-21T16:25:39.432Z"
   },
   {
    "duration": 4,
    "start_time": "2022-12-21T16:25:39.730Z"
   },
   {
    "duration": 191,
    "start_time": "2022-12-21T16:25:39.735Z"
   },
   {
    "duration": 183,
    "start_time": "2022-12-21T16:25:39.928Z"
   },
   {
    "duration": 184,
    "start_time": "2022-12-21T16:25:40.112Z"
   },
   {
    "duration": 176,
    "start_time": "2022-12-21T16:25:40.298Z"
   },
   {
    "duration": 174,
    "start_time": "2022-12-21T16:25:40.476Z"
   },
   {
    "duration": 260,
    "start_time": "2022-12-21T16:25:40.651Z"
   },
   {
    "duration": 20,
    "start_time": "2022-12-21T16:25:40.913Z"
   },
   {
    "duration": 177,
    "start_time": "2022-12-21T16:25:40.934Z"
   },
   {
    "duration": 17,
    "start_time": "2022-12-21T16:25:41.112Z"
   },
   {
    "duration": 204,
    "start_time": "2022-12-21T16:25:41.131Z"
   },
   {
    "duration": 5,
    "start_time": "2022-12-21T16:25:41.337Z"
   },
   {
    "duration": 170,
    "start_time": "2022-12-21T16:25:41.344Z"
   },
   {
    "duration": 4,
    "start_time": "2022-12-21T16:25:41.517Z"
   },
   {
    "duration": 176,
    "start_time": "2022-12-21T16:25:41.523Z"
   },
   {
    "duration": 186,
    "start_time": "2022-12-21T16:25:41.704Z"
   },
   {
    "duration": 179,
    "start_time": "2022-12-21T16:25:41.892Z"
   },
   {
    "duration": 13,
    "start_time": "2022-12-21T16:25:42.073Z"
   },
   {
    "duration": 210,
    "start_time": "2022-12-21T16:25:42.088Z"
   },
   {
    "duration": 267,
    "start_time": "2022-12-21T16:25:42.300Z"
   },
   {
    "duration": 11,
    "start_time": "2022-12-21T16:25:42.569Z"
   },
   {
    "duration": 696,
    "start_time": "2022-12-21T16:25:42.581Z"
   },
   {
    "duration": 609,
    "start_time": "2022-12-21T16:25:43.281Z"
   },
   {
    "duration": 332,
    "start_time": "2022-12-21T16:25:43.892Z"
   },
   {
    "duration": 219,
    "start_time": "2022-12-21T16:25:44.226Z"
   },
   {
    "duration": 11,
    "start_time": "2022-12-21T16:25:44.447Z"
   },
   {
    "duration": 176,
    "start_time": "2022-12-21T16:25:44.461Z"
   },
   {
    "duration": 229,
    "start_time": "2022-12-21T16:25:44.639Z"
   },
   {
    "duration": 134,
    "start_time": "2022-12-21T16:25:44.870Z"
   },
   {
    "duration": 138,
    "start_time": "2022-12-21T16:25:45.006Z"
   },
   {
    "duration": 141,
    "start_time": "2022-12-21T16:25:45.145Z"
   },
   {
    "duration": 165,
    "start_time": "2022-12-21T16:25:45.288Z"
   },
   {
    "duration": 98,
    "start_time": "2022-12-21T16:25:45.456Z"
   },
   {
    "duration": 125,
    "start_time": "2022-12-21T16:25:45.556Z"
   },
   {
    "duration": 131,
    "start_time": "2022-12-21T16:25:45.684Z"
   },
   {
    "duration": 140,
    "start_time": "2022-12-21T16:25:45.817Z"
   },
   {
    "duration": 8,
    "start_time": "2022-12-21T16:25:45.959Z"
   },
   {
    "duration": 188,
    "start_time": "2022-12-21T16:25:45.969Z"
   },
   {
    "duration": 5,
    "start_time": "2022-12-21T16:25:46.159Z"
   },
   {
    "duration": 9,
    "start_time": "2022-12-21T16:25:46.165Z"
   },
   {
    "duration": 167,
    "start_time": "2022-12-21T16:25:46.175Z"
   },
   {
    "duration": 5,
    "start_time": "2022-12-21T16:25:46.344Z"
   },
   {
    "duration": 705,
    "start_time": "2022-12-21T16:31:02.457Z"
   },
   {
    "duration": 23,
    "start_time": "2022-12-21T16:35:13.112Z"
   },
   {
    "duration": 19,
    "start_time": "2022-12-21T16:35:40.725Z"
   },
   {
    "duration": 23,
    "start_time": "2022-12-21T16:35:48.597Z"
   },
   {
    "duration": 20,
    "start_time": "2022-12-21T16:35:55.437Z"
   },
   {
    "duration": 19,
    "start_time": "2022-12-21T16:36:25.625Z"
   },
   {
    "duration": 19,
    "start_time": "2022-12-21T16:37:03.483Z"
   },
   {
    "duration": 19,
    "start_time": "2022-12-21T16:37:10.857Z"
   },
   {
    "duration": 14,
    "start_time": "2022-12-21T16:37:26.325Z"
   },
   {
    "duration": 20,
    "start_time": "2022-12-21T16:37:42.324Z"
   },
   {
    "duration": 28,
    "start_time": "2022-12-21T16:38:19.107Z"
   },
   {
    "duration": 22,
    "start_time": "2022-12-21T16:38:39.105Z"
   },
   {
    "duration": 10,
    "start_time": "2022-12-21T16:39:35.785Z"
   },
   {
    "duration": 22,
    "start_time": "2022-12-21T16:39:45.837Z"
   },
   {
    "duration": 5,
    "start_time": "2022-12-21T16:42:49.178Z"
   },
   {
    "duration": 5,
    "start_time": "2022-12-21T16:42:57.283Z"
   },
   {
    "duration": 5,
    "start_time": "2022-12-21T16:43:19.344Z"
   },
   {
    "duration": 30,
    "start_time": "2022-12-21T16:43:57.708Z"
   },
   {
    "duration": 127,
    "start_time": "2022-12-21T16:44:51.204Z"
   },
   {
    "duration": 293,
    "start_time": "2022-12-21T16:45:24.002Z"
   },
   {
    "duration": 372,
    "start_time": "2022-12-21T16:46:05.923Z"
   },
   {
    "duration": 383,
    "start_time": "2022-12-21T16:46:33.044Z"
   },
   {
    "duration": 94,
    "start_time": "2022-12-21T16:46:44.144Z"
   },
   {
    "duration": 215,
    "start_time": "2022-12-21T16:48:16.353Z"
   },
   {
    "duration": 254,
    "start_time": "2022-12-21T16:48:37.622Z"
   },
   {
    "duration": 380,
    "start_time": "2022-12-21T16:48:51.864Z"
   },
   {
    "duration": 1435,
    "start_time": "2022-12-22T15:15:17.169Z"
   },
   {
    "duration": 812,
    "start_time": "2022-12-22T15:15:18.607Z"
   },
   {
    "duration": 54,
    "start_time": "2022-12-22T15:15:19.422Z"
   },
   {
    "duration": 23,
    "start_time": "2022-12-22T15:15:19.478Z"
   },
   {
    "duration": 22,
    "start_time": "2022-12-22T15:15:19.503Z"
   },
   {
    "duration": 40,
    "start_time": "2022-12-22T15:15:19.527Z"
   },
   {
    "duration": 16,
    "start_time": "2022-12-22T15:15:19.569Z"
   },
   {
    "duration": 30,
    "start_time": "2022-12-22T15:15:19.587Z"
   },
   {
    "duration": 12,
    "start_time": "2022-12-22T15:15:19.620Z"
   },
   {
    "duration": 23,
    "start_time": "2022-12-22T15:15:19.635Z"
   },
   {
    "duration": 55,
    "start_time": "2022-12-22T15:15:19.661Z"
   },
   {
    "duration": 39,
    "start_time": "2022-12-22T15:15:19.718Z"
   },
   {
    "duration": 26,
    "start_time": "2022-12-22T15:15:19.759Z"
   },
   {
    "duration": 193,
    "start_time": "2022-12-22T15:15:19.787Z"
   },
   {
    "duration": 272,
    "start_time": "2022-12-22T15:15:19.982Z"
   },
   {
    "duration": 7,
    "start_time": "2022-12-22T15:15:20.258Z"
   },
   {
    "duration": 32,
    "start_time": "2022-12-22T15:15:20.267Z"
   },
   {
    "duration": 331,
    "start_time": "2022-12-22T15:15:20.301Z"
   },
   {
    "duration": 4,
    "start_time": "2022-12-22T15:15:20.634Z"
   },
   {
    "duration": 232,
    "start_time": "2022-12-22T15:15:20.651Z"
   },
   {
    "duration": 296,
    "start_time": "2022-12-22T15:15:20.885Z"
   },
   {
    "duration": 193,
    "start_time": "2022-12-22T15:15:21.183Z"
   },
   {
    "duration": 198,
    "start_time": "2022-12-22T15:15:21.378Z"
   },
   {
    "duration": 207,
    "start_time": "2022-12-22T15:15:21.578Z"
   },
   {
    "duration": 184,
    "start_time": "2022-12-22T15:15:21.787Z"
   },
   {
    "duration": 23,
    "start_time": "2022-12-22T15:15:21.973Z"
   },
   {
    "duration": 191,
    "start_time": "2022-12-22T15:15:21.998Z"
   },
   {
    "duration": 21,
    "start_time": "2022-12-22T15:15:22.193Z"
   },
   {
    "duration": 248,
    "start_time": "2022-12-22T15:15:22.216Z"
   },
   {
    "duration": 5,
    "start_time": "2022-12-22T15:15:22.466Z"
   },
   {
    "duration": 218,
    "start_time": "2022-12-22T15:15:22.472Z"
   },
   {
    "duration": 5,
    "start_time": "2022-12-22T15:15:22.692Z"
   },
   {
    "duration": 189,
    "start_time": "2022-12-22T15:15:22.698Z"
   },
   {
    "duration": 185,
    "start_time": "2022-12-22T15:15:22.889Z"
   },
   {
    "duration": 182,
    "start_time": "2022-12-22T15:15:23.075Z"
   },
   {
    "duration": 20,
    "start_time": "2022-12-22T15:15:23.259Z"
   },
   {
    "duration": 329,
    "start_time": "2022-12-22T15:15:23.281Z"
   },
   {
    "duration": 290,
    "start_time": "2022-12-22T15:15:23.612Z"
   },
   {
    "duration": 13,
    "start_time": "2022-12-22T15:15:23.903Z"
   },
   {
    "duration": 697,
    "start_time": "2022-12-22T15:15:23.918Z"
   },
   {
    "duration": 695,
    "start_time": "2022-12-22T15:15:24.617Z"
   },
   {
    "duration": 442,
    "start_time": "2022-12-22T15:15:25.315Z"
   },
   {
    "duration": 233,
    "start_time": "2022-12-22T15:15:25.759Z"
   },
   {
    "duration": 5,
    "start_time": "2022-12-22T15:15:25.994Z"
   },
   {
    "duration": 163,
    "start_time": "2022-12-22T15:15:26.001Z"
   },
   {
    "duration": 149,
    "start_time": "2022-12-22T15:15:26.167Z"
   },
   {
    "duration": 153,
    "start_time": "2022-12-22T15:15:26.319Z"
   },
   {
    "duration": 157,
    "start_time": "2022-12-22T15:15:26.474Z"
   },
   {
    "duration": 170,
    "start_time": "2022-12-22T15:15:26.633Z"
   },
   {
    "duration": 159,
    "start_time": "2022-12-22T15:15:26.805Z"
   },
   {
    "duration": 100,
    "start_time": "2022-12-22T15:15:26.966Z"
   },
   {
    "duration": 138,
    "start_time": "2022-12-22T15:15:27.068Z"
   },
   {
    "duration": 236,
    "start_time": "2022-12-22T15:15:27.208Z"
   },
   {
    "duration": 156,
    "start_time": "2022-12-22T15:15:27.450Z"
   },
   {
    "duration": 8,
    "start_time": "2022-12-22T15:15:27.608Z"
   },
   {
    "duration": 202,
    "start_time": "2022-12-22T15:15:27.618Z"
   },
   {
    "duration": 6,
    "start_time": "2022-12-22T15:15:27.822Z"
   },
   {
    "duration": 30,
    "start_time": "2022-12-22T15:15:27.830Z"
   },
   {
    "duration": 178,
    "start_time": "2022-12-22T15:15:27.872Z"
   },
   {
    "duration": 6,
    "start_time": "2022-12-22T15:15:28.052Z"
   }
  ],
  "kernelspec": {
   "display_name": "Python 3 (ipykernel)",
   "language": "python",
   "name": "python3"
  },
  "language_info": {
   "codemirror_mode": {
    "name": "ipython",
    "version": 3
   },
   "file_extension": ".py",
   "mimetype": "text/x-python",
   "name": "python",
   "nbconvert_exporter": "python",
   "pygments_lexer": "ipython3",
   "version": "3.9.13"
  },
  "toc": {
   "base_numbering": 1,
   "nav_menu": {},
   "number_sections": true,
   "sideBar": true,
   "skip_h1_title": true,
   "title_cell": "Table of Contents",
   "title_sidebar": "Contents",
   "toc_cell": false,
   "toc_position": {},
   "toc_section_display": true,
   "toc_window_display": false
  }
 },
 "nbformat": 4,
 "nbformat_minor": 2
}
