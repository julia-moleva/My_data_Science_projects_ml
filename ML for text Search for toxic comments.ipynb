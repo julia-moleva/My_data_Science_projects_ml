{
 "cells": [
  {
   "cell_type": "markdown",
   "metadata": {
    "toc": true
   },
   "source": [
    "<h1>Содержание<span class=\"tocSkip\"></span></h1>\n",
    "<div class=\"toc\"><ul class=\"toc-item\"><li><span><a href=\"#Подготовка\" data-toc-modified-id=\"Подготовка-1\"><span class=\"toc-item-num\">1&nbsp;&nbsp;</span>Подготовка</a></span></li><li><span><a href=\"#Обучение\" data-toc-modified-id=\"Обучение-2\"><span class=\"toc-item-num\">2&nbsp;&nbsp;</span>Обучение</a></span></li><li><span><a href=\"#Выводы-по-проекту\" data-toc-modified-id=\"Выводы-по-проекту-3\"><span class=\"toc-item-num\">3&nbsp;&nbsp;</span>Выводы по проекту</a>"
   ]
  },
  {
   "cell_type": "markdown",
   "metadata": {},
   "source": [
    "# Проект для «Викишоп»"
   ]
  },
  {
   "cell_type": "markdown",
   "metadata": {},
   "source": [
    "Интернет-магазин «Викишоп» запускает новый сервис. Теперь пользователи могут редактировать и дополнять описания товаров, как в вики-сообществах. То есть клиенты предлагают свои правки и комментируют изменения других. Магазину нужен инструмент, который будет искать токсичные комментарии и отправлять их на модерацию. \n",
    "\n",
    "Обучите модель классифицировать комментарии на позитивные и негативные. В вашем распоряжении набор данных с разметкой о токсичности правок.\n",
    "\n",
    "Постройте модель со значением метрики качества *F1* не меньше 0.75. \n",
    "\n",
    "**Инструкция по выполнению проекта**\n",
    "\n",
    "1. Загрузите и подготовьте данные.\n",
    "2. Обучите разные модели. \n",
    "3. Сделайте выводы.\n",
    "\n",
    "Для выполнения проекта применять *BERT* необязательно, но вы можете попробовать.\n",
    "\n",
    "**Описание данных**\n",
    "\n",
    "Данные находятся в файле `toxic_comments.csv`. Столбец *text* в нём содержит текст комментария, а *toxic* — целевой признак."
   ]
  },
  {
   "cell_type": "markdown",
   "metadata": {},
   "source": [
    "## Подготовка"
   ]
  },
  {
   "cell_type": "markdown",
   "metadata": {},
   "source": [
    "Импортируем нужные библиотеки для дальнейшей работы:"
   ]
  },
  {
   "cell_type": "code",
   "execution_count": 1,
   "metadata": {},
   "outputs": [
    {
     "name": "stderr",
     "output_type": "stream",
     "text": [
      "[nltk_data] Downloading package wordnet to\n",
      "[nltk_data]     C:\\Users\\Julia\\AppData\\Roaming\\nltk_data...\n",
      "[nltk_data]   Package wordnet is already up-to-date!\n",
      "[nltk_data] Downloading package punkt to\n",
      "[nltk_data]     C:\\Users\\Julia\\AppData\\Roaming\\nltk_data...\n",
      "[nltk_data]   Package punkt is already up-to-date!\n",
      "[nltk_data] Downloading package stopwords to\n",
      "[nltk_data]     C:\\Users\\Julia\\AppData\\Roaming\\nltk_data...\n",
      "[nltk_data]   Package stopwords is already up-to-date!\n",
      "[nltk_data] Downloading package averaged_perceptron_tagger to\n",
      "[nltk_data]     C:\\Users\\Julia\\AppData\\Roaming\\nltk_data...\n",
      "[nltk_data]   Package averaged_perceptron_tagger is already up-to-\n",
      "[nltk_data]       date!\n",
      "[nltk_data] Downloading package omw-1.4 to\n",
      "[nltk_data]     C:\\Users\\Julia\\AppData\\Roaming\\nltk_data...\n",
      "[nltk_data]   Package omw-1.4 is already up-to-date!\n"
     ]
    }
   ],
   "source": [
    "import pandas as pd\n",
    "import re\n",
    "import seaborn as sns\n",
    "import matplotlib.pyplot as plt\n",
    "import nltk\n",
    "from nltk.tokenize import TweetTokenizer\n",
    "from nltk.stem import WordNetLemmatizer\n",
    "from sklearn.pipeline import Pipeline\n",
    "nltk.download('wordnet')\n",
    "nltk.download('punkt')\n",
    "nltk.download('stopwords')\n",
    "nltk.download('averaged_perceptron_tagger')\n",
    "nltk.download('omw-1.4')\n",
    "from nltk.corpus import stopwords\n",
    "from sklearn.feature_extraction.text import TfidfVectorizer\n",
    "from sklearn.metrics import confusion_matrix, f1_score\n",
    "from sklearn.model_selection import train_test_split, GridSearchCV\n",
    "from sklearn.linear_model import SGDClassifier, LogisticRegression"
   ]
  },
  {
   "cell_type": "code",
   "execution_count": 2,
   "metadata": {},
   "outputs": [],
   "source": [
    "try:\n",
    "    data = pd.read_csv(r'C:\\Users\\Julia\\Desktop\\DATA_SCIENCE\\Datasets\\toxic_comments.csv', index_col=[0])\n",
    "except:\n",
    "    data = pd.read_csv('/datasets/toxic_comments.csv', index_col=[0])"
   ]
  },
  {
   "cell_type": "markdown",
   "metadata": {},
   "source": [
    "Проверим данные на наличие дубликатов, пропущенных значений, выведем общую информацию датафрейма и посмотрим первые 5 строк с помощью метода `head()`"
   ]
  },
  {
   "cell_type": "code",
   "execution_count": 3,
   "metadata": {},
   "outputs": [
    {
     "name": "stdout",
     "output_type": "stream",
     "text": [
      "Количество дубликатов: 0\n",
      "\n",
      "Количество пропущенных значений:\n",
      " text     0\n",
      "toxic    0\n",
      "dtype: int64\n",
      "\n",
      "Размер таблицы: (159292, 2)\n",
      "\n",
      "<class 'pandas.core.frame.DataFrame'>\n",
      "Int64Index: 159292 entries, 0 to 159450\n",
      "Data columns (total 2 columns):\n",
      " #   Column  Non-Null Count   Dtype \n",
      "---  ------  --------------   ----- \n",
      " 0   text    159292 non-null  object\n",
      " 1   toxic   159292 non-null  int64 \n",
      "dtypes: int64(1), object(1)\n",
      "memory usage: 3.6+ MB\n"
     ]
    },
    {
     "data": {
      "text/html": [
       "<div>\n",
       "<style scoped>\n",
       "    .dataframe tbody tr th:only-of-type {\n",
       "        vertical-align: middle;\n",
       "    }\n",
       "\n",
       "    .dataframe tbody tr th {\n",
       "        vertical-align: top;\n",
       "    }\n",
       "\n",
       "    .dataframe thead th {\n",
       "        text-align: right;\n",
       "    }\n",
       "</style>\n",
       "<table border=\"1\" class=\"dataframe\">\n",
       "  <thead>\n",
       "    <tr style=\"text-align: right;\">\n",
       "      <th></th>\n",
       "      <th>text</th>\n",
       "      <th>toxic</th>\n",
       "    </tr>\n",
       "  </thead>\n",
       "  <tbody>\n",
       "    <tr>\n",
       "      <th>0</th>\n",
       "      <td>Explanation\\nWhy the edits made under my usern...</td>\n",
       "      <td>0</td>\n",
       "    </tr>\n",
       "    <tr>\n",
       "      <th>1</th>\n",
       "      <td>D'aww! He matches this background colour I'm s...</td>\n",
       "      <td>0</td>\n",
       "    </tr>\n",
       "    <tr>\n",
       "      <th>2</th>\n",
       "      <td>Hey man, I'm really not trying to edit war. It...</td>\n",
       "      <td>0</td>\n",
       "    </tr>\n",
       "    <tr>\n",
       "      <th>3</th>\n",
       "      <td>\"\\nMore\\nI can't make any real suggestions on ...</td>\n",
       "      <td>0</td>\n",
       "    </tr>\n",
       "    <tr>\n",
       "      <th>4</th>\n",
       "      <td>You, sir, are my hero. Any chance you remember...</td>\n",
       "      <td>0</td>\n",
       "    </tr>\n",
       "  </tbody>\n",
       "</table>\n",
       "</div>"
      ],
      "text/plain": [
       "                                                text  toxic\n",
       "0  Explanation\\nWhy the edits made under my usern...      0\n",
       "1  D'aww! He matches this background colour I'm s...      0\n",
       "2  Hey man, I'm really not trying to edit war. It...      0\n",
       "3  \"\\nMore\\nI can't make any real suggestions on ...      0\n",
       "4  You, sir, are my hero. Any chance you remember...      0"
      ]
     },
     "execution_count": 3,
     "metadata": {},
     "output_type": "execute_result"
    }
   ],
   "source": [
    "def show (data):\n",
    "    print('Количество дубликатов:', data.duplicated().sum())\n",
    "    print()\n",
    "    print('Количество пропущенных значений:\\n', data.isna().sum())\n",
    "    print()\n",
    "    print('Размер таблицы:', data.shape)\n",
    "    print()\n",
    "    data.info()\n",
    "    return data.head()\n",
    "show(data)"
   ]
  },
  {
   "cell_type": "markdown",
   "metadata": {},
   "source": [
    "В комментариях обнаружены спец.символы. Очистим их с помощью регулярных выражений и лемматизируем"
   ]
  },
  {
   "cell_type": "code",
   "execution_count": 4,
   "metadata": {},
   "outputs": [],
   "source": [
    "def clean_text(text):\n",
    "    text = re.sub(r\"[^a-zA-Z ]+\", \" \", text)\n",
    "    return text.strip().lower()"
   ]
  },
  {
   "cell_type": "code",
   "execution_count": 5,
   "metadata": {},
   "outputs": [
    {
     "data": {
      "text/html": [
       "<div>\n",
       "<style scoped>\n",
       "    .dataframe tbody tr th:only-of-type {\n",
       "        vertical-align: middle;\n",
       "    }\n",
       "\n",
       "    .dataframe tbody tr th {\n",
       "        vertical-align: top;\n",
       "    }\n",
       "\n",
       "    .dataframe thead th {\n",
       "        text-align: right;\n",
       "    }\n",
       "</style>\n",
       "<table border=\"1\" class=\"dataframe\">\n",
       "  <thead>\n",
       "    <tr style=\"text-align: right;\">\n",
       "      <th></th>\n",
       "      <th>text</th>\n",
       "      <th>toxic</th>\n",
       "    </tr>\n",
       "  </thead>\n",
       "  <tbody>\n",
       "    <tr>\n",
       "      <th>0</th>\n",
       "      <td>explanation why the edits make under my userna...</td>\n",
       "      <td>0</td>\n",
       "    </tr>\n",
       "    <tr>\n",
       "      <th>1</th>\n",
       "      <td>d aww he match this background colour i m seem...</td>\n",
       "      <td>0</td>\n",
       "    </tr>\n",
       "    <tr>\n",
       "      <th>2</th>\n",
       "      <td>hey man i m really not try to edit war it s ju...</td>\n",
       "      <td>0</td>\n",
       "    </tr>\n",
       "    <tr>\n",
       "      <th>3</th>\n",
       "      <td>more i can t make any real suggestion on impro...</td>\n",
       "      <td>0</td>\n",
       "    </tr>\n",
       "    <tr>\n",
       "      <th>4</th>\n",
       "      <td>you sir be my hero any chance you remember wha...</td>\n",
       "      <td>0</td>\n",
       "    </tr>\n",
       "  </tbody>\n",
       "</table>\n",
       "</div>"
      ],
      "text/plain": [
       "                                                text  toxic\n",
       "0  explanation why the edits make under my userna...      0\n",
       "1  d aww he match this background colour i m seem...      0\n",
       "2  hey man i m really not try to edit war it s ju...      0\n",
       "3  more i can t make any real suggestion on impro...      0\n",
       "4  you sir be my hero any chance you remember wha...      0"
      ]
     },
     "execution_count": 5,
     "metadata": {},
     "output_type": "execute_result"
    }
   ],
   "source": [
    "wnl = WordNetLemmatizer()\n",
    "tknzr = TweetTokenizer()\n",
    "def lemmatize(text, m=wnl):\n",
    "    word_list = tknzr.tokenize(text)\n",
    "    lemma_list = []\n",
    "    for word, tag in nltk.pos_tag(word_list):\n",
    "        if tag.startswith('NN'):\n",
    "            lemma = m.lemmatize(word, pos='n')\n",
    "        elif tag.startswith('VB'):\n",
    "            lemma = m.lemmatize(word, pos='v')\n",
    "        elif tag.startswith('JJ'):\n",
    "            lemma = m.lemmatize(word, pos='a')\n",
    "        elif tag.startswith('R'):\n",
    "            lemma = m.lemmatize(word, pos='r')\n",
    "        else:\n",
    "            lemma = m.lemmatize(word)\n",
    "        lemma_list.append(lemma)\n",
    "    return ' '.join(lemma_list)\n",
    "\n",
    "data['text'] = data['text'].apply(clean_text)\n",
    "data['text'] = data['text'].apply(lemmatize)\n",
    "data.head()"
   ]
  },
  {
   "cell_type": "markdown",
   "metadata": {},
   "source": [
    "Посмотрим на распределение целевого признака `toxic`:"
   ]
  },
  {
   "cell_type": "code",
   "execution_count": 6,
   "metadata": {},
   "outputs": [
    {
     "data": {
      "image/png": "[encoded data removed]",
      "text/plain": [
       "<Figure size 650x500 with 1 Axes>"
      ]
     },
     "metadata": {},
     "output_type": "display_data"
    }
   ],
   "source": [
    "data['toxic'].value_counts().plot(kind='pie', autopct='%1.1f%%', figsize=(6.5,5), colors=['#87CEFA', '#FFFACD'],\n",
    "                                 wedgeprops={'edgecolor': 'blue', 'linewidth': 0.5})\n",
    "plt.legend(['Positive','Toxic'])\n",
    "plt.title('Распределение комментариев в выборке')\n",
    "plt.axis('off');"
   ]
  },
  {
   "cell_type": "markdown",
   "metadata": {},
   "source": [
    "В выборке присутствует дисбаланс. Позитивных комментариев больше (90%), чем негативных (10%)."
   ]
  },
  {
   "cell_type": "markdown",
   "metadata": {},
   "source": [
    "**Вывод:**\n",
    "- мы импортировали нужные библиотеки для дальнейшей работы и загрузили данные\n",
    "- проверили данные на наличие дубликатов, пропущенных значений, вывели общую информацию датафрейма, дубликаты и пропущенные значения найдены не были\n",
    "- в комментариях были обнаружены спец.символы, очистили их с помощью регулярных выражений и лемматизировали\n",
    "- посмотрели на распределение целевого признака `toxic` и выяснили, что в выборке присутствует дисбаланс: позитивных комментариев больше (90%), чем негативных (10%)"
   ]
  },
  {
   "cell_type": "markdown",
   "metadata": {},
   "source": [
    "## Обучение"
   ]
  },
  {
   "cell_type": "markdown",
   "metadata": {},
   "source": [
    "Разделим выборку на тренировочную и тестовую в соотношении 90/10 , сохраним пропорции целевой переменной в обучающей и тестовой выборках при разделении данных с помощью параметра `stratify`:"
   ]
  },
  {
   "cell_type": "code",
   "execution_count": 7,
   "metadata": {},
   "outputs": [
    {
     "name": "stdout",
     "output_type": "stream",
     "text": [
      "Размер обучающей выборки: 90%\n",
      "Размер тестовой выборки: 10%\n"
     ]
    }
   ],
   "source": [
    "features = data['text']\n",
    "target = data['toxic']\n",
    "features_train, features_test, target_train, target_test = train_test_split(features, target, test_size=0.1,\n",
    "                                                                            random_state=123, stratify=data.toxic)\n",
    "print(f'Размер обучающей выборки: {len (features_train) / len(data):.0%}')\n",
    "print(f'Размер тестовой выборки: {len (features_test) / len(data):.0%}')"
   ]
  },
  {
   "cell_type": "markdown",
   "metadata": {},
   "source": [
    "Установим набор стоп-слов stop_words для удаления из текста, также установим ngram_range для создания n-грамм текста. Преобразуем текстовые данные матрицу, используя весовую схему TF-IDF:"
   ]
  },
  {
   "cell_type": "code",
   "execution_count": 9,
   "metadata": {},
   "outputs": [],
   "source": [
    "stop_words = set(stopwords.words('english'))\n",
    "tfv = TfidfVectorizer(stop_words=stop_words, ngram_range=(1,1))"
   ]
  },
  {
   "cell_type": "markdown",
   "metadata": {},
   "source": [
    "Приступим к обучению моделей:"
   ]
  },
  {
   "cell_type": "code",
   "execution_count": 10,
   "metadata": {},
   "outputs": [
    {
     "name": "stdout",
     "output_type": "stream",
     "text": [
      "Fitting 5 folds for each of 1 candidates, totalling 5 fits\n",
      "Лучшие параметры Logistic Regression на кросс-валидационной выборке: {'lr__C': 10, 'lr__class_weight': 'balanced', 'lr__max_iter': 500}\n",
      "F1: 0.75564\n"
     ]
    }
   ],
   "source": [
    "tfv_lr_pipeline = Pipeline([('tfv', tfv),\n",
    "                            ('lr', LogisticRegression(random_state=123))])\n",
    "params_tfv_lr = {'lr__class_weight': ['balanced'],\n",
    "                 'lr__C': [10],\n",
    "                 'lr__max_iter': [500]}\n",
    "\n",
    "grid_tfv_lr = GridSearchCV(tfv_lr_pipeline, param_grid=params_tfv_lr, scoring='f1', verbose=3, cv=5, n_jobs=-1)\n",
    "grid_tfv_lr.fit(features_train, target_train)\n",
    "print('Лучшие параметры Logistic Regression на кросс-валидационной выборке:', grid_tfv_lr.best_params_)\n",
    "print('F1:', round(grid_tfv_lr.best_score_, 5))"
   ]
  },
  {
   "cell_type": "code",
   "execution_count": 11,
   "metadata": {},
   "outputs": [
    {
     "name": "stdout",
     "output_type": "stream",
     "text": [
      "Fitting 5 folds for each of 16 candidates, totalling 80 fits\n",
      "Лучшие параметры SGDClassifier на кросс-валидационной выборке: {'sgd__class_weight': 'balanced', 'sgd__loss': 'log', 'sgd__max_iter': 500, 'sgd__n_iter_no_change': 20, 'sgd__penalty': 'l1', 'sgd__shuffle': True}\n",
      "F1: 0.71491\n"
     ]
    }
   ],
   "source": [
    "tfv_sgd_pipeline = Pipeline([('tfv', tfv),\n",
    "                             ('sgd', SGDClassifier(random_state=123))])\n",
    "\n",
    "params_tfv_sgd = {'sgd__class_weight': ['balanced', None],\n",
    "                  'sgd__max_iter': [500, 1000],\n",
    "                  'sgd__loss': ['log', 'squared_hinge'],\n",
    "                  'sgd__penalty': ['l1'],\n",
    "                  'sgd__shuffle': [True],\n",
    "                  'sgd__n_iter_no_change': [10, 20]}\n",
    "\n",
    "grid_tfv_sgd = GridSearchCV(tfv_sgd_pipeline, param_grid=params_tfv_sgd, scoring='f1', verbose=3, cv=5, n_jobs=-1)\n",
    "grid_tfv_sgd.fit(features_train, target_train)\n",
    "print('Лучшие параметры SGDClassifier на кросс-валидационной выборке:', grid_tfv_sgd.best_params_)\n",
    "print('F1:', round(grid_tfv_sgd.best_score_, 5))"
   ]
  },
  {
   "cell_type": "markdown",
   "metadata": {},
   "source": [
    "Лучший результат метрики f1 на кросс-валидационной выборке показала модель логистической регрессии, проверим ее качество на тестовой выборке:"
   ]
  },
  {
   "cell_type": "code",
   "execution_count": 12,
   "metadata": {
    "scrolled": true
   },
   "outputs": [
    {
     "name": "stdout",
     "output_type": "stream",
     "text": [
      "F1 для Logisctic Regression на тестовой выборке: 0.76628\n"
     ]
    }
   ],
   "source": [
    "prediction = grid_tfv_lr.predict(features_test)\n",
    "print('F1 для Logisctic Regression на тестовой выборке:', round(f1_score(target_test, prediction), 5))"
   ]
  },
  {
   "cell_type": "markdown",
   "metadata": {},
   "source": [
    "Проанализируем результаты классификации модели с помощью матрицы ошибок:"
   ]
  },
  {
   "cell_type": "code",
   "execution_count": 13,
   "metadata": {},
   "outputs": [
    {
     "data": {
      "image/png": "[encoded data removed]",
      "text/plain": [
       "<Figure size 500x350 with 2 Axes>"
      ]
     },
     "metadata": {},
     "output_type": "display_data"
    }
   ],
   "source": [
    "plt.figure(figsize=(5,3.5))\n",
    "ax = plt.subplot()\n",
    "sns.heatmap(confusion_matrix(target_test, prediction, normalize='true'), annot=True, fmt='.0%', cmap=\"tab20\")\n",
    "ax.set_xlabel('Predicted')\n",
    "ax.set_ylabel('Actual')\n",
    "ax.set_title('Confusion Matrix');"
   ]
  },
  {
   "cell_type": "markdown",
   "metadata": {},
   "source": [
    "False Positive и False Negative различается, но расхождения не критичные, процент правильно предсказанных значений достаточно высокий"
   ]
  },
  {
   "cell_type": "markdown",
   "metadata": {},
   "source": [
    "**Вывод:**\n",
    "- разделили выборку на тренировочную и тестовую в соотношении 80/20 , сохранили пропорции целевой переменной в обучающей и тестовой выборках при разделении данных с помощью параметра `stratify`\n",
    "- преобразовали тип данных столбца text в тип Unicode (U)\n",
    "- установили набор стоп-слов stop_words для удаления из текста, также установили ngram_range для создания n-грамм текста\n",
    "- преобразовали текстовые данные в векторы, используя весовую схему TF-IDF. ngram_range=(1,2) позволил использовать векторизацию с учетом как отдельных слов, так и двух слов (биграмм) в тексте, что помогло учесть контекст и смысловые связи между словами\n",
    "- обучили модели классификации Logistic Regression и SGDClassifier, лучший результат метрики f1 на кросс-валидационной выборке показала модель логистической регрессии, проверили ее качество на тестовой выборке, результат F1 для Logisctic Regression на тестовой выборке равен 0.76628\n",
    "- проанализировали результаты классификации модели с помощью матрицы ошибок и выяснили, False Positive и False Negative различается, но расхождения не критичные, процент правильно предсказанных значений достаточно высокий"
   ]
  },
  {
   "cell_type": "markdown",
   "metadata": {},
   "source": [
    "## Выводы по проекту"
   ]
  },
  {
   "cell_type": "markdown",
   "metadata": {},
   "source": [
    "- мы загрузили, проанализировали и подготовили данныее\n",
    "- разделили выборку на тренировочную и тестовую, установили набор стоп-слов stop_words для удаления из текста, также установили ngram_range для создания n-грамм текста, преобразовали текстовые данные в векторы, используя весовую схему TF-IDF\n",
    "- обучили модели классификации Logistic Regression и SGDClassifier, лучший результат метрики f1 на кросс-валидационной выборке показала модель логистической регрессии, проверили ее качество на тестовой выборке, результат F1 для Logisctic Regression на тестовой выборке равен 0.76628\n",
    "- проанализировали результаты классификации модели с помощью матрицы ошибок.\n",
    "- результат f1 для Logisctic Regression на тестовой выборке: 0.76628, что удовлетворяет условию задачи"
   ]
  }
 ],
 "metadata": {
  "ExecuteTimeLog": [
   {
    "duration": 1951,
    "start_time": "2023-04-14T11:40:54.272Z"
   },
   {
    "duration": 2401,
    "start_time": "2023-04-14T11:42:18.364Z"
   },
   {
    "duration": 13,
    "start_time": "2023-04-14T11:42:32.974Z"
   }
  ],
  "kernelspec": {
   "display_name": "Python 3 (ipykernel)",
   "language": "python",
   "name": "python3"
  },
  "language_info": {
   "codemirror_mode": {
    "name": "ipython",
    "version": 3
   },
   "file_extension": ".py",
   "mimetype": "text/x-python",
   "name": "python",
   "nbconvert_exporter": "python",
   "pygments_lexer": "ipython3",
   "version": "3.9.13"
  },
  "toc": {
   "base_numbering": 1,
   "nav_menu": {},
   "number_sections": true,
   "sideBar": true,
   "skip_h1_title": true,
   "title_cell": "Содержание",
   "title_sidebar": "Contents",
   "toc_cell": true,
   "toc_position": {
    "height": "calc(100% - 180px)",
    "left": "10px",
    "top": "150px",
    "width": "302.391px"
   },
   "toc_section_display": true,
   "toc_window_display": false
  }
 },
 "nbformat": 4,
 "nbformat_minor": 2
}
