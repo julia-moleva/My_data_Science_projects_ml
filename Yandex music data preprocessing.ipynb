{
 "cells": [
  {
   "cell_type": "markdown",
   "metadata": {
    "deletable": false,
    "editable": false,
    "id": "E0vqbgi9ay0H"
   },
   "source": [
    "# Яндекс Музыка"
   ]
  },
  {
   "cell_type": "markdown",
   "metadata": {
    "deletable": false,
    "editable": false,
    "id": "VUC88oWjTJw2"
   },
   "source": [
    "Сравнение Москвы и Петербурга окружено мифами. Например:\n",
    " * Москва — мегаполис, подчинённый жёсткому ритму рабочей недели;\n",
    " * Петербург — культурная столица, со своими вкусами.\n",
    "\n",
    "На данных Яндекс Музыки вы сравните поведение пользователей двух столиц.\n",
    "\n",
    "**Цель исследования** — проверьте три гипотезы:\n",
    "1. Активность пользователей зависит от дня недели. Причём в Москве и Петербурге это проявляется по-разному.\n",
    "2. В понедельник утром в Москве преобладают одни жанры, а в Петербурге — другие. Так же и вечером пятницы преобладают разные жанры — в зависимости от города. \n",
    "3. Москва и Петербург предпочитают разные жанры музыки. В Москве чаще слушают поп-музыку, в Петербурге — русский рэп.\n",
    "\n",
    "**Ход исследования**\n",
    "\n",
    "Данные о поведении пользователей вы получите из файла `yandex_music_project.csv`. О качестве данных ничего не известно. Поэтому перед проверкой гипотез понадобится обзор данных. \n",
    "\n",
    "Вы проверите данные на ошибки и оцените их влияние на исследование. Затем, на этапе предобработки вы поищете возможность исправить самые критичные ошибки данных.\n",
    " \n",
    "Таким образом, исследование пройдёт в три этапа:\n",
    " 1. Обзор данных.\n",
    " 2. Предобработка данных.\n",
    " 3. Проверка гипотез.\n",
    "\n"
   ]
  },
  {
   "cell_type": "markdown",
   "metadata": {
    "deletable": false,
    "editable": false,
    "id": "Ml1hmfXC_Zcs"
   },
   "source": [
    "## Обзор данных\n",
    "\n",
    "Составьте первое представление о данных Яндекс Музыки.\n",
    "\n",
    "\n"
   ]
  },
  {
   "cell_type": "markdown",
   "metadata": {
    "deletable": false,
    "editable": false,
    "id": "57eAOGIz_Zcs",
    "tags": [
     "start_task"
    ]
   },
   "source": [
    "**Задание 1**\n",
    "\n",
    "Основной инструмент аналитика — `pandas`. Импортируйте эту библиотеку."
   ]
  },
  {
   "cell_type": "code",
   "execution_count": 1,
   "metadata": {
    "deletable": false,
    "id": "AXN7PHPN_Zcs"
   },
   "outputs": [],
   "source": [
    "import pandas as pd\n",
    "# импорт библиотеки pandas"
   ]
  },
  {
   "cell_type": "markdown",
   "metadata": {
    "deletable": false,
    "editable": false,
    "id": "SG23P8tt_Zcs",
    "tags": [
     "start_task"
    ]
   },
   "source": [
    "**Задание 2**\n",
    "\n",
    "Прочитайте файл `yandex_music_project.csv` из папки `/datasets` и сохраните его в переменной `df`:"
   ]
  },
  {
   "cell_type": "code",
   "execution_count": 2,
   "metadata": {
    "deletable": false,
    "id": "fFVu7vqh_Zct"
   },
   "outputs": [],
   "source": [
    "df = pd.read_csv('/datasets/yandex_music_project.csv')\n",
    "# чтение файла с данными и сохранение в df"
   ]
  },
  {
   "cell_type": "markdown",
   "metadata": {
    "deletable": false,
    "editable": false,
    "id": "rDoOMd3uTqnZ",
    "tags": [
     "start_task"
    ]
   },
   "source": [
    "**Задание 3**\n",
    "\n",
    "\n",
    "Выведите на экран первые десять строк таблицы:"
   ]
  },
  {
   "cell_type": "code",
   "execution_count": 3,
   "metadata": {
    "deletable": false,
    "id": "oWTVX3gW_Zct"
   },
   "outputs": [
    {
     "name": "stdout",
     "output_type": "stream",
     "text": [
      "     userID                        Track            artist   genre  \\\n",
      "0  FFB692EC            Kamigata To Boots  The Mass Missile    rock   \n",
      "1  55204538  Delayed Because of Accident  Andreas Rönnberg    rock   \n",
      "2    20EC38            Funiculì funiculà       Mario Lanza     pop   \n",
      "3  A3DD03C9        Dragons in the Sunset        Fire + Ice    folk   \n",
      "4  E2DC1FAE                  Soul People        Space Echo   dance   \n",
      "5  842029A1                    Преданная         IMPERVTOR  rusrap   \n",
      "6  4CB90AA5                         True      Roman Messer   dance   \n",
      "7  F03E1C1F             Feeling This Way   Polina Griffith   dance   \n",
      "8  8FA1D3BE     И вновь продолжается бой               NaN  ruspop   \n",
      "9  E772D5C0                    Pessimist               NaN   dance   \n",
      "\n",
      "             City        time        Day  \n",
      "0  Saint-Petersburg  20:28:33  Wednesday  \n",
      "1            Moscow  14:07:09     Friday  \n",
      "2  Saint-Petersburg  20:58:07  Wednesday  \n",
      "3  Saint-Petersburg  08:37:09     Monday  \n",
      "4            Moscow  08:34:34     Monday  \n",
      "5  Saint-Petersburg  13:09:41     Friday  \n",
      "6            Moscow  13:00:07  Wednesday  \n",
      "7            Moscow  20:47:49  Wednesday  \n",
      "8            Moscow  09:17:40     Friday  \n",
      "9  Saint-Petersburg  21:20:49  Wednesday  \n"
     ]
    }
   ],
   "source": [
    "print(df.head(10))\n",
    "# получение первых 10 строк таблицы df"
   ]
  },
  {
   "cell_type": "markdown",
   "metadata": {
    "deletable": false,
    "editable": false,
    "id": "EO73Kwic_Zct",
    "tags": [
     "start_task"
    ]
   },
   "source": [
    "**Задание 4**\n",
    "\n",
    "\n",
    "Одной командой получить общую информацию о таблице c помощью метода `info()`:"
   ]
  },
  {
   "cell_type": "code",
   "execution_count": 4,
   "metadata": {
    "deletable": false,
    "id": "DSf2kIb-_Zct"
   },
   "outputs": [
    {
     "name": "stdout",
     "output_type": "stream",
     "text": [
      "<class 'pandas.core.frame.DataFrame'>\n",
      "RangeIndex: 65079 entries, 0 to 65078\n",
      "Data columns (total 7 columns):\n",
      " #   Column    Non-Null Count  Dtype \n",
      "---  ------    --------------  ----- \n",
      " 0     userID  65079 non-null  object\n",
      " 1   Track     63848 non-null  object\n",
      " 2   artist    57876 non-null  object\n",
      " 3   genre     63881 non-null  object\n",
      " 4     City    65079 non-null  object\n",
      " 5   time      65079 non-null  object\n",
      " 6   Day       65079 non-null  object\n",
      "dtypes: object(7)\n",
      "memory usage: 3.5+ MB\n"
     ]
    }
   ],
   "source": [
    "df.info()\n",
    "# получение общей информации о данных в таблице df"
   ]
  },
  {
   "cell_type": "markdown",
   "metadata": {
    "deletable": false,
    "editable": false,
    "id": "TaQ2Iwbr_Zct"
   },
   "source": [
    "Итак, в таблице семь столбцов. Тип данных во всех столбцах — `object`.\n",
    "\n",
    "Согласно документации к данным:\n",
    "* `userID` — идентификатор пользователя;\n",
    "* `Track` — название трека;  \n",
    "* `artist` — имя исполнителя;\n",
    "* `genre` — название жанра;\n",
    "* `City` — город пользователя;\n",
    "* `time` — время начала прослушивания;\n",
    "* `Day` — день недели.\n",
    "\n",
    "Количество значений в столбцах различается. Значит, в данных есть пропущенные значения."
   ]
  },
  {
   "cell_type": "markdown",
   "metadata": {
    "deletable": false,
    "editable": false,
    "id": "rAfziTBDmf2h",
    "tags": [
     "start_task"
    ]
   },
   "source": [
    "**Задание 5**\n",
    "\n",
    "**Вопрос со свободной формой ответа**\n",
    "\n",
    "В названиях колонок видны нарушения стиля:\n",
    "* Строчные буквы сочетаются с прописными.\n",
    "* Встречаются пробелы.\n",
    "\n",
    "Какое третье нарушение?"
   ]
  },
  {
   "cell_type": "code",
   "execution_count": 5,
   "metadata": {
    "id": "jD8EXEIvmf2h"
   },
   "outputs": [],
   "source": [
    "# отсутствует snake_case."
   ]
  },
  {
   "cell_type": "markdown",
   "metadata": {
    "deletable": false,
    "editable": false,
    "id": "MCB6-dXG_Zct"
   },
   "source": [
    "**Выводы**\n",
    "\n",
    "В каждой строке таблицы — данные о прослушанном треке. Часть колонок описывает саму композицию: название, исполнителя и жанр. Остальные данные рассказывают о пользователе: из какого он города, когда он слушал музыку. \n",
    "\n",
    "Предварительно можно утверждать, что данных достаточно для проверки гипотез. Но встречаются пропуски в данных, а в названиях колонок — расхождения с хорошим стилем.\n",
    "\n",
    "Чтобы двигаться дальше, нужно устранить проблемы в данных."
   ]
  },
  {
   "cell_type": "markdown",
   "metadata": {
    "deletable": false,
    "editable": false,
    "id": "SjYF6Ub9_Zct"
   },
   "source": [
    "## Предобработка данных\n",
    "Исправьте стиль в заголовках столбцов, исключите пропуски. Затем проверьте данные на дубликаты."
   ]
  },
  {
   "cell_type": "markdown",
   "metadata": {
    "deletable": false,
    "editable": false,
    "id": "dIaKXr29_Zct",
    "tags": [
     "start_task"
    ]
   },
   "source": [
    "### Стиль заголовков\n",
    "\n",
    "**Задание 6**\n",
    "\n",
    "Выведите на экран названия столбцов:"
   ]
  },
  {
   "cell_type": "code",
   "execution_count": 6,
   "metadata": {
    "deletable": false,
    "id": "oKOTdF_Q_Zct"
   },
   "outputs": [
    {
     "name": "stdout",
     "output_type": "stream",
     "text": [
      "Index(['  userID', 'Track', 'artist', 'genre', '  City  ', 'time', 'Day'], dtype='object')\n"
     ]
    }
   ],
   "source": [
    "print(df.columns)\n",
    "# перечень названий столбцов таблицы df"
   ]
  },
  {
   "cell_type": "markdown",
   "metadata": {
    "deletable": false,
    "editable": false,
    "id": "zj5534cv_Zct",
    "tags": [
     "start_task"
    ]
   },
   "source": [
    "**Задание 7**\n",
    "\n",
    "\n",
    "Приведите названия в соответствие с хорошим стилем:\n",
    "* несколько слов в названии запишите в «змеином_регистре»,\n",
    "* все символы сделайте строчными,\n",
    "* устраните пробелы.\n",
    "\n",
    "Для этого переименуйте колонки так:\n",
    "* `'  userID'` → `'user_id'`;\n",
    "* `'Track'` → `'track'`;\n",
    "* `'  City  '` → `'city'`;\n",
    "* `'Day'` → `'day'`."
   ]
  },
  {
   "cell_type": "code",
   "execution_count": 7,
   "metadata": {
    "deletable": false,
    "id": "ISlFqs5y_Zct"
   },
   "outputs": [],
   "source": [
    "df = df.rename(columns={'  userID':'user_id', 'Track': 'track', '  City  ':'city', 'Day':'day' })\n",
    "# переименование столбцов"
   ]
  },
  {
   "cell_type": "markdown",
   "metadata": {
    "deletable": false,
    "editable": false,
    "id": "1dqbh00J_Zct",
    "tags": [
     "start_task"
    ]
   },
   "source": [
    "**Задание 8**\n",
    "\n",
    "\n",
    "Проверьте результат. Для этого ещё раз выведите на экран названия столбцов:"
   ]
  },
  {
   "cell_type": "code",
   "execution_count": 8,
   "metadata": {
    "deletable": false,
    "id": "d4NOAmTW_Zct"
   },
   "outputs": [
    {
     "name": "stdout",
     "output_type": "stream",
     "text": [
      "Index(['user_id', 'track', 'artist', 'genre', 'city', 'time', 'day'], dtype='object')\n"
     ]
    }
   ],
   "source": [
    "print(df.columns)\n",
    "# проверка результатов - перечень названий столбцов"
   ]
  },
  {
   "cell_type": "markdown",
   "metadata": {
    "deletable": false,
    "editable": false,
    "id": "5ISfbcfY_Zct",
    "tags": [
     "start_task"
    ]
   },
   "source": [
    "### Пропуски значений\n",
    "\n",
    "**Задание 9**\n",
    "\n",
    "Сначала посчитайте, сколько в таблице пропущенных значений. Для этого достаточно двух методов `pandas`:"
   ]
  },
  {
   "cell_type": "code",
   "execution_count": 9,
   "metadata": {
    "deletable": false,
    "id": "RskX29qr_Zct"
   },
   "outputs": [
    {
     "name": "stdout",
     "output_type": "stream",
     "text": [
      "user_id       0\n",
      "track      1231\n",
      "artist     7203\n",
      "genre      1198\n",
      "city          0\n",
      "time          0\n",
      "day           0\n",
      "dtype: int64\n"
     ]
    }
   ],
   "source": [
    "print(df.isna().sum())\n",
    "# подсчёт пропусков"
   ]
  },
  {
   "cell_type": "markdown",
   "metadata": {
    "deletable": false,
    "editable": false,
    "id": "qubhgnlO_Zct"
   },
   "source": [
    "Не все пропущенные значения влияют на исследование. Так в `track` и `artist` пропуски не важны для вашей работы. Достаточно заменить их явными обозначениями.\n",
    "\n",
    "Но пропуски в `genre` могут помешать сравнению музыкальных вкусов в Москве и Санкт-Петербурге. На практике было бы правильно установить причину пропусков и восстановить данные. Такой возможности нет в учебном проекте. Придётся:\n",
    "* заполнить и эти пропуски явными обозначениями;\n",
    "* оценить, насколько они повредят расчётам. "
   ]
  },
  {
   "cell_type": "markdown",
   "metadata": {
    "deletable": false,
    "editable": false,
    "id": "fSv2laPA_Zct",
    "tags": [
     "start_task"
    ]
   },
   "source": [
    "**Задание 10**\n",
    "\n",
    "Замените пропущенные значения в столбцах `track`, `artist` и `genre` на строку `'unknown'`. Для этого создайте список `columns_to_replace`, переберите его элементы циклом `for` и для каждого столбца выполните замену пропущенных значений:"
   ]
  },
  {
   "cell_type": "code",
   "execution_count": 10,
   "metadata": {
    "deletable": false,
    "id": "KplB5qWs_Zct"
   },
   "outputs": [],
   "source": [
    "columns_to_replace = ['track', 'artist', 'genre']\n",
    "for column in columns_to_replace:\n",
    "    df[column] = df[column].fillna('unknown')\n",
    "# перебор названий столбцов в цикле и замена пропущенных значений на 'unknown'"
   ]
  },
  {
   "cell_type": "markdown",
   "metadata": {
    "deletable": false,
    "editable": false,
    "id": "Ilsm-MZo_Zct",
    "tags": [
     "start_task"
    ]
   },
   "source": [
    "**Задание 11**\n",
    "\n",
    "Убедитесь, что в таблице не осталось пропусков. Для этого ещё раз посчитайте пропущенные значения."
   ]
  },
  {
   "cell_type": "code",
   "execution_count": 11,
   "metadata": {
    "deletable": false,
    "id": "Tq4nYRX4_Zct"
   },
   "outputs": [
    {
     "name": "stdout",
     "output_type": "stream",
     "text": [
      "user_id    0\n",
      "track      0\n",
      "artist     0\n",
      "genre      0\n",
      "city       0\n",
      "time       0\n",
      "day        0\n",
      "dtype: int64\n"
     ]
    }
   ],
   "source": [
    "print(df.isna().sum())\n",
    "# подсчёт пропусков"
   ]
  },
  {
   "cell_type": "markdown",
   "metadata": {
    "deletable": false,
    "editable": false,
    "id": "BWKRtBJ3_Zct",
    "tags": [
     "start_task"
    ]
   },
   "source": [
    "### Дубликаты\n",
    "\n",
    "**Задание 12**\n",
    "\n",
    "Посчитайте явные дубликаты в таблице одной командой:"
   ]
  },
  {
   "cell_type": "code",
   "execution_count": 12,
   "metadata": {
    "deletable": false,
    "id": "36eES_S0_Zct"
   },
   "outputs": [
    {
     "data": {
      "text/plain": [
       "3826"
      ]
     },
     "execution_count": 12,
     "metadata": {},
     "output_type": "execute_result"
    }
   ],
   "source": [
    "df.duplicated().sum()\n",
    "# подсчёт явных дубликатов"
   ]
  },
  {
   "cell_type": "markdown",
   "metadata": {
    "deletable": false,
    "editable": false,
    "id": "Ot25h6XR_Zct",
    "tags": [
     "start_task"
    ]
   },
   "source": [
    "**Задание 13**\n",
    "\n",
    "Вызовите специальный метод `pandas`, чтобы удалить явные дубликаты:"
   ]
  },
  {
   "cell_type": "code",
   "execution_count": 13,
   "metadata": {
    "deletable": false,
    "id": "exFHq6tt_Zct"
   },
   "outputs": [],
   "source": [
    "df = df.drop_duplicates()\n",
    "# удаление явных дубликатов"
   ]
  },
  {
   "cell_type": "markdown",
   "metadata": {
    "deletable": false,
    "editable": false,
    "id": "Im2YwBEG_Zct",
    "tags": [
     "start_task"
    ]
   },
   "source": [
    "**Задание 14**\n",
    "\n",
    "Ещё раз посчитайте явные дубликаты в таблице — убедитесь, что полностью от них избавились:"
   ]
  },
  {
   "cell_type": "code",
   "execution_count": 14,
   "metadata": {
    "deletable": false,
    "id": "-8PuNWQ0_Zct"
   },
   "outputs": [
    {
     "data": {
      "text/plain": [
       "0"
      ]
     },
     "execution_count": 14,
     "metadata": {},
     "output_type": "execute_result"
    }
   ],
   "source": [
    "df.duplicated().sum()\n",
    "# проверка на отсутствие дубликатов"
   ]
  },
  {
   "cell_type": "markdown",
   "metadata": {
    "deletable": false,
    "editable": false,
    "id": "QlFBsxAr_Zct"
   },
   "source": [
    "Теперь избавьтесь от неявных дубликатов в колонке `genre`. Например, название одного и того же жанра может быть записано немного по-разному. Такие ошибки тоже повлияют на результат исследования."
   ]
  },
  {
   "cell_type": "markdown",
   "metadata": {
    "deletable": false,
    "editable": false,
    "id": "eSjWwsOh_Zct",
    "tags": [
     "start_task"
    ]
   },
   "source": [
    "**Задание 15**\n",
    "\n",
    "Выведите на экран список уникальных названий жанров, отсортированный в алфавитном порядке. Для этого:\n",
    "1. извлеките нужный столбец датафрейма; \n",
    "2. примените к нему метод сортировки;\n",
    "3. для отсортированного столбца вызовите метод, который вернёт уникальные значения из столбца."
   ]
  },
  {
   "cell_type": "code",
   "execution_count": 15,
   "metadata": {
    "deletable": false,
    "id": "JIUcqzZN_Zct",
    "scrolled": true
   },
   "outputs": [
    {
     "name": "stdout",
     "output_type": "stream",
     "text": [
      "['acid' 'acoustic' 'action' 'adult' 'africa' 'afrikaans' 'alternative'\n",
      " 'alternativepunk' 'ambient' 'americana' 'animated' 'anime' 'arabesk'\n",
      " 'arabic' 'arena' 'argentinetango' 'art' 'audiobook' 'author' 'avantgarde'\n",
      " 'axé' 'baile' 'balkan' 'beats' 'bigroom' 'black' 'bluegrass' 'blues'\n",
      " 'bollywood' 'bossa' 'brazilian' 'breakbeat' 'breaks' 'broadway'\n",
      " 'cantautori' 'cantopop' 'canzone' 'caribbean' 'caucasian' 'celtic'\n",
      " 'chamber' 'chanson' 'children' 'chill' 'chinese' 'choral' 'christian'\n",
      " 'christmas' 'classical' 'classicmetal' 'club' 'colombian' 'comedy'\n",
      " 'conjazz' 'contemporary' 'country' 'cuban' 'dance' 'dancehall' 'dancepop'\n",
      " 'dark' 'death' 'deep' 'deutschrock' 'deutschspr' 'dirty' 'disco' 'dnb'\n",
      " 'documentary' 'downbeat' 'downtempo' 'drum' 'dub' 'dubstep' 'eastern'\n",
      " 'easy' 'electronic' 'electropop' 'emo' 'entehno' 'epicmetal' 'estrada'\n",
      " 'ethnic' 'eurofolk' 'european' 'experimental' 'extrememetal' 'fado'\n",
      " 'fairytail' 'film' 'fitness' 'flamenco' 'folk' 'folklore' 'folkmetal'\n",
      " 'folkrock' 'folktronica' 'forró' 'frankreich' 'französisch' 'french'\n",
      " 'funk' 'future' 'gangsta' 'garage' 'german' 'ghazal' 'gitarre' 'glitch'\n",
      " 'gospel' 'gothic' 'grime' 'grunge' 'gypsy' 'handsup' \"hard'n'heavy\"\n",
      " 'hardcore' 'hardstyle' 'hardtechno' 'hip' 'hip-hop' 'hiphop' 'historisch'\n",
      " 'holiday' 'hop' 'horror' 'house' 'hymn' 'idm' 'independent' 'indian'\n",
      " 'indie' 'indipop' 'industrial' 'inspirational' 'instrumental'\n",
      " 'international' 'irish' 'jam' 'japanese' 'jazz' 'jewish' 'jpop' 'jungle'\n",
      " 'k-pop' 'karadeniz' 'karaoke' 'kayokyoku' 'korean' 'laiko' 'latin'\n",
      " 'latino' 'leftfield' 'local' 'lounge' 'loungeelectronic' 'lovers'\n",
      " 'malaysian' 'mandopop' 'marschmusik' 'meditative' 'mediterranean'\n",
      " 'melodic' 'metal' 'metalcore' 'mexican' 'middle' 'minimal'\n",
      " 'miscellaneous' 'modern' 'mood' 'mpb' 'muslim' 'native' 'neoklassik'\n",
      " 'neue' 'new' 'newage' 'newwave' 'nu' 'nujazz' 'numetal' 'oceania' 'old'\n",
      " 'opera' 'orchestral' 'other' 'piano' 'podcasts' 'pop' 'popdance'\n",
      " 'popelectronic' 'popeurodance' 'poprussian' 'post' 'posthardcore'\n",
      " 'postrock' 'power' 'progmetal' 'progressive' 'psychedelic' 'punjabi'\n",
      " 'punk' 'quebecois' 'ragga' 'ram' 'rancheras' 'rap' 'rave' 'reggae'\n",
      " 'reggaeton' 'regional' 'relax' 'religious' 'retro' 'rhythm' 'rnb' 'rnr'\n",
      " 'rock' 'rockabilly' 'rockalternative' 'rockindie' 'rockother' 'romance'\n",
      " 'roots' 'ruspop' 'rusrap' 'rusrock' 'russian' 'salsa' 'samba' 'scenic'\n",
      " 'schlager' 'self' 'sertanejo' 'shanson' 'shoegazing' 'showtunes' 'singer'\n",
      " 'ska' 'skarock' 'slow' 'smooth' 'soft' 'soul' 'soulful' 'sound'\n",
      " 'soundtrack' 'southern' 'specialty' 'speech' 'spiritual' 'sport'\n",
      " 'stonerrock' 'surf' 'swing' 'synthpop' 'synthrock' 'sängerportrait'\n",
      " 'tango' 'tanzorchester' 'taraftar' 'tatar' 'tech' 'techno' 'teen'\n",
      " 'thrash' 'top' 'traditional' 'tradjazz' 'trance' 'tribal' 'trip'\n",
      " 'triphop' 'tropical' 'türk' 'türkçe' 'ukrrock' 'unknown' 'urban' 'uzbek'\n",
      " 'variété' 'vi' 'videogame' 'vocal' 'western' 'world' 'worldbeat' 'ïîï'\n",
      " 'электроника']\n"
     ]
    }
   ],
   "source": [
    "genre_uniq = df.sort_values(by='genre',ascending=True)\n",
    "print(genre_uniq['genre'].unique())\n",
    "\n",
    "\n",
    "# Просмотр уникальных названий жанров"
   ]
  },
  {
   "cell_type": "markdown",
   "metadata": {
    "deletable": false,
    "editable": false,
    "id": "qej-Qmuo_Zct",
    "tags": [
     "start_task"
    ]
   },
   "source": [
    "**Задание 16**\n",
    "\n",
    "Просмотрите список и найдите неявные дубликаты названия `hiphop`. Это могут быть названия с ошибками или альтернативные названия того же жанра.\n",
    "\n",
    "Вы увидите следующие неявные дубликаты:\n",
    "* *hip*,\n",
    "* *hop*,\n",
    "* *hip-hop*.\n",
    "\n",
    "Чтобы очистить от них таблицу используйте метод `replace()` с двумя аргументами: списком строк-дубликатов (включащий *hip*, *hop* и *hip-hop*) и строкой с правильным значением. Вам нужно исправить колонку `genre` в таблице `df`: заменить каждое значение из списка дубликатов на верное. Вместо `hip`, `hop` и `hip-hop` в таблице должно быть значение `hiphop`:"
   ]
  },
  {
   "cell_type": "code",
   "execution_count": 16,
   "metadata": {
    "deletable": false,
    "id": "ErNDkmns_Zct"
   },
   "outputs": [],
   "source": [
    "duplicates = ['hip','hop','hip-hop']\n",
    "name = 'hiphop'\n",
    "df['genre'] = df['genre'].replace(duplicates,name)\n",
    "\n",
    "# Устранение неявных дубликатов"
   ]
  },
  {
   "cell_type": "markdown",
   "metadata": {
    "deletable": false,
    "editable": false,
    "id": "zQKF16_RG15m",
    "tags": [
     "start_task"
    ]
   },
   "source": [
    "**Задание 17**\n",
    "\n",
    "Проверьте, что заменили неправильные названия:\n",
    "\n",
    "*   hip,\n",
    "*   hop,\n",
    "*   hip-hop.\n",
    "\n",
    "Выведите отсортированный список уникальных значений столбца `genre`:"
   ]
  },
  {
   "cell_type": "code",
   "execution_count": 17,
   "metadata": {
    "deletable": false,
    "id": "wvixALnFG15m"
   },
   "outputs": [
    {
     "name": "stdout",
     "output_type": "stream",
     "text": [
      "['acid' 'acoustic' 'action' 'adult' 'africa' 'afrikaans' 'alternative'\n",
      " 'alternativepunk' 'ambient' 'americana' 'animated' 'anime' 'arabesk'\n",
      " 'arabic' 'arena' 'argentinetango' 'art' 'audiobook' 'author' 'avantgarde'\n",
      " 'axé' 'baile' 'balkan' 'beats' 'bigroom' 'black' 'bluegrass' 'blues'\n",
      " 'bollywood' 'bossa' 'brazilian' 'breakbeat' 'breaks' 'broadway'\n",
      " 'cantautori' 'cantopop' 'canzone' 'caribbean' 'caucasian' 'celtic'\n",
      " 'chamber' 'chanson' 'children' 'chill' 'chinese' 'choral' 'christian'\n",
      " 'christmas' 'classical' 'classicmetal' 'club' 'colombian' 'comedy'\n",
      " 'conjazz' 'contemporary' 'country' 'cuban' 'dance' 'dancehall' 'dancepop'\n",
      " 'dark' 'death' 'deep' 'deutschrock' 'deutschspr' 'dirty' 'disco' 'dnb'\n",
      " 'documentary' 'downbeat' 'downtempo' 'drum' 'dub' 'dubstep' 'eastern'\n",
      " 'easy' 'electronic' 'electropop' 'emo' 'entehno' 'epicmetal' 'estrada'\n",
      " 'ethnic' 'eurofolk' 'european' 'experimental' 'extrememetal' 'fado'\n",
      " 'fairytail' 'film' 'fitness' 'flamenco' 'folk' 'folklore' 'folkmetal'\n",
      " 'folkrock' 'folktronica' 'forró' 'frankreich' 'französisch' 'french'\n",
      " 'funk' 'future' 'gangsta' 'garage' 'german' 'ghazal' 'gitarre' 'glitch'\n",
      " 'gospel' 'gothic' 'grime' 'grunge' 'gypsy' 'handsup' \"hard'n'heavy\"\n",
      " 'hardcore' 'hardstyle' 'hardtechno' 'hiphop' 'historisch' 'holiday'\n",
      " 'horror' 'house' 'hymn' 'idm' 'independent' 'indian' 'indie' 'indipop'\n",
      " 'industrial' 'inspirational' 'instrumental' 'international' 'irish' 'jam'\n",
      " 'japanese' 'jazz' 'jewish' 'jpop' 'jungle' 'k-pop' 'karadeniz' 'karaoke'\n",
      " 'kayokyoku' 'korean' 'laiko' 'latin' 'latino' 'leftfield' 'local'\n",
      " 'lounge' 'loungeelectronic' 'lovers' 'malaysian' 'mandopop' 'marschmusik'\n",
      " 'meditative' 'mediterranean' 'melodic' 'metal' 'metalcore' 'mexican'\n",
      " 'middle' 'minimal' 'miscellaneous' 'modern' 'mood' 'mpb' 'muslim'\n",
      " 'native' 'neoklassik' 'neue' 'new' 'newage' 'newwave' 'nu' 'nujazz'\n",
      " 'numetal' 'oceania' 'old' 'opera' 'orchestral' 'other' 'piano' 'podcasts'\n",
      " 'pop' 'popdance' 'popelectronic' 'popeurodance' 'poprussian' 'post'\n",
      " 'posthardcore' 'postrock' 'power' 'progmetal' 'progressive' 'psychedelic'\n",
      " 'punjabi' 'punk' 'quebecois' 'ragga' 'ram' 'rancheras' 'rap' 'rave'\n",
      " 'reggae' 'reggaeton' 'regional' 'relax' 'religious' 'retro' 'rhythm'\n",
      " 'rnb' 'rnr' 'rock' 'rockabilly' 'rockalternative' 'rockindie' 'rockother'\n",
      " 'romance' 'roots' 'ruspop' 'rusrap' 'rusrock' 'russian' 'salsa' 'samba'\n",
      " 'scenic' 'schlager' 'self' 'sertanejo' 'shanson' 'shoegazing' 'showtunes'\n",
      " 'singer' 'ska' 'skarock' 'slow' 'smooth' 'soft' 'soul' 'soulful' 'sound'\n",
      " 'soundtrack' 'southern' 'specialty' 'speech' 'spiritual' 'sport'\n",
      " 'stonerrock' 'surf' 'swing' 'synthpop' 'synthrock' 'sängerportrait'\n",
      " 'tango' 'tanzorchester' 'taraftar' 'tatar' 'tech' 'techno' 'teen'\n",
      " 'thrash' 'top' 'traditional' 'tradjazz' 'trance' 'tribal' 'trip'\n",
      " 'triphop' 'tropical' 'türk' 'türkçe' 'ukrrock' 'unknown' 'urban' 'uzbek'\n",
      " 'variété' 'vi' 'videogame' 'vocal' 'western' 'world' 'worldbeat' 'ïîï'\n",
      " 'электроника']\n"
     ]
    }
   ],
   "source": [
    "genre_uniq = df.sort_values(by='genre',ascending=True)\n",
    "print(genre_uniq['genre'].unique())\n",
    "# Проверка на неявные дубликаты"
   ]
  },
  {
   "cell_type": "markdown",
   "metadata": {
    "deletable": false,
    "editable": false,
    "id": "jz6a9-7HQUDd"
   },
   "source": [
    "**Выводы**\n",
    "\n",
    "Предобработка обнаружила три проблемы в данных:\n",
    "\n",
    "- нарушения в стиле заголовков,\n",
    "- пропущенные значения,\n",
    "- дубликаты — явные и неявные.\n",
    "\n",
    "Вы исправили заголовки, чтобы упростить работу с таблицей. Без дубликатов исследование станет более точным.\n",
    "\n",
    "Пропущенные значения вы заменили на `'unknown'`. Ещё предстоит увидеть, не повредят ли исследованию пропуски в колонке `genre`.\n",
    "\n",
    "Теперь можно перейти к проверке гипотез. "
   ]
  },
  {
   "cell_type": "markdown",
   "metadata": {
    "deletable": false,
    "editable": false,
    "id": "WttZHXH0SqKk"
   },
   "source": [
    "## Проверка гипотез"
   ]
  },
  {
   "cell_type": "markdown",
   "metadata": {
    "deletable": false,
    "editable": false,
    "id": "Im936VVi_Zcu"
   },
   "source": [
    "### Сравнение поведения пользователей двух столиц"
   ]
  },
  {
   "cell_type": "markdown",
   "metadata": {
    "deletable": false,
    "editable": false,
    "id": "nwt_MuaL_Zcu"
   },
   "source": [
    "Первая гипотеза утверждает, что пользователи по-разному слушают музыку в Москве и Санкт-Петербурге. Проверьте это предположение по данным о трёх днях недели — понедельнике, среде и пятнице. Для этого:\n",
    "\n",
    "* Разделите пользователей Москвы и Санкт-Петербурга.\n",
    "* Сравните, сколько треков послушала каждая группа пользователей в понедельник, среду и пятницу.\n"
   ]
  },
  {
   "cell_type": "markdown",
   "metadata": {
    "deletable": false,
    "editable": false,
    "id": "8Dw_YMmT_Zcu",
    "tags": [
     "start_task"
    ]
   },
   "source": [
    "**Задание 18**\n",
    "\n",
    "Для тренировки сначала выполните каждый из расчётов по отдельности. \n",
    "\n",
    "Оцените активность пользователей в каждом городе. Сгруппируйте данные по городу и посчитайте прослушивания в каждой группе.\n",
    "\n"
   ]
  },
  {
   "cell_type": "code",
   "execution_count": 18,
   "metadata": {
    "deletable": false,
    "id": "0_Qs96oh_Zcu"
   },
   "outputs": [
    {
     "data": {
      "text/plain": [
       "city\n",
       "Moscow              42741\n",
       "Saint-Petersburg    18512\n",
       "Name: time, dtype: int64"
      ]
     },
     "execution_count": 18,
     "metadata": {},
     "output_type": "execute_result"
    }
   ],
   "source": [
    "df.groupby('city')['time'].count()\n",
    "\n",
    "# Подсчёт прослушиваний в каждом городе"
   ]
  },
  {
   "cell_type": "markdown",
   "metadata": {
    "deletable": false,
    "editable": false,
    "id": "dzli3w8o_Zcu",
    "tags": [
     "start_task"
    ]
   },
   "source": [
    "В Москве прослушиваний больше, чем в Петербурге. Из этого не следует, что московские пользователи чаще слушают музыку. Просто самих пользователей в Москве больше.\n",
    "\n",
    "**Задание 19**\n",
    "\n",
    "Теперь сгруппируйте данные по дню недели и посчитайте прослушивания в понедельник, среду и пятницу. Учтите, что в данных есть информация о прослушиваниях только за эти дни.\n"
   ]
  },
  {
   "cell_type": "code",
   "execution_count": 19,
   "metadata": {
    "deletable": false,
    "id": "uZMKjiJz_Zcu"
   },
   "outputs": [
    {
     "data": {
      "text/plain": [
       "day\n",
       "Friday       21840\n",
       "Monday       21354\n",
       "Wednesday    18059\n",
       "Name: time, dtype: int64"
      ]
     },
     "execution_count": 19,
     "metadata": {},
     "output_type": "execute_result"
    }
   ],
   "source": [
    "df.groupby('day')['time'].count()\n",
    "\n",
    "# Подсчёт прослушиваний в каждый из трёх дней"
   ]
  },
  {
   "cell_type": "markdown",
   "metadata": {
    "deletable": false,
    "editable": false,
    "id": "cC2tNrlL_Zcu"
   },
   "source": [
    "В среднем пользователи из двух городов менее активны по средам. Но картина может измениться, если рассмотреть каждый город в отдельности."
   ]
  },
  {
   "cell_type": "markdown",
   "metadata": {
    "deletable": false,
    "editable": false,
    "id": "POzs8bGa_Zcu",
    "tags": [
     "start_task"
    ]
   },
   "source": [
    "**Задание 20**\n",
    "\n",
    "\n",
    "Вы видели, как работает группировка по городу и по дням недели. Теперь напишите функцию, которая объединит два эти расчёта.\n",
    "\n",
    "Создайте функцию `number_tracks()`, которая посчитает прослушивания для заданного дня и города. Ей понадобятся два параметра:\n",
    "* день недели,\n",
    "* название города.\n",
    "\n",
    "В функции сохраните в переменную строки исходной таблицы, у которых значение:\n",
    "  * в колонке `day` равно параметру `day`,\n",
    "  * в колонке `city` равно параметру `city`.\n",
    "\n",
    "Для этого примените последовательную фильтрацию с логической индексацией (или сложные логические выражения в одну строку, если вы уже знакомы с ними).\n",
    "\n",
    "Затем посчитайте значения в столбце `user_id` получившейся таблицы. Результат сохраните в новую переменную. Верните эту переменную из функции."
   ]
  },
  {
   "cell_type": "code",
   "execution_count": 20,
   "metadata": {
    "deletable": false,
    "id": "Nz3GdQB1_Zcu"
   },
   "outputs": [],
   "source": [
    "def number_tracks(day,city):\n",
    "    track_list = df[df['day'] == day]\n",
    "    track_list = track_list[track_list['city'] == city]\n",
    "    track_list_count = track_list['user_id'].count()\n",
    "    return track_list_count    \n",
    "\n",
    "\n",
    "\n",
    "# <создание функции number_tracks()>\n",
    "# Объявляется функция с двумя параметрами: day, city.\n",
    "# В переменной track_list сохраняются те строки таблицы df, для которых \n",
    "# значение в столбце 'day' равно параметру day и одновременно значение\n",
    "# в столбце 'city' равно параметру city (используйте последовательную фильтрацию\n",
    "# с помощью логической индексации или сложные логические выражения в одну строку, если вы уже знакомы с ними).\n",
    "# В переменной track_list_count сохраняется число значений столбца 'user_id',\n",
    "# рассчитанное методом count() для таблицы track_list.\n",
    "# Функция возвращает число - значение track_list_count.\n",
    "\n",
    "# Функция для подсчёта прослушиваний для конкретного города и дня.\n",
    "# С помощью последовательной фильтрации с логической индексацией она \n",
    "# сначала получит из исходной таблицы строки с нужным днём,\n",
    "# затем из результата отфильтрует строки с нужным городом,\n",
    "# методом count() посчитает количество значений в колонке user_id. \n",
    "# Это количество функция вернёт в качестве результата"
   ]
  },
  {
   "cell_type": "markdown",
   "metadata": {
    "deletable": false,
    "editable": false,
    "id": "ytf7xFrFJQ2r",
    "tags": [
     "start_task"
    ]
   },
   "source": [
    "**Задание 21**\n",
    "\n",
    "Вызовите `number_tracks()` шесть раз, меняя значение параметров — так, чтобы получить данные для каждого города в каждый из трёх дней."
   ]
  },
  {
   "cell_type": "code",
   "execution_count": 21,
   "metadata": {
    "deletable": false,
    "id": "rJcRATNQ_Zcu"
   },
   "outputs": [
    {
     "data": {
      "text/plain": [
       "15740"
      ]
     },
     "execution_count": 21,
     "metadata": {},
     "output_type": "execute_result"
    }
   ],
   "source": [
    "number_tracks('Monday', 'Moscow')\n",
    "# количество прослушиваний в Москве по понедельникам"
   ]
  },
  {
   "cell_type": "code",
   "execution_count": 22,
   "metadata": {
    "deletable": false,
    "id": "hq_ncZ5T_Zcu"
   },
   "outputs": [
    {
     "data": {
      "text/plain": [
       "5614"
      ]
     },
     "execution_count": 22,
     "metadata": {},
     "output_type": "execute_result"
    }
   ],
   "source": [
    "number_tracks('Monday', 'Saint-Petersburg')\n",
    "# количество прослушиваний в Санкт-Петербурге по понедельникам"
   ]
  },
  {
   "cell_type": "code",
   "execution_count": 23,
   "metadata": {
    "deletable": false,
    "id": "_NTy2VPU_Zcu"
   },
   "outputs": [
    {
     "data": {
      "text/plain": [
       "11056"
      ]
     },
     "execution_count": 23,
     "metadata": {},
     "output_type": "execute_result"
    }
   ],
   "source": [
    "number_tracks('Wednesday', 'Moscow')\n",
    "# количество прослушиваний в Москве по средам"
   ]
  },
  {
   "cell_type": "code",
   "execution_count": 24,
   "metadata": {
    "deletable": false,
    "id": "j2y3TAwo_Zcu"
   },
   "outputs": [
    {
     "data": {
      "text/plain": [
       "7003"
      ]
     },
     "execution_count": 24,
     "metadata": {},
     "output_type": "execute_result"
    }
   ],
   "source": [
    "number_tracks('Wednesday', 'Saint-Petersburg')\n",
    "# количество прослушиваний в Санкт-Петербурге по средам"
   ]
  },
  {
   "cell_type": "code",
   "execution_count": 25,
   "metadata": {
    "deletable": false,
    "id": "vYDw5u_K_Zcu"
   },
   "outputs": [
    {
     "data": {
      "text/plain": [
       "15945"
      ]
     },
     "execution_count": 25,
     "metadata": {},
     "output_type": "execute_result"
    }
   ],
   "source": [
    "number_tracks('Friday', 'Moscow')\n",
    "# количество прослушиваний в Москве по пятницам"
   ]
  },
  {
   "cell_type": "code",
   "execution_count": 26,
   "metadata": {
    "deletable": false,
    "id": "8_yzFtW3_Zcu"
   },
   "outputs": [
    {
     "data": {
      "text/plain": [
       "5895"
      ]
     },
     "execution_count": 26,
     "metadata": {},
     "output_type": "execute_result"
    }
   ],
   "source": [
    "number_tracks('Friday', 'Saint-Petersburg')\n",
    "# количество прослушиваний в Санкт-Петербурге по пятницам"
   ]
  },
  {
   "cell_type": "markdown",
   "metadata": {
    "deletable": false,
    "editable": false,
    "id": "7QXffbO-_Zcu",
    "tags": [
     "start_task"
    ]
   },
   "source": [
    "**Задание 22**\n",
    "\n",
    "Создайте c помощью конструктора `pd.DataFrame` таблицу, где\n",
    "* названия колонок — `['city', 'monday', 'wednesday', 'friday']`;\n",
    "* данные — результаты, которые вы получили с помощью `number_tracks`."
   ]
  },
  {
   "cell_type": "code",
   "execution_count": 27,
   "metadata": {
    "deletable": false,
    "id": "APAcLpOr_Zcu"
   },
   "outputs": [
    {
     "name": "stdout",
     "output_type": "stream",
     "text": [
      "               city  monday  wednesday  friday\n",
      "0            Moscow   15740      11056   15945\n",
      "1  Saint-Petersburg    5614       7003    5895\n"
     ]
    }
   ],
   "source": [
    "columns = ['city', 'monday', 'wednesday', 'friday']\n",
    "info = pd.DataFrame(data = [['Moscow', 15740, 11056, 15945],['Saint-Petersburg', 5614, 7003, 5895]], columns = columns)\n",
    "print(info)\n",
    "# Таблица с результатами"
   ]
  },
  {
   "cell_type": "markdown",
   "metadata": {
    "deletable": false,
    "editable": false,
    "id": "-EgPIHYu_Zcu"
   },
   "source": [
    "**Выводы**\n",
    "\n",
    "Данные показывают разницу поведения пользователей:\n",
    "\n",
    "- В Москве пик прослушиваний приходится на понедельник и пятницу, а в среду заметен спад.\n",
    "- В Петербурге, наоборот, больше слушают музыку по средам. Активность в понедельник и пятницу здесь почти в равной мере уступает среде.\n",
    "\n",
    "Значит, данные говорят в пользу первой гипотезы."
   ]
  },
  {
   "cell_type": "markdown",
   "metadata": {
    "deletable": false,
    "editable": false,
    "id": "atZAxtq4_Zcu"
   },
   "source": [
    "### Музыка в начале и в конце недели"
   ]
  },
  {
   "cell_type": "markdown",
   "metadata": {
    "deletable": false,
    "editable": false,
    "id": "eXrQqXFH_Zcu"
   },
   "source": [
    "Согласно второй гипотезе, утром в понедельник в Москве преобладают одни жанры, а в Петербурге — другие. Так же и вечером пятницы преобладают разные жанры — в зависимости от города."
   ]
  },
  {
   "cell_type": "markdown",
   "metadata": {
    "deletable": false,
    "editable": false,
    "id": "S8UcW6Hw_Zcu",
    "tags": [
     "start_task"
    ]
   },
   "source": [
    "**Задание 23**\n",
    "\n",
    "Сохраните таблицы с данными в две переменные:\n",
    "* по Москве — в `moscow_general`;\n",
    "* по Санкт-Петербургу — в `spb_general`."
   ]
  },
  {
   "cell_type": "code",
   "execution_count": 28,
   "metadata": {
    "deletable": false,
    "id": "qeaFfM_P_Zcu"
   },
   "outputs": [],
   "source": [
    "moscow_general = df[df['city'] == 'Moscow']\n",
    "\n",
    "# получение таблицы moscow_general из тех строк таблицы df, \n",
    "# для которых значение в столбце 'city' равно 'Moscow'\n"
   ]
  },
  {
   "cell_type": "code",
   "execution_count": 29,
   "metadata": {
    "deletable": false,
    "id": "ORaVRKto_Zcu"
   },
   "outputs": [],
   "source": [
    "spb_general = df[df['city'] == 'Saint-Petersburg']\n",
    "\n",
    "# получение таблицы spb_general из тех строк таблицы df,\n",
    "# для которых значение в столбце 'city' равно 'Saint-Petersburg'\n"
   ]
  },
  {
   "cell_type": "markdown",
   "metadata": {
    "deletable": false,
    "editable": false,
    "id": "MEJV-CX2_Zcu",
    "tags": [
     "start_task"
    ]
   },
   "source": [
    "**Задание 24**\n",
    "\n",
    "Создайте функцию `genre_weekday()` с четырьмя параметрами:\n",
    "* таблица (датафрейм) с данными,\n",
    "* день недели,\n",
    "* начальная временная метка в формате 'hh:mm', \n",
    "* последняя временная метка в формате 'hh:mm'.\n",
    "\n",
    "Функция должна вернуть информацию о топ-10 жанров тех треков, которые прослушивали в указанный день, в промежутке между двумя отметками времени."
   ]
  },
  {
   "cell_type": "code",
   "execution_count": 30,
   "metadata": {
    "deletable": false,
    "id": "laJT9BYl_Zcu"
   },
   "outputs": [],
   "source": [
    "def genre_weekday(df, day, time1, time2):\n",
    "    genre_df = df[df['day'] == day]\n",
    "    genre_df = genre_df[genre_df['time'] < time2]\n",
    "    genre_df = genre_df[genre_df['time'] > time1]\n",
    "    genre_df_grouped = genre_df.groupby('genre')['genre'].count()\n",
    "    genre_df_sorted = genre_df_grouped.sort_values(ascending=False)\n",
    "    return genre_df_sorted[:10]\n",
    "\n",
    "# Объявление функции genre_weekday() с параметрами table, day, time1, time2,\n",
    "# которая возвращает информацию о самых популярных жанрах в указанный день в\n",
    "# заданное время:\n",
    "# 1) в переменную genre_df сохраняются те строки переданного датафрейма table, для\n",
    "#    которых одновременно:\n",
    "#    - значение в столбце day равно значению аргумента day\n",
    "#    - значение в столбце time больше значения аргумента time1\n",
    "#    - значение в столбце time меньше значения аргумента time2\n",
    "#    Используйте последовательную фильтрацию с помощью логической индексации.\n",
    "# 2) сгруппировать датафрейм genre_df по столбцу genre, взять один из его\n",
    "#    столбцов и посчитать методом count() количество записей для каждого из\n",
    "#    присутствующих жанров, получившийся Series записать в переменную\n",
    "#    genre_df_count\n",
    "# 3) отсортировать genre_df_count по убыванию встречаемости и сохранить\n",
    "#    в переменную genre_df_sorted\n",
    "# 4) вернуть Series из 10 первых значений genre_df_sorted, это будут топ-10\n",
    "#    популярных жанров (в указанный день, в заданное время)\n",
    "    # последовательная фильтрация\n",
    "    # оставляем в genre_df только те строки df, у которых день равен day\n",
    "    # оставляем в genre_df только те строки genre_df, у которых время меньше time2\n",
    "    # оставляем в genre_df только те строки genre_df, у которых время больше time1\n",
    "    # сгруппируем отфильтрованный датафрейм по столбцу с названиями жанров, возьмём столбец genre и посчитаем кол-во строк для каждого жанра методом count()\n",
    "    # отсортируем результат по убыванию (чтобы в начале Series оказались самые популярные жанры)\n",
    "    # вернём Series с 10 самыми популярными жанрами в указанный отрезок времени заданного дня\n"
   ]
  },
  {
   "cell_type": "markdown",
   "metadata": {
    "deletable": false,
    "editable": false,
    "id": "la2s2_PF_Zcu",
    "tags": [
     "start_task"
    ]
   },
   "source": [
    "**Задание 25**\n",
    "\n",
    "\n",
    "Cравните результаты функции `genre_weekday()` для Москвы и Санкт-Петербурга в понедельник утром (с 7:00 до 11:00) и в пятницу вечером (с 17:00 до 23:00):"
   ]
  },
  {
   "cell_type": "code",
   "execution_count": 31,
   "metadata": {
    "deletable": false,
    "id": "yz7itPUQ_Zcu"
   },
   "outputs": [
    {
     "data": {
      "text/plain": [
       "genre\n",
       "pop            781\n",
       "dance          549\n",
       "electronic     480\n",
       "rock           474\n",
       "hiphop         286\n",
       "ruspop         186\n",
       "world          181\n",
       "rusrap         175\n",
       "alternative    164\n",
       "unknown        161\n",
       "Name: genre, dtype: int64"
      ]
     },
     "execution_count": 31,
     "metadata": {},
     "output_type": "execute_result"
    }
   ],
   "source": [
    "genre_weekday(moscow_general, 'Monday', '07:00', '11:00')\n",
    "\n",
    "# вызов функции для утра понедельника в Москве (вместо df — таблица moscow_general)\n",
    "# объекты, хранящие время, являются строками и сравниваются как строки\n",
    "# пример вызова: genre_weekday(moscow_general, 'Monday', '07:00', '11:00')"
   ]
  },
  {
   "cell_type": "code",
   "execution_count": 32,
   "metadata": {
    "deletable": false,
    "id": "kwUcHPdy_Zcu"
   },
   "outputs": [
    {
     "data": {
      "text/plain": [
       "genre\n",
       "pop            218\n",
       "dance          182\n",
       "rock           162\n",
       "electronic     147\n",
       "hiphop          80\n",
       "ruspop          64\n",
       "alternative     58\n",
       "rusrap          55\n",
       "jazz            44\n",
       "classical       40\n",
       "Name: genre, dtype: int64"
      ]
     },
     "execution_count": 32,
     "metadata": {},
     "output_type": "execute_result"
    }
   ],
   "source": [
    "genre_weekday(spb_general, 'Monday', '07:00', '11:00')\n",
    "# вызов функции для утра понедельника в Петербурге (вместо df — таблица spb_general)"
   ]
  },
  {
   "cell_type": "code",
   "execution_count": 33,
   "metadata": {
    "deletable": false,
    "id": "EzXVRE1o_Zcu"
   },
   "outputs": [
    {
     "data": {
      "text/plain": [
       "genre\n",
       "pop            713\n",
       "rock           517\n",
       "dance          495\n",
       "electronic     482\n",
       "hiphop         273\n",
       "world          208\n",
       "ruspop         170\n",
       "alternative    163\n",
       "classical      163\n",
       "rusrap         142\n",
       "Name: genre, dtype: int64"
      ]
     },
     "execution_count": 33,
     "metadata": {},
     "output_type": "execute_result"
    }
   ],
   "source": [
    "genre_weekday(moscow_general, 'Friday', '17:00', '23:00')\n",
    "# вызов функции для вечера пятницы в Москве"
   ]
  },
  {
   "cell_type": "code",
   "execution_count": 34,
   "metadata": {
    "deletable": false,
    "id": "JZaEKu5v_Zcu"
   },
   "outputs": [
    {
     "data": {
      "text/plain": [
       "genre\n",
       "pop            256\n",
       "electronic     216\n",
       "rock           216\n",
       "dance          210\n",
       "hiphop          97\n",
       "alternative     63\n",
       "jazz            61\n",
       "classical       60\n",
       "rusrap          59\n",
       "world           54\n",
       "Name: genre, dtype: int64"
      ]
     },
     "execution_count": 34,
     "metadata": {},
     "output_type": "execute_result"
    }
   ],
   "source": [
    "genre_weekday(spb_general, 'Friday', '17:00', '23:00')\n",
    "# вызов функции для вечера пятницы в Петербурге"
   ]
  },
  {
   "cell_type": "markdown",
   "metadata": {
    "deletable": false,
    "editable": false,
    "id": "wrCe4MNX_Zcu"
   },
   "source": [
    "**Выводы**\n",
    "\n",
    "Если сравнить топ-10 жанров в понедельник утром, можно сделать такие выводы:\n",
    "\n",
    "1. В Москве и Петербурге слушают похожую музыку. Единственное отличие — в московский рейтинг вошёл жанр “world”, а в петербургский — джаз и классика.\n",
    "\n",
    "2. В Москве пропущенных значений оказалось так много, что значение `'unknown'` заняло десятое место среди самых популярных жанров. Значит, пропущенные значения занимают существенную долю в данных и угрожают достоверности исследования.\n",
    "\n",
    "Вечер пятницы не меняет эту картину. Некоторые жанры поднимаются немного выше, другие спускаются, но в целом топ-10 остаётся тем же самым.\n",
    "\n",
    "Таким образом, вторая гипотеза подтвердилась лишь частично:\n",
    "* Пользователи слушают похожую музыку в начале недели и в конце.\n",
    "* Разница между Москвой и Петербургом не слишком выражена. В Москве чаще слушают русскую популярную музыку, в Петербурге — джаз.\n",
    "\n",
    "Однако пропуски в данных ставят под сомнение этот результат. В Москве их так много, что рейтинг топ-10 мог бы выглядеть иначе, если бы не утерянные  данные о жанрах."
   ]
  },
  {
   "cell_type": "markdown",
   "metadata": {
    "deletable": false,
    "editable": false,
    "id": "JolODAqr_Zcu"
   },
   "source": [
    "### Жанровые предпочтения в Москве и Петербурге\n",
    "\n",
    "Гипотеза: Петербург — столица рэпа, музыку этого жанра там слушают чаще, чем в Москве.  А Москва — город контрастов, в котором, тем не менее, преобладает поп-музыка."
   ]
  },
  {
   "cell_type": "markdown",
   "metadata": {
    "deletable": false,
    "editable": false,
    "id": "DlegSvaT_Zcu",
    "tags": [
     "start_task"
    ]
   },
   "source": [
    "**Задание 26**\n",
    "\n",
    "Сгруппируйте таблицу `moscow_general` по жанру и посчитайте прослушивания треков каждого жанра методом `count()`. Затем отсортируйте результат в порядке убывания и сохраните его в таблице `moscow_genres`."
   ]
  },
  {
   "cell_type": "code",
   "execution_count": 35,
   "metadata": {
    "deletable": false,
    "id": "r19lIPke_Zcu"
   },
   "outputs": [],
   "source": [
    "moscow_genres_grouped = moscow_general.groupby('genre')['genre'].count()\n",
    "moscow_genres = moscow_genres_grouped.sort_values(ascending=False)\n",
    "# одной строкой: группировка таблицы moscow_general по столбцу 'genre', \n",
    "# подсчёт числа значений 'genre' в этой группировке методом count(), \n",
    "# сортировка получившегося Series в порядке убывания и сохранение в moscow_genres"
   ]
  },
  {
   "cell_type": "markdown",
   "metadata": {
    "deletable": false,
    "editable": false,
    "id": "6kMuomxTiIr8",
    "tags": [
     "start_task"
    ]
   },
   "source": [
    "**Задание 27**\n",
    "\n",
    "Выведите на экран первые десять строк `moscow_genres`:"
   ]
  },
  {
   "cell_type": "code",
   "execution_count": 36,
   "metadata": {
    "deletable": false,
    "id": "WhCSooF8_Zcv"
   },
   "outputs": [
    {
     "name": "stdout",
     "output_type": "stream",
     "text": [
      "genre\n",
      "pop            5892\n",
      "dance          4435\n",
      "rock           3965\n",
      "electronic     3786\n",
      "hiphop         2096\n",
      "classical      1616\n",
      "world          1432\n",
      "alternative    1379\n",
      "ruspop         1372\n",
      "rusrap         1161\n",
      "Name: genre, dtype: int64\n"
     ]
    }
   ],
   "source": [
    "print(moscow_genres.head(10))\n",
    "# просмотр первых 10 строк moscow_genres"
   ]
  },
  {
   "cell_type": "markdown",
   "metadata": {
    "deletable": false,
    "editable": false,
    "id": "cnPG2vnN_Zcv",
    "tags": [
     "start_task"
    ]
   },
   "source": [
    "**Задание 28**\n",
    "\n",
    "\n",
    "Теперь повторите то же и для Петербурга.\n",
    "\n",
    "Сгруппируйте таблицу `spb_general` по жанру. Посчитайте прослушивания треков каждого жанра. Результат отсортируйте в порядке убывания и сохраните в таблице `spb_genres`:\n"
   ]
  },
  {
   "cell_type": "code",
   "execution_count": 37,
   "metadata": {
    "deletable": false,
    "id": "gluLIpE7_Zcv"
   },
   "outputs": [],
   "source": [
    "spb_genres_grouped = spb_general.groupby('genre')['genre'].count()\n",
    "spb_genres = spb_genres_grouped.sort_values(ascending=False)\n",
    "\n",
    "\n",
    "# одной строкой: группировка таблицы spb_general по столбцу 'genre', \n",
    "# подсчёт числа значений 'genre' в этой группировке методом count(), \n",
    "# сортировка получившегося Series в порядке убывания и сохранение в spb_genres"
   ]
  },
  {
   "cell_type": "markdown",
   "metadata": {
    "deletable": false,
    "editable": false,
    "id": "5Doha_ODgyQ8",
    "tags": [
     "start_task"
    ]
   },
   "source": [
    "**Задание 29**\n",
    "\n",
    "Выведите на экран первые десять строк `spb_genres`:"
   ]
  },
  {
   "cell_type": "code",
   "execution_count": 38,
   "metadata": {
    "deletable": false,
    "id": "uaGJHjVU_Zcv"
   },
   "outputs": [
    {
     "name": "stdout",
     "output_type": "stream",
     "text": [
      "genre\n",
      "pop            2431\n",
      "dance          1932\n",
      "rock           1879\n",
      "electronic     1736\n",
      "hiphop          960\n",
      "alternative     649\n",
      "classical       646\n",
      "rusrap          564\n",
      "ruspop          538\n",
      "world           515\n",
      "Name: genre, dtype: int64\n"
     ]
    }
   ],
   "source": [
    "print(spb_genres.head(10))\n",
    "# просмотр первых 10 строк spb_genres"
   ]
  },
  {
   "cell_type": "markdown",
   "metadata": {
    "deletable": false,
    "editable": false,
    "id": "RY51YJYu_Zcv"
   },
   "source": [
    "**Выводы**"
   ]
  },
  {
   "cell_type": "markdown",
   "metadata": {
    "deletable": false,
    "editable": false,
    "id": "nVhnJEm__Zcv"
   },
   "source": [
    "Гипотеза частично подтвердилась:\n",
    "* Поп-музыка — самый популярный жанр в Москве, как и предполагала гипотеза. Более того, в топ-10 жанров встречается близкий жанр — русская популярная музыка.\n",
    "* Вопреки ожиданиям, рэп одинаково популярен в Москве и Петербурге. \n"
   ]
  },
  {
   "cell_type": "markdown",
   "metadata": {
    "deletable": false,
    "editable": false,
    "id": "ykKQ0N65_Zcv"
   },
   "source": [
    "## Итоги исследования"
   ]
  },
  {
   "cell_type": "markdown",
   "metadata": {
    "deletable": false,
    "editable": false,
    "id": "tjUwbHb3_Zcv"
   },
   "source": [
    "Вы проверили три гипотезы и установили:\n",
    "\n",
    "1. День недели по-разному влияет на активность пользователей в Москве и Петербурге. \n",
    "\n",
    "Первая гипотеза полностью подтвердилась.\n",
    "\n",
    "2. Музыкальные предпочтения не сильно меняются в течение недели — будь то Москва или Петербург. Небольшие различия заметны в начале недели, по понедельникам:\n",
    "* в Москве слушают музыку жанра “world”,\n",
    "* в Петербурге — джаз и классику.\n",
    "\n",
    "Таким образом, вторая гипотеза подтвердилась лишь отчасти. Этот результат мог оказаться иным, если бы не пропуски в данных.\n",
    "\n",
    "3. Во вкусах пользователей Москвы и Петербурга больше общего чем различий. Вопреки ожиданиям, предпочтения жанров в Петербурге напоминают московские.\n",
    "\n",
    "Третья гипотеза не подтвердилась. Если различия в предпочтениях и существуют, на основной массе пользователей они незаметны.\n",
    "\n",
    "**На практике исследования содержат проверки статистических гипотез.**\n",
    "Из данных одного сервиса не всегда можно сделать вывод о всех жителях города.\n",
    "Проверки статистических гипотез покажут, насколько они достоверны, исходя из имеющихся данных. \n",
    "С методами проверок гипотез вы ещё познакомитесь в следующих темах."
   ]
  },
  {
   "cell_type": "code",
   "execution_count": null,
   "metadata": {},
   "outputs": [],
   "source": []
  }
 ],
 "metadata": {
  "ExecuteTimeLog": [
   {
    "duration": 53,
    "start_time": "2022-11-02T20:41:23.400Z"
   },
   {
    "duration": 392,
    "start_time": "2022-11-02T20:41:53.249Z"
   },
   {
    "duration": 219,
    "start_time": "2022-11-02T20:41:57.269Z"
   },
   {
    "duration": 8,
    "start_time": "2022-11-02T20:42:00.539Z"
   },
   {
    "duration": 25,
    "start_time": "2022-11-02T20:42:05.058Z"
   },
   {
    "duration": 3,
    "start_time": "2022-11-02T20:42:15.453Z"
   },
   {
    "duration": 12,
    "start_time": "2022-11-02T20:42:19.807Z"
   },
   {
    "duration": 3,
    "start_time": "2022-11-02T20:42:23.150Z"
   },
   {
    "duration": 20,
    "start_time": "2022-11-02T20:42:26.490Z"
   },
   {
    "duration": 16,
    "start_time": "2022-11-02T20:42:30.797Z"
   },
   {
    "duration": 21,
    "start_time": "2022-11-02T20:42:36.500Z"
   },
   {
    "duration": 67,
    "start_time": "2022-11-02T20:42:53.975Z"
   },
   {
    "duration": 57,
    "start_time": "2022-11-02T20:55:17.549Z"
   },
   {
    "duration": 2,
    "start_time": "2022-11-02T20:55:24.450Z"
   },
   {
    "duration": 191,
    "start_time": "2022-11-02T20:55:24.454Z"
   },
   {
    "duration": 6,
    "start_time": "2022-11-02T20:55:24.646Z"
   },
   {
    "duration": 26,
    "start_time": "2022-11-02T20:55:24.654Z"
   },
   {
    "duration": 2,
    "start_time": "2022-11-02T20:55:24.682Z"
   },
   {
    "duration": 3,
    "start_time": "2022-11-02T20:55:24.709Z"
   },
   {
    "duration": 9,
    "start_time": "2022-11-02T20:55:24.714Z"
   },
   {
    "duration": 4,
    "start_time": "2022-11-02T20:55:24.724Z"
   },
   {
    "duration": 21,
    "start_time": "2022-11-02T20:55:24.729Z"
   },
   {
    "duration": 17,
    "start_time": "2022-11-02T20:55:24.752Z"
   },
   {
    "duration": 46,
    "start_time": "2022-11-02T20:55:24.770Z"
   },
   {
    "duration": 64,
    "start_time": "2022-11-02T20:55:24.817Z"
   },
   {
    "duration": 64,
    "start_time": "2022-11-02T20:55:24.882Z"
   },
   {
    "duration": 2,
    "start_time": "2022-11-02T20:55:24.950Z"
   },
   {
    "duration": 5,
    "start_time": "2022-11-02T20:55:24.953Z"
   },
   {
    "duration": 5,
    "start_time": "2022-11-02T20:55:24.959Z"
   },
   {
    "duration": 5,
    "start_time": "2022-11-02T20:55:24.965Z"
   },
   {
    "duration": 4,
    "start_time": "2022-11-02T20:55:24.972Z"
   },
   {
    "duration": 5,
    "start_time": "2022-11-02T20:55:24.977Z"
   },
   {
    "duration": 4,
    "start_time": "2022-11-02T20:55:24.984Z"
   },
   {
    "duration": 20,
    "start_time": "2022-11-02T20:55:24.989Z"
   },
   {
    "duration": 10,
    "start_time": "2022-11-02T20:55:25.010Z"
   },
   {
    "duration": 5,
    "start_time": "2022-11-02T20:55:25.021Z"
   },
   {
    "duration": 10,
    "start_time": "2022-11-02T20:55:25.028Z"
   },
   {
    "duration": 7,
    "start_time": "2022-11-02T20:55:25.039Z"
   },
   {
    "duration": 5,
    "start_time": "2022-11-02T20:55:25.048Z"
   },
   {
    "duration": 5,
    "start_time": "2022-11-02T20:55:25.054Z"
   },
   {
    "duration": 5,
    "start_time": "2022-11-02T20:55:25.060Z"
   },
   {
    "duration": 11,
    "start_time": "2022-11-02T20:55:25.066Z"
   },
   {
    "duration": 58,
    "start_time": "2022-11-02T20:55:25.079Z"
   },
   {
    "duration": 0,
    "start_time": "2022-11-02T20:55:25.139Z"
   },
   {
    "duration": 0,
    "start_time": "2022-11-02T20:55:25.140Z"
   },
   {
    "duration": 0,
    "start_time": "2022-11-02T20:55:25.141Z"
   },
   {
    "duration": 0,
    "start_time": "2022-11-02T20:55:25.142Z"
   },
   {
    "duration": 0,
    "start_time": "2022-11-02T20:55:25.143Z"
   },
   {
    "duration": 0,
    "start_time": "2022-11-02T20:55:25.144Z"
   },
   {
    "duration": 0,
    "start_time": "2022-11-02T20:55:25.146Z"
   },
   {
    "duration": 0,
    "start_time": "2022-11-02T20:55:25.147Z"
   },
   {
    "duration": 53,
    "start_time": "2022-11-02T20:56:09.589Z"
   },
   {
    "duration": 49,
    "start_time": "2022-11-03T16:27:41.111Z"
   },
   {
    "duration": 7,
    "start_time": "2022-11-03T16:31:26.793Z"
   },
   {
    "duration": 413,
    "start_time": "2022-11-03T16:31:34.133Z"
   },
   {
    "duration": 235,
    "start_time": "2022-11-03T16:31:34.549Z"
   },
   {
    "duration": 8,
    "start_time": "2022-11-03T16:31:34.786Z"
   },
   {
    "duration": 31,
    "start_time": "2022-11-03T16:31:34.796Z"
   },
   {
    "duration": 9,
    "start_time": "2022-11-03T16:31:34.829Z"
   },
   {
    "duration": 11,
    "start_time": "2022-11-03T16:31:34.839Z"
   },
   {
    "duration": 20,
    "start_time": "2022-11-03T16:31:34.851Z"
   },
   {
    "duration": 6,
    "start_time": "2022-11-03T16:31:34.873Z"
   },
   {
    "duration": 37,
    "start_time": "2022-11-03T16:31:34.881Z"
   },
   {
    "duration": 23,
    "start_time": "2022-11-03T16:31:34.920Z"
   },
   {
    "duration": 31,
    "start_time": "2022-11-03T16:31:34.944Z"
   },
   {
    "duration": 79,
    "start_time": "2022-11-03T16:31:34.976Z"
   },
   {
    "duration": 74,
    "start_time": "2022-11-03T16:31:35.057Z"
   },
   {
    "duration": 74,
    "start_time": "2022-11-03T16:31:35.135Z"
   },
   {
    "duration": 58,
    "start_time": "2022-11-03T16:31:35.210Z"
   },
   {
    "duration": 3,
    "start_time": "2022-11-03T16:31:35.269Z"
   },
   {
    "duration": 6,
    "start_time": "2022-11-03T16:31:35.274Z"
   },
   {
    "duration": 8,
    "start_time": "2022-11-03T16:31:35.282Z"
   },
   {
    "duration": 9,
    "start_time": "2022-11-03T16:31:35.292Z"
   },
   {
    "duration": 10,
    "start_time": "2022-11-03T16:31:35.303Z"
   },
   {
    "duration": 14,
    "start_time": "2022-11-03T16:31:35.315Z"
   },
   {
    "duration": 12,
    "start_time": "2022-11-03T16:31:35.330Z"
   },
   {
    "duration": 25,
    "start_time": "2022-11-03T16:31:35.344Z"
   },
   {
    "duration": 12,
    "start_time": "2022-11-03T16:31:35.371Z"
   },
   {
    "duration": 9,
    "start_time": "2022-11-03T16:31:35.385Z"
   },
   {
    "duration": 12,
    "start_time": "2022-11-03T16:31:35.395Z"
   },
   {
    "duration": 6,
    "start_time": "2022-11-03T16:31:35.409Z"
   },
   {
    "duration": 13,
    "start_time": "2022-11-03T16:31:35.416Z"
   },
   {
    "duration": 14,
    "start_time": "2022-11-03T16:31:35.430Z"
   },
   {
    "duration": 52,
    "start_time": "2022-11-03T16:31:35.446Z"
   },
   {
    "duration": 0,
    "start_time": "2022-11-03T16:31:35.501Z"
   },
   {
    "duration": 0,
    "start_time": "2022-11-03T16:31:35.502Z"
   },
   {
    "duration": 0,
    "start_time": "2022-11-03T16:31:35.505Z"
   },
   {
    "duration": 1,
    "start_time": "2022-11-03T16:31:35.506Z"
   },
   {
    "duration": 0,
    "start_time": "2022-11-03T16:31:35.508Z"
   },
   {
    "duration": 0,
    "start_time": "2022-11-03T16:31:35.509Z"
   },
   {
    "duration": 0,
    "start_time": "2022-11-03T16:31:35.510Z"
   },
   {
    "duration": 0,
    "start_time": "2022-11-03T16:31:35.512Z"
   },
   {
    "duration": 3,
    "start_time": "2022-11-03T16:36:42.031Z"
   },
   {
    "duration": 7,
    "start_time": "2022-11-03T16:36:49.114Z"
   },
   {
    "duration": 11,
    "start_time": "2022-11-03T16:37:09.362Z"
   },
   {
    "duration": 6,
    "start_time": "2022-11-03T16:37:12.319Z"
   },
   {
    "duration": 11,
    "start_time": "2022-11-03T16:37:51.615Z"
   },
   {
    "duration": 6,
    "start_time": "2022-11-03T16:37:56.333Z"
   },
   {
    "duration": 7,
    "start_time": "2022-11-03T16:38:22.864Z"
   },
   {
    "duration": 48,
    "start_time": "2022-11-03T16:39:05.034Z"
   },
   {
    "duration": 60,
    "start_time": "2022-11-03T16:40:56.751Z"
   },
   {
    "duration": 46,
    "start_time": "2022-11-03T16:41:18.839Z"
   },
   {
    "duration": 35,
    "start_time": "2022-11-03T16:44:50.635Z"
   },
   {
    "duration": 30,
    "start_time": "2022-11-03T16:45:33.537Z"
   },
   {
    "duration": 33,
    "start_time": "2022-11-03T16:45:43.291Z"
   },
   {
    "duration": 13,
    "start_time": "2022-11-03T16:46:47.584Z"
   },
   {
    "duration": 26,
    "start_time": "2022-11-03T16:47:50.212Z"
   },
   {
    "duration": 13,
    "start_time": "2022-11-03T16:48:38.465Z"
   },
   {
    "duration": 4,
    "start_time": "2022-11-03T17:17:40.356Z"
   },
   {
    "duration": 2,
    "start_time": "2022-11-03T17:18:02.948Z"
   },
   {
    "duration": 182,
    "start_time": "2022-11-03T17:18:02.953Z"
   },
   {
    "duration": 7,
    "start_time": "2022-11-03T17:18:03.137Z"
   },
   {
    "duration": 39,
    "start_time": "2022-11-03T17:18:03.146Z"
   },
   {
    "duration": 3,
    "start_time": "2022-11-03T17:18:03.187Z"
   },
   {
    "duration": 23,
    "start_time": "2022-11-03T17:18:03.192Z"
   },
   {
    "duration": 15,
    "start_time": "2022-11-03T17:18:03.217Z"
   },
   {
    "duration": 8,
    "start_time": "2022-11-03T17:18:03.234Z"
   },
   {
    "duration": 31,
    "start_time": "2022-11-03T17:18:03.244Z"
   },
   {
    "duration": 19,
    "start_time": "2022-11-03T17:18:03.277Z"
   },
   {
    "duration": 27,
    "start_time": "2022-11-03T17:18:03.298Z"
   },
   {
    "duration": 75,
    "start_time": "2022-11-03T17:18:03.328Z"
   },
   {
    "duration": 91,
    "start_time": "2022-11-03T17:18:03.405Z"
   },
   {
    "duration": 68,
    "start_time": "2022-11-03T17:18:03.499Z"
   },
   {
    "duration": 56,
    "start_time": "2022-11-03T17:18:03.569Z"
   },
   {
    "duration": 27,
    "start_time": "2022-11-03T17:18:03.627Z"
   },
   {
    "duration": 53,
    "start_time": "2022-11-03T17:18:03.655Z"
   },
   {
    "duration": 13,
    "start_time": "2022-11-03T17:18:03.709Z"
   },
   {
    "duration": 32,
    "start_time": "2022-11-03T17:18:03.723Z"
   },
   {
    "duration": 4,
    "start_time": "2022-11-03T17:18:03.756Z"
   },
   {
    "duration": 14,
    "start_time": "2022-11-03T17:18:03.762Z"
   },
   {
    "duration": 14,
    "start_time": "2022-11-03T17:18:03.778Z"
   },
   {
    "duration": 7,
    "start_time": "2022-11-03T17:18:03.794Z"
   },
   {
    "duration": 14,
    "start_time": "2022-11-03T17:18:03.803Z"
   },
   {
    "duration": 7,
    "start_time": "2022-11-03T17:18:03.818Z"
   },
   {
    "duration": 13,
    "start_time": "2022-11-03T17:18:03.828Z"
   },
   {
    "duration": 12,
    "start_time": "2022-11-03T17:18:03.842Z"
   },
   {
    "duration": 10,
    "start_time": "2022-11-03T17:18:03.856Z"
   },
   {
    "duration": 25,
    "start_time": "2022-11-03T17:18:03.868Z"
   },
   {
    "duration": 68,
    "start_time": "2022-11-03T17:18:03.894Z"
   },
   {
    "duration": 0,
    "start_time": "2022-11-03T17:18:03.964Z"
   },
   {
    "duration": 0,
    "start_time": "2022-11-03T17:18:03.965Z"
   },
   {
    "duration": 0,
    "start_time": "2022-11-03T17:18:03.966Z"
   },
   {
    "duration": 0,
    "start_time": "2022-11-03T17:18:03.967Z"
   },
   {
    "duration": 0,
    "start_time": "2022-11-03T17:18:03.968Z"
   },
   {
    "duration": 0,
    "start_time": "2022-11-03T17:18:03.969Z"
   },
   {
    "duration": 0,
    "start_time": "2022-11-03T17:18:03.971Z"
   },
   {
    "duration": 0,
    "start_time": "2022-11-03T17:18:03.973Z"
   },
   {
    "duration": 4,
    "start_time": "2022-11-03T17:18:12.614Z"
   },
   {
    "duration": 4,
    "start_time": "2022-11-03T17:18:17.276Z"
   },
   {
    "duration": 23,
    "start_time": "2022-11-03T17:22:52.246Z"
   },
   {
    "duration": 3,
    "start_time": "2022-11-03T17:25:56.845Z"
   },
   {
    "duration": 183,
    "start_time": "2022-11-03T17:25:56.850Z"
   },
   {
    "duration": 8,
    "start_time": "2022-11-03T17:25:57.035Z"
   },
   {
    "duration": 30,
    "start_time": "2022-11-03T17:25:57.053Z"
   },
   {
    "duration": 2,
    "start_time": "2022-11-03T17:25:57.086Z"
   },
   {
    "duration": 8,
    "start_time": "2022-11-03T17:25:57.090Z"
   },
   {
    "duration": 15,
    "start_time": "2022-11-03T17:25:57.100Z"
   },
   {
    "duration": 4,
    "start_time": "2022-11-03T17:25:57.117Z"
   },
   {
    "duration": 58,
    "start_time": "2022-11-03T17:25:57.124Z"
   },
   {
    "duration": 54,
    "start_time": "2022-11-03T17:25:57.184Z"
   },
   {
    "duration": 32,
    "start_time": "2022-11-03T17:25:57.240Z"
   },
   {
    "duration": 78,
    "start_time": "2022-11-03T17:25:57.274Z"
   },
   {
    "duration": 78,
    "start_time": "2022-11-03T17:25:57.353Z"
   },
   {
    "duration": 73,
    "start_time": "2022-11-03T17:25:57.433Z"
   },
   {
    "duration": 64,
    "start_time": "2022-11-03T17:25:57.508Z"
   },
   {
    "duration": 10,
    "start_time": "2022-11-03T17:25:57.574Z"
   },
   {
    "duration": 63,
    "start_time": "2022-11-03T17:25:57.585Z"
   },
   {
    "duration": 12,
    "start_time": "2022-11-03T17:25:57.650Z"
   },
   {
    "duration": 51,
    "start_time": "2022-11-03T17:25:57.664Z"
   },
   {
    "duration": 6,
    "start_time": "2022-11-03T17:25:57.717Z"
   },
   {
    "duration": 43,
    "start_time": "2022-11-03T17:25:57.725Z"
   },
   {
    "duration": 26,
    "start_time": "2022-11-03T17:25:57.770Z"
   },
   {
    "duration": 33,
    "start_time": "2022-11-03T17:25:57.797Z"
   },
   {
    "duration": 18,
    "start_time": "2022-11-03T17:25:57.833Z"
   },
   {
    "duration": 17,
    "start_time": "2022-11-03T17:25:57.852Z"
   },
   {
    "duration": 32,
    "start_time": "2022-11-03T17:25:57.871Z"
   },
   {
    "duration": 2,
    "start_time": "2022-11-03T17:25:57.905Z"
   },
   {
    "duration": 19,
    "start_time": "2022-11-03T17:25:57.909Z"
   },
   {
    "duration": 14,
    "start_time": "2022-11-03T17:25:57.930Z"
   },
   {
    "duration": 45,
    "start_time": "2022-11-03T17:25:57.947Z"
   },
   {
    "duration": 0,
    "start_time": "2022-11-03T17:25:57.994Z"
   },
   {
    "duration": 0,
    "start_time": "2022-11-03T17:25:57.995Z"
   },
   {
    "duration": 0,
    "start_time": "2022-11-03T17:25:57.996Z"
   },
   {
    "duration": 0,
    "start_time": "2022-11-03T17:25:57.997Z"
   },
   {
    "duration": 0,
    "start_time": "2022-11-03T17:25:57.998Z"
   },
   {
    "duration": 0,
    "start_time": "2022-11-03T17:25:57.999Z"
   },
   {
    "duration": 0,
    "start_time": "2022-11-03T17:25:58.000Z"
   },
   {
    "duration": 0,
    "start_time": "2022-11-03T17:25:58.001Z"
   },
   {
    "duration": 10,
    "start_time": "2022-11-03T17:29:06.762Z"
   },
   {
    "duration": 13,
    "start_time": "2022-11-03T17:29:31.470Z"
   },
   {
    "duration": 10,
    "start_time": "2022-11-03T17:32:22.408Z"
   },
   {
    "duration": 9,
    "start_time": "2022-11-03T17:32:53.424Z"
   },
   {
    "duration": 2,
    "start_time": "2022-11-03T17:35:05.979Z"
   },
   {
    "duration": 193,
    "start_time": "2022-11-03T17:35:05.984Z"
   },
   {
    "duration": 7,
    "start_time": "2022-11-03T17:35:06.179Z"
   },
   {
    "duration": 35,
    "start_time": "2022-11-03T17:35:06.188Z"
   },
   {
    "duration": 3,
    "start_time": "2022-11-03T17:35:06.226Z"
   },
   {
    "duration": 24,
    "start_time": "2022-11-03T17:35:06.230Z"
   },
   {
    "duration": 14,
    "start_time": "2022-11-03T17:35:06.255Z"
   },
   {
    "duration": 4,
    "start_time": "2022-11-03T17:35:06.271Z"
   },
   {
    "duration": 31,
    "start_time": "2022-11-03T17:35:06.277Z"
   },
   {
    "duration": 19,
    "start_time": "2022-11-03T17:35:06.310Z"
   },
   {
    "duration": 39,
    "start_time": "2022-11-03T17:35:06.331Z"
   },
   {
    "duration": 68,
    "start_time": "2022-11-03T17:35:06.372Z"
   },
   {
    "duration": 78,
    "start_time": "2022-11-03T17:35:06.442Z"
   },
   {
    "duration": 77,
    "start_time": "2022-11-03T17:35:06.522Z"
   },
   {
    "duration": 62,
    "start_time": "2022-11-03T17:35:06.601Z"
   },
   {
    "duration": 10,
    "start_time": "2022-11-03T17:35:06.665Z"
   },
   {
    "duration": 47,
    "start_time": "2022-11-03T17:35:06.677Z"
   },
   {
    "duration": 34,
    "start_time": "2022-11-03T17:35:06.726Z"
   },
   {
    "duration": 11,
    "start_time": "2022-11-03T17:35:06.899Z"
   },
   {
    "duration": 3,
    "start_time": "2022-11-03T17:35:06.913Z"
   },
   {
    "duration": 28,
    "start_time": "2022-11-03T17:35:06.917Z"
   },
   {
    "duration": 29,
    "start_time": "2022-11-03T17:35:06.947Z"
   },
   {
    "duration": 17,
    "start_time": "2022-11-03T17:35:06.978Z"
   },
   {
    "duration": 29,
    "start_time": "2022-11-03T17:35:06.997Z"
   },
   {
    "duration": 15,
    "start_time": "2022-11-03T17:35:07.028Z"
   },
   {
    "duration": 16,
    "start_time": "2022-11-03T17:35:07.045Z"
   },
   {
    "duration": 11,
    "start_time": "2022-11-03T17:35:07.062Z"
   },
   {
    "duration": 0,
    "start_time": "2022-11-03T17:35:07.075Z"
   },
   {
    "duration": 0,
    "start_time": "2022-11-03T17:35:07.076Z"
   },
   {
    "duration": 0,
    "start_time": "2022-11-03T17:35:07.078Z"
   },
   {
    "duration": 0,
    "start_time": "2022-11-03T17:35:07.079Z"
   },
   {
    "duration": 0,
    "start_time": "2022-11-03T17:35:07.080Z"
   },
   {
    "duration": 0,
    "start_time": "2022-11-03T17:35:07.081Z"
   },
   {
    "duration": 0,
    "start_time": "2022-11-03T17:35:07.082Z"
   },
   {
    "duration": 0,
    "start_time": "2022-11-03T17:35:07.083Z"
   },
   {
    "duration": 0,
    "start_time": "2022-11-03T17:35:07.085Z"
   },
   {
    "duration": 0,
    "start_time": "2022-11-03T17:35:07.086Z"
   },
   {
    "duration": 0,
    "start_time": "2022-11-03T17:35:07.087Z"
   },
   {
    "duration": 9,
    "start_time": "2022-11-03T17:35:14.582Z"
   },
   {
    "duration": 7,
    "start_time": "2022-11-03T17:41:39.065Z"
   },
   {
    "duration": 11,
    "start_time": "2022-11-03T17:46:56.529Z"
   },
   {
    "duration": 10,
    "start_time": "2022-11-03T17:46:58.330Z"
   },
   {
    "duration": 46,
    "start_time": "2022-11-03T17:58:19.185Z"
   },
   {
    "duration": 46,
    "start_time": "2022-11-03T17:58:50.568Z"
   },
   {
    "duration": 5,
    "start_time": "2022-11-03T18:02:34.909Z"
   },
   {
    "duration": 5,
    "start_time": "2022-11-03T18:05:23.471Z"
   },
   {
    "duration": 3,
    "start_time": "2022-11-03T18:46:02.864Z"
   },
   {
    "duration": 180,
    "start_time": "2022-11-03T18:46:02.868Z"
   },
   {
    "duration": 6,
    "start_time": "2022-11-03T18:46:03.050Z"
   },
   {
    "duration": 31,
    "start_time": "2022-11-03T18:46:03.057Z"
   },
   {
    "duration": 2,
    "start_time": "2022-11-03T18:46:03.091Z"
   },
   {
    "duration": 9,
    "start_time": "2022-11-03T18:46:03.094Z"
   },
   {
    "duration": 14,
    "start_time": "2022-11-03T18:46:03.104Z"
   },
   {
    "duration": 4,
    "start_time": "2022-11-03T18:46:03.120Z"
   },
   {
    "duration": 62,
    "start_time": "2022-11-03T18:46:03.125Z"
   },
   {
    "duration": 28,
    "start_time": "2022-11-03T18:46:03.188Z"
   },
   {
    "duration": 31,
    "start_time": "2022-11-03T18:46:03.219Z"
   },
   {
    "duration": 78,
    "start_time": "2022-11-03T18:46:03.252Z"
   },
   {
    "duration": 72,
    "start_time": "2022-11-03T18:46:03.332Z"
   },
   {
    "duration": 65,
    "start_time": "2022-11-03T18:46:03.406Z"
   },
   {
    "duration": 46,
    "start_time": "2022-11-03T18:46:03.473Z"
   },
   {
    "duration": 10,
    "start_time": "2022-11-03T18:46:03.521Z"
   },
   {
    "duration": 65,
    "start_time": "2022-11-03T18:46:03.533Z"
   },
   {
    "duration": 12,
    "start_time": "2022-11-03T18:46:03.600Z"
   },
   {
    "duration": 14,
    "start_time": "2022-11-03T18:46:03.614Z"
   },
   {
    "duration": 26,
    "start_time": "2022-11-03T18:46:03.629Z"
   },
   {
    "duration": 35,
    "start_time": "2022-11-03T18:46:03.657Z"
   },
   {
    "duration": 16,
    "start_time": "2022-11-03T18:46:03.694Z"
   },
   {
    "duration": 18,
    "start_time": "2022-11-03T18:46:03.711Z"
   },
   {
    "duration": 41,
    "start_time": "2022-11-03T18:46:03.731Z"
   },
   {
    "duration": 22,
    "start_time": "2022-11-03T18:46:03.773Z"
   },
   {
    "duration": 17,
    "start_time": "2022-11-03T18:46:03.796Z"
   },
   {
    "duration": 19,
    "start_time": "2022-11-03T18:46:03.815Z"
   },
   {
    "duration": 17,
    "start_time": "2022-11-03T18:46:03.853Z"
   },
   {
    "duration": 13,
    "start_time": "2022-11-03T18:46:03.873Z"
   },
   {
    "duration": 4,
    "start_time": "2022-11-03T18:46:03.888Z"
   },
   {
    "duration": 35,
    "start_time": "2022-11-03T18:46:03.893Z"
   },
   {
    "duration": 26,
    "start_time": "2022-11-03T18:46:03.930Z"
   },
   {
    "duration": 20,
    "start_time": "2022-11-03T18:46:03.958Z"
   },
   {
    "duration": 12,
    "start_time": "2022-11-03T18:46:03.980Z"
   },
   {
    "duration": 22,
    "start_time": "2022-11-03T18:46:03.994Z"
   },
   {
    "duration": 24,
    "start_time": "2022-11-03T18:46:04.018Z"
   },
   {
    "duration": 17,
    "start_time": "2022-11-03T18:46:04.044Z"
   },
   {
    "duration": 12,
    "start_time": "2022-11-03T18:46:04.062Z"
   },
   {
    "duration": 9,
    "start_time": "2022-11-03T18:46:10.076Z"
   },
   {
    "duration": 17,
    "start_time": "2022-11-03T18:47:58.274Z"
   },
   {
    "duration": 10,
    "start_time": "2022-11-03T18:49:23.072Z"
   },
   {
    "duration": 9,
    "start_time": "2022-11-03T18:49:36.828Z"
   },
   {
    "duration": 9,
    "start_time": "2022-11-03T18:50:35.716Z"
   },
   {
    "duration": 10,
    "start_time": "2022-11-03T18:50:46.946Z"
   },
   {
    "duration": 3,
    "start_time": "2022-11-03T18:50:52.361Z"
   },
   {
    "duration": 165,
    "start_time": "2022-11-03T18:50:52.366Z"
   },
   {
    "duration": 7,
    "start_time": "2022-11-03T18:50:52.533Z"
   },
   {
    "duration": 38,
    "start_time": "2022-11-03T18:50:52.542Z"
   },
   {
    "duration": 3,
    "start_time": "2022-11-03T18:50:52.583Z"
   },
   {
    "duration": 6,
    "start_time": "2022-11-03T18:50:52.588Z"
   },
   {
    "duration": 12,
    "start_time": "2022-11-03T18:50:52.595Z"
   },
   {
    "duration": 4,
    "start_time": "2022-11-03T18:50:52.608Z"
   },
   {
    "duration": 59,
    "start_time": "2022-11-03T18:50:52.614Z"
   },
   {
    "duration": 22,
    "start_time": "2022-11-03T18:50:52.675Z"
   },
   {
    "duration": 24,
    "start_time": "2022-11-03T18:50:52.699Z"
   },
   {
    "duration": 86,
    "start_time": "2022-11-03T18:50:52.724Z"
   },
   {
    "duration": 81,
    "start_time": "2022-11-03T18:50:52.812Z"
   },
   {
    "duration": 65,
    "start_time": "2022-11-03T18:50:52.895Z"
   },
   {
    "duration": 47,
    "start_time": "2022-11-03T18:50:52.961Z"
   },
   {
    "duration": 10,
    "start_time": "2022-11-03T18:50:53.010Z"
   },
   {
    "duration": 74,
    "start_time": "2022-11-03T18:50:53.023Z"
   },
   {
    "duration": 12,
    "start_time": "2022-11-03T18:50:53.099Z"
   },
   {
    "duration": 11,
    "start_time": "2022-11-03T18:50:53.113Z"
   },
   {
    "duration": 4,
    "start_time": "2022-11-03T18:50:53.126Z"
   },
   {
    "duration": 22,
    "start_time": "2022-11-03T18:50:53.321Z"
   },
   {
    "duration": 34,
    "start_time": "2022-11-03T18:50:53.345Z"
   },
   {
    "duration": 22,
    "start_time": "2022-11-03T18:50:53.381Z"
   },
   {
    "duration": 19,
    "start_time": "2022-11-03T18:50:53.405Z"
   },
   {
    "duration": 42,
    "start_time": "2022-11-03T18:50:53.427Z"
   },
   {
    "duration": 15,
    "start_time": "2022-11-03T18:50:53.471Z"
   },
   {
    "duration": 7,
    "start_time": "2022-11-03T18:50:53.488Z"
   },
   {
    "duration": 13,
    "start_time": "2022-11-03T18:50:53.497Z"
   },
   {
    "duration": 12,
    "start_time": "2022-11-03T18:50:53.513Z"
   },
   {
    "duration": 5,
    "start_time": "2022-11-03T18:50:53.680Z"
   },
   {
    "duration": 26,
    "start_time": "2022-11-03T18:50:53.687Z"
   },
   {
    "duration": 14,
    "start_time": "2022-11-03T18:50:54.520Z"
   },
   {
    "duration": 19,
    "start_time": "2022-11-03T18:50:54.536Z"
   },
   {
    "duration": 14,
    "start_time": "2022-11-03T18:50:55.233Z"
   },
   {
    "duration": 8,
    "start_time": "2022-11-03T18:50:55.249Z"
   },
   {
    "duration": 0,
    "start_time": "2022-11-03T18:50:55.259Z"
   },
   {
    "duration": 0,
    "start_time": "2022-11-03T18:50:55.260Z"
   },
   {
    "duration": 0,
    "start_time": "2022-11-03T18:50:55.261Z"
   },
   {
    "duration": 8,
    "start_time": "2022-11-03T18:51:20.743Z"
   },
   {
    "duration": 10,
    "start_time": "2022-11-03T18:51:25.509Z"
   },
   {
    "duration": 3,
    "start_time": "2022-11-03T18:51:31.699Z"
   },
   {
    "duration": 193,
    "start_time": "2022-11-03T18:51:31.704Z"
   },
   {
    "duration": 8,
    "start_time": "2022-11-03T18:51:31.899Z"
   },
   {
    "duration": 32,
    "start_time": "2022-11-03T18:51:31.908Z"
   },
   {
    "duration": 11,
    "start_time": "2022-11-03T18:51:31.943Z"
   },
   {
    "duration": 3,
    "start_time": "2022-11-03T18:51:31.955Z"
   },
   {
    "duration": 21,
    "start_time": "2022-11-03T18:51:31.960Z"
   },
   {
    "duration": 4,
    "start_time": "2022-11-03T18:51:31.983Z"
   },
   {
    "duration": 36,
    "start_time": "2022-11-03T18:51:31.989Z"
   },
   {
    "duration": 41,
    "start_time": "2022-11-03T18:51:32.026Z"
   },
   {
    "duration": 21,
    "start_time": "2022-11-03T18:51:32.069Z"
   },
   {
    "duration": 81,
    "start_time": "2022-11-03T18:51:32.092Z"
   },
   {
    "duration": 66,
    "start_time": "2022-11-03T18:51:32.174Z"
   },
   {
    "duration": 56,
    "start_time": "2022-11-03T18:51:32.253Z"
   },
   {
    "duration": 65,
    "start_time": "2022-11-03T18:51:32.310Z"
   },
   {
    "duration": 10,
    "start_time": "2022-11-03T18:51:32.377Z"
   },
   {
    "duration": 53,
    "start_time": "2022-11-03T18:51:32.388Z"
   },
   {
    "duration": 23,
    "start_time": "2022-11-03T18:51:32.442Z"
   },
   {
    "duration": 21,
    "start_time": "2022-11-03T18:51:32.466Z"
   },
   {
    "duration": 17,
    "start_time": "2022-11-03T18:51:32.489Z"
   },
   {
    "duration": 49,
    "start_time": "2022-11-03T18:51:32.508Z"
   },
   {
    "duration": 15,
    "start_time": "2022-11-03T18:51:32.559Z"
   },
   {
    "duration": 15,
    "start_time": "2022-11-03T18:51:32.575Z"
   },
   {
    "duration": 14,
    "start_time": "2022-11-03T18:51:32.592Z"
   },
   {
    "duration": 49,
    "start_time": "2022-11-03T18:51:32.608Z"
   },
   {
    "duration": 18,
    "start_time": "2022-11-03T18:51:32.659Z"
   },
   {
    "duration": 7,
    "start_time": "2022-11-03T18:51:32.679Z"
   },
   {
    "duration": 20,
    "start_time": "2022-11-03T18:51:32.687Z"
   },
   {
    "duration": 11,
    "start_time": "2022-11-03T18:51:32.709Z"
   },
   {
    "duration": 15,
    "start_time": "2022-11-03T18:51:32.722Z"
   },
   {
    "duration": 21,
    "start_time": "2022-11-03T18:51:32.755Z"
   },
   {
    "duration": 12,
    "start_time": "2022-11-03T18:51:32.777Z"
   },
   {
    "duration": 18,
    "start_time": "2022-11-03T18:51:32.790Z"
   },
   {
    "duration": 12,
    "start_time": "2022-11-03T18:51:32.810Z"
   },
   {
    "duration": 35,
    "start_time": "2022-11-03T18:51:32.824Z"
   },
   {
    "duration": 10,
    "start_time": "2022-11-03T18:51:32.861Z"
   },
   {
    "duration": 5,
    "start_time": "2022-11-03T18:51:32.872Z"
   },
   {
    "duration": 10,
    "start_time": "2022-11-03T18:51:32.879Z"
   },
   {
    "duration": 8,
    "start_time": "2022-11-03T18:54:47.963Z"
   },
   {
    "duration": 10,
    "start_time": "2022-11-03T18:55:20.770Z"
   },
   {
    "duration": 8,
    "start_time": "2022-11-03T18:56:17.861Z"
   },
   {
    "duration": 9,
    "start_time": "2022-11-03T18:56:24.061Z"
   },
   {
    "duration": 12,
    "start_time": "2022-11-03T18:58:17.202Z"
   },
   {
    "duration": 6,
    "start_time": "2022-11-03T18:58:21.463Z"
   },
   {
    "duration": 9,
    "start_time": "2022-11-03T18:58:59.497Z"
   },
   {
    "duration": 3,
    "start_time": "2022-11-03T18:59:07.700Z"
   },
   {
    "duration": 221,
    "start_time": "2022-11-03T18:59:07.705Z"
   },
   {
    "duration": 6,
    "start_time": "2022-11-03T18:59:07.928Z"
   },
   {
    "duration": 57,
    "start_time": "2022-11-03T18:59:07.936Z"
   },
   {
    "duration": 21,
    "start_time": "2022-11-03T18:59:07.994Z"
   },
   {
    "duration": 26,
    "start_time": "2022-11-03T18:59:08.016Z"
   },
   {
    "duration": 30,
    "start_time": "2022-11-03T18:59:08.044Z"
   },
   {
    "duration": 18,
    "start_time": "2022-11-03T18:59:08.076Z"
   },
   {
    "duration": 59,
    "start_time": "2022-11-03T18:59:08.096Z"
   },
   {
    "duration": 32,
    "start_time": "2022-11-03T18:59:08.157Z"
   },
   {
    "duration": 39,
    "start_time": "2022-11-03T18:59:08.191Z"
   },
   {
    "duration": 103,
    "start_time": "2022-11-03T18:59:08.232Z"
   },
   {
    "duration": 81,
    "start_time": "2022-11-03T18:59:08.337Z"
   },
   {
    "duration": 69,
    "start_time": "2022-11-03T18:59:08.420Z"
   },
   {
    "duration": 49,
    "start_time": "2022-11-03T18:59:08.491Z"
   },
   {
    "duration": 12,
    "start_time": "2022-11-03T18:59:08.555Z"
   },
   {
    "duration": 56,
    "start_time": "2022-11-03T18:59:08.569Z"
   },
   {
    "duration": 28,
    "start_time": "2022-11-03T18:59:08.627Z"
   },
   {
    "duration": 24,
    "start_time": "2022-11-03T18:59:08.657Z"
   },
   {
    "duration": 23,
    "start_time": "2022-11-03T18:59:08.684Z"
   },
   {
    "duration": 75,
    "start_time": "2022-11-03T18:59:08.709Z"
   },
   {
    "duration": 29,
    "start_time": "2022-11-03T18:59:08.786Z"
   },
   {
    "duration": 22,
    "start_time": "2022-11-03T18:59:08.817Z"
   },
   {
    "duration": 31,
    "start_time": "2022-11-03T18:59:08.842Z"
   },
   {
    "duration": 42,
    "start_time": "2022-11-03T18:59:08.876Z"
   },
   {
    "duration": 22,
    "start_time": "2022-11-03T18:59:08.920Z"
   },
   {
    "duration": 22,
    "start_time": "2022-11-03T18:59:08.944Z"
   },
   {
    "duration": 31,
    "start_time": "2022-11-03T18:59:08.968Z"
   },
   {
    "duration": 27,
    "start_time": "2022-11-03T18:59:09.001Z"
   },
   {
    "duration": 6,
    "start_time": "2022-11-03T18:59:09.029Z"
   },
   {
    "duration": 42,
    "start_time": "2022-11-03T18:59:09.037Z"
   },
   {
    "duration": 45,
    "start_time": "2022-11-03T18:59:09.082Z"
   },
   {
    "duration": 31,
    "start_time": "2022-11-03T18:59:09.129Z"
   },
   {
    "duration": 32,
    "start_time": "2022-11-03T18:59:09.162Z"
   },
   {
    "duration": 19,
    "start_time": "2022-11-03T18:59:09.196Z"
   },
   {
    "duration": 25,
    "start_time": "2022-11-03T18:59:09.217Z"
   },
   {
    "duration": 32,
    "start_time": "2022-11-03T18:59:09.243Z"
   },
   {
    "duration": 26,
    "start_time": "2022-11-03T18:59:09.277Z"
   },
   {
    "duration": 9,
    "start_time": "2022-11-03T18:59:59.305Z"
   },
   {
    "duration": 6,
    "start_time": "2022-11-03T19:00:03.401Z"
   },
   {
    "duration": 14,
    "start_time": "2022-11-03T19:02:27.701Z"
   },
   {
    "duration": 5,
    "start_time": "2022-11-03T19:02:37.416Z"
   },
   {
    "duration": 27,
    "start_time": "2022-11-03T19:03:03.118Z"
   },
   {
    "duration": 37,
    "start_time": "2022-11-03T19:03:20.133Z"
   },
   {
    "duration": 6,
    "start_time": "2022-11-03T19:03:23.897Z"
   },
   {
    "duration": 39,
    "start_time": "2022-11-03T19:05:05.483Z"
   },
   {
    "duration": 8,
    "start_time": "2022-11-03T19:05:10.956Z"
   },
   {
    "duration": 14,
    "start_time": "2022-11-03T19:06:12.114Z"
   },
   {
    "duration": 13,
    "start_time": "2022-11-03T19:07:21.110Z"
   },
   {
    "duration": 15,
    "start_time": "2022-11-03T19:07:42.754Z"
   },
   {
    "duration": 7,
    "start_time": "2022-11-03T19:08:23.977Z"
   },
   {
    "duration": 13,
    "start_time": "2022-11-03T19:11:20.588Z"
   },
   {
    "duration": 8,
    "start_time": "2022-11-03T19:11:48.349Z"
   },
   {
    "duration": 5,
    "start_time": "2022-11-03T19:11:54.050Z"
   },
   {
    "duration": 3,
    "start_time": "2022-11-03T19:40:53.507Z"
   },
   {
    "duration": 354,
    "start_time": "2022-11-12T11:27:57.775Z"
   },
   {
    "duration": 457,
    "start_time": "2022-11-12T11:27:58.131Z"
   },
   {
    "duration": 8,
    "start_time": "2022-11-12T11:27:58.589Z"
   },
   {
    "duration": 30,
    "start_time": "2022-11-12T11:27:58.599Z"
   },
   {
    "duration": 3,
    "start_time": "2022-11-12T11:27:58.631Z"
   },
   {
    "duration": 8,
    "start_time": "2022-11-12T11:27:58.635Z"
   },
   {
    "duration": 17,
    "start_time": "2022-11-12T11:27:58.644Z"
   },
   {
    "duration": 6,
    "start_time": "2022-11-12T11:27:58.663Z"
   },
   {
    "duration": 36,
    "start_time": "2022-11-12T11:27:58.670Z"
   },
   {
    "duration": 17,
    "start_time": "2022-11-12T11:27:58.708Z"
   },
   {
    "duration": 23,
    "start_time": "2022-11-12T11:27:58.729Z"
   },
   {
    "duration": 76,
    "start_time": "2022-11-12T11:27:58.754Z"
   },
   {
    "duration": 69,
    "start_time": "2022-11-12T11:27:58.832Z"
   },
   {
    "duration": 73,
    "start_time": "2022-11-12T11:27:58.904Z"
   },
   {
    "duration": 70,
    "start_time": "2022-11-12T11:27:58.979Z"
   },
   {
    "duration": 10,
    "start_time": "2022-11-12T11:27:59.051Z"
   },
   {
    "duration": 47,
    "start_time": "2022-11-12T11:27:59.063Z"
   },
   {
    "duration": 24,
    "start_time": "2022-11-12T11:27:59.112Z"
   },
   {
    "duration": 11,
    "start_time": "2022-11-12T11:27:59.138Z"
   },
   {
    "duration": 3,
    "start_time": "2022-11-12T11:27:59.150Z"
   },
   {
    "duration": 18,
    "start_time": "2022-11-12T11:27:59.155Z"
   },
   {
    "duration": 14,
    "start_time": "2022-11-12T11:27:59.174Z"
   },
   {
    "duration": 13,
    "start_time": "2022-11-12T11:27:59.190Z"
   },
   {
    "duration": 36,
    "start_time": "2022-11-12T11:27:59.204Z"
   },
   {
    "duration": 19,
    "start_time": "2022-11-12T11:27:59.242Z"
   },
   {
    "duration": 12,
    "start_time": "2022-11-12T11:27:59.263Z"
   },
   {
    "duration": 6,
    "start_time": "2022-11-12T11:27:59.276Z"
   },
   {
    "duration": 10,
    "start_time": "2022-11-12T11:27:59.284Z"
   },
   {
    "duration": 35,
    "start_time": "2022-11-12T11:27:59.295Z"
   },
   {
    "duration": 4,
    "start_time": "2022-11-12T11:27:59.331Z"
   },
   {
    "duration": 21,
    "start_time": "2022-11-12T11:27:59.337Z"
   },
   {
    "duration": 10,
    "start_time": "2022-11-12T11:27:59.359Z"
   },
   {
    "duration": 21,
    "start_time": "2022-11-12T11:27:59.370Z"
   },
   {
    "duration": 43,
    "start_time": "2022-11-12T11:27:59.392Z"
   },
   {
    "duration": 10,
    "start_time": "2022-11-12T11:27:59.437Z"
   },
   {
    "duration": 4,
    "start_time": "2022-11-12T11:27:59.449Z"
   },
   {
    "duration": 7,
    "start_time": "2022-11-12T11:27:59.454Z"
   },
   {
    "duration": 4,
    "start_time": "2022-11-12T11:27:59.462Z"
   },
   {
    "duration": 405,
    "start_time": "2022-11-13T19:14:07.804Z"
   },
   {
    "duration": 205,
    "start_time": "2022-11-13T19:14:08.212Z"
   },
   {
    "duration": 8,
    "start_time": "2022-11-13T19:14:08.418Z"
   },
   {
    "duration": 40,
    "start_time": "2022-11-13T19:14:08.428Z"
   },
   {
    "duration": 2,
    "start_time": "2022-11-13T19:14:08.470Z"
   },
   {
    "duration": 6,
    "start_time": "2022-11-13T19:14:08.474Z"
   },
   {
    "duration": 14,
    "start_time": "2022-11-13T19:14:08.482Z"
   },
   {
    "duration": 15,
    "start_time": "2022-11-13T19:14:08.498Z"
   },
   {
    "duration": 31,
    "start_time": "2022-11-13T19:14:08.515Z"
   },
   {
    "duration": 27,
    "start_time": "2022-11-13T19:14:08.547Z"
   },
   {
    "duration": 46,
    "start_time": "2022-11-13T19:14:08.575Z"
   },
   {
    "duration": 69,
    "start_time": "2022-11-13T19:14:08.623Z"
   },
   {
    "duration": 76,
    "start_time": "2022-11-13T19:14:08.694Z"
   },
   {
    "duration": 60,
    "start_time": "2022-11-13T19:14:08.772Z"
   },
   {
    "duration": 43,
    "start_time": "2022-11-13T19:14:08.834Z"
   },
   {
    "duration": 12,
    "start_time": "2022-11-13T19:14:08.878Z"
   },
   {
    "duration": 73,
    "start_time": "2022-11-13T19:14:08.892Z"
   },
   {
    "duration": 13,
    "start_time": "2022-11-13T19:14:08.967Z"
   },
   {
    "duration": 12,
    "start_time": "2022-11-13T19:14:08.981Z"
   },
   {
    "duration": 3,
    "start_time": "2022-11-13T19:14:09.013Z"
   },
   {
    "duration": 22,
    "start_time": "2022-11-13T19:14:09.017Z"
   },
   {
    "duration": 13,
    "start_time": "2022-11-13T19:14:09.041Z"
   },
   {
    "duration": 13,
    "start_time": "2022-11-13T19:14:09.056Z"
   },
   {
    "duration": 13,
    "start_time": "2022-11-13T19:14:09.070Z"
   },
   {
    "duration": 39,
    "start_time": "2022-11-13T19:14:09.084Z"
   },
   {
    "duration": 14,
    "start_time": "2022-11-13T19:14:09.125Z"
   },
   {
    "duration": 6,
    "start_time": "2022-11-13T19:14:09.140Z"
   },
   {
    "duration": 12,
    "start_time": "2022-11-13T19:14:09.148Z"
   },
   {
    "duration": 8,
    "start_time": "2022-11-13T19:14:09.162Z"
   },
   {
    "duration": 4,
    "start_time": "2022-11-13T19:14:09.172Z"
   },
   {
    "duration": 49,
    "start_time": "2022-11-13T19:14:09.178Z"
   },
   {
    "duration": 11,
    "start_time": "2022-11-13T19:14:09.229Z"
   },
   {
    "duration": 18,
    "start_time": "2022-11-13T19:14:09.242Z"
   },
   {
    "duration": 11,
    "start_time": "2022-11-13T19:14:09.262Z"
   },
   {
    "duration": 9,
    "start_time": "2022-11-13T19:14:09.275Z"
   },
   {
    "duration": 5,
    "start_time": "2022-11-13T19:14:09.313Z"
   },
   {
    "duration": 8,
    "start_time": "2022-11-13T19:14:09.319Z"
   },
   {
    "duration": 4,
    "start_time": "2022-11-13T19:14:09.329Z"
   },
   {
    "duration": 398,
    "start_time": "2022-11-26T19:57:19.175Z"
   },
   {
    "duration": 469,
    "start_time": "2022-11-26T19:57:19.575Z"
   },
   {
    "duration": 10,
    "start_time": "2022-11-26T19:57:20.046Z"
   },
   {
    "duration": 82,
    "start_time": "2022-11-26T19:57:20.057Z"
   },
   {
    "duration": 32,
    "start_time": "2022-11-26T19:57:20.142Z"
   },
   {
    "duration": 46,
    "start_time": "2022-11-26T19:57:20.176Z"
   },
   {
    "duration": 48,
    "start_time": "2022-11-26T19:57:20.224Z"
   },
   {
    "duration": 46,
    "start_time": "2022-11-26T19:57:20.274Z"
   },
   {
    "duration": 60,
    "start_time": "2022-11-26T19:57:20.322Z"
   },
   {
    "duration": 76,
    "start_time": "2022-11-26T19:57:20.384Z"
   },
   {
    "duration": 57,
    "start_time": "2022-11-26T19:57:20.461Z"
   },
   {
    "duration": 98,
    "start_time": "2022-11-26T19:57:20.520Z"
   },
   {
    "duration": 66,
    "start_time": "2022-11-26T19:57:20.620Z"
   },
   {
    "duration": 67,
    "start_time": "2022-11-26T19:57:20.690Z"
   },
   {
    "duration": 67,
    "start_time": "2022-11-26T19:57:20.759Z"
   },
   {
    "duration": 11,
    "start_time": "2022-11-26T19:57:20.829Z"
   },
   {
    "duration": 74,
    "start_time": "2022-11-26T19:57:20.842Z"
   },
   {
    "duration": 16,
    "start_time": "2022-11-26T19:57:20.918Z"
   },
   {
    "duration": 45,
    "start_time": "2022-11-26T19:57:20.935Z"
   },
   {
    "duration": 33,
    "start_time": "2022-11-26T19:57:20.982Z"
   },
   {
    "duration": 54,
    "start_time": "2022-11-26T19:57:21.016Z"
   },
   {
    "duration": 44,
    "start_time": "2022-11-26T19:57:21.071Z"
   },
   {
    "duration": 27,
    "start_time": "2022-11-26T19:57:21.121Z"
   },
   {
    "duration": 31,
    "start_time": "2022-11-26T19:57:21.150Z"
   },
   {
    "duration": 65,
    "start_time": "2022-11-26T19:57:21.182Z"
   },
   {
    "duration": 49,
    "start_time": "2022-11-26T19:57:21.249Z"
   },
   {
    "duration": 29,
    "start_time": "2022-11-26T19:57:21.299Z"
   },
   {
    "duration": 38,
    "start_time": "2022-11-26T19:57:21.330Z"
   },
   {
    "duration": 32,
    "start_time": "2022-11-26T19:57:21.370Z"
   },
   {
    "duration": 41,
    "start_time": "2022-11-26T19:57:21.404Z"
   },
   {
    "duration": 54,
    "start_time": "2022-11-26T19:57:21.446Z"
   },
   {
    "duration": 35,
    "start_time": "2022-11-26T19:57:21.501Z"
   },
   {
    "duration": 35,
    "start_time": "2022-11-26T19:57:21.537Z"
   },
   {
    "duration": 29,
    "start_time": "2022-11-26T19:57:21.574Z"
   },
   {
    "duration": 35,
    "start_time": "2022-11-26T19:57:21.605Z"
   },
   {
    "duration": 36,
    "start_time": "2022-11-26T19:57:21.641Z"
   },
   {
    "duration": 36,
    "start_time": "2022-11-26T19:57:21.679Z"
   },
   {
    "duration": 29,
    "start_time": "2022-11-26T19:57:21.716Z"
   }
  ],
  "colab": {
   "collapsed_sections": [
    "E0vqbgi9ay0H",
    "VUC88oWjTJw2"
   ],
   "name": "automatization_template_upd4.ipynb",
   "provenance": []
  },
  "kernelspec": {
   "display_name": "Python 3 (ipykernel)",
   "language": "python",
   "name": "python3"
  },
  "language_info": {
   "codemirror_mode": {
    "name": "ipython",
    "version": 3
   },
   "file_extension": ".py",
   "mimetype": "text/x-python",
   "name": "python",
   "nbconvert_exporter": "python",
   "pygments_lexer": "ipython3",
   "version": "3.9.13"
  },
  "toc": {
   "base_numbering": 1,
   "nav_menu": {
    "height": "215px",
    "width": "403px"
   },
   "number_sections": true,
   "sideBar": true,
   "skip_h1_title": true,
   "title_cell": "Table of Contents",
   "title_sidebar": "Contents",
   "toc_cell": false,
   "toc_position": {
    "height": "calc(100% - 180px)",
    "left": "10px",
    "top": "150px",
    "width": "285.825px"
   },
   "toc_section_display": true,
   "toc_window_display": false
  }
 },
 "nbformat": 4,
 "nbformat_minor": 1
}
