{
 "cells": [
  {
   "cell_type": "markdown",
   "metadata": {
    "toc": true
   },
   "source": [
    "<h1>Содержание<span class=\"tocSkip\"></span></h1>\n",
    "<div class=\"toc\"><ul class=\"toc-item\"><li><span><a href=\"#Подготовка\" data-toc-modified-id=\"Подготовка-1\"><span class=\"toc-item-num\">1&nbsp;&nbsp;</span>Подготовка</a></span></li><li><span><a href=\"#Анализ\" data-toc-modified-id=\"Анализ-2\"><span class=\"toc-item-num\">2&nbsp;&nbsp;</span>Анализ</a></span></li><li><span><a href=\"#Обучение\" data-toc-modified-id=\"Обучение-3\"><span class=\"toc-item-num\">3&nbsp;&nbsp;</span>Обучение</a></span></li><li><span><a href=\"#Тестирование\" data-toc-modified-id=\"Тестирование-4\"><span class=\"toc-item-num\">4&nbsp;&nbsp;</span>Тестирование</a>"
   ]
  },
  {
   "cell_type": "markdown",
   "metadata": {},
   "source": [
    "#  Прогнозирование заказов такси"
   ]
  },
  {
   "cell_type": "markdown",
   "metadata": {},
   "source": [
    "Компания «Taxi 888» собрала исторические данные о заказах такси в аэропортах. Чтобы привлекать больше водителей в период пиковой нагрузки, нужно спрогнозировать количество заказов такси на следующий час. Постройте модель для такого предсказания.\n",
    "\n",
    "Значение метрики *RMSE* на тестовой выборке должно быть не больше 48.\n",
    "\n",
    "Вам нужно:\n",
    "\n",
    "1. Загрузить данные и выполнить их ресемплирование по одному часу.\n",
    "2. Проанализировать данные.\n",
    "3. Обучить разные модели с различными гиперпараметрами. Сделать тестовую выборку размером 10% от исходных данных.\n",
    "4. Проверить данные на тестовой выборке и сделать выводы.\n",
    "\n",
    "\n",
    "Данные лежат в файле `taxi.csv`. Количество заказов находится в столбце `num_orders` (от англ. *number of orders*, «число заказов»)."
   ]
  },
  {
   "cell_type": "markdown",
   "metadata": {},
   "source": [
    "## Подготовка"
   ]
  },
  {
   "cell_type": "markdown",
   "metadata": {},
   "source": [
    "Импортируем нужные библиотеки и модули для дальнейшей работы:"
   ]
  },
  {
   "cell_type": "code",
   "execution_count": 1,
   "metadata": {},
   "outputs": [],
   "source": [
    "import pandas as pd\n",
    "import numpy as np\n",
    "import seaborn as sns\n",
    "import matplotlib.pyplot as plt\n",
    "from statsmodels.tsa.seasonal import seasonal_decompose\n",
    "from sklearn.model_selection import train_test_split, cross_val_score, GridSearchCV\n",
    "from sklearn.metrics import mean_squared_error\n",
    "from sklearn.linear_model import LinearRegression, RidgeCV, Lasso\n",
    "from sklearn.model_selection import TimeSeriesSplit"
   ]
  },
  {
   "cell_type": "code",
   "execution_count": 2,
   "metadata": {},
   "outputs": [],
   "source": [
    "try:\n",
    "    data = pd.read_csv(r'C:\\Users\\Julia\\Desktop\\DATA_SCIENCE\\Datasets\\taxi.csv', index_col=[0], parse_dates=[0])\n",
    "except:\n",
    "    data = pd.read_csv('/datasets/taxi.csv', index_col=[0], parse_dates=[0])"
   ]
  },
  {
   "cell_type": "markdown",
   "metadata": {},
   "source": [
    "Проверим хронологическую последовательность временного ряда:"
   ]
  },
  {
   "cell_type": "code",
   "execution_count": 3,
   "metadata": {},
   "outputs": [
    {
     "data": {
      "text/plain": [
       "True"
      ]
     },
     "execution_count": 3,
     "metadata": {},
     "output_type": "execute_result"
    }
   ],
   "source": [
    "data.index.is_monotonic"
   ]
  },
  {
   "cell_type": "markdown",
   "metadata": {},
   "source": [
    "Выполним ресемплирование по одному часу. Выведем первые 5 строк датафрейма:"
   ]
  },
  {
   "cell_type": "code",
   "execution_count": 4,
   "metadata": {},
   "outputs": [
    {
     "data": {
      "text/html": [
       "<div>\n",
       "<style scoped>\n",
       "    .dataframe tbody tr th:only-of-type {\n",
       "        vertical-align: middle;\n",
       "    }\n",
       "\n",
       "    .dataframe tbody tr th {\n",
       "        vertical-align: top;\n",
       "    }\n",
       "\n",
       "    .dataframe thead th {\n",
       "        text-align: right;\n",
       "    }\n",
       "</style>\n",
       "<table border=\"1\" class=\"dataframe\">\n",
       "  <thead>\n",
       "    <tr style=\"text-align: right;\">\n",
       "      <th></th>\n",
       "      <th>num_orders</th>\n",
       "    </tr>\n",
       "    <tr>\n",
       "      <th>datetime</th>\n",
       "      <th></th>\n",
       "    </tr>\n",
       "  </thead>\n",
       "  <tbody>\n",
       "    <tr>\n",
       "      <th>2018-03-01 00:00:00</th>\n",
       "      <td>124</td>\n",
       "    </tr>\n",
       "    <tr>\n",
       "      <th>2018-03-01 01:00:00</th>\n",
       "      <td>85</td>\n",
       "    </tr>\n",
       "    <tr>\n",
       "      <th>2018-03-01 02:00:00</th>\n",
       "      <td>71</td>\n",
       "    </tr>\n",
       "    <tr>\n",
       "      <th>2018-03-01 03:00:00</th>\n",
       "      <td>66</td>\n",
       "    </tr>\n",
       "    <tr>\n",
       "      <th>2018-03-01 04:00:00</th>\n",
       "      <td>43</td>\n",
       "    </tr>\n",
       "  </tbody>\n",
       "</table>\n",
       "</div>"
      ],
      "text/plain": [
       "                     num_orders\n",
       "datetime                       \n",
       "2018-03-01 00:00:00         124\n",
       "2018-03-01 01:00:00          85\n",
       "2018-03-01 02:00:00          71\n",
       "2018-03-01 03:00:00          66\n",
       "2018-03-01 04:00:00          43"
      ]
     },
     "execution_count": 4,
     "metadata": {},
     "output_type": "execute_result"
    }
   ],
   "source": [
    "data.sort_index(inplace=True)\n",
    "data = data.resample('1H').sum()\n",
    "data.head()"
   ]
  },
  {
   "cell_type": "code",
   "execution_count": 5,
   "metadata": {},
   "outputs": [
    {
     "name": "stdout",
     "output_type": "stream",
     "text": [
      "Временной промежуток данных: 2018-03-01 00:00:00 | 2018-08-31 23:00:00\n"
     ]
    }
   ],
   "source": [
    "print('Временной промежуток данных:', data.index.min(), '|', data.index.max())"
   ]
  },
  {
   "cell_type": "markdown",
   "metadata": {},
   "source": [
    "**Вывод:** мы импортировали необходимые библиотеки и модули, загрузили данные и выполнили их ресемплирование по одному часу, также проверили хронологическую последовательность временного ряда с помощью `is_monotonic`"
   ]
  },
  {
   "cell_type": "markdown",
   "metadata": {},
   "source": [
    "## Анализ"
   ]
  },
  {
   "cell_type": "markdown",
   "metadata": {},
   "source": [
    "Выведем статистические данные по таблице:"
   ]
  },
  {
   "cell_type": "code",
   "execution_count": 6,
   "metadata": {},
   "outputs": [
    {
     "data": {
      "text/html": [
       "<div>\n",
       "<style scoped>\n",
       "    .dataframe tbody tr th:only-of-type {\n",
       "        vertical-align: middle;\n",
       "    }\n",
       "\n",
       "    .dataframe tbody tr th {\n",
       "        vertical-align: top;\n",
       "    }\n",
       "\n",
       "    .dataframe thead th {\n",
       "        text-align: right;\n",
       "    }\n",
       "</style>\n",
       "<table border=\"1\" class=\"dataframe\">\n",
       "  <thead>\n",
       "    <tr style=\"text-align: right;\">\n",
       "      <th></th>\n",
       "      <th>num_orders</th>\n",
       "    </tr>\n",
       "  </thead>\n",
       "  <tbody>\n",
       "    <tr>\n",
       "      <th>count</th>\n",
       "      <td>4416.000000</td>\n",
       "    </tr>\n",
       "    <tr>\n",
       "      <th>mean</th>\n",
       "      <td>84.422781</td>\n",
       "    </tr>\n",
       "    <tr>\n",
       "      <th>std</th>\n",
       "      <td>45.023853</td>\n",
       "    </tr>\n",
       "    <tr>\n",
       "      <th>min</th>\n",
       "      <td>0.000000</td>\n",
       "    </tr>\n",
       "    <tr>\n",
       "      <th>25%</th>\n",
       "      <td>54.000000</td>\n",
       "    </tr>\n",
       "    <tr>\n",
       "      <th>50%</th>\n",
       "      <td>78.000000</td>\n",
       "    </tr>\n",
       "    <tr>\n",
       "      <th>75%</th>\n",
       "      <td>107.000000</td>\n",
       "    </tr>\n",
       "    <tr>\n",
       "      <th>max</th>\n",
       "      <td>462.000000</td>\n",
       "    </tr>\n",
       "  </tbody>\n",
       "</table>\n",
       "</div>"
      ],
      "text/plain": [
       "        num_orders\n",
       "count  4416.000000\n",
       "mean     84.422781\n",
       "std      45.023853\n",
       "min       0.000000\n",
       "25%      54.000000\n",
       "50%      78.000000\n",
       "75%     107.000000\n",
       "max     462.000000"
      ]
     },
     "execution_count": 6,
     "metadata": {},
     "output_type": "execute_result"
    }
   ],
   "source": [
    "data.describe()"
   ]
  },
  {
   "cell_type": "markdown",
   "metadata": {},
   "source": [
    "Из данных следует, что в среднем за час поступает 84 заказа, максимальное количество заказов в час - 462"
   ]
  },
  {
   "cell_type": "markdown",
   "metadata": {},
   "source": [
    "Разложим данные на три составляющие: тренд, сезонность и остаток. Построим графики временного ряда и проанализируем данные:"
   ]
  },
  {
   "cell_type": "code",
   "execution_count": 7,
   "metadata": {},
   "outputs": [
    {
     "data": {
      "image/png": "[encoded data removed]",
      "text/plain": [
       "<Figure size 864x864 with 3 Axes>"
      ]
     },
     "metadata": {
      "needs_background": "light"
     },
     "output_type": "display_data"
    }
   ],
   "source": [
    "decomposed = seasonal_decompose(data)\n",
    "plt.figure(figsize=(12, 12))\n",
    "plt.subplot(311)\n",
    "\n",
    "decomposed.trend.plot(ax=plt.gca())\n",
    "plt.title('Trend')\n",
    "plt.subplot(312)\n",
    "decomposed.seasonal.plot(ax=plt.gca())\n",
    "\n",
    "plt.title('Seasonality')\n",
    "plt.subplot(313)\n",
    "decomposed.resid.plot(ax=plt.gca())\n",
    "\n",
    "plt.title('Residuals')\n",
    "plt.tight_layout()"
   ]
  },
  {
   "cell_type": "markdown",
   "metadata": {},
   "source": [
    "Прослеживается возрастающий тренд, но в таком масштабе трудно оценить сезонную составляющую. Расмотрим срез данных за последние несколько дней августа:"
   ]
  },
  {
   "cell_type": "code",
   "execution_count": 8,
   "metadata": {},
   "outputs": [
    {
     "data": {
      "image/png": "[encoded data removed]",
      "text/plain": [
       "<Figure size 864x864 with 3 Axes>"
      ]
     },
     "metadata": {
      "needs_background": "light"
     },
     "output_type": "display_data"
    }
   ],
   "source": [
    "decomposed = seasonal_decompose(data['2018-08-29':'2018-08-31'])\n",
    "plt.figure(figsize=(12, 12))\n",
    "plt.subplot(311)\n",
    "\n",
    "decomposed.trend.plot(ax=plt.gca())\n",
    "plt.title('Trend')\n",
    "plt.subplot(312)\n",
    "decomposed.seasonal.plot(ax=plt.gca())\n",
    "\n",
    "plt.title('Seasonality')\n",
    "plt.subplot(313)\n",
    "decomposed.resid.plot(ax=plt.gca())\n",
    "\n",
    "plt.title('Residuals')\n",
    "plt.tight_layout()"
   ]
  },
  {
   "cell_type": "markdown",
   "metadata": {},
   "source": [
    "Количество заказов резко падает с 12 ночи до 6 утра, возрастает в утренние часы, достигая утреннего пика в районе 9-10 часов. Далее идет некоторое снижение до 14 часов, с последующим ростом до максимальных значений в районе 17-18 часов. Дальше количество заказов опять снижается до 20 часов и начинает расти в вечерние часы, достигая пика в районе 23:00 - 00:00 часов ночи."
   ]
  },
  {
   "cell_type": "markdown",
   "metadata": {},
   "source": [
    "**Вывод:** \n",
    "- мы проанализировали статистические данные с помощью метода `describe` и выяснили, что в среднем за час поступает 84 заказа, максимальное количество заказов в час - 462\n",
    "- разложили данные на три составляющие: тренд, сезонность и остаток, построили графики временного ряда и выяснили, что прослеживается возрастающий тренд, но в таком масштабе трудно оценить сезонную составляющую\n",
    "- дополнительно расмотрели срез данных за последние несколько дней августа и сделали вывод о том, что количество заказов резко падает с 12 ночи до 6 утра, возрастает в утренние часы, достигая утреннего пика в районе 9-10 часов. Далее идет некоторое снижение до 14 часов, с последующим ростом до максимальных значений в районе 17-18 часов. Дальше количество заказов опять снижается до 20 часов и начинает расти в вечерние часы, достигая пика в районе 23:00 - 00:00 часов ночи."
   ]
  },
  {
   "cell_type": "markdown",
   "metadata": {},
   "source": [
    "## Обучение"
   ]
  },
  {
   "cell_type": "markdown",
   "metadata": {},
   "source": [
    "Создадим функцию для признаков: час, день недели, месяц, отстающие значения и скользящее среднее."
   ]
  },
  {
   "cell_type": "code",
   "execution_count": 9,
   "metadata": {},
   "outputs": [],
   "source": [
    "def make_features(data, max_lag, rolling_window_size):\n",
    "    data['dayofweek'] = data.index.dayofweek\n",
    "    data['hour'] = data.index.hour\n",
    "    data['month'] = data.index.month\n",
    "    \n",
    "    for lag in range(1, max_lag + 1):\n",
    "        data['lag_{}'.format(lag)] = data['num_orders'].shift(lag)\n",
    "    \n",
    "    data['rolling_mean'] = data['num_orders'].shift().rolling(rolling_window_size).mean()\n",
    "    data.dropna(inplace=True)\n",
    "    return data"
   ]
  },
  {
   "cell_type": "code",
   "execution_count": 10,
   "metadata": {},
   "outputs": [
    {
     "data": {
      "text/html": [
       "<div>\n",
       "<style scoped>\n",
       "    .dataframe tbody tr th:only-of-type {\n",
       "        vertical-align: middle;\n",
       "    }\n",
       "\n",
       "    .dataframe tbody tr th {\n",
       "        vertical-align: top;\n",
       "    }\n",
       "\n",
       "    .dataframe thead th {\n",
       "        text-align: right;\n",
       "    }\n",
       "</style>\n",
       "<table border=\"1\" class=\"dataframe\">\n",
       "  <thead>\n",
       "    <tr style=\"text-align: right;\">\n",
       "      <th></th>\n",
       "      <th>num_orders</th>\n",
       "      <th>dayofweek</th>\n",
       "      <th>hour</th>\n",
       "      <th>month</th>\n",
       "      <th>lag_1</th>\n",
       "      <th>lag_2</th>\n",
       "      <th>lag_3</th>\n",
       "      <th>lag_4</th>\n",
       "      <th>lag_5</th>\n",
       "      <th>lag_6</th>\n",
       "      <th>lag_7</th>\n",
       "      <th>lag_8</th>\n",
       "      <th>lag_9</th>\n",
       "      <th>lag_10</th>\n",
       "      <th>rolling_mean</th>\n",
       "    </tr>\n",
       "    <tr>\n",
       "      <th>datetime</th>\n",
       "      <th></th>\n",
       "      <th></th>\n",
       "      <th></th>\n",
       "      <th></th>\n",
       "      <th></th>\n",
       "      <th></th>\n",
       "      <th></th>\n",
       "      <th></th>\n",
       "      <th></th>\n",
       "      <th></th>\n",
       "      <th></th>\n",
       "      <th></th>\n",
       "      <th></th>\n",
       "      <th></th>\n",
       "      <th></th>\n",
       "    </tr>\n",
       "  </thead>\n",
       "  <tbody>\n",
       "    <tr>\n",
       "      <th>2018-03-01 10:00:00</th>\n",
       "      <td>64</td>\n",
       "      <td>3</td>\n",
       "      <td>10</td>\n",
       "      <td>3</td>\n",
       "      <td>69.0</td>\n",
       "      <td>34.0</td>\n",
       "      <td>15.0</td>\n",
       "      <td>12.0</td>\n",
       "      <td>6.0</td>\n",
       "      <td>43.0</td>\n",
       "      <td>66.0</td>\n",
       "      <td>71.0</td>\n",
       "      <td>85.0</td>\n",
       "      <td>124.0</td>\n",
       "      <td>52.5</td>\n",
       "    </tr>\n",
       "    <tr>\n",
       "      <th>2018-03-01 11:00:00</th>\n",
       "      <td>96</td>\n",
       "      <td>3</td>\n",
       "      <td>11</td>\n",
       "      <td>3</td>\n",
       "      <td>64.0</td>\n",
       "      <td>69.0</td>\n",
       "      <td>34.0</td>\n",
       "      <td>15.0</td>\n",
       "      <td>12.0</td>\n",
       "      <td>6.0</td>\n",
       "      <td>43.0</td>\n",
       "      <td>66.0</td>\n",
       "      <td>71.0</td>\n",
       "      <td>85.0</td>\n",
       "      <td>46.5</td>\n",
       "    </tr>\n",
       "    <tr>\n",
       "      <th>2018-03-01 12:00:00</th>\n",
       "      <td>30</td>\n",
       "      <td>3</td>\n",
       "      <td>12</td>\n",
       "      <td>3</td>\n",
       "      <td>96.0</td>\n",
       "      <td>64.0</td>\n",
       "      <td>69.0</td>\n",
       "      <td>34.0</td>\n",
       "      <td>15.0</td>\n",
       "      <td>12.0</td>\n",
       "      <td>6.0</td>\n",
       "      <td>43.0</td>\n",
       "      <td>66.0</td>\n",
       "      <td>71.0</td>\n",
       "      <td>47.6</td>\n",
       "    </tr>\n",
       "    <tr>\n",
       "      <th>2018-03-01 13:00:00</th>\n",
       "      <td>32</td>\n",
       "      <td>3</td>\n",
       "      <td>13</td>\n",
       "      <td>3</td>\n",
       "      <td>30.0</td>\n",
       "      <td>96.0</td>\n",
       "      <td>64.0</td>\n",
       "      <td>69.0</td>\n",
       "      <td>34.0</td>\n",
       "      <td>15.0</td>\n",
       "      <td>12.0</td>\n",
       "      <td>6.0</td>\n",
       "      <td>43.0</td>\n",
       "      <td>66.0</td>\n",
       "      <td>43.5</td>\n",
       "    </tr>\n",
       "    <tr>\n",
       "      <th>2018-03-01 14:00:00</th>\n",
       "      <td>48</td>\n",
       "      <td>3</td>\n",
       "      <td>14</td>\n",
       "      <td>3</td>\n",
       "      <td>32.0</td>\n",
       "      <td>30.0</td>\n",
       "      <td>96.0</td>\n",
       "      <td>64.0</td>\n",
       "      <td>69.0</td>\n",
       "      <td>34.0</td>\n",
       "      <td>15.0</td>\n",
       "      <td>12.0</td>\n",
       "      <td>6.0</td>\n",
       "      <td>43.0</td>\n",
       "      <td>40.1</td>\n",
       "    </tr>\n",
       "  </tbody>\n",
       "</table>\n",
       "</div>"
      ],
      "text/plain": [
       "                     num_orders  dayofweek  hour  month  lag_1  lag_2  lag_3  \\\n",
       "datetime                                                                       \n",
       "2018-03-01 10:00:00          64          3    10      3   69.0   34.0   15.0   \n",
       "2018-03-01 11:00:00          96          3    11      3   64.0   69.0   34.0   \n",
       "2018-03-01 12:00:00          30          3    12      3   96.0   64.0   69.0   \n",
       "2018-03-01 13:00:00          32          3    13      3   30.0   96.0   64.0   \n",
       "2018-03-01 14:00:00          48          3    14      3   32.0   30.0   96.0   \n",
       "\n",
       "                     lag_4  lag_5  lag_6  lag_7  lag_8  lag_9  lag_10  \\\n",
       "datetime                                                                \n",
       "2018-03-01 10:00:00   12.0    6.0   43.0   66.0   71.0   85.0   124.0   \n",
       "2018-03-01 11:00:00   15.0   12.0    6.0   43.0   66.0   71.0    85.0   \n",
       "2018-03-01 12:00:00   34.0   15.0   12.0    6.0   43.0   66.0    71.0   \n",
       "2018-03-01 13:00:00   69.0   34.0   15.0   12.0    6.0   43.0    66.0   \n",
       "2018-03-01 14:00:00   64.0   69.0   34.0   15.0   12.0    6.0    43.0   \n",
       "\n",
       "                     rolling_mean  \n",
       "datetime                           \n",
       "2018-03-01 10:00:00          52.5  \n",
       "2018-03-01 11:00:00          46.5  \n",
       "2018-03-01 12:00:00          47.6  \n",
       "2018-03-01 13:00:00          43.5  \n",
       "2018-03-01 14:00:00          40.1  "
      ]
     },
     "execution_count": 10,
     "metadata": {},
     "output_type": "execute_result"
    }
   ],
   "source": [
    "make_features(data,10,10).head()"
   ]
  },
  {
   "cell_type": "markdown",
   "metadata": {},
   "source": [
    "Разделим данные на обучающую и тестовую выборки, размер тестовой выборки сделаем 10%:"
   ]
  },
  {
   "cell_type": "code",
   "execution_count": 11,
   "metadata": {},
   "outputs": [],
   "source": [
    "features = data.drop('num_orders', axis=1)\n",
    "target = data['num_orders']\n",
    "features_train, features_test, target_train, target_test = train_test_split(features, target, test_size=0.1, shuffle=False)"
   ]
  },
  {
   "cell_type": "markdown",
   "metadata": {},
   "source": [
    "Проверим получившиеся размеры выборок:"
   ]
  },
  {
   "cell_type": "code",
   "execution_count": 12,
   "metadata": {},
   "outputs": [
    {
     "name": "stdout",
     "output_type": "stream",
     "text": [
      "Размер обучающей выборки: 90%\n",
      "Размер тестовой выборки: 10%\n"
     ]
    }
   ],
   "source": [
    "print(f'Размер обучающей выборки: {len (features_train) / len(data):.0%}')\n",
    "print(f'Размер тестовой выборки: {len (features_test) / len(data):.0%}')"
   ]
  },
  {
   "cell_type": "markdown",
   "metadata": {},
   "source": [
    "Проверим правильность расположения временных рядов, чтобы начало тестовой выборки следовало за окончанием обучающей"
   ]
  },
  {
   "cell_type": "code",
   "execution_count": 13,
   "metadata": {},
   "outputs": [
    {
     "data": {
      "text/html": [
       "<div>\n",
       "<style scoped>\n",
       "    .dataframe tbody tr th:only-of-type {\n",
       "        vertical-align: middle;\n",
       "    }\n",
       "\n",
       "    .dataframe tbody tr th {\n",
       "        vertical-align: top;\n",
       "    }\n",
       "\n",
       "    .dataframe thead th {\n",
       "        text-align: right;\n",
       "    }\n",
       "</style>\n",
       "<table border=\"1\" class=\"dataframe\">\n",
       "  <thead>\n",
       "    <tr style=\"text-align: right;\">\n",
       "      <th></th>\n",
       "      <th>dayofweek</th>\n",
       "      <th>hour</th>\n",
       "      <th>month</th>\n",
       "      <th>lag_1</th>\n",
       "      <th>lag_2</th>\n",
       "      <th>lag_3</th>\n",
       "      <th>lag_4</th>\n",
       "      <th>lag_5</th>\n",
       "      <th>lag_6</th>\n",
       "      <th>lag_7</th>\n",
       "      <th>lag_8</th>\n",
       "      <th>lag_9</th>\n",
       "      <th>lag_10</th>\n",
       "      <th>rolling_mean</th>\n",
       "    </tr>\n",
       "    <tr>\n",
       "      <th>datetime</th>\n",
       "      <th></th>\n",
       "      <th></th>\n",
       "      <th></th>\n",
       "      <th></th>\n",
       "      <th></th>\n",
       "      <th></th>\n",
       "      <th></th>\n",
       "      <th></th>\n",
       "      <th></th>\n",
       "      <th></th>\n",
       "      <th></th>\n",
       "      <th></th>\n",
       "      <th></th>\n",
       "      <th></th>\n",
       "    </tr>\n",
       "  </thead>\n",
       "  <tbody>\n",
       "    <tr>\n",
       "      <th>2018-08-13 14:00:00</th>\n",
       "      <td>0</td>\n",
       "      <td>14</td>\n",
       "      <td>8</td>\n",
       "      <td>119.0</td>\n",
       "      <td>92.0</td>\n",
       "      <td>144.0</td>\n",
       "      <td>156.0</td>\n",
       "      <td>137.0</td>\n",
       "      <td>91.0</td>\n",
       "      <td>39.0</td>\n",
       "      <td>66.0</td>\n",
       "      <td>83.0</td>\n",
       "      <td>143.0</td>\n",
       "      <td>107.0</td>\n",
       "    </tr>\n",
       "  </tbody>\n",
       "</table>\n",
       "</div>"
      ],
      "text/plain": [
       "                     dayofweek  hour  month  lag_1  lag_2  lag_3  lag_4  \\\n",
       "datetime                                                                  \n",
       "2018-08-13 14:00:00          0    14      8  119.0   92.0  144.0  156.0   \n",
       "\n",
       "                     lag_5  lag_6  lag_7  lag_8  lag_9  lag_10  rolling_mean  \n",
       "datetime                                                                      \n",
       "2018-08-13 14:00:00  137.0   91.0   39.0   66.0   83.0   143.0         107.0  "
      ]
     },
     "metadata": {},
     "output_type": "display_data"
    },
    {
     "data": {
      "text/html": [
       "<div>\n",
       "<style scoped>\n",
       "    .dataframe tbody tr th:only-of-type {\n",
       "        vertical-align: middle;\n",
       "    }\n",
       "\n",
       "    .dataframe tbody tr th {\n",
       "        vertical-align: top;\n",
       "    }\n",
       "\n",
       "    .dataframe thead th {\n",
       "        text-align: right;\n",
       "    }\n",
       "</style>\n",
       "<table border=\"1\" class=\"dataframe\">\n",
       "  <thead>\n",
       "    <tr style=\"text-align: right;\">\n",
       "      <th></th>\n",
       "      <th>dayofweek</th>\n",
       "      <th>hour</th>\n",
       "      <th>month</th>\n",
       "      <th>lag_1</th>\n",
       "      <th>lag_2</th>\n",
       "      <th>lag_3</th>\n",
       "      <th>lag_4</th>\n",
       "      <th>lag_5</th>\n",
       "      <th>lag_6</th>\n",
       "      <th>lag_7</th>\n",
       "      <th>lag_8</th>\n",
       "      <th>lag_9</th>\n",
       "      <th>lag_10</th>\n",
       "      <th>rolling_mean</th>\n",
       "    </tr>\n",
       "    <tr>\n",
       "      <th>datetime</th>\n",
       "      <th></th>\n",
       "      <th></th>\n",
       "      <th></th>\n",
       "      <th></th>\n",
       "      <th></th>\n",
       "      <th></th>\n",
       "      <th></th>\n",
       "      <th></th>\n",
       "      <th></th>\n",
       "      <th></th>\n",
       "      <th></th>\n",
       "      <th></th>\n",
       "      <th></th>\n",
       "      <th></th>\n",
       "    </tr>\n",
       "  </thead>\n",
       "  <tbody>\n",
       "    <tr>\n",
       "      <th>2018-08-13 15:00:00</th>\n",
       "      <td>0</td>\n",
       "      <td>15</td>\n",
       "      <td>8</td>\n",
       "      <td>102.0</td>\n",
       "      <td>119.0</td>\n",
       "      <td>92.0</td>\n",
       "      <td>144.0</td>\n",
       "      <td>156.0</td>\n",
       "      <td>137.0</td>\n",
       "      <td>91.0</td>\n",
       "      <td>39.0</td>\n",
       "      <td>66.0</td>\n",
       "      <td>83.0</td>\n",
       "      <td>102.9</td>\n",
       "    </tr>\n",
       "  </tbody>\n",
       "</table>\n",
       "</div>"
      ],
      "text/plain": [
       "                     dayofweek  hour  month  lag_1  lag_2  lag_3  lag_4  \\\n",
       "datetime                                                                  \n",
       "2018-08-13 15:00:00          0    15      8  102.0  119.0   92.0  144.0   \n",
       "\n",
       "                     lag_5  lag_6  lag_7  lag_8  lag_9  lag_10  rolling_mean  \n",
       "datetime                                                                      \n",
       "2018-08-13 15:00:00  156.0  137.0   91.0   39.0   66.0    83.0         102.9  "
      ]
     },
     "execution_count": 13,
     "metadata": {},
     "output_type": "execute_result"
    }
   ],
   "source": [
    "display(features_train.tail(1))\n",
    "features_test.head(1)"
   ]
  },
  {
   "cell_type": "markdown",
   "metadata": {},
   "source": [
    "Создадим константную модель, она всегда будет предсказывать среднее значение `num_orders`, рассчитаем RMSE для модели:"
   ]
  },
  {
   "cell_type": "code",
   "execution_count": 14,
   "metadata": {},
   "outputs": [
    {
     "name": "stdout",
     "output_type": "stream",
     "text": [
      "RMSE константной модели на тестовой выборке: 84.78\n"
     ]
    }
   ],
   "source": [
    "print('RMSE константной модели на тестовой выборке:',\n",
    "      (mean_squared_error(target_test, pd.Series(target_train.mean(), index=target_test.index)) ** 0.5).round(2))"
   ]
  },
  {
   "cell_type": "markdown",
   "metadata": {},
   "source": [
    "Обучим модель линейной регрессии, посчитаем RMSE модели. Обучение будем проводить с использованием кросс-валидации:"
   ]
  },
  {
   "cell_type": "code",
   "execution_count": 15,
   "metadata": {},
   "outputs": [
    {
     "name": "stdout",
     "output_type": "stream",
     "text": [
      "RMSE для LinearRegression на тренировочной выборке 31.04140682821855\n"
     ]
    }
   ],
   "source": [
    "lm = LinearRegression()\n",
    "print(f'''RMSE для LinearRegression на тренировочной выборке''', cross_val_score(lm, features_train,\n",
    "                                                                             target_train,\n",
    "                                                                             cv = TimeSeriesSplit(n_splits=9),\n",
    "                                                                             n_jobs = -1,\n",
    "                                                                             scoring ='neg_root_mean_squared_error').mean()*-1)"
   ]
  },
  {
   "cell_type": "raw",
   "metadata": {},
   "source": [
    "# обучение линейной регрессией\n",
    "model = LinearRegression()\n",
    "\n",
    "print(f'''Значение метрики RMSE на обучающей выборке для LinearRegression''', cross_val_score(model,X_train, y_train, \n",
    "                         cv = TimeSeriesSplit(n_splits=8), \n",
    "                         n_jobs = -1, \n",
    "                         scoring = 'neg_root_mean_squared_error').mean())"
   ]
  },
  {
   "cell_type": "code",
   "execution_count": 16,
   "metadata": {},
   "outputs": [
    {
     "name": "stdout",
     "output_type": "stream",
     "text": [
      "RMSE для линейной модели на валидационной выборке: 30.38156\n"
     ]
    }
   ],
   "source": [
    "lm.fit(features_train, target_train)\n",
    "preds_lm = lm.predict(features_train)\n",
    "mse_lm = mean_squared_error(target_train, preds_lm)\n",
    "print('RMSE для линейной модели на валидационной выборке:', round((mse_lm) ** 0.5, 5))"
   ]
  },
  {
   "cell_type": "markdown",
   "metadata": {},
   "source": [
    "Обучим линейную модель RidgeCV, подобрав лучшее значение alpha и n_splits для cv:"
   ]
  },
  {
   "cell_type": "code",
   "execution_count": 17,
   "metadata": {},
   "outputs": [
    {
     "name": "stdout",
     "output_type": "stream",
     "text": [
      "RMSE и лучшие параметры RidgeCV на тренировочной выборке: alpha=0.9, n_splits=9, RMSE=31.04133\n"
     ]
    }
   ],
   "source": [
    "start_rmse = -(cross_val_score(RidgeCV(alphas=[0.1]), features_train, target_train, cv=TimeSeriesSplit(n_splits=2),\n",
    "                                n_jobs=-1, scoring='neg_root_mean_squared_error').mean())\n",
    "best_alpha = []\n",
    "best_rmse = 0\n",
    "best_n_split = []\n",
    "alphass = np.arange(0.1, 1, 0.1)\n",
    "n_splits_values = np.arange(2, 10, 1)\n",
    "for alphas in alphass:\n",
    "    for n_splits in n_splits_values:\n",
    "        tscv = TimeSeriesSplit(n_splits=n_splits)\n",
    "        ridge = RidgeCV(alphas=alphas)\n",
    "        rmse = -cross_val_score(ridge, features_train, target_train, cv=tscv, n_jobs=-1, scoring='neg_root_mean_squared_error').mean()\n",
    "        if rmse <= start_rmse:\n",
    "            best_alpha = alphas\n",
    "            best_n_split = n_splits\n",
    "            best_rmse = rmse\n",
    "print('RMSE и лучшие параметры RidgeCV на тренировочной выборке: alpha={:.1f}, n_splits={}, RMSE={:.5f}'.format(best_alpha,\n",
    "                                                                                                      best_n_split,\n",
    "                                                                                                      best_rmse))"
   ]
  },
  {
   "cell_type": "code",
   "execution_count": 18,
   "metadata": {},
   "outputs": [
    {
     "name": "stdout",
     "output_type": "stream",
     "text": [
      "RMSE для RidgeCV модели на валидационной выборке: 30.38156\n"
     ]
    }
   ],
   "source": [
    "tscv = TimeSeriesSplit(n_splits=9)\n",
    "ridgecv = RidgeCV(alphas=[0.9], cv=tscv)\n",
    "ridgecv.fit(features_train, target_train)\n",
    "preds_rg = ridgecv.predict(features_train)\n",
    "mse_rg = mean_squared_error(target_train, preds_rg)\n",
    "print('RMSE для RidgeCV модели на валидационной выборке:', round((mse_rg) ** 0.5, 5))"
   ]
  },
  {
   "cell_type": "markdown",
   "metadata": {},
   "source": [
    "Результат RMSE RidgeCV практически такой же как у модели линейной регрессии\n",
    "\n",
    "Обучим модель Lasso, также предварительно подобрав лучшее значение alpha и n_splits в cv:"
   ]
  },
  {
   "cell_type": "code",
   "execution_count": 19,
   "metadata": {},
   "outputs": [
    {
     "name": "stdout",
     "output_type": "stream",
     "text": [
      "RMSE и лучшие параметры Lasso на тренировочной выборке: alpha=0.9, n_splits=9, RMSE=31.19173\n"
     ]
    }
   ],
   "source": [
    "start_rmse = -(cross_val_score(Lasso(alpha=0.1), features_train, target_train, cv=TimeSeriesSplit(n_splits=2),\n",
    "                                n_jobs=-1, scoring='neg_root_mean_squared_error').mean())\n",
    "best_alpha = []\n",
    "best_rmse = 0\n",
    "best_n_split = []\n",
    "alphass = np.arange(0.1, 1, 0.1)\n",
    "n_splits_values = np.arange(2, 10, 1)\n",
    "for alpha in alphass:\n",
    "    for n_splits in n_splits_values:\n",
    "        tscv = TimeSeriesSplit(n_splits=n_splits)\n",
    "        lasso = Lasso(alpha=alpha)\n",
    "        rmse = -cross_val_score(lasso, features_train, target_train, cv=tscv, n_jobs=-1, scoring='neg_root_mean_squared_error').mean()\n",
    "        if rmse <= start_rmse:\n",
    "            best_alpha = alpha\n",
    "            best_n_split = n_splits\n",
    "            best_rmse = rmse\n",
    "print('RMSE и лучшие параметры Lasso на тренировочной выборке: alpha={:.1f}, n_splits={}, RMSE={:.5f}'.format(best_alpha,\n",
    "                                                                                                      best_n_split,\n",
    "                                                                                                      best_rmse))"
   ]
  },
  {
   "cell_type": "code",
   "execution_count": 20,
   "metadata": {},
   "outputs": [
    {
     "name": "stdout",
     "output_type": "stream",
     "text": [
      "RMSE для Lasso модели на валидационной выборке: 30.39345\n"
     ]
    }
   ],
   "source": [
    "lasso = Lasso(alpha=0.9)\n",
    "lasso.fit(features_train, target_train)\n",
    "preds_ls = lasso.predict(features_train)\n",
    "mse_ls = mean_squared_error(target_train, preds_ls)\n",
    "print('RMSE для Lasso модели на валидационной выборке:', round((mse_ls) ** 0.5, 5))"
   ]
  },
  {
   "cell_type": "markdown",
   "metadata": {},
   "source": [
    "RMSE всех трех линейных моделей практически одинаковы. Оптимизируем отставание до 48, а скользящее среднее оставим равным 10 по умолчанию:"
   ]
  },
  {
   "cell_type": "code",
   "execution_count": 21,
   "metadata": {},
   "outputs": [],
   "source": [
    "data_opt = make_features(data, max_lag=48, rolling_window_size=10)\n",
    "features_opt = data_opt.drop('num_orders', axis=1)\n",
    "target_opt = data_opt['num_orders']\n",
    "features_opt_train, features_opt_test, target_opt_train, target_opt_test = train_test_split(features_opt,\n",
    "                                                                                            target_opt,\n",
    "                                                                                            shuffle=False, test_size=0.1)"
   ]
  },
  {
   "cell_type": "code",
   "execution_count": 22,
   "metadata": {},
   "outputs": [
    {
     "name": "stdout",
     "output_type": "stream",
     "text": [
      "RMSE для модели линейной регрессии на тренировочной выборке: 25.32853\n",
      "RMSE для модели линейной регрессии на валидационной выборке: 23.3901\n"
     ]
    }
   ],
   "source": [
    "lm=LinearRegression()\n",
    "rmse_lm = cross_val_score(lm, features_opt_train, target_opt_train, cv=TimeSeriesSplit(n_splits=3), n_jobs = -1,\n",
    "                          scoring ='neg_root_mean_squared_error')\n",
    "print('RMSE для модели линейной регрессии на тренировочной выборке:', round((-rmse_lm.mean()), 5))\n",
    "lm.fit(features_opt_train, target_opt_train)\n",
    "preds_lm = lm.predict(features_opt_train)\n",
    "mse_lm = mean_squared_error(target_opt_train, preds_lm)\n",
    "print('RMSE для модели линейной регрессии на валидационной выборке:', round((mse_lm) ** 0.5, 5))"
   ]
  },
  {
   "cell_type": "code",
   "execution_count": 23,
   "metadata": {},
   "outputs": [
    {
     "name": "stdout",
     "output_type": "stream",
     "text": [
      "RMSE для RidgeCV модели на тренировочной выборке: 24.14239\n",
      "RMSE для RidgeCV модели на валидационной выборке: 23.39026\n"
     ]
    }
   ],
   "source": [
    "ridge=RidgeCV(alphas=[0.9])\n",
    "rmse_ridge = cross_val_score(ridge, features_opt_train, target_opt_train, cv=tscv, n_jobs=-1,\n",
    "                             scoring='neg_root_mean_squared_error')\n",
    "print('RMSE для RidgeCV модели на тренировочной выборке:', round((-rmse_ridge.mean()), 5))\n",
    "ridge.fit(features_opt_train, target_opt_train)\n",
    "preds_ridge = ridge.predict(features_opt_train)\n",
    "mse_ridge = mean_squared_error(target_opt_train, preds_ridge)\n",
    "print('RMSE для RidgeCV модели на валидационной выборке:', round((mse_ridge) ** 0.5, 5))"
   ]
  },
  {
   "cell_type": "code",
   "execution_count": 24,
   "metadata": {},
   "outputs": [
    {
     "name": "stdout",
     "output_type": "stream",
     "text": [
      "RMSE для Lasso модели на тренировочной выборке: 24.12652\n",
      "RMSE для Lasso модели на валидационной выборке: 23.43322\n"
     ]
    }
   ],
   "source": [
    "lasso=Lasso(alpha=0.9)\n",
    "rmse_lasso = cross_val_score(lasso, features_opt_train, target_opt_train, cv=tscv,\n",
    "                             n_jobs=-1,scoring='neg_root_mean_squared_error')\n",
    "print('RMSE для Lasso модели на тренировочной выборке:', round((-rmse_lasso.mean()), 5))\n",
    "lasso.fit(features_opt_train, target_opt_train)\n",
    "preds_lasso = lasso.predict(features_opt_train)\n",
    "mse_lasso = mean_squared_error(target_opt_train, preds_lasso)\n",
    "print('RMSE для Lasso модели на валидационной выборке:', round((mse_lasso) ** 0.5, 5))"
   ]
  },
  {
   "cell_type": "markdown",
   "metadata": {},
   "source": [
    "**Вывод:**\n",
    "- создадили функцию для признаков: час, день недели, месяц, отстающие значения и скользящее среднее\n",
    "- разделили данные на обучающую и тестовую выборки, проверили получившиеся размеры выборок и правильность расположения временных рядов\n",
    "- создали константную модель, рассчитали для нее RMSE\n",
    "- с помощью кросс-валидации обучили модели линейной регрессии, Ridge и Lasso, посчитали их RMSE и выяснили, что результаты всех моделей практически одинаковы и равны 30.38, у модели Lasso результат немного хуже - 30.39\n",
    "- с помощью оптимизации отставания и скользящего среднего улучшили показатели метрики RMSE по всем моделям. LinearRegression (23.3901), RidgeCV (23.3902), Lasso (23.4332). На данном этапе лучший показатель RMSE у модели линейной регрессии, тестировать будем ее"
   ]
  },
  {
   "cell_type": "markdown",
   "metadata": {},
   "source": [
    "## Тестирование"
   ]
  },
  {
   "cell_type": "markdown",
   "metadata": {},
   "source": [
    "Проведем тестирование модели LinearRegression:"
   ]
  },
  {
   "cell_type": "code",
   "execution_count": 25,
   "metadata": {},
   "outputs": [
    {
     "name": "stdout",
     "output_type": "stream",
     "text": [
      "RMSE для Linear модели на тестовой выборке: 42.6378\n"
     ]
    }
   ],
   "source": [
    "preds_lm_test = lm.predict(features_opt_test)\n",
    "mse_lm_test = mean_squared_error(target_opt_test, preds_lm_test)\n",
    "print('RMSE для Linear модели на тестовой выборке:', round((mse_lm_test) ** 0.5, 5))"
   ]
  },
  {
   "cell_type": "markdown",
   "metadata": {},
   "source": [
    "Построим график прогнозных значений модели и фактических:"
   ]
  },
  {
   "cell_type": "code",
   "execution_count": 26,
   "metadata": {},
   "outputs": [
    {
     "data": {
      "image/png": "[encoded data removed]",
      "text/plain": [
       "<Figure size 1080x504 with 1 Axes>"
      ]
     },
     "metadata": {
      "needs_background": "light"
     },
     "output_type": "display_data"
    }
   ],
   "source": [
    "def visual_comparison(lm, x = features_opt_test, y=target_opt_test, x_lim_left='2018-08-30', x_lim_right='2018-08-31'):\n",
    "    plt.figure(figsize=(15, 7))\n",
    "    sns.lineplot(x = y.index, y = y, label='Реальные')\n",
    "    sns.lineplot(x = y.index, y = lm.predict(x), label='Предсказанные')\n",
    "    plt.xticks(rotation=25)\n",
    "    plt.xlim(pd.to_datetime(x_lim_left),pd.to_datetime(x_lim_right))\n",
    "    plt.grid()\n",
    "    plt.title('Результаты модели 2 дня')\n",
    "visual_comparison(lm)"
   ]
  },
  {
   "cell_type": "markdown",
   "metadata": {},
   "source": [
    "**Вывод:**\n",
    "- мы провели тестирование лучшей модели и выяснили, что результат метрики RMSE на тестовой выборке хуже, чем на обучающей, это значит, что модель переобучена\n",
    "- результат модели LinearRegression не превышает 48 и равен 42.63\n",
    "- построили график, чтобы сравнить предсказанные значения с фактическими, модель предсказывает сохраняя тенденцию"
   ]
  },
  {
   "cell_type": "markdown",
   "metadata": {},
   "source": [
    "**Вывод по проекту:**\n",
    "- импортировали необходимые библиотеки и модули, загрузили данные и выполнили их ресемплирование по одному часу\n",
    "- проанализировали статистические данные с помощью метода describe и выяснили, что в среднем за час поступает 84 заказа, максимальное количество заказов в час - 462\n",
    "- разложили данные на три составляющие: тренд, сезонность и остаток, построили графики временного ряда и выяснили, что прослеживается возрастающий тренд, но в таком масштабе трудно оценить сезонную составляющую\n",
    "- дополнительно расмотрели срез данных за последние несколько дней августа и сделали вывод о том, что количество заказов резко падает с 12 ночи до 6 утра, возрастает в утренние часы, достигая утреннего пика в районе 9-10 часов. Далее идет некоторое снижение до 14 часов, с последующим ростом до максимальных значений в районе 17-18 часов. Дальше количество заказов опять снижается до 20 часов и начинает расти в вечерние часы, достигая пика в районе 23:00 - 00:00 часов ночи\n",
    "- создадили функцию для признаков: час, день недели, месяц, отстающие значения и скользящее среднее\n",
    "- разделили данные на обучающую и тестовую выборки, проверили получившиеся размеры выборок и правильность расположения временных рядов\n",
    "- создали константную модель, рассчитали для нее RMSE\n",
    "- с помощью кросс-валидации обучили модели линейной регрессии, Ridge и Lasso, посчитали их RMSE и выяснили, что результаты всех моделей практически одинаковы и равны 30.38, у модели Lasso результат немного хуже - 30.39\n",
    "- с помощью оптимизации отставания и скользящего среднего улучшили показатели метрики RMSE по всем моделям. LinearRegression (23.589), Ridge (23.598), Lasso (23.64). На данном этапе лучший показатель RMSE у модели линейной регрессии\n",
    "- провели тестирование лучшей модели и выяснили, что результат метрики RMSE на тестовой выборке хуже, чем на обучающей, это значит, что модель переобучена\n",
    "- результат модели LinearRegression не превышает 48 и равен 42.63\n",
    "- построили график, чтобы сравнить предсказанные значения с фактическими, модель предсказывает сохраняя тенденцию"
   ]
  }
 ],
 "metadata": {
  "ExecuteTimeLog": [
   {
    "duration": 3220,
    "start_time": "2023-04-06T11:48:07.292Z"
   },
   {
    "duration": 181,
    "start_time": "2023-04-06T11:48:10.515Z"
   },
   {
    "duration": 12,
    "start_time": "2023-04-06T11:51:49.978Z"
   },
   {
    "duration": 62,
    "start_time": "2023-04-06T18:23:42.724Z"
   },
   {
    "duration": 13,
    "start_time": "2023-04-06T18:24:33.598Z"
   },
   {
    "duration": 1760,
    "start_time": "2023-04-06T18:24:46.369Z"
   },
   {
    "duration": 143,
    "start_time": "2023-04-06T18:24:48.131Z"
   },
   {
    "duration": 340,
    "start_time": "2023-04-06T18:25:33.897Z"
   },
   {
    "duration": 107,
    "start_time": "2023-04-06T18:30:15.132Z"
   },
   {
    "duration": 4,
    "start_time": "2023-04-06T18:34:35.049Z"
   },
   {
    "duration": 85,
    "start_time": "2023-04-06T18:34:35.068Z"
   },
   {
    "duration": 6,
    "start_time": "2023-04-06T18:34:35.155Z"
   },
   {
    "duration": 25,
    "start_time": "2023-04-06T18:34:35.162Z"
   },
   {
    "duration": 5,
    "start_time": "2023-04-06T18:34:35.189Z"
   },
   {
    "duration": 13,
    "start_time": "2023-04-06T18:34:35.196Z"
   },
   {
    "duration": 1071,
    "start_time": "2023-04-06T18:34:35.210Z"
   },
   {
    "duration": 663,
    "start_time": "2023-04-06T18:34:36.284Z"
   },
   {
    "duration": 7,
    "start_time": "2023-04-06T18:34:36.949Z"
   },
   {
    "duration": 35,
    "start_time": "2023-04-06T18:34:36.957Z"
   },
   {
    "duration": 6,
    "start_time": "2023-04-06T18:34:36.994Z"
   },
   {
    "duration": 7,
    "start_time": "2023-04-06T18:34:37.002Z"
   },
   {
    "duration": 47,
    "start_time": "2023-04-06T18:34:37.011Z"
   },
   {
    "duration": 5,
    "start_time": "2023-04-06T18:34:37.061Z"
   },
   {
    "duration": 22,
    "start_time": "2023-04-06T18:34:37.067Z"
   },
   {
    "duration": 0,
    "start_time": "2023-04-06T18:34:37.091Z"
   },
   {
    "duration": 0,
    "start_time": "2023-04-06T18:34:37.092Z"
   },
   {
    "duration": 0,
    "start_time": "2023-04-06T18:34:37.094Z"
   },
   {
    "duration": 0,
    "start_time": "2023-04-06T18:34:37.095Z"
   },
   {
    "duration": 0,
    "start_time": "2023-04-06T18:34:37.096Z"
   },
   {
    "duration": 0,
    "start_time": "2023-04-06T18:34:37.097Z"
   },
   {
    "duration": 0,
    "start_time": "2023-04-06T18:34:37.098Z"
   },
   {
    "duration": 0,
    "start_time": "2023-04-06T18:34:37.099Z"
   },
   {
    "duration": 0,
    "start_time": "2023-04-06T18:34:37.100Z"
   },
   {
    "duration": 0,
    "start_time": "2023-04-06T18:34:37.102Z"
   },
   {
    "duration": 0,
    "start_time": "2023-04-06T18:34:37.103Z"
   },
   {
    "duration": 0,
    "start_time": "2023-04-06T18:34:37.104Z"
   },
   {
    "duration": 11,
    "start_time": "2023-04-06T18:34:52.284Z"
   },
   {
    "duration": 4,
    "start_time": "2023-04-06T18:35:33.271Z"
   },
   {
    "duration": 4,
    "start_time": "2023-04-06T18:35:37.483Z"
   },
   {
    "duration": 88,
    "start_time": "2023-04-06T18:35:37.489Z"
   },
   {
    "duration": 5,
    "start_time": "2023-04-06T18:35:37.580Z"
   },
   {
    "duration": 13,
    "start_time": "2023-04-06T18:35:37.586Z"
   },
   {
    "duration": 5,
    "start_time": "2023-04-06T18:35:37.601Z"
   },
   {
    "duration": 37,
    "start_time": "2023-04-06T18:35:37.608Z"
   },
   {
    "duration": 977,
    "start_time": "2023-04-06T18:35:37.648Z"
   },
   {
    "duration": 710,
    "start_time": "2023-04-06T18:35:38.628Z"
   },
   {
    "duration": 16,
    "start_time": "2023-04-06T18:35:39.342Z"
   },
   {
    "duration": 36,
    "start_time": "2023-04-06T18:35:39.360Z"
   },
   {
    "duration": 9,
    "start_time": "2023-04-06T18:35:39.399Z"
   },
   {
    "duration": 8,
    "start_time": "2023-04-06T18:35:39.409Z"
   },
   {
    "duration": 53,
    "start_time": "2023-04-06T18:35:39.419Z"
   },
   {
    "duration": 16,
    "start_time": "2023-04-06T18:35:39.474Z"
   },
   {
    "duration": 264,
    "start_time": "2023-04-06T18:35:39.492Z"
   },
   {
    "duration": 191,
    "start_time": "2023-04-06T18:35:39.759Z"
   },
   {
    "duration": 4106,
    "start_time": "2023-04-06T18:35:39.954Z"
   },
   {
    "duration": 110,
    "start_time": "2023-04-06T18:35:44.159Z"
   },
   {
    "duration": 12411,
    "start_time": "2023-04-06T18:35:44.352Z"
   },
   {
    "duration": 294,
    "start_time": "2023-04-06T18:35:56.767Z"
   },
   {
    "duration": 198,
    "start_time": "2023-04-06T18:35:57.064Z"
   },
   {
    "duration": 1777,
    "start_time": "2023-04-06T18:35:57.264Z"
   },
   {
    "duration": 716,
    "start_time": "2023-04-06T18:35:59.045Z"
   },
   {
    "duration": 1976,
    "start_time": "2023-04-06T18:35:59.764Z"
   },
   {
    "duration": 15,
    "start_time": "2023-04-06T18:36:01.748Z"
   },
   {
    "duration": 194,
    "start_time": "2023-04-06T18:36:01.766Z"
   },
   {
    "duration": 98,
    "start_time": "2023-04-06T18:36:01.977Z"
   },
   {
    "duration": 327,
    "start_time": "2023-04-06T18:37:43.333Z"
   },
   {
    "duration": 180,
    "start_time": "2023-04-06T18:37:52.982Z"
   },
   {
    "duration": 181,
    "start_time": "2023-04-06T18:37:56.881Z"
   },
   {
    "duration": 193,
    "start_time": "2023-04-06T19:07:47.763Z"
   },
   {
    "duration": 152,
    "start_time": "2023-04-06T19:08:07.716Z"
   },
   {
    "duration": 58,
    "start_time": "2023-04-06T19:09:13.096Z"
   },
   {
    "duration": 160,
    "start_time": "2023-04-06T19:09:22.897Z"
   },
   {
    "duration": 2709,
    "start_time": "2023-04-06T19:10:17.357Z"
   },
   {
    "duration": 2570,
    "start_time": "2023-04-06T19:10:44.190Z"
   },
   {
    "duration": 2621,
    "start_time": "2023-04-06T19:11:13.226Z"
   },
   {
    "duration": 280,
    "start_time": "2023-04-06T19:19:46.166Z"
   },
   {
    "duration": 19,
    "start_time": "2023-04-06T19:20:12.058Z"
   },
   {
    "duration": 16,
    "start_time": "2023-04-06T19:21:46.393Z"
   },
   {
    "duration": 179,
    "start_time": "2023-04-06T19:22:08.873Z"
   },
   {
    "duration": 137,
    "start_time": "2023-04-06T19:24:41.003Z"
   },
   {
    "duration": 221,
    "start_time": "2023-04-06T19:25:18.742Z"
   },
   {
    "duration": 59,
    "start_time": "2023-04-06T19:25:22.890Z"
   },
   {
    "duration": 77,
    "start_time": "2023-04-06T19:25:23.773Z"
   },
   {
    "duration": 1772,
    "start_time": "2023-04-06T19:28:38.152Z"
   },
   {
    "duration": 284,
    "start_time": "2023-04-06T19:28:39.926Z"
   },
   {
    "duration": 7,
    "start_time": "2023-04-06T19:28:40.212Z"
   },
   {
    "duration": 18,
    "start_time": "2023-04-06T19:28:40.221Z"
   },
   {
    "duration": 4,
    "start_time": "2023-04-06T19:28:40.242Z"
   },
   {
    "duration": 14,
    "start_time": "2023-04-06T19:28:40.248Z"
   },
   {
    "duration": 953,
    "start_time": "2023-04-06T19:28:40.264Z"
   },
   {
    "duration": 707,
    "start_time": "2023-04-06T19:28:41.219Z"
   },
   {
    "duration": 5,
    "start_time": "2023-04-06T19:28:41.927Z"
   },
   {
    "duration": 33,
    "start_time": "2023-04-06T19:28:41.940Z"
   },
   {
    "duration": 7,
    "start_time": "2023-04-06T19:28:41.975Z"
   },
   {
    "duration": 17,
    "start_time": "2023-04-06T19:28:41.983Z"
   },
   {
    "duration": 48,
    "start_time": "2023-04-06T19:28:42.002Z"
   },
   {
    "duration": 5,
    "start_time": "2023-04-06T19:28:42.055Z"
   },
   {
    "duration": 183,
    "start_time": "2023-04-06T19:28:42.063Z"
   },
   {
    "duration": 101,
    "start_time": "2023-04-06T19:28:42.249Z"
   },
   {
    "duration": 402,
    "start_time": "2023-04-06T19:28:42.441Z"
   },
   {
    "duration": 0,
    "start_time": "2023-04-06T19:28:42.845Z"
   },
   {
    "duration": 0,
    "start_time": "2023-04-06T19:28:42.846Z"
   },
   {
    "duration": 0,
    "start_time": "2023-04-06T19:28:42.847Z"
   },
   {
    "duration": 0,
    "start_time": "2023-04-06T19:28:42.848Z"
   },
   {
    "duration": 0,
    "start_time": "2023-04-06T19:28:42.849Z"
   },
   {
    "duration": 0,
    "start_time": "2023-04-06T19:28:42.850Z"
   },
   {
    "duration": 0,
    "start_time": "2023-04-06T19:28:42.851Z"
   },
   {
    "duration": 0,
    "start_time": "2023-04-06T19:28:42.852Z"
   },
   {
    "duration": 0,
    "start_time": "2023-04-06T19:28:42.853Z"
   },
   {
    "duration": 0,
    "start_time": "2023-04-06T19:28:42.854Z"
   },
   {
    "duration": 163,
    "start_time": "2023-04-06T19:40:08.587Z"
   },
   {
    "duration": 131,
    "start_time": "2023-04-06T19:40:59.810Z"
   },
   {
    "duration": 181,
    "start_time": "2023-04-06T19:42:16.768Z"
   },
   {
    "duration": 250,
    "start_time": "2023-04-06T19:43:19.194Z"
   },
   {
    "duration": 18624,
    "start_time": "2023-04-06T19:47:05.229Z"
   },
   {
    "duration": 18447,
    "start_time": "2023-04-06T19:48:15.395Z"
   },
   {
    "duration": 17629,
    "start_time": "2023-04-06T19:49:02.518Z"
   },
   {
    "duration": 18192,
    "start_time": "2023-04-06T19:50:09.456Z"
   },
   {
    "duration": 204,
    "start_time": "2023-04-06T19:51:39.739Z"
   },
   {
    "duration": 17550,
    "start_time": "2023-04-06T19:52:23.033Z"
   },
   {
    "duration": 143,
    "start_time": "2023-04-06T19:53:14.938Z"
   },
   {
    "duration": 15728,
    "start_time": "2023-04-06T19:53:33.734Z"
   },
   {
    "duration": 16744,
    "start_time": "2023-04-06T19:55:07.800Z"
   },
   {
    "duration": 17299,
    "start_time": "2023-04-06T19:56:15.962Z"
   },
   {
    "duration": 12,
    "start_time": "2023-04-06T19:56:47.692Z"
   },
   {
    "duration": 13,
    "start_time": "2023-04-06T20:00:23.907Z"
   },
   {
    "duration": 11,
    "start_time": "2023-04-06T20:04:25.198Z"
   },
   {
    "duration": 11,
    "start_time": "2023-04-06T20:04:34.599Z"
   },
   {
    "duration": 13,
    "start_time": "2023-04-06T20:04:49.162Z"
   },
   {
    "duration": 13,
    "start_time": "2023-04-06T20:08:19.358Z"
   },
   {
    "duration": 3,
    "start_time": "2023-04-06T20:19:02.818Z"
   },
   {
    "duration": 17,
    "start_time": "2023-04-06T20:19:39.222Z"
   },
   {
    "duration": 12,
    "start_time": "2023-04-06T20:20:33.965Z"
   },
   {
    "duration": 29,
    "start_time": "2023-04-06T20:21:21.738Z"
   },
   {
    "duration": 36,
    "start_time": "2023-04-06T20:21:36.037Z"
   },
   {
    "duration": 13,
    "start_time": "2023-04-06T20:22:56.392Z"
   },
   {
    "duration": 19,
    "start_time": "2023-04-06T20:23:02.297Z"
   },
   {
    "duration": 61788,
    "start_time": "2023-04-06T20:23:19.172Z"
   },
   {
    "duration": 26,
    "start_time": "2023-04-06T20:30:47.026Z"
   },
   {
    "duration": 685,
    "start_time": "2023-04-06T20:31:59.062Z"
   },
   {
    "duration": 515,
    "start_time": "2023-04-06T20:32:35.131Z"
   },
   {
    "duration": 438,
    "start_time": "2023-04-06T20:32:50.824Z"
   },
   {
    "duration": 427,
    "start_time": "2023-04-06T20:33:00.618Z"
   },
   {
    "duration": 156,
    "start_time": "2023-04-06T20:33:05.696Z"
   },
   {
    "duration": 188,
    "start_time": "2023-04-06T20:33:12.960Z"
   },
   {
    "duration": 48262,
    "start_time": "2023-04-06T20:34:32.194Z"
   },
   {
    "duration": 41682,
    "start_time": "2023-04-06T20:39:43.863Z"
   },
   {
    "duration": 16,
    "start_time": "2023-04-06T20:41:46.638Z"
   },
   {
    "duration": 12,
    "start_time": "2023-04-06T20:42:45.817Z"
   },
   {
    "duration": 1554,
    "start_time": "2023-04-06T20:45:44.375Z"
   },
   {
    "duration": 302,
    "start_time": "2023-04-06T20:45:45.931Z"
   },
   {
    "duration": 9,
    "start_time": "2023-04-06T20:45:46.235Z"
   },
   {
    "duration": 17,
    "start_time": "2023-04-06T20:45:46.246Z"
   },
   {
    "duration": 3,
    "start_time": "2023-04-06T20:45:46.265Z"
   },
   {
    "duration": 13,
    "start_time": "2023-04-06T20:45:46.270Z"
   },
   {
    "duration": 932,
    "start_time": "2023-04-06T20:45:46.285Z"
   },
   {
    "duration": 662,
    "start_time": "2023-04-06T20:45:47.219Z"
   },
   {
    "duration": 4,
    "start_time": "2023-04-06T20:45:47.882Z"
   },
   {
    "duration": 29,
    "start_time": "2023-04-06T20:45:47.888Z"
   },
   {
    "duration": 32,
    "start_time": "2023-04-06T20:45:47.918Z"
   },
   {
    "duration": 5,
    "start_time": "2023-04-06T20:45:47.953Z"
   },
   {
    "duration": 31,
    "start_time": "2023-04-06T20:45:47.961Z"
   },
   {
    "duration": 5,
    "start_time": "2023-04-06T20:45:47.993Z"
   },
   {
    "duration": 240,
    "start_time": "2023-04-06T20:45:48.000Z"
   },
   {
    "duration": 115,
    "start_time": "2023-04-06T20:45:48.241Z"
   },
   {
    "duration": 50303,
    "start_time": "2023-04-06T20:45:48.360Z"
   },
   {
    "duration": 410,
    "start_time": "2023-04-06T20:46:38.761Z"
   },
   {
    "duration": 44416,
    "start_time": "2023-04-06T20:46:39.243Z"
   },
   {
    "duration": 206,
    "start_time": "2023-04-06T20:47:23.668Z"
   },
   {
    "duration": 0,
    "start_time": "2023-04-06T20:47:23.876Z"
   },
   {
    "duration": 0,
    "start_time": "2023-04-06T20:47:23.877Z"
   },
   {
    "duration": 0,
    "start_time": "2023-04-06T20:47:23.878Z"
   },
   {
    "duration": 0,
    "start_time": "2023-04-06T20:47:23.879Z"
   },
   {
    "duration": 0,
    "start_time": "2023-04-06T20:47:23.880Z"
   },
   {
    "duration": 0,
    "start_time": "2023-04-06T20:47:23.881Z"
   },
   {
    "duration": 0,
    "start_time": "2023-04-06T20:47:23.882Z"
   },
   {
    "duration": 131,
    "start_time": "2023-04-06T20:47:40.994Z"
   },
   {
    "duration": 219,
    "start_time": "2023-04-06T20:50:35.134Z"
   },
   {
    "duration": 193,
    "start_time": "2023-04-06T20:51:27.853Z"
   },
   {
    "duration": 45,
    "start_time": "2023-04-06T20:52:00.248Z"
   },
   {
    "duration": 206,
    "start_time": "2023-04-06T20:54:19.138Z"
   },
   {
    "duration": 17,
    "start_time": "2023-04-06T20:54:44.740Z"
   },
   {
    "duration": 3063,
    "start_time": "2023-04-06T20:55:47.303Z"
   },
   {
    "duration": 22,
    "start_time": "2023-04-06T20:56:03.299Z"
   },
   {
    "duration": 3038,
    "start_time": "2023-04-06T20:56:03.404Z"
   },
   {
    "duration": 386,
    "start_time": "2023-04-06T20:56:45.264Z"
   },
   {
    "duration": 41918,
    "start_time": "2023-04-06T20:56:47.634Z"
   },
   {
    "duration": 193,
    "start_time": "2023-04-06T20:57:29.553Z"
   },
   {
    "duration": 102,
    "start_time": "2023-04-06T20:57:29.760Z"
   },
   {
    "duration": 2006,
    "start_time": "2023-04-06T20:57:33.351Z"
   },
   {
    "duration": 197,
    "start_time": "2023-04-06T20:57:35.360Z"
   },
   {
    "duration": 5,
    "start_time": "2023-04-06T20:57:35.559Z"
   },
   {
    "duration": 20,
    "start_time": "2023-04-06T20:57:35.566Z"
   },
   {
    "duration": 4,
    "start_time": "2023-04-06T20:57:35.589Z"
   },
   {
    "duration": 16,
    "start_time": "2023-04-06T20:57:35.595Z"
   },
   {
    "duration": 925,
    "start_time": "2023-04-06T20:57:35.612Z"
   },
   {
    "duration": 672,
    "start_time": "2023-04-06T20:57:36.539Z"
   },
   {
    "duration": 5,
    "start_time": "2023-04-06T20:57:37.212Z"
   },
   {
    "duration": 46,
    "start_time": "2023-04-06T20:57:37.219Z"
   },
   {
    "duration": 5,
    "start_time": "2023-04-06T20:57:37.267Z"
   },
   {
    "duration": 9,
    "start_time": "2023-04-06T20:57:37.274Z"
   },
   {
    "duration": 45,
    "start_time": "2023-04-06T20:57:37.284Z"
   },
   {
    "duration": 5,
    "start_time": "2023-04-06T20:57:37.332Z"
   },
   {
    "duration": 132,
    "start_time": "2023-04-06T20:57:37.339Z"
   },
   {
    "duration": 107,
    "start_time": "2023-04-06T20:57:37.547Z"
   },
   {
    "duration": 50088,
    "start_time": "2023-04-06T20:57:37.658Z"
   },
   {
    "duration": 413,
    "start_time": "2023-04-06T20:58:27.748Z"
   },
   {
    "duration": 46082,
    "start_time": "2023-04-06T20:58:28.165Z"
   },
   {
    "duration": 204,
    "start_time": "2023-04-06T20:59:14.250Z"
   },
   {
    "duration": 127,
    "start_time": "2023-04-06T20:59:14.458Z"
   },
   {
    "duration": 2458,
    "start_time": "2023-04-06T20:59:14.587Z"
   },
   {
    "duration": 204,
    "start_time": "2023-04-06T20:59:17.057Z"
   },
   {
    "duration": 0,
    "start_time": "2023-04-06T20:59:17.263Z"
   },
   {
    "duration": 0,
    "start_time": "2023-04-06T20:59:17.264Z"
   },
   {
    "duration": 0,
    "start_time": "2023-04-06T20:59:17.266Z"
   },
   {
    "duration": 0,
    "start_time": "2023-04-06T20:59:17.268Z"
   },
   {
    "duration": 2255,
    "start_time": "2023-04-06T21:12:38.290Z"
   },
   {
    "duration": 4051,
    "start_time": "2023-04-06T21:12:49.211Z"
   },
   {
    "duration": 2943,
    "start_time": "2023-04-06T21:14:01.114Z"
   },
   {
    "duration": 1722,
    "start_time": "2023-04-06T21:16:47.625Z"
   },
   {
    "duration": 2997,
    "start_time": "2023-04-06T21:16:58.461Z"
   },
   {
    "duration": 5,
    "start_time": "2023-04-06T21:18:52.697Z"
   },
   {
    "duration": 3261,
    "start_time": "2023-04-06T21:18:59.801Z"
   },
   {
    "duration": 40,
    "start_time": "2023-04-06T21:19:21.036Z"
   },
   {
    "duration": 2407,
    "start_time": "2023-04-06T21:19:21.138Z"
   },
   {
    "duration": 4049,
    "start_time": "2023-04-06T21:19:28.899Z"
   },
   {
    "duration": 2099,
    "start_time": "2023-04-06T21:19:42.657Z"
   },
   {
    "duration": 2654,
    "start_time": "2023-04-06T21:20:53.915Z"
   },
   {
    "duration": 2490,
    "start_time": "2023-04-06T21:21:42.152Z"
   },
   {
    "duration": 3016,
    "start_time": "2023-04-06T21:22:00.330Z"
   },
   {
    "duration": 2307,
    "start_time": "2023-04-06T21:22:28.461Z"
   },
   {
    "duration": 2473,
    "start_time": "2023-04-06T21:22:38.378Z"
   },
   {
    "duration": 2751,
    "start_time": "2023-04-06T21:23:21.798Z"
   },
   {
    "duration": 3518,
    "start_time": "2023-04-06T21:24:17.840Z"
   },
   {
    "duration": 1583,
    "start_time": "2023-04-06T21:28:42.436Z"
   },
   {
    "duration": 153,
    "start_time": "2023-04-06T21:28:44.021Z"
   },
   {
    "duration": 7,
    "start_time": "2023-04-06T21:28:44.176Z"
   },
   {
    "duration": 15,
    "start_time": "2023-04-06T21:28:44.186Z"
   },
   {
    "duration": 4,
    "start_time": "2023-04-06T21:28:44.202Z"
   },
   {
    "duration": 17,
    "start_time": "2023-04-06T21:28:44.207Z"
   },
   {
    "duration": 904,
    "start_time": "2023-04-06T21:28:44.225Z"
   },
   {
    "duration": 662,
    "start_time": "2023-04-06T21:28:45.131Z"
   },
   {
    "duration": 5,
    "start_time": "2023-04-06T21:28:45.794Z"
   },
   {
    "duration": 53,
    "start_time": "2023-04-06T21:28:45.802Z"
   },
   {
    "duration": 6,
    "start_time": "2023-04-06T21:28:45.859Z"
   },
   {
    "duration": 12,
    "start_time": "2023-04-06T21:28:45.868Z"
   },
   {
    "duration": 57,
    "start_time": "2023-04-06T21:28:45.882Z"
   },
   {
    "duration": 15,
    "start_time": "2023-04-06T21:28:45.940Z"
   },
   {
    "duration": 296,
    "start_time": "2023-04-06T21:28:45.958Z"
   },
   {
    "duration": 190,
    "start_time": "2023-04-06T21:28:46.259Z"
   },
   {
    "duration": 53414,
    "start_time": "2023-04-06T21:28:46.451Z"
   },
   {
    "duration": 308,
    "start_time": "2023-04-06T21:29:39.942Z"
   },
   {
    "duration": 42484,
    "start_time": "2023-04-06T21:29:40.261Z"
   },
   {
    "duration": 111,
    "start_time": "2023-04-06T21:30:22.746Z"
   },
   {
    "duration": 219,
    "start_time": "2023-04-06T21:30:22.859Z"
   },
   {
    "duration": 2867,
    "start_time": "2023-04-06T21:30:23.080Z"
   },
   {
    "duration": 4312,
    "start_time": "2023-04-06T21:30:25.950Z"
   },
   {
    "duration": 2015,
    "start_time": "2023-04-06T21:30:30.343Z"
   },
   {
    "duration": 82,
    "start_time": "2023-04-06T21:30:32.363Z"
   },
   {
    "duration": 107,
    "start_time": "2023-04-06T21:30:32.452Z"
   },
   {
    "duration": 97,
    "start_time": "2023-04-06T21:30:32.563Z"
   },
   {
    "duration": 1199,
    "start_time": "2023-04-06T21:33:45.243Z"
   },
   {
    "duration": 1833,
    "start_time": "2023-04-06T21:34:15.713Z"
   },
   {
    "duration": 1204,
    "start_time": "2023-04-06T21:34:40.837Z"
   },
   {
    "duration": 98,
    "start_time": "2023-04-06T21:35:46.205Z"
   },
   {
    "duration": 1911,
    "start_time": "2023-04-06T21:35:50.339Z"
   },
   {
    "duration": 821,
    "start_time": "2023-04-06T21:35:56.323Z"
   },
   {
    "duration": 1220,
    "start_time": "2023-04-06T21:36:04.425Z"
   },
   {
    "duration": 475,
    "start_time": "2023-04-06T21:36:10.973Z"
   },
   {
    "duration": 809,
    "start_time": "2023-04-06T21:36:15.135Z"
   },
   {
    "duration": 1028,
    "start_time": "2023-04-06T21:36:26.713Z"
   },
   {
    "duration": 764,
    "start_time": "2023-04-06T21:36:33.678Z"
   },
   {
    "duration": 119,
    "start_time": "2023-04-06T21:37:15.217Z"
   },
   {
    "duration": 827,
    "start_time": "2023-04-06T21:37:24.422Z"
   },
   {
    "duration": 1911,
    "start_time": "2023-04-06T21:43:13.329Z"
   },
   {
    "duration": 874,
    "start_time": "2023-04-06T21:43:24.269Z"
   },
   {
    "duration": 1134,
    "start_time": "2023-04-06T21:43:33.013Z"
   },
   {
    "duration": 660,
    "start_time": "2023-04-06T21:43:39.183Z"
   },
   {
    "duration": 830,
    "start_time": "2023-04-06T21:43:44.612Z"
   },
   {
    "duration": 117,
    "start_time": "2023-04-06T21:44:04.424Z"
   },
   {
    "duration": 39,
    "start_time": "2023-04-06T21:44:09.610Z"
   },
   {
    "duration": 180,
    "start_time": "2023-04-06T21:44:15.880Z"
   },
   {
    "duration": 175,
    "start_time": "2023-04-06T21:44:20.666Z"
   },
   {
    "duration": 234,
    "start_time": "2023-04-06T21:44:25.323Z"
   },
   {
    "duration": 271,
    "start_time": "2023-04-06T21:44:29.380Z"
   },
   {
    "duration": 128,
    "start_time": "2023-04-06T21:44:36.228Z"
   },
   {
    "duration": 198,
    "start_time": "2023-04-06T21:44:43.548Z"
   },
   {
    "duration": 146,
    "start_time": "2023-04-06T21:44:48.611Z"
   },
   {
    "duration": 57,
    "start_time": "2023-04-06T21:44:53.805Z"
   },
   {
    "duration": 183,
    "start_time": "2023-04-06T21:44:59.269Z"
   },
   {
    "duration": 286,
    "start_time": "2023-04-06T21:45:04.271Z"
   },
   {
    "duration": 396,
    "start_time": "2023-04-06T21:45:08.844Z"
   },
   {
    "duration": 446,
    "start_time": "2023-04-06T21:45:14.114Z"
   },
   {
    "duration": 524,
    "start_time": "2023-04-06T21:45:21.628Z"
   },
   {
    "duration": 92,
    "start_time": "2023-04-06T21:45:26.064Z"
   },
   {
    "duration": 1415,
    "start_time": "2023-04-06T21:46:51.313Z"
   },
   {
    "duration": 78,
    "start_time": "2023-04-06T21:46:52.730Z"
   },
   {
    "duration": 6,
    "start_time": "2023-04-06T21:46:52.810Z"
   },
   {
    "duration": 30,
    "start_time": "2023-04-06T21:46:52.818Z"
   },
   {
    "duration": 3,
    "start_time": "2023-04-06T21:46:52.850Z"
   },
   {
    "duration": 20,
    "start_time": "2023-04-06T21:46:52.855Z"
   },
   {
    "duration": 832,
    "start_time": "2023-04-06T21:46:52.877Z"
   },
   {
    "duration": 583,
    "start_time": "2023-04-06T21:46:53.711Z"
   },
   {
    "duration": 4,
    "start_time": "2023-04-06T21:46:54.295Z"
   },
   {
    "duration": 40,
    "start_time": "2023-04-06T21:46:54.301Z"
   },
   {
    "duration": 6,
    "start_time": "2023-04-06T21:46:54.343Z"
   },
   {
    "duration": 7,
    "start_time": "2023-04-06T21:46:54.350Z"
   },
   {
    "duration": 32,
    "start_time": "2023-04-06T21:46:54.359Z"
   },
   {
    "duration": 4,
    "start_time": "2023-04-06T21:46:54.393Z"
   },
   {
    "duration": 248,
    "start_time": "2023-04-06T21:46:54.399Z"
   },
   {
    "duration": 93,
    "start_time": "2023-04-06T21:46:54.650Z"
   },
   {
    "duration": 35402,
    "start_time": "2023-04-06T21:46:54.746Z"
   },
   {
    "duration": 392,
    "start_time": "2023-04-06T21:47:30.150Z"
   },
   {
    "duration": 41603,
    "start_time": "2023-04-06T21:47:30.544Z"
   },
   {
    "duration": 292,
    "start_time": "2023-04-06T21:48:12.150Z"
   },
   {
    "duration": 123,
    "start_time": "2023-04-06T21:48:12.446Z"
   },
   {
    "duration": 571,
    "start_time": "2023-04-06T21:48:12.571Z"
   },
   {
    "duration": 2301,
    "start_time": "2023-04-06T21:48:13.143Z"
   },
   {
    "duration": 2597,
    "start_time": "2023-04-06T21:48:15.448Z"
   },
   {
    "duration": 98,
    "start_time": "2023-04-06T21:48:18.047Z"
   },
   {
    "duration": 103,
    "start_time": "2023-04-06T21:48:18.147Z"
   },
   {
    "duration": 94,
    "start_time": "2023-04-06T21:48:18.252Z"
   },
   {
    "duration": 2134,
    "start_time": "2023-04-06T21:50:44.514Z"
   },
   {
    "duration": 74,
    "start_time": "2023-04-06T21:51:58.610Z"
   },
   {
    "duration": 4,
    "start_time": "2023-04-06T21:58:23.992Z"
   },
   {
    "duration": 115,
    "start_time": "2023-04-06T21:59:03.435Z"
   },
   {
    "duration": 16,
    "start_time": "2023-04-06T21:59:28.631Z"
   },
   {
    "duration": 354,
    "start_time": "2023-04-06T22:00:05.670Z"
   },
   {
    "duration": 282,
    "start_time": "2023-04-06T22:00:21.234Z"
   },
   {
    "duration": 518,
    "start_time": "2023-04-06T22:00:40.075Z"
   },
   {
    "duration": 511,
    "start_time": "2023-04-06T22:01:44.851Z"
   },
   {
    "duration": 469,
    "start_time": "2023-04-06T22:02:04.413Z"
   },
   {
    "duration": 32,
    "start_time": "2023-04-06T22:03:40.630Z"
   },
   {
    "duration": 3136,
    "start_time": "2023-04-06T22:06:27.909Z"
   },
   {
    "duration": 468,
    "start_time": "2023-04-06T22:07:57.861Z"
   },
   {
    "duration": 1389,
    "start_time": "2023-04-06T22:42:22.571Z"
   },
   {
    "duration": 79,
    "start_time": "2023-04-06T22:42:23.962Z"
   },
   {
    "duration": 6,
    "start_time": "2023-04-06T22:42:24.042Z"
   },
   {
    "duration": 18,
    "start_time": "2023-04-06T22:42:24.050Z"
   },
   {
    "duration": 4,
    "start_time": "2023-04-06T22:42:24.069Z"
   },
   {
    "duration": 12,
    "start_time": "2023-04-06T22:42:24.074Z"
   },
   {
    "duration": 885,
    "start_time": "2023-04-06T22:42:24.088Z"
   },
   {
    "duration": 625,
    "start_time": "2023-04-06T22:42:24.975Z"
   },
   {
    "duration": 5,
    "start_time": "2023-04-06T22:42:25.602Z"
   },
   {
    "duration": 46,
    "start_time": "2023-04-06T22:42:25.611Z"
   },
   {
    "duration": 6,
    "start_time": "2023-04-06T22:42:25.659Z"
   },
   {
    "duration": 185,
    "start_time": "2023-04-06T22:42:25.667Z"
   },
   {
    "duration": 30,
    "start_time": "2023-04-06T22:42:25.854Z"
   },
   {
    "duration": 7,
    "start_time": "2023-04-06T22:42:25.886Z"
   },
   {
    "duration": 257,
    "start_time": "2023-04-06T22:42:25.895Z"
   },
   {
    "duration": 286,
    "start_time": "2023-04-06T22:42:26.155Z"
   },
   {
    "duration": 35397,
    "start_time": "2023-04-06T22:42:26.443Z"
   },
   {
    "duration": 301,
    "start_time": "2023-04-06T22:43:01.843Z"
   },
   {
    "duration": 38698,
    "start_time": "2023-04-06T22:43:02.149Z"
   },
   {
    "duration": 297,
    "start_time": "2023-04-06T22:43:40.849Z"
   },
   {
    "duration": 192,
    "start_time": "2023-04-06T22:43:41.149Z"
   },
   {
    "duration": 798,
    "start_time": "2023-04-06T22:43:41.343Z"
   },
   {
    "duration": 2598,
    "start_time": "2023-04-06T22:43:42.143Z"
   },
   {
    "duration": 2404,
    "start_time": "2023-04-06T22:43:44.743Z"
   },
   {
    "duration": 99,
    "start_time": "2023-04-06T22:43:47.149Z"
   },
   {
    "duration": 698,
    "start_time": "2023-04-06T22:43:47.250Z"
   },
   {
    "duration": 106,
    "start_time": "2023-04-06T22:51:32.350Z"
   },
   {
    "duration": 10,
    "start_time": "2023-04-06T22:52:00.705Z"
   },
   {
    "duration": 10,
    "start_time": "2023-04-06T22:53:05.055Z"
   },
   {
    "duration": 10,
    "start_time": "2023-04-06T22:54:33.157Z"
   },
   {
    "duration": 10,
    "start_time": "2023-04-06T22:55:30.219Z"
   },
   {
    "duration": 50,
    "start_time": "2023-04-06T22:58:06.606Z"
   },
   {
    "duration": 5269,
    "start_time": "2023-04-07T07:11:44.730Z"
   },
   {
    "duration": 162,
    "start_time": "2023-04-07T07:11:50.001Z"
   },
   {
    "duration": 6,
    "start_time": "2023-04-07T07:12:35.990Z"
   },
   {
    "duration": 12,
    "start_time": "2023-04-07T07:12:37.195Z"
   },
   {
    "duration": 3,
    "start_time": "2023-04-07T07:12:38.190Z"
   },
   {
    "duration": 11,
    "start_time": "2023-04-07T07:12:42.311Z"
   },
   {
    "duration": 809,
    "start_time": "2023-04-07T07:12:43.337Z"
   },
   {
    "duration": 551,
    "start_time": "2023-04-07T07:12:44.148Z"
   },
   {
    "duration": 3,
    "start_time": "2023-04-07T07:12:45.958Z"
   },
   {
    "duration": 25,
    "start_time": "2023-04-07T07:12:47.739Z"
   },
   {
    "duration": 6,
    "start_time": "2023-04-07T07:13:03.419Z"
   },
   {
    "duration": 3,
    "start_time": "2023-04-07T07:13:04.852Z"
   },
   {
    "duration": 21,
    "start_time": "2023-04-07T07:13:06.792Z"
   },
   {
    "duration": 4,
    "start_time": "2023-04-07T07:13:08.451Z"
   },
   {
    "duration": 191,
    "start_time": "2023-04-07T07:13:17.301Z"
   }
  ],
  "kernelspec": {
   "display_name": "Python 3 (ipykernel)",
   "language": "python",
   "name": "python3"
  },
  "language_info": {
   "codemirror_mode": {
    "name": "ipython",
    "version": 3
   },
   "file_extension": ".py",
   "mimetype": "text/x-python",
   "name": "python",
   "nbconvert_exporter": "python",
   "pygments_lexer": "ipython3",
   "version": "3.9.13"
  },
  "toc": {
   "base_numbering": 1,
   "nav_menu": {},
   "number_sections": true,
   "sideBar": true,
   "skip_h1_title": true,
   "title_cell": "Содержание",
   "title_sidebar": "Contents",
   "toc_cell": true,
   "toc_position": {},
   "toc_section_display": true,
   "toc_window_display": true
  }
 },
 "nbformat": 4,
 "nbformat_minor": 2
}
