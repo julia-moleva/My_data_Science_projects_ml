{
 "cells": [
  {
   "cell_type": "markdown",
   "id": "716f1abc",
   "metadata": {},
   "source": [
    "# Отток клиентов"
   ]
  },
  {
   "cell_type": "markdown",
   "id": "e28e2842",
   "metadata": {},
   "source": [
    "Из «Бета-Банка» стали уходить клиенты. Каждый месяц. Немного, но заметно. Банковские маркетологи посчитали: сохранять текущих клиентов дешевле, чем привлекать новых.\n",
    "\n",
    "Нужно спрогнозировать, уйдёт клиент из банка в ближайшее время или нет. Вам предоставлены исторические данные о поведении клиентов и расторжении договоров с банком. \n",
    "\n",
    "Постройте модель с предельно большим значением *F1*-меры. Чтобы сдать проект успешно, нужно довести метрику до 0.59. Проверьте *F1*-меру на тестовой выборке самостоятельно.\n",
    "\n",
    "Дополнительно измеряйте *AUC-ROC*, сравнивайте её значение с *F1*-мерой.\n",
    "\n",
    "Источник данных: [https://www.kaggle.com/barelydedicated/bank-customer-churn-modeling](https://www.kaggle.com/barelydedicated/bank-customer-churn-modeling)"
   ]
  },
  {
   "cell_type": "markdown",
   "id": "e0ff55ab",
   "metadata": {},
   "source": [
    "## 1 Подготовка и исследовательский анализ данных"
   ]
  },
  {
   "cell_type": "markdown",
   "id": "bc42a1f0",
   "metadata": {},
   "source": [
    "Импортируем библиотеки pandas, numpy, seaborn и sklearn для дальнейшей работы"
   ]
  },
  {
   "cell_type": "code",
   "execution_count": 1,
   "id": "96bbcfa0",
   "metadata": {},
   "outputs": [
    {
     "name": "stdout",
     "output_type": "stream",
     "text": [
      "Requirement already satisfied: imblearn in c:\\users\\julia\\anaconda3\\lib\\site-packages (0.0)\n",
      "Requirement already satisfied: imbalanced-learn in c:\\users\\julia\\anaconda3\\lib\\site-packages (from imblearn) (0.10.1)\n",
      "Requirement already satisfied: scikit-learn>=1.0.2 in c:\\users\\julia\\anaconda3\\lib\\site-packages (from imbalanced-learn->imblearn) (1.0.2)\n",
      "Requirement already satisfied: scipy>=1.3.2 in c:\\users\\julia\\anaconda3\\lib\\site-packages (from imbalanced-learn->imblearn) (1.9.1)\n",
      "Requirement already satisfied: numpy>=1.17.3 in c:\\users\\julia\\anaconda3\\lib\\site-packages (from imbalanced-learn->imblearn) (1.21.5)\n",
      "Requirement already satisfied: threadpoolctl>=2.0.0 in c:\\users\\julia\\anaconda3\\lib\\site-packages (from imbalanced-learn->imblearn) (2.2.0)\n",
      "Requirement already satisfied: joblib>=1.1.1 in c:\\users\\julia\\anaconda3\\lib\\site-packages (from imbalanced-learn->imblearn) (1.2.0)\n"
     ]
    }
   ],
   "source": [
    "import pandas as pd\n",
    "import numpy as np\n",
    "import seaborn as sbrn\n",
    "import matplotlib.pyplot as plt\n",
    "from sklearn.model_selection import train_test_split\n",
    "from sklearn.tree import DecisionTreeClassifier\n",
    "from sklearn.linear_model import LinearRegression, LogisticRegression\n",
    "from sklearn.ensemble import RandomForestRegressor, RandomForestClassifier\n",
    "from sklearn.preprocessing import StandardScaler\n",
    "from sklearn.metrics import (mean_absolute_error, f1_score, accuracy_score,\n",
    "                             r2_score, roc_auc_score, roc_curve, \n",
    "                             confusion_matrix)\n",
    "from sklearn.utils import shuffle\n",
    "!pip install imblearn\n",
    "from imblearn.over_sampling import SMOTE\n",
    "from imblearn.under_sampling import RandomUnderSampler\n",
    "from sklearn.dummy import DummyClassifier\n",
    "data = pd.read_csv(r'C:\\Users\\Julia\\Desktop\\DATA_SCIENCE\\Datasets\\Churn.csv')"
   ]
  },
  {
   "cell_type": "code",
   "execution_count": 2,
   "id": "73867167",
   "metadata": {},
   "outputs": [
    {
     "data": {
      "text/html": [
       "<div>\n",
       "<style scoped>\n",
       "    .dataframe tbody tr th:only-of-type {\n",
       "        vertical-align: middle;\n",
       "    }\n",
       "\n",
       "    .dataframe tbody tr th {\n",
       "        vertical-align: top;\n",
       "    }\n",
       "\n",
       "    .dataframe thead th {\n",
       "        text-align: right;\n",
       "    }\n",
       "</style>\n",
       "<table border=\"1\" class=\"dataframe\">\n",
       "  <thead>\n",
       "    <tr style=\"text-align: right;\">\n",
       "      <th></th>\n",
       "      <th>RowNumber</th>\n",
       "      <th>CustomerId</th>\n",
       "      <th>Surname</th>\n",
       "      <th>CreditScore</th>\n",
       "      <th>Geography</th>\n",
       "      <th>Gender</th>\n",
       "      <th>Age</th>\n",
       "      <th>Tenure</th>\n",
       "      <th>Balance</th>\n",
       "      <th>NumOfProducts</th>\n",
       "      <th>HasCrCard</th>\n",
       "      <th>IsActiveMember</th>\n",
       "      <th>EstimatedSalary</th>\n",
       "      <th>Exited</th>\n",
       "    </tr>\n",
       "  </thead>\n",
       "  <tbody>\n",
       "    <tr>\n",
       "      <th>0</th>\n",
       "      <td>1</td>\n",
       "      <td>15634602</td>\n",
       "      <td>Hargrave</td>\n",
       "      <td>619</td>\n",
       "      <td>France</td>\n",
       "      <td>Female</td>\n",
       "      <td>42</td>\n",
       "      <td>2.0</td>\n",
       "      <td>0.00</td>\n",
       "      <td>1</td>\n",
       "      <td>1</td>\n",
       "      <td>1</td>\n",
       "      <td>101348.88</td>\n",
       "      <td>1</td>\n",
       "    </tr>\n",
       "    <tr>\n",
       "      <th>1</th>\n",
       "      <td>2</td>\n",
       "      <td>15647311</td>\n",
       "      <td>Hill</td>\n",
       "      <td>608</td>\n",
       "      <td>Spain</td>\n",
       "      <td>Female</td>\n",
       "      <td>41</td>\n",
       "      <td>1.0</td>\n",
       "      <td>83807.86</td>\n",
       "      <td>1</td>\n",
       "      <td>0</td>\n",
       "      <td>1</td>\n",
       "      <td>112542.58</td>\n",
       "      <td>0</td>\n",
       "    </tr>\n",
       "    <tr>\n",
       "      <th>2</th>\n",
       "      <td>3</td>\n",
       "      <td>15619304</td>\n",
       "      <td>Onio</td>\n",
       "      <td>502</td>\n",
       "      <td>France</td>\n",
       "      <td>Female</td>\n",
       "      <td>42</td>\n",
       "      <td>8.0</td>\n",
       "      <td>159660.80</td>\n",
       "      <td>3</td>\n",
       "      <td>1</td>\n",
       "      <td>0</td>\n",
       "      <td>113931.57</td>\n",
       "      <td>1</td>\n",
       "    </tr>\n",
       "    <tr>\n",
       "      <th>3</th>\n",
       "      <td>4</td>\n",
       "      <td>15701354</td>\n",
       "      <td>Boni</td>\n",
       "      <td>699</td>\n",
       "      <td>France</td>\n",
       "      <td>Female</td>\n",
       "      <td>39</td>\n",
       "      <td>1.0</td>\n",
       "      <td>0.00</td>\n",
       "      <td>2</td>\n",
       "      <td>0</td>\n",
       "      <td>0</td>\n",
       "      <td>93826.63</td>\n",
       "      <td>0</td>\n",
       "    </tr>\n",
       "    <tr>\n",
       "      <th>4</th>\n",
       "      <td>5</td>\n",
       "      <td>15737888</td>\n",
       "      <td>Mitchell</td>\n",
       "      <td>850</td>\n",
       "      <td>Spain</td>\n",
       "      <td>Female</td>\n",
       "      <td>43</td>\n",
       "      <td>2.0</td>\n",
       "      <td>125510.82</td>\n",
       "      <td>1</td>\n",
       "      <td>1</td>\n",
       "      <td>1</td>\n",
       "      <td>79084.10</td>\n",
       "      <td>0</td>\n",
       "    </tr>\n",
       "  </tbody>\n",
       "</table>\n",
       "</div>"
      ],
      "text/plain": [
       "   RowNumber  CustomerId   Surname  CreditScore Geography  Gender  Age  \\\n",
       "0          1    15634602  Hargrave          619    France  Female   42   \n",
       "1          2    15647311      Hill          608     Spain  Female   41   \n",
       "2          3    15619304      Onio          502    France  Female   42   \n",
       "3          4    15701354      Boni          699    France  Female   39   \n",
       "4          5    15737888  Mitchell          850     Spain  Female   43   \n",
       "\n",
       "   Tenure    Balance  NumOfProducts  HasCrCard  IsActiveMember  \\\n",
       "0     2.0       0.00              1          1               1   \n",
       "1     1.0   83807.86              1          0               1   \n",
       "2     8.0  159660.80              3          1               0   \n",
       "3     1.0       0.00              2          0               0   \n",
       "4     2.0  125510.82              1          1               1   \n",
       "\n",
       "   EstimatedSalary  Exited  \n",
       "0        101348.88       1  \n",
       "1        112542.58       0  \n",
       "2        113931.57       1  \n",
       "3         93826.63       0  \n",
       "4         79084.10       0  "
      ]
     },
     "execution_count": 2,
     "metadata": {},
     "output_type": "execute_result"
    }
   ],
   "source": [
    "data.head()"
   ]
  },
  {
   "cell_type": "code",
   "execution_count": 3,
   "id": "d1bfd3da",
   "metadata": {},
   "outputs": [
    {
     "name": "stdout",
     "output_type": "stream",
     "text": [
      "<class 'pandas.core.frame.DataFrame'>\n",
      "RangeIndex: 10000 entries, 0 to 9999\n",
      "Data columns (total 14 columns):\n",
      " #   Column           Non-Null Count  Dtype  \n",
      "---  ------           --------------  -----  \n",
      " 0   RowNumber        10000 non-null  int64  \n",
      " 1   CustomerId       10000 non-null  int64  \n",
      " 2   Surname          10000 non-null  object \n",
      " 3   CreditScore      10000 non-null  int64  \n",
      " 4   Geography        10000 non-null  object \n",
      " 5   Gender           10000 non-null  object \n",
      " 6   Age              10000 non-null  int64  \n",
      " 7   Tenure           9091 non-null   float64\n",
      " 8   Balance          10000 non-null  float64\n",
      " 9   NumOfProducts    10000 non-null  int64  \n",
      " 10  HasCrCard        10000 non-null  int64  \n",
      " 11  IsActiveMember   10000 non-null  int64  \n",
      " 12  EstimatedSalary  10000 non-null  float64\n",
      " 13  Exited           10000 non-null  int64  \n",
      "dtypes: float64(3), int64(8), object(3)\n",
      "memory usage: 1.1+ MB\n"
     ]
    }
   ],
   "source": [
    "data.info()"
   ]
  },
  {
   "cell_type": "markdown",
   "id": "d9f34abd",
   "metadata": {},
   "source": [
    "Приведем названия столбцов к нужному регистру в соответствии со snake_case и изменим тип данных на корректный:"
   ]
  },
  {
   "cell_type": "code",
   "execution_count": 4,
   "id": "066740fa",
   "metadata": {},
   "outputs": [],
   "source": [
    "data.columns = data.columns.str.lower()\n",
    "data.rename(columns = {'rownumber':'row_number', 'customerid':'customer_id','creditscore':'credit_score',\n",
    "                       'numofproducts':'num_of_products', 'hascrcard':'has_credit_card',\n",
    "                      'isactivemember':'is_active_member', 'estimatedsalary':'estimated_salary'}, inplace=True)"
   ]
  },
  {
   "cell_type": "code",
   "execution_count": 5,
   "id": "0f3a4caf",
   "metadata": {},
   "outputs": [],
   "source": [
    "data['has_credit_card'] = data['has_credit_card'].astype(bool)\n",
    "data['is_active_member'] = data['is_active_member'].astype(bool)"
   ]
  },
  {
   "cell_type": "code",
   "execution_count": 6,
   "id": "3bcdb56a",
   "metadata": {},
   "outputs": [
    {
     "data": {
      "text/plain": [
       "row_number            int64\n",
       "customer_id           int64\n",
       "surname              object\n",
       "credit_score          int64\n",
       "geography            object\n",
       "gender               object\n",
       "age                   int64\n",
       "tenure              float64\n",
       "balance             float64\n",
       "num_of_products       int64\n",
       "has_credit_card        bool\n",
       "is_active_member       bool\n",
       "estimated_salary    float64\n",
       "exited                int64\n",
       "dtype: object"
      ]
     },
     "execution_count": 6,
     "metadata": {},
     "output_type": "execute_result"
    }
   ],
   "source": [
    "data.dtypes"
   ]
  },
  {
   "cell_type": "markdown",
   "id": "a11792fb",
   "metadata": {},
   "source": [
    "Признаки `row_number`, `customer_id` и `surname` не несут в себе информации, необходимой для дальнейшего анализа, поэтому удалим их из выборки. Проверим данные на предмет дубликатов и пропущенных значений:"
   ]
  },
  {
   "cell_type": "code",
   "execution_count": 7,
   "id": "e587f9b1",
   "metadata": {},
   "outputs": [
    {
     "data": {
      "text/plain": [
       "credit_score          0\n",
       "geography             0\n",
       "gender                0\n",
       "age                   0\n",
       "tenure              909\n",
       "balance               0\n",
       "num_of_products       0\n",
       "has_credit_card       0\n",
       "is_active_member      0\n",
       "estimated_salary      0\n",
       "exited                0\n",
       "dtype: int64"
      ]
     },
     "execution_count": 7,
     "metadata": {},
     "output_type": "execute_result"
    }
   ],
   "source": [
    "data = data.drop(['customer_id', 'row_number', 'surname'], axis=1)\n",
    "data.duplicated().sum()\n",
    "data.isna().sum()"
   ]
  },
  {
   "cell_type": "markdown",
   "id": "569f687e",
   "metadata": {},
   "source": [
    "В столбце `tenure` обнаружено 909 пропущенных значений. В столбце содержатся данные о том, сколько лет человек является клиентом банка. Построим общую гистограмму для всех числовых столбцов:"
   ]
  },
  {
   "cell_type": "code",
   "execution_count": 8,
   "id": "708884d5",
   "metadata": {},
   "outputs": [
    {
     "data": {
      "image/png": "[encoded data removed]",
      "text/plain": [
       "<Figure size 700x700 with 9 Axes>"
      ]
     },
     "metadata": {},
     "output_type": "display_data"
    }
   ],
   "source": [
    "data.hist(figsize=(7, 7),bins=10);"
   ]
  },
  {
   "cell_type": "code",
   "execution_count": 9,
   "id": "47bc9c59",
   "metadata": {},
   "outputs": [
    {
     "data": {
      "text/html": [
       "<div>\n",
       "<style scoped>\n",
       "    .dataframe tbody tr th:only-of-type {\n",
       "        vertical-align: middle;\n",
       "    }\n",
       "\n",
       "    .dataframe tbody tr th {\n",
       "        vertical-align: top;\n",
       "    }\n",
       "\n",
       "    .dataframe thead th {\n",
       "        text-align: right;\n",
       "    }\n",
       "</style>\n",
       "<table border=\"1\" class=\"dataframe\">\n",
       "  <thead>\n",
       "    <tr style=\"text-align: right;\">\n",
       "      <th></th>\n",
       "      <th>credit_score</th>\n",
       "      <th>age</th>\n",
       "      <th>tenure</th>\n",
       "      <th>balance</th>\n",
       "      <th>num_of_products</th>\n",
       "      <th>estimated_salary</th>\n",
       "      <th>exited</th>\n",
       "    </tr>\n",
       "  </thead>\n",
       "  <tbody>\n",
       "    <tr>\n",
       "      <th>count</th>\n",
       "      <td>10000.000000</td>\n",
       "      <td>10000.000000</td>\n",
       "      <td>9091.000000</td>\n",
       "      <td>10000.000000</td>\n",
       "      <td>10000.000000</td>\n",
       "      <td>10000.000000</td>\n",
       "      <td>10000.000000</td>\n",
       "    </tr>\n",
       "    <tr>\n",
       "      <th>mean</th>\n",
       "      <td>650.528800</td>\n",
       "      <td>38.921800</td>\n",
       "      <td>4.997690</td>\n",
       "      <td>76485.889288</td>\n",
       "      <td>1.530200</td>\n",
       "      <td>100090.239881</td>\n",
       "      <td>0.203700</td>\n",
       "    </tr>\n",
       "    <tr>\n",
       "      <th>std</th>\n",
       "      <td>96.653299</td>\n",
       "      <td>10.487806</td>\n",
       "      <td>2.894723</td>\n",
       "      <td>62397.405202</td>\n",
       "      <td>0.581654</td>\n",
       "      <td>57510.492818</td>\n",
       "      <td>0.402769</td>\n",
       "    </tr>\n",
       "    <tr>\n",
       "      <th>min</th>\n",
       "      <td>350.000000</td>\n",
       "      <td>18.000000</td>\n",
       "      <td>0.000000</td>\n",
       "      <td>0.000000</td>\n",
       "      <td>1.000000</td>\n",
       "      <td>11.580000</td>\n",
       "      <td>0.000000</td>\n",
       "    </tr>\n",
       "    <tr>\n",
       "      <th>25%</th>\n",
       "      <td>584.000000</td>\n",
       "      <td>32.000000</td>\n",
       "      <td>2.000000</td>\n",
       "      <td>0.000000</td>\n",
       "      <td>1.000000</td>\n",
       "      <td>51002.110000</td>\n",
       "      <td>0.000000</td>\n",
       "    </tr>\n",
       "    <tr>\n",
       "      <th>50%</th>\n",
       "      <td>652.000000</td>\n",
       "      <td>37.000000</td>\n",
       "      <td>5.000000</td>\n",
       "      <td>97198.540000</td>\n",
       "      <td>1.000000</td>\n",
       "      <td>100193.915000</td>\n",
       "      <td>0.000000</td>\n",
       "    </tr>\n",
       "    <tr>\n",
       "      <th>75%</th>\n",
       "      <td>718.000000</td>\n",
       "      <td>44.000000</td>\n",
       "      <td>7.000000</td>\n",
       "      <td>127644.240000</td>\n",
       "      <td>2.000000</td>\n",
       "      <td>149388.247500</td>\n",
       "      <td>0.000000</td>\n",
       "    </tr>\n",
       "    <tr>\n",
       "      <th>max</th>\n",
       "      <td>850.000000</td>\n",
       "      <td>92.000000</td>\n",
       "      <td>10.000000</td>\n",
       "      <td>250898.090000</td>\n",
       "      <td>4.000000</td>\n",
       "      <td>199992.480000</td>\n",
       "      <td>1.000000</td>\n",
       "    </tr>\n",
       "  </tbody>\n",
       "</table>\n",
       "</div>"
      ],
      "text/plain": [
       "       credit_score           age       tenure        balance  \\\n",
       "count  10000.000000  10000.000000  9091.000000   10000.000000   \n",
       "mean     650.528800     38.921800     4.997690   76485.889288   \n",
       "std       96.653299     10.487806     2.894723   62397.405202   \n",
       "min      350.000000     18.000000     0.000000       0.000000   \n",
       "25%      584.000000     32.000000     2.000000       0.000000   \n",
       "50%      652.000000     37.000000     5.000000   97198.540000   \n",
       "75%      718.000000     44.000000     7.000000  127644.240000   \n",
       "max      850.000000     92.000000    10.000000  250898.090000   \n",
       "\n",
       "       num_of_products  estimated_salary        exited  \n",
       "count     10000.000000      10000.000000  10000.000000  \n",
       "mean          1.530200     100090.239881      0.203700  \n",
       "std           0.581654      57510.492818      0.402769  \n",
       "min           1.000000         11.580000      0.000000  \n",
       "25%           1.000000      51002.110000      0.000000  \n",
       "50%           1.000000     100193.915000      0.000000  \n",
       "75%           2.000000     149388.247500      0.000000  \n",
       "max           4.000000     199992.480000      1.000000  "
      ]
     },
     "execution_count": 9,
     "metadata": {},
     "output_type": "execute_result"
    }
   ],
   "source": [
    "data.describe()"
   ]
  },
  {
   "cell_type": "markdown",
   "id": "6aef8680",
   "metadata": {},
   "source": [
    "Посмотрим как распределены доли клиентов по странам, а также какие доли занимают клиенты, ушедшие из банка:"
   ]
  },
  {
   "cell_type": "code",
   "execution_count": 10,
   "id": "94101628",
   "metadata": {},
   "outputs": [
    {
     "data": {
      "image/png": "[encoded data removed]",
      "text/plain": [
       "<Figure size 400x400 with 1 Axes>"
      ]
     },
     "metadata": {},
     "output_type": "display_data"
    }
   ],
   "source": [
    "data['geography'].value_counts().plot(kind='pie',autopct='%1.1f%%',figsize=(4,4));"
   ]
  },
  {
   "cell_type": "code",
   "execution_count": 11,
   "id": "1dd84b21",
   "metadata": {},
   "outputs": [
    {
     "data": {
      "image/png": "[encoded data removed]",
      "text/plain": [
       "<Figure size 500x500 with 1 Axes>"
      ]
     },
     "metadata": {},
     "output_type": "display_data"
    }
   ],
   "source": [
    "data['exited'].value_counts().plot(kind='pie',autopct='%1.1f%%',figsize=(5,5))\n",
    "plt.legend(['Остался', 'Ушел'],fontsize=10)\n",
    "plt.title('Факт ухода клиента из банка')\n",
    "plt.axis('off');"
   ]
  },
  {
   "cell_type": "markdown",
   "id": "ee444b84",
   "metadata": {},
   "source": [
    "На диаграмах видно, что 50% клиентов из Франции, а доля ушедших составляет 20%. Определим признаки наиболее влиющие на уход клиентов из банков"
   ]
  },
  {
   "cell_type": "code",
   "execution_count": 12,
   "id": "c98b5b69",
   "metadata": {},
   "outputs": [
    {
     "data": {
      "text/html": [
       "<div>\n",
       "<style scoped>\n",
       "    .dataframe tbody tr th:only-of-type {\n",
       "        vertical-align: middle;\n",
       "    }\n",
       "\n",
       "    .dataframe tbody tr th {\n",
       "        vertical-align: top;\n",
       "    }\n",
       "\n",
       "    .dataframe thead th {\n",
       "        text-align: right;\n",
       "    }\n",
       "</style>\n",
       "<table border=\"1\" class=\"dataframe\">\n",
       "  <thead>\n",
       "    <tr style=\"text-align: right;\">\n",
       "      <th></th>\n",
       "      <th>credit_score</th>\n",
       "      <th>age</th>\n",
       "      <th>tenure</th>\n",
       "      <th>balance</th>\n",
       "      <th>num_of_products</th>\n",
       "      <th>has_credit_card</th>\n",
       "      <th>is_active_member</th>\n",
       "      <th>estimated_salary</th>\n",
       "      <th>exited</th>\n",
       "    </tr>\n",
       "  </thead>\n",
       "  <tbody>\n",
       "    <tr>\n",
       "      <th>credit_score</th>\n",
       "      <td>1.000000</td>\n",
       "      <td>-0.003965</td>\n",
       "      <td>-0.000062</td>\n",
       "      <td>0.006268</td>\n",
       "      <td>0.012238</td>\n",
       "      <td>-0.005458</td>\n",
       "      <td>0.025651</td>\n",
       "      <td>-0.001384</td>\n",
       "      <td>-0.027094</td>\n",
       "    </tr>\n",
       "    <tr>\n",
       "      <th>age</th>\n",
       "      <td>-0.003965</td>\n",
       "      <td>1.000000</td>\n",
       "      <td>-0.013134</td>\n",
       "      <td>0.028308</td>\n",
       "      <td>-0.030680</td>\n",
       "      <td>-0.011721</td>\n",
       "      <td>0.085472</td>\n",
       "      <td>-0.007201</td>\n",
       "      <td>0.285323</td>\n",
       "    </tr>\n",
       "    <tr>\n",
       "      <th>tenure</th>\n",
       "      <td>-0.000062</td>\n",
       "      <td>-0.013134</td>\n",
       "      <td>1.000000</td>\n",
       "      <td>-0.007911</td>\n",
       "      <td>0.011979</td>\n",
       "      <td>0.027232</td>\n",
       "      <td>-0.032178</td>\n",
       "      <td>0.010520</td>\n",
       "      <td>-0.016761</td>\n",
       "    </tr>\n",
       "    <tr>\n",
       "      <th>balance</th>\n",
       "      <td>0.006268</td>\n",
       "      <td>0.028308</td>\n",
       "      <td>-0.007911</td>\n",
       "      <td>1.000000</td>\n",
       "      <td>-0.304180</td>\n",
       "      <td>-0.014858</td>\n",
       "      <td>-0.010084</td>\n",
       "      <td>0.012797</td>\n",
       "      <td>0.118533</td>\n",
       "    </tr>\n",
       "    <tr>\n",
       "      <th>num_of_products</th>\n",
       "      <td>0.012238</td>\n",
       "      <td>-0.030680</td>\n",
       "      <td>0.011979</td>\n",
       "      <td>-0.304180</td>\n",
       "      <td>1.000000</td>\n",
       "      <td>0.003183</td>\n",
       "      <td>0.009612</td>\n",
       "      <td>0.014204</td>\n",
       "      <td>-0.047820</td>\n",
       "    </tr>\n",
       "    <tr>\n",
       "      <th>has_credit_card</th>\n",
       "      <td>-0.005458</td>\n",
       "      <td>-0.011721</td>\n",
       "      <td>0.027232</td>\n",
       "      <td>-0.014858</td>\n",
       "      <td>0.003183</td>\n",
       "      <td>1.000000</td>\n",
       "      <td>-0.011866</td>\n",
       "      <td>-0.009933</td>\n",
       "      <td>-0.007138</td>\n",
       "    </tr>\n",
       "    <tr>\n",
       "      <th>is_active_member</th>\n",
       "      <td>0.025651</td>\n",
       "      <td>0.085472</td>\n",
       "      <td>-0.032178</td>\n",
       "      <td>-0.010084</td>\n",
       "      <td>0.009612</td>\n",
       "      <td>-0.011866</td>\n",
       "      <td>1.000000</td>\n",
       "      <td>-0.011421</td>\n",
       "      <td>-0.156128</td>\n",
       "    </tr>\n",
       "    <tr>\n",
       "      <th>estimated_salary</th>\n",
       "      <td>-0.001384</td>\n",
       "      <td>-0.007201</td>\n",
       "      <td>0.010520</td>\n",
       "      <td>0.012797</td>\n",
       "      <td>0.014204</td>\n",
       "      <td>-0.009933</td>\n",
       "      <td>-0.011421</td>\n",
       "      <td>1.000000</td>\n",
       "      <td>0.012097</td>\n",
       "    </tr>\n",
       "    <tr>\n",
       "      <th>exited</th>\n",
       "      <td>-0.027094</td>\n",
       "      <td>0.285323</td>\n",
       "      <td>-0.016761</td>\n",
       "      <td>0.118533</td>\n",
       "      <td>-0.047820</td>\n",
       "      <td>-0.007138</td>\n",
       "      <td>-0.156128</td>\n",
       "      <td>0.012097</td>\n",
       "      <td>1.000000</td>\n",
       "    </tr>\n",
       "  </tbody>\n",
       "</table>\n",
       "</div>"
      ],
      "text/plain": [
       "                  credit_score       age    tenure   balance  num_of_products  \\\n",
       "credit_score          1.000000 -0.003965 -0.000062  0.006268         0.012238   \n",
       "age                  -0.003965  1.000000 -0.013134  0.028308        -0.030680   \n",
       "tenure               -0.000062 -0.013134  1.000000 -0.007911         0.011979   \n",
       "balance               0.006268  0.028308 -0.007911  1.000000        -0.304180   \n",
       "num_of_products       0.012238 -0.030680  0.011979 -0.304180         1.000000   \n",
       "has_credit_card      -0.005458 -0.011721  0.027232 -0.014858         0.003183   \n",
       "is_active_member      0.025651  0.085472 -0.032178 -0.010084         0.009612   \n",
       "estimated_salary     -0.001384 -0.007201  0.010520  0.012797         0.014204   \n",
       "exited               -0.027094  0.285323 -0.016761  0.118533        -0.047820   \n",
       "\n",
       "                  has_credit_card  is_active_member  estimated_salary  \\\n",
       "credit_score            -0.005458          0.025651         -0.001384   \n",
       "age                     -0.011721          0.085472         -0.007201   \n",
       "tenure                   0.027232         -0.032178          0.010520   \n",
       "balance                 -0.014858         -0.010084          0.012797   \n",
       "num_of_products          0.003183          0.009612          0.014204   \n",
       "has_credit_card          1.000000         -0.011866         -0.009933   \n",
       "is_active_member        -0.011866          1.000000         -0.011421   \n",
       "estimated_salary        -0.009933         -0.011421          1.000000   \n",
       "exited                  -0.007138         -0.156128          0.012097   \n",
       "\n",
       "                    exited  \n",
       "credit_score     -0.027094  \n",
       "age               0.285323  \n",
       "tenure           -0.016761  \n",
       "balance           0.118533  \n",
       "num_of_products  -0.047820  \n",
       "has_credit_card  -0.007138  \n",
       "is_active_member -0.156128  \n",
       "estimated_salary  0.012097  \n",
       "exited            1.000000  "
      ]
     },
     "execution_count": 12,
     "metadata": {},
     "output_type": "execute_result"
    }
   ],
   "source": [
    "data.corr()"
   ]
  },
  {
   "cell_type": "markdown",
   "id": "80b85c35",
   "metadata": {},
   "source": [
    "Наиболее коррелирующий с фактом ухода из банка признак - это возвраст клиентов, меньше всего на факт ухода влияет наличие кредитной карты у клиенты. Дополнительно проверим, клиенты каких стран и гендеров чаще уходили из банка."
   ]
  },
  {
   "cell_type": "code",
   "execution_count": 13,
   "id": "413f4f98",
   "metadata": {},
   "outputs": [
    {
     "data": {
      "text/html": [
       "<div>\n",
       "<style scoped>\n",
       "    .dataframe tbody tr th:only-of-type {\n",
       "        vertical-align: middle;\n",
       "    }\n",
       "\n",
       "    .dataframe tbody tr th {\n",
       "        vertical-align: top;\n",
       "    }\n",
       "\n",
       "    .dataframe thead th {\n",
       "        text-align: right;\n",
       "    }\n",
       "</style>\n",
       "<table border=\"1\" class=\"dataframe\">\n",
       "  <thead>\n",
       "    <tr style=\"text-align: right;\">\n",
       "      <th></th>\n",
       "      <th>count</th>\n",
       "      <th>mean</th>\n",
       "    </tr>\n",
       "    <tr>\n",
       "      <th>geography</th>\n",
       "      <th></th>\n",
       "      <th></th>\n",
       "    </tr>\n",
       "  </thead>\n",
       "  <tbody>\n",
       "    <tr>\n",
       "      <th>France</th>\n",
       "      <td>5014</td>\n",
       "      <td>0.161548</td>\n",
       "    </tr>\n",
       "    <tr>\n",
       "      <th>Germany</th>\n",
       "      <td>2509</td>\n",
       "      <td>0.324432</td>\n",
       "    </tr>\n",
       "    <tr>\n",
       "      <th>Spain</th>\n",
       "      <td>2477</td>\n",
       "      <td>0.166734</td>\n",
       "    </tr>\n",
       "  </tbody>\n",
       "</table>\n",
       "</div>"
      ],
      "text/plain": [
       "           count      mean\n",
       "geography                 \n",
       "France      5014  0.161548\n",
       "Germany     2509  0.324432\n",
       "Spain       2477  0.166734"
      ]
     },
     "execution_count": 13,
     "metadata": {},
     "output_type": "execute_result"
    }
   ],
   "source": [
    "geography = data.pivot_table(index='geography', values='exited', aggfunc=['count', 'mean'])\n",
    "geography.columns = ('count', 'mean')\n",
    "geography"
   ]
  },
  {
   "cell_type": "code",
   "execution_count": 14,
   "id": "9643a713",
   "metadata": {},
   "outputs": [
    {
     "data": {
      "text/html": [
       "<div>\n",
       "<style scoped>\n",
       "    .dataframe tbody tr th:only-of-type {\n",
       "        vertical-align: middle;\n",
       "    }\n",
       "\n",
       "    .dataframe tbody tr th {\n",
       "        vertical-align: top;\n",
       "    }\n",
       "\n",
       "    .dataframe thead th {\n",
       "        text-align: right;\n",
       "    }\n",
       "</style>\n",
       "<table border=\"1\" class=\"dataframe\">\n",
       "  <thead>\n",
       "    <tr style=\"text-align: right;\">\n",
       "      <th></th>\n",
       "      <th>count</th>\n",
       "      <th>mean</th>\n",
       "    </tr>\n",
       "    <tr>\n",
       "      <th>gender</th>\n",
       "      <th></th>\n",
       "      <th></th>\n",
       "    </tr>\n",
       "  </thead>\n",
       "  <tbody>\n",
       "    <tr>\n",
       "      <th>Female</th>\n",
       "      <td>4543</td>\n",
       "      <td>0.250715</td>\n",
       "    </tr>\n",
       "    <tr>\n",
       "      <th>Male</th>\n",
       "      <td>5457</td>\n",
       "      <td>0.164559</td>\n",
       "    </tr>\n",
       "  </tbody>\n",
       "</table>\n",
       "</div>"
      ],
      "text/plain": [
       "        count      mean\n",
       "gender                 \n",
       "Female   4543  0.250715\n",
       "Male     5457  0.164559"
      ]
     },
     "execution_count": 14,
     "metadata": {},
     "output_type": "execute_result"
    }
   ],
   "source": [
    "gender = data.pivot_table(index='gender', values='exited', aggfunc=['count', 'mean'])\n",
    "gender.columns = ('count', 'mean')\n",
    "gender"
   ]
  },
  {
   "cell_type": "markdown",
   "id": "63464391",
   "metadata": {},
   "source": [
    "Жители Германии значительно чаще уходили из банка (32.4%), при этом с одинаковой частотой уходили из банка жители Испании (16.1%) и Франции(16.7%). Также из данных следует, что женщины чаще уходили из банка, чем мужчины. Теперь рассмотрим наиболее коррелирующий с фактом ухода признак - возраст."
   ]
  },
  {
   "cell_type": "code",
   "execution_count": 15,
   "id": "ccd46daa",
   "metadata": {},
   "outputs": [
    {
     "data": {
      "image/png": "[encoded data removed]",
      "text/plain": [
       "<Figure size 600x400 with 1 Axes>"
      ]
     },
     "metadata": {},
     "output_type": "display_data"
    }
   ],
   "source": [
    "age = data.groupby('age')['exited'].mean()\n",
    "age.plot(figsize = (6,4))\n",
    "plt.xlabel('Age')\n",
    "plt.ylabel('Clients quantity')\n",
    "plt.title('Уход клиентов из банка в зависимости от возраста');"
   ]
  },
  {
   "cell_type": "markdown",
   "id": "7c670a94",
   "metadata": {},
   "source": [
    "График наглядно показывает, что более взрослые люди (старше 45 лет) чаще уходят из банка, также стоит отметить пик ухода из банков в возрасте 85 лет."
   ]
  },
  {
   "cell_type": "markdown",
   "id": "b5b71a73",
   "metadata": {},
   "source": [
    "Преобразуем категориальные признаки с помощью метода OHE, также добавим в категориальные признаки столбец `tenure` (пропущенные значения будут отдельно, так как заменять их чем-либо нелогично, неизвестно по какой причине были произведены эти пропуски)"
   ]
  },
  {
   "cell_type": "code",
   "execution_count": 16,
   "id": "0459ab3b",
   "metadata": {},
   "outputs": [
    {
     "name": "stderr",
     "output_type": "stream",
     "text": [
      "C:\\Users\\Julia\\anaconda3\\lib\\site-packages\\pandas\\core\\algorithms.py:798: FutureWarning: In a future version, the Index constructor will not infer numeric dtypes when passed object-dtype sequences (matching Series behavior)\n",
      "  uniques = Index(uniques)\n"
     ]
    }
   ],
   "source": [
    "data['tenure'] = data['tenure'].astype('object')\n",
    "data = pd.get_dummies(data, drop_first=True)"
   ]
  },
  {
   "cell_type": "markdown",
   "id": "22534e57",
   "metadata": {},
   "source": [
    "Выведем данные после всех преобразований"
   ]
  },
  {
   "cell_type": "code",
   "execution_count": 17,
   "id": "866c8944",
   "metadata": {},
   "outputs": [
    {
     "name": "stdout",
     "output_type": "stream",
     "text": [
      "<class 'pandas.core.frame.DataFrame'>\n",
      "RangeIndex: 10000 entries, 0 to 9999\n",
      "Data columns (total 21 columns):\n",
      " #   Column             Non-Null Count  Dtype  \n",
      "---  ------             --------------  -----  \n",
      " 0   credit_score       10000 non-null  int64  \n",
      " 1   age                10000 non-null  int64  \n",
      " 2   balance            10000 non-null  float64\n",
      " 3   num_of_products    10000 non-null  int64  \n",
      " 4   has_credit_card    10000 non-null  bool   \n",
      " 5   is_active_member   10000 non-null  bool   \n",
      " 6   estimated_salary   10000 non-null  float64\n",
      " 7   exited             10000 non-null  int64  \n",
      " 8   geography_Germany  10000 non-null  uint8  \n",
      " 9   geography_Spain    10000 non-null  uint8  \n",
      " 10  gender_Male        10000 non-null  uint8  \n",
      " 11  tenure_1.0         10000 non-null  uint8  \n",
      " 12  tenure_2.0         10000 non-null  uint8  \n",
      " 13  tenure_3.0         10000 non-null  uint8  \n",
      " 14  tenure_4.0         10000 non-null  uint8  \n",
      " 15  tenure_5.0         10000 non-null  uint8  \n",
      " 16  tenure_6.0         10000 non-null  uint8  \n",
      " 17  tenure_7.0         10000 non-null  uint8  \n",
      " 18  tenure_8.0         10000 non-null  uint8  \n",
      " 19  tenure_9.0         10000 non-null  uint8  \n",
      " 20  tenure_10.0        10000 non-null  uint8  \n",
      "dtypes: bool(2), float64(2), int64(4), uint8(13)\n",
      "memory usage: 615.4 KB\n"
     ]
    }
   ],
   "source": [
    "data.info()"
   ]
  },
  {
   "cell_type": "code",
   "execution_count": 18,
   "id": "329dc371",
   "metadata": {},
   "outputs": [
    {
     "data": {
      "text/html": [
       "<div>\n",
       "<style scoped>\n",
       "    .dataframe tbody tr th:only-of-type {\n",
       "        vertical-align: middle;\n",
       "    }\n",
       "\n",
       "    .dataframe tbody tr th {\n",
       "        vertical-align: top;\n",
       "    }\n",
       "\n",
       "    .dataframe thead th {\n",
       "        text-align: right;\n",
       "    }\n",
       "</style>\n",
       "<table border=\"1\" class=\"dataframe\">\n",
       "  <thead>\n",
       "    <tr style=\"text-align: right;\">\n",
       "      <th></th>\n",
       "      <th>credit_score</th>\n",
       "      <th>age</th>\n",
       "      <th>balance</th>\n",
       "      <th>num_of_products</th>\n",
       "      <th>estimated_salary</th>\n",
       "      <th>exited</th>\n",
       "      <th>geography_Germany</th>\n",
       "      <th>geography_Spain</th>\n",
       "      <th>gender_Male</th>\n",
       "      <th>tenure_1.0</th>\n",
       "      <th>tenure_2.0</th>\n",
       "      <th>tenure_3.0</th>\n",
       "      <th>tenure_4.0</th>\n",
       "      <th>tenure_5.0</th>\n",
       "      <th>tenure_6.0</th>\n",
       "      <th>tenure_7.0</th>\n",
       "      <th>tenure_8.0</th>\n",
       "      <th>tenure_9.0</th>\n",
       "      <th>tenure_10.0</th>\n",
       "    </tr>\n",
       "  </thead>\n",
       "  <tbody>\n",
       "    <tr>\n",
       "      <th>count</th>\n",
       "      <td>10000.000000</td>\n",
       "      <td>10000.000000</td>\n",
       "      <td>10000.000000</td>\n",
       "      <td>10000.000000</td>\n",
       "      <td>10000.000000</td>\n",
       "      <td>10000.000000</td>\n",
       "      <td>10000.000000</td>\n",
       "      <td>10000.000000</td>\n",
       "      <td>10000.000000</td>\n",
       "      <td>10000.000000</td>\n",
       "      <td>10000.00000</td>\n",
       "      <td>10000.000000</td>\n",
       "      <td>10000.000000</td>\n",
       "      <td>10000.000000</td>\n",
       "      <td>10000.000000</td>\n",
       "      <td>10000.000000</td>\n",
       "      <td>10000.000000</td>\n",
       "      <td>10000.0000</td>\n",
       "      <td>10000.000000</td>\n",
       "    </tr>\n",
       "    <tr>\n",
       "      <th>mean</th>\n",
       "      <td>650.528800</td>\n",
       "      <td>38.921800</td>\n",
       "      <td>76485.889288</td>\n",
       "      <td>1.530200</td>\n",
       "      <td>100090.239881</td>\n",
       "      <td>0.203700</td>\n",
       "      <td>0.250900</td>\n",
       "      <td>0.247700</td>\n",
       "      <td>0.545700</td>\n",
       "      <td>0.095200</td>\n",
       "      <td>0.09500</td>\n",
       "      <td>0.092800</td>\n",
       "      <td>0.088500</td>\n",
       "      <td>0.092700</td>\n",
       "      <td>0.088100</td>\n",
       "      <td>0.092500</td>\n",
       "      <td>0.093300</td>\n",
       "      <td>0.0882</td>\n",
       "      <td>0.044600</td>\n",
       "    </tr>\n",
       "    <tr>\n",
       "      <th>std</th>\n",
       "      <td>96.653299</td>\n",
       "      <td>10.487806</td>\n",
       "      <td>62397.405202</td>\n",
       "      <td>0.581654</td>\n",
       "      <td>57510.492818</td>\n",
       "      <td>0.402769</td>\n",
       "      <td>0.433553</td>\n",
       "      <td>0.431698</td>\n",
       "      <td>0.497932</td>\n",
       "      <td>0.293506</td>\n",
       "      <td>0.29323</td>\n",
       "      <td>0.290166</td>\n",
       "      <td>0.284035</td>\n",
       "      <td>0.290026</td>\n",
       "      <td>0.283454</td>\n",
       "      <td>0.289745</td>\n",
       "      <td>0.290867</td>\n",
       "      <td>0.2836</td>\n",
       "      <td>0.206434</td>\n",
       "    </tr>\n",
       "    <tr>\n",
       "      <th>min</th>\n",
       "      <td>350.000000</td>\n",
       "      <td>18.000000</td>\n",
       "      <td>0.000000</td>\n",
       "      <td>1.000000</td>\n",
       "      <td>11.580000</td>\n",
       "      <td>0.000000</td>\n",
       "      <td>0.000000</td>\n",
       "      <td>0.000000</td>\n",
       "      <td>0.000000</td>\n",
       "      <td>0.000000</td>\n",
       "      <td>0.00000</td>\n",
       "      <td>0.000000</td>\n",
       "      <td>0.000000</td>\n",
       "      <td>0.000000</td>\n",
       "      <td>0.000000</td>\n",
       "      <td>0.000000</td>\n",
       "      <td>0.000000</td>\n",
       "      <td>0.0000</td>\n",
       "      <td>0.000000</td>\n",
       "    </tr>\n",
       "    <tr>\n",
       "      <th>25%</th>\n",
       "      <td>584.000000</td>\n",
       "      <td>32.000000</td>\n",
       "      <td>0.000000</td>\n",
       "      <td>1.000000</td>\n",
       "      <td>51002.110000</td>\n",
       "      <td>0.000000</td>\n",
       "      <td>0.000000</td>\n",
       "      <td>0.000000</td>\n",
       "      <td>0.000000</td>\n",
       "      <td>0.000000</td>\n",
       "      <td>0.00000</td>\n",
       "      <td>0.000000</td>\n",
       "      <td>0.000000</td>\n",
       "      <td>0.000000</td>\n",
       "      <td>0.000000</td>\n",
       "      <td>0.000000</td>\n",
       "      <td>0.000000</td>\n",
       "      <td>0.0000</td>\n",
       "      <td>0.000000</td>\n",
       "    </tr>\n",
       "    <tr>\n",
       "      <th>50%</th>\n",
       "      <td>652.000000</td>\n",
       "      <td>37.000000</td>\n",
       "      <td>97198.540000</td>\n",
       "      <td>1.000000</td>\n",
       "      <td>100193.915000</td>\n",
       "      <td>0.000000</td>\n",
       "      <td>0.000000</td>\n",
       "      <td>0.000000</td>\n",
       "      <td>1.000000</td>\n",
       "      <td>0.000000</td>\n",
       "      <td>0.00000</td>\n",
       "      <td>0.000000</td>\n",
       "      <td>0.000000</td>\n",
       "      <td>0.000000</td>\n",
       "      <td>0.000000</td>\n",
       "      <td>0.000000</td>\n",
       "      <td>0.000000</td>\n",
       "      <td>0.0000</td>\n",
       "      <td>0.000000</td>\n",
       "    </tr>\n",
       "    <tr>\n",
       "      <th>75%</th>\n",
       "      <td>718.000000</td>\n",
       "      <td>44.000000</td>\n",
       "      <td>127644.240000</td>\n",
       "      <td>2.000000</td>\n",
       "      <td>149388.247500</td>\n",
       "      <td>0.000000</td>\n",
       "      <td>1.000000</td>\n",
       "      <td>0.000000</td>\n",
       "      <td>1.000000</td>\n",
       "      <td>0.000000</td>\n",
       "      <td>0.00000</td>\n",
       "      <td>0.000000</td>\n",
       "      <td>0.000000</td>\n",
       "      <td>0.000000</td>\n",
       "      <td>0.000000</td>\n",
       "      <td>0.000000</td>\n",
       "      <td>0.000000</td>\n",
       "      <td>0.0000</td>\n",
       "      <td>0.000000</td>\n",
       "    </tr>\n",
       "    <tr>\n",
       "      <th>max</th>\n",
       "      <td>850.000000</td>\n",
       "      <td>92.000000</td>\n",
       "      <td>250898.090000</td>\n",
       "      <td>4.000000</td>\n",
       "      <td>199992.480000</td>\n",
       "      <td>1.000000</td>\n",
       "      <td>1.000000</td>\n",
       "      <td>1.000000</td>\n",
       "      <td>1.000000</td>\n",
       "      <td>1.000000</td>\n",
       "      <td>1.00000</td>\n",
       "      <td>1.000000</td>\n",
       "      <td>1.000000</td>\n",
       "      <td>1.000000</td>\n",
       "      <td>1.000000</td>\n",
       "      <td>1.000000</td>\n",
       "      <td>1.000000</td>\n",
       "      <td>1.0000</td>\n",
       "      <td>1.000000</td>\n",
       "    </tr>\n",
       "  </tbody>\n",
       "</table>\n",
       "</div>"
      ],
      "text/plain": [
       "       credit_score           age        balance  num_of_products  \\\n",
       "count  10000.000000  10000.000000   10000.000000     10000.000000   \n",
       "mean     650.528800     38.921800   76485.889288         1.530200   \n",
       "std       96.653299     10.487806   62397.405202         0.581654   \n",
       "min      350.000000     18.000000       0.000000         1.000000   \n",
       "25%      584.000000     32.000000       0.000000         1.000000   \n",
       "50%      652.000000     37.000000   97198.540000         1.000000   \n",
       "75%      718.000000     44.000000  127644.240000         2.000000   \n",
       "max      850.000000     92.000000  250898.090000         4.000000   \n",
       "\n",
       "       estimated_salary        exited  geography_Germany  geography_Spain  \\\n",
       "count      10000.000000  10000.000000       10000.000000     10000.000000   \n",
       "mean      100090.239881      0.203700           0.250900         0.247700   \n",
       "std        57510.492818      0.402769           0.433553         0.431698   \n",
       "min           11.580000      0.000000           0.000000         0.000000   \n",
       "25%        51002.110000      0.000000           0.000000         0.000000   \n",
       "50%       100193.915000      0.000000           0.000000         0.000000   \n",
       "75%       149388.247500      0.000000           1.000000         0.000000   \n",
       "max       199992.480000      1.000000           1.000000         1.000000   \n",
       "\n",
       "        gender_Male    tenure_1.0   tenure_2.0    tenure_3.0    tenure_4.0  \\\n",
       "count  10000.000000  10000.000000  10000.00000  10000.000000  10000.000000   \n",
       "mean       0.545700      0.095200      0.09500      0.092800      0.088500   \n",
       "std        0.497932      0.293506      0.29323      0.290166      0.284035   \n",
       "min        0.000000      0.000000      0.00000      0.000000      0.000000   \n",
       "25%        0.000000      0.000000      0.00000      0.000000      0.000000   \n",
       "50%        1.000000      0.000000      0.00000      0.000000      0.000000   \n",
       "75%        1.000000      0.000000      0.00000      0.000000      0.000000   \n",
       "max        1.000000      1.000000      1.00000      1.000000      1.000000   \n",
       "\n",
       "         tenure_5.0    tenure_6.0    tenure_7.0    tenure_8.0  tenure_9.0  \\\n",
       "count  10000.000000  10000.000000  10000.000000  10000.000000  10000.0000   \n",
       "mean       0.092700      0.088100      0.092500      0.093300      0.0882   \n",
       "std        0.290026      0.283454      0.289745      0.290867      0.2836   \n",
       "min        0.000000      0.000000      0.000000      0.000000      0.0000   \n",
       "25%        0.000000      0.000000      0.000000      0.000000      0.0000   \n",
       "50%        0.000000      0.000000      0.000000      0.000000      0.0000   \n",
       "75%        0.000000      0.000000      0.000000      0.000000      0.0000   \n",
       "max        1.000000      1.000000      1.000000      1.000000      1.0000   \n",
       "\n",
       "        tenure_10.0  \n",
       "count  10000.000000  \n",
       "mean       0.044600  \n",
       "std        0.206434  \n",
       "min        0.000000  \n",
       "25%        0.000000  \n",
       "50%        0.000000  \n",
       "75%        0.000000  \n",
       "max        1.000000  "
      ]
     },
     "execution_count": 18,
     "metadata": {},
     "output_type": "execute_result"
    }
   ],
   "source": [
    "data.describe()"
   ]
  },
  {
   "cell_type": "markdown",
   "id": "2f0f8ed4",
   "metadata": {},
   "source": [
    "**Вывод:**\n",
    "- дубликаты в данных не найдены, но есть пропущенные значения в столбце tenure\n",
    "- в выборке представлены данные, в которых 79,6% клиентов продолжают оставаться клиентами банками, а 20,4% клиентов ушли из банка\n",
    "- Клиентами банка преимущественно являются жители Франции (50,1%), а также Германии (25,1%) и Испании (24,8%)\n",
    "- информация, содержащаяся в признаках столбцов row_number, customer_id и surname не пригодится нам в построении моделей, поэтому мы избавились от данных столбцов\n",
    "- применили масштабирование к числовым признакам\n",
    "- использовали метод One-Hot Encoding для преобразования категориальных признаков"
   ]
  },
  {
   "cell_type": "markdown",
   "id": "0bee9544",
   "metadata": {},
   "source": [
    "## 2 Исследование задачи"
   ]
  },
  {
   "cell_type": "markdown",
   "id": "0ff1f743",
   "metadata": {},
   "source": [
    "Выведем распределение данных в столбце exited в виде таблицы"
   ]
  },
  {
   "cell_type": "code",
   "execution_count": 19,
   "id": "a1a7a72e",
   "metadata": {},
   "outputs": [
    {
     "data": {
      "text/plain": [
       "0    79.63\n",
       "1    20.37\n",
       "Name: exited, dtype: float64"
      ]
     },
     "execution_count": 19,
     "metadata": {},
     "output_type": "execute_result"
    }
   ],
   "source": [
    "data['exited'].value_counts()/len(data['exited'])*100"
   ]
  },
  {
   "cell_type": "markdown",
   "id": "9d939c18",
   "metadata": {},
   "source": [
    "20% клиентов ушли из банка, 80% остаются клиентами банка. Классы не сбалансированы. Разделим данные на обучающую, валидационную и тестовую выборки (3:1:1, 60% обучающая выборка и по 20% валидационная и тестовая)."
   ]
  },
  {
   "cell_type": "code",
   "execution_count": 20,
   "id": "3cccdc76",
   "metadata": {},
   "outputs": [],
   "source": [
    "data_train, data_train_one = train_test_split(data, test_size=0.4, random_state=12345)\n",
    "data_test, data_valid = train_test_split(data_train_one, test_size=0.5, random_state=12345)"
   ]
  },
  {
   "cell_type": "markdown",
   "id": "d46e71b4",
   "metadata": {},
   "source": [
    "Проверим размеры получившихся выборок:"
   ]
  },
  {
   "cell_type": "code",
   "execution_count": 21,
   "id": "45e203f8",
   "metadata": {},
   "outputs": [
    {
     "name": "stdout",
     "output_type": "stream",
     "text": [
      "Размер обучающей выборки: 60%\n",
      "Размер валидационной выборки: 20%\n",
      "Размер тестовой выборки: 20%\n"
     ]
    }
   ],
   "source": [
    "print(f'Размер обучающей выборки: {len (data_train) / len(data):.0%}')\n",
    "print(f'Размер валидационной выборки: {len (data_valid) / len(data):.0%}')\n",
    "print(f'Размер тестовой выборки: {len (data_test) / len(data):.0%}')"
   ]
  },
  {
   "cell_type": "markdown",
   "id": "0b0480ef",
   "metadata": {},
   "source": [
    "Сохраним признаки в переменной features, а целевой признак (exited) в переменной target"
   ]
  },
  {
   "cell_type": "code",
   "execution_count": 22,
   "id": "1213366a",
   "metadata": {},
   "outputs": [],
   "source": [
    "target_train = data_train['exited']\n",
    "features_train = data_train.drop('exited', axis=1)\n",
    "target_valid = data_valid['exited']\n",
    "features_valid = data_valid.drop('exited', axis=1)\n",
    "target_test = data_test['exited']\n",
    "features_test = data_test.drop('exited', axis=1)"
   ]
  },
  {
   "cell_type": "markdown",
   "id": "a2409f6e",
   "metadata": {},
   "source": [
    "Теперь применим масштабирование с помощью метода StandardScaler к числовым признакам `credit_score`, `age`, `balance`, `estimated_salary`"
   ]
  },
  {
   "cell_type": "code",
   "execution_count": 23,
   "id": "24f4ac56",
   "metadata": {},
   "outputs": [],
   "source": [
    "numeric = ['credit_score', 'age', 'balance', 'estimated_salary']\n",
    "scaler = StandardScaler()\n",
    "scaler.fit(features_train[numeric])\n",
    "features_train[numeric] = scaler.transform(features_train[numeric])\n",
    "features_valid[numeric] = scaler.transform(features_valid[numeric])\n",
    "features_test[numeric] = scaler.transform(features_test[numeric])"
   ]
  },
  {
   "cell_type": "markdown",
   "id": "fef441aa",
   "metadata": {},
   "source": [
    "Данные, содержащиеся в признаке exited категориальные, соответственно будем использовать модели классификации. На данном этапе обучим модели не учитывая дисбаланс классов. \n",
    "\n",
    "Рассмотрим DecisionTreeClassifier. Выделим гиперпараметры для настройки дерева решений: max_depth, min_sample_leaf. Для проверки качества модели используем f1_score и roc_auc."
   ]
  },
  {
   "cell_type": "code",
   "execution_count": 24,
   "id": "d5c7ba27",
   "metadata": {
    "scrolled": true
   },
   "outputs": [
    {
     "name": "stdout",
     "output_type": "stream",
     "text": [
      "F1 лучшей модели: 0.5541838134430728\n",
      "Глубина дерева: 10\n",
      "Минимальное количество примеров для разделения: 8\n"
     ]
    }
   ],
   "source": [
    "best_depth = 0\n",
    "best_leaf = 0\n",
    "best_f1 = 0\n",
    "for depth in range(2,16):\n",
    "    for leaf in range(2,10):\n",
    "        model_dt = DecisionTreeClassifier(random_state=12345, max_depth=depth, min_samples_leaf=leaf)\n",
    "        model_dt.fit(features_train, target_train)\n",
    "        predictions_valid_dt = model_dt.predict(features_valid)\n",
    "        f1 = f1_score(target_valid, predictions_valid_dt)\n",
    "        if f1 > best_f1:\n",
    "            best_f1 = f1\n",
    "            best_depth = depth\n",
    "            best_leaf = leaf\n",
    "print('F1 лучшей модели:', best_f1)\n",
    "print('Глубина дерева:', best_depth)\n",
    "print('Минимальное количество примеров для разделения:', best_leaf)"
   ]
  },
  {
   "cell_type": "code",
   "execution_count": 25,
   "id": "20b39a4c",
   "metadata": {},
   "outputs": [
    {
     "name": "stdout",
     "output_type": "stream",
     "text": [
      "Площадь ROC-кривой: 0.7963897396229187\n"
     ]
    }
   ],
   "source": [
    "probabilities_valid = model_dt.predict_proba(features_valid)\n",
    "probabilities_one_valid = probabilities_valid[:, 1]\n",
    "roc_auc = roc_auc_score(target_valid, probabilities_one_valid)\n",
    "print('Площадь ROC-кривой:', roc_auc)"
   ]
  },
  {
   "cell_type": "markdown",
   "id": "91e25025",
   "metadata": {},
   "source": [
    "F1 равна 0.55, что не достаточно для целевого показателя 0.59, дополнительно посчитали roc_auc, который равен 0.80\n",
    "\n",
    "Рассмотрим LogisticRegression. Выделим гиперпараметры для настройки дерева решений: solver и max_iter. Для проверки качества модели используем f1_score и roc_auc_score."
   ]
  },
  {
   "cell_type": "code",
   "execution_count": 26,
   "id": "91c14880",
   "metadata": {},
   "outputs": [
    {
     "name": "stdout",
     "output_type": "stream",
     "text": [
      "F1 лучшей модели: 0.2777777777777778\n"
     ]
    }
   ],
   "source": [
    "best_f1_lr = 0\n",
    "model_lr = LogisticRegression(random_state=12345, solver='lbfgs', max_iter=1000)\n",
    "model_lr.fit(features_train, target_train)\n",
    "predictions_valid_lr = model_lr.predict(features_valid)\n",
    "f1_lr = f1_score(target_valid, predictions_valid_lr)\n",
    "if f1_lr > best_f1_lr:\n",
    "    best_f1_lr = f1_lr\n",
    "print('F1 лучшей модели:', best_f1_lr)"
   ]
  },
  {
   "cell_type": "code",
   "execution_count": 27,
   "id": "1345c01f",
   "metadata": {},
   "outputs": [
    {
     "name": "stdout",
     "output_type": "stream",
     "text": [
      "Площадь ROC-кривой: 0.7374042643136938\n"
     ]
    }
   ],
   "source": [
    "probabilities_valid = model_lr.predict_proba(features_valid)\n",
    "probabilities_one_valid = probabilities_valid[:, 1]\n",
    "roc_auc = roc_auc_score(target_valid, probabilities_one_valid)\n",
    "print('Площадь ROC-кривой:', roc_auc)"
   ]
  },
  {
   "cell_type": "markdown",
   "id": "8c63acea",
   "metadata": {},
   "source": [
    "F1 логистической регрессии значительно ниже модели дерева решений и равна 0.27, дополнительно посчитали roc_auc, который тоже ниже и равен 0.74\n",
    "\n",
    "Рассмотрим RandomForestClassifier. Для проверки качества модели используем f1_score и roc_auc."
   ]
  },
  {
   "cell_type": "code",
   "execution_count": 28,
   "id": "4080ae0d",
   "metadata": {},
   "outputs": [
    {
     "name": "stdout",
     "output_type": "stream",
     "text": [
      "F1 лучшей модели: 0.5150078988941549\n",
      "Глубина дерева: 18\n",
      "Количество деревьев: 40\n"
     ]
    }
   ],
   "source": [
    "best_depth_rf = 0\n",
    "best_estimator_rf = 0\n",
    "best_f1_rf = 0\n",
    "for depth in range(2,25):\n",
    "    for estimator in range(40,120,10):\n",
    "        model_rf = RandomForestClassifier(random_state=12345, max_depth=depth, n_estimators=estimator, min_samples_leaf=5)\n",
    "        model_rf.fit(features_train, target_train)\n",
    "        predictions_valid_rf = model_rf.predict(features_valid)\n",
    "        f1_rf = f1_score(target_valid, predictions_valid_rf)\n",
    "        if f1_rf > best_f1_rf:\n",
    "            best_f1_rf = f1_rf\n",
    "            best_depth_rf = depth\n",
    "            best_estimator_rf = estimator\n",
    "print('F1 лучшей модели:', best_f1_rf)\n",
    "print('Глубина дерева:', best_depth_rf)\n",
    "print('Количество деревьев:', best_estimator_rf)"
   ]
  },
  {
   "cell_type": "code",
   "execution_count": 29,
   "id": "22076c70",
   "metadata": {},
   "outputs": [
    {
     "name": "stdout",
     "output_type": "stream",
     "text": [
      "Площадь ROC-кривой: 0.8566719284753795\n"
     ]
    }
   ],
   "source": [
    "probabilities_valid = model_rf.predict_proba(features_valid)\n",
    "probabilities_one_valid = probabilities_valid[:, 1]\n",
    "roc_auc = roc_auc_score(target_valid, probabilities_one_valid)\n",
    "print('Площадь ROC-кривой:', roc_auc)"
   ]
  },
  {
   "cell_type": "markdown",
   "id": "0787be3a",
   "metadata": {},
   "source": [
    "F1 случайного леса равна 0.51, что практически равно результату дерева решений и также недостаточно до целевого показателя, дополнительно посчитали roc_auc, который равен 0.88\n",
    "\n",
    "**Вывод:** лучший результат на несбалансированной выборке показали модели RandomForestClassifier (f1 0.51, roc_auc 0.86) и DecisionTreeClassifier(f1 0.55, roc_auc 0.80). Худший результат показала модель логистической регрессии с f1 равным 0.27 и roc_auc 0.73. В дальнейшем будем рассматривать две наиболее успешные модели.\n",
    "\n",
    "Повысим результаты метрик с помощью решения проблемы дисбаланса классов."
   ]
  },
  {
   "cell_type": "markdown",
   "id": "29435f41",
   "metadata": {},
   "source": [
    "## 3 Борьба с дисбалансом"
   ]
  },
  {
   "cell_type": "markdown",
   "id": "eb5fede2",
   "metadata": {},
   "source": [
    "Для решения проблемы дисбаланса, взвесим классы (class_weight) на моделях дерева решений и случайного леса, возможно это увеличит показатели f1 и roc_auc"
   ]
  },
  {
   "cell_type": "code",
   "execution_count": 30,
   "id": "4c731adc",
   "metadata": {},
   "outputs": [
    {
     "name": "stdout",
     "output_type": "stream",
     "text": [
      "Decision Tree\n",
      "F1 лучшей модели на сбалансированной выборке: 0.5968688845401174\n",
      "Глубина дерева: 7\n",
      "Минимальное количество примеров для разделения: 17\n"
     ]
    }
   ],
   "source": [
    "best_depth = 0\n",
    "best_leaf = 0\n",
    "best_f1 = 0\n",
    "for depth in range(2,16):\n",
    "    for leaf in range(2,20):\n",
    "        model_balanced_dt = DecisionTreeClassifier(random_state=12345, max_depth=depth, min_samples_leaf=leaf,\n",
    "                                                   class_weight='balanced')\n",
    "        model_balanced_dt.fit(features_train, target_train)\n",
    "        predicted_valid_balanced_dt = model_balanced_dt.predict(features_valid)\n",
    "        f1_balanced = f1_score(target_valid, predicted_valid_balanced_dt)\n",
    "        if f1_balanced > best_f1:\n",
    "            best_f1 = f1_balanced\n",
    "            best_depth = depth\n",
    "            best_leaf = leaf\n",
    "print('Decision Tree')            \n",
    "print('F1 лучшей модели на сбалансированной выборке:', best_f1)\n",
    "print('Глубина дерева:', best_depth)\n",
    "print('Минимальное количество примеров для разделения:', best_leaf)"
   ]
  },
  {
   "cell_type": "code",
   "execution_count": 31,
   "id": "951b5ae1",
   "metadata": {},
   "outputs": [
    {
     "name": "stdout",
     "output_type": "stream",
     "text": [
      "Площадь ROC-кривой: 0.8209448469503247\n"
     ]
    }
   ],
   "source": [
    "probabilities_balanced_valid = model_balanced_dt.predict_proba(features_valid)\n",
    "probabilities_one_balanced_valid = probabilities_balanced_valid[:, 1]\n",
    "roc_auc_balanced_dt = roc_auc_score(target_valid, probabilities_one_balanced_valid)\n",
    "print('Площадь ROC-кривой:', roc_auc_balanced_dt)"
   ]
  },
  {
   "cell_type": "code",
   "execution_count": 32,
   "id": "2d3695dc",
   "metadata": {},
   "outputs": [
    {
     "name": "stdout",
     "output_type": "stream",
     "text": [
      "Random Forest\n",
      "F1 лучшей модели на сбалансированной выборке: 0.6252873563218392\n",
      "Глубина дерева: 19\n",
      "Количество деревьев: 70\n"
     ]
    }
   ],
   "source": [
    "best_depth_rf = 0\n",
    "best_estimator_rf = 0\n",
    "best_f1_rf = 0\n",
    "for depth in range(2,25):\n",
    "    for estimator in range(40,120,10):\n",
    "        model_balanced_rf = RandomForestClassifier(random_state=12345, max_depth=depth, n_estimators=estimator, \n",
    "                                                   min_samples_leaf=5, class_weight='balanced')\n",
    "        model_balanced_rf.fit(features_train, target_train)\n",
    "        predicted_valid_balanced_rf = model_balanced_rf.predict(features_valid)\n",
    "        f1_rf_balanced = f1_score(target_valid, predicted_valid_balanced_rf)\n",
    "        if f1_rf_balanced > best_f1_rf:\n",
    "            best_f1_rf = f1_rf_balanced\n",
    "            best_depth_rf = depth\n",
    "            best_estimator_rf = estimator\n",
    "print('Random Forest')\n",
    "print('F1 лучшей модели на сбалансированной выборке:', best_f1_rf)\n",
    "print('Глубина дерева:', best_depth_rf)\n",
    "print('Количество деревьев:', best_estimator_rf)"
   ]
  },
  {
   "cell_type": "code",
   "execution_count": 33,
   "id": "387464d2",
   "metadata": {},
   "outputs": [
    {
     "name": "stdout",
     "output_type": "stream",
     "text": [
      "Площадь ROC-кривой: 0.8545597095361662\n"
     ]
    }
   ],
   "source": [
    "probabilities_balanced_valid_rf = model_balanced_rf.predict_proba(features_valid)\n",
    "probabilities_one_balanced_valid_rf = probabilities_balanced_valid_rf[:, 1]\n",
    "roc_auc_balanced_rf = roc_auc_score(target_valid, probabilities_one_balanced_valid_rf)\n",
    "print('Площадь ROC-кривой:', roc_auc_balanced_rf)"
   ]
  },
  {
   "cell_type": "markdown",
   "id": "da033702",
   "metadata": {},
   "source": [
    "Взвешивание классов увеличило результаты метрик модели дерева решений (F1 0.60 , roc_auc 0.82), и результаты случайного леса  (f1 0.62, roc_auc 0.84)"
   ]
  },
  {
   "cell_type": "markdown",
   "id": "b2865b87",
   "metadata": {},
   "source": [
    "Уравновесим выборку с помощью оверсеплинга и андерсэмплинга, посчитаем значение F1 и roc_auc для моделей дерева решений и случайного леса"
   ]
  },
  {
   "cell_type": "code",
   "execution_count": 34,
   "id": "43307135",
   "metadata": {},
   "outputs": [
    {
     "data": {
      "text/plain": [
       "0    4804\n",
       "1    4804\n",
       "Name: exited, dtype: int64"
      ]
     },
     "execution_count": 34,
     "metadata": {},
     "output_type": "execute_result"
    }
   ],
   "source": [
    "features_oversampled, target_oversampled = SMOTE(random_state=123).fit_resample(features_train, target_train)\n",
    "target_oversampled.value_counts()"
   ]
  },
  {
   "cell_type": "markdown",
   "id": "f75383f1",
   "metadata": {},
   "source": [
    "Дерево решений:"
   ]
  },
  {
   "cell_type": "code",
   "execution_count": 35,
   "id": "7bf9de6b",
   "metadata": {},
   "outputs": [
    {
     "name": "stdout",
     "output_type": "stream",
     "text": [
      "Decision Tree oversample\n",
      "F1 лучшей модели: 0.5781710914454278\n",
      "Глубина дерева: 6\n",
      "Минимальное количество примеров для разделения: 11\n"
     ]
    }
   ],
   "source": [
    "best_depth = 0\n",
    "best_leaf = 0\n",
    "best_f1 = 0\n",
    "for depth in range(2,16):\n",
    "    for leaf in range(2,20):\n",
    "        model_oversampled_dt = DecisionTreeClassifier(random_state=12345, max_depth=depth, min_samples_leaf=leaf, \n",
    "                                                      class_weight = 'balanced')\n",
    "        model_oversampled_dt.fit(features_oversampled, target_oversampled)\n",
    "        predicted_valid_oversampled_dt = model_oversampled_dt.predict(features_valid)\n",
    "        f1_oversampled = f1_score(target_valid, predicted_valid_oversampled_dt)\n",
    "        if f1_oversampled > best_f1:\n",
    "            best_f1 = f1_oversampled\n",
    "            best_depth = depth\n",
    "            best_leaf = leaf\n",
    "print('Decision Tree oversample')            \n",
    "print('F1 лучшей модели:', best_f1)\n",
    "print('Глубина дерева:', best_depth)\n",
    "print('Минимальное количество примеров для разделения:', best_leaf)"
   ]
  },
  {
   "cell_type": "code",
   "execution_count": 36,
   "id": "21558842",
   "metadata": {},
   "outputs": [
    {
     "name": "stdout",
     "output_type": "stream",
     "text": [
      "Площадь ROC-кривой: 0.797063580938161\n"
     ]
    }
   ],
   "source": [
    "probabilities_oversampled_valid = model_oversampled_dt.predict_proba(features_valid)\n",
    "probabilities_one_oversampled_valid = probabilities_oversampled_valid[:, 1]\n",
    "roc_auc_oversampled_dt = roc_auc_score(target_valid, probabilities_one_oversampled_valid)\n",
    "print('Площадь ROC-кривой:', roc_auc_oversampled_dt)"
   ]
  },
  {
   "cell_type": "markdown",
   "id": "045960fe",
   "metadata": {},
   "source": [
    "Случайный лес:"
   ]
  },
  {
   "cell_type": "code",
   "execution_count": 37,
   "id": "493ad491",
   "metadata": {},
   "outputs": [
    {
     "name": "stdout",
     "output_type": "stream",
     "text": [
      "Random Forest oversample\n",
      "F1 лучшей модели на сбалансированной выборке: 0.6178343949044586\n",
      "Глубина дерева: 11\n",
      "Количество деревьев: 70\n"
     ]
    }
   ],
   "source": [
    "best_depth_rf = 0\n",
    "best_estimator_rf = 0\n",
    "best_f1_rf = 0\n",
    "for depth in range(2,25):\n",
    "    for estimator in range(40,120,10):\n",
    "        model_oversampled_rf = RandomForestClassifier(random_state=12345, n_estimators=estimator, max_depth=depth,\n",
    "                                                      min_samples_leaf=5, class_weight = 'balanced')\n",
    "        model_oversampled_rf.fit(features_oversampled, target_oversampled)\n",
    "        predicted_valid_oversampled_rf = model_oversampled_rf.predict(features_valid)\n",
    "        f1_rf_oversampled = f1_score(target_valid, predicted_valid_oversampled_rf)\n",
    "        if f1_rf_oversampled > best_f1_rf:\n",
    "            best_f1_rf = f1_rf_oversampled\n",
    "            best_depth_rf = depth\n",
    "            best_estimator_rf = estimator\n",
    "print('Random Forest oversample')\n",
    "print('F1 лучшей модели на сбалансированной выборке:', best_f1_rf)\n",
    "print('Глубина дерева:', best_depth_rf)\n",
    "print('Количество деревьев:', best_estimator_rf)"
   ]
  },
  {
   "cell_type": "code",
   "execution_count": 38,
   "id": "8784cc7e",
   "metadata": {},
   "outputs": [
    {
     "name": "stdout",
     "output_type": "stream",
     "text": [
      "Площадь ROC-кривой: 0.8459969028784041\n"
     ]
    }
   ],
   "source": [
    "probabilities_oversampled_valid_rf = model_oversampled_rf.predict_proba(features_valid)\n",
    "probabilities_one_oversampled_valid_rf = probabilities_oversampled_valid_rf[:, 1]\n",
    "roc_auc_oversampled_rf = roc_auc_score(target_valid, probabilities_one_oversampled_valid_rf)\n",
    "print('Площадь ROC-кривой:', roc_auc_oversampled_rf)"
   ]
  },
  {
   "cell_type": "code",
   "execution_count": 39,
   "id": "1b774e80",
   "metadata": {},
   "outputs": [
    {
     "data": {
      "text/plain": [
       "0    1196\n",
       "1    1196\n",
       "Name: exited, dtype: int64"
      ]
     },
     "execution_count": 39,
     "metadata": {},
     "output_type": "execute_result"
    }
   ],
   "source": [
    "random_undersampler = RandomUnderSampler()\n",
    "features_undersampled, target_undersampled = random_undersampler.fit_resample(features_train, target_train)\n",
    "target_undersampled.value_counts()"
   ]
  },
  {
   "cell_type": "markdown",
   "id": "32ee01d6",
   "metadata": {},
   "source": [
    "Дерево решений:"
   ]
  },
  {
   "cell_type": "code",
   "execution_count": 40,
   "id": "c100159e",
   "metadata": {},
   "outputs": [
    {
     "name": "stdout",
     "output_type": "stream",
     "text": [
      "Decision Tree undersample\n",
      "F1 лучшей модели: 0.5992714025500911\n",
      "Глубина дерева: 5\n",
      "Минимальное количество примеров для разделения: 9\n"
     ]
    }
   ],
   "source": [
    "best_depth = 0\n",
    "best_leaf = 0\n",
    "best_f1 = 0\n",
    "for depth in range(2,16):\n",
    "    for leaf in range(2,20):\n",
    "        model_undersampled_dt = DecisionTreeClassifier(random_state=12345, max_depth=depth, min_samples_leaf=leaf, \n",
    "                                                      class_weight = 'balanced')\n",
    "        model_undersampled_dt.fit(features_undersampled, target_undersampled)\n",
    "        predicted_valid_undersampled_dt = model_undersampled_dt.predict(features_valid)\n",
    "        f1_undersampled = f1_score(target_valid, predicted_valid_undersampled_dt)\n",
    "        if f1_undersampled > best_f1:\n",
    "            best_f1 = f1_undersampled\n",
    "            best_depth = depth\n",
    "            best_leaf = leaf\n",
    "print('Decision Tree undersample')            \n",
    "print('F1 лучшей модели:', best_f1)\n",
    "print('Глубина дерева:', best_depth)\n",
    "print('Минимальное количество примеров для разделения:', best_leaf)"
   ]
  },
  {
   "cell_type": "code",
   "execution_count": 41,
   "id": "3e3261b6",
   "metadata": {},
   "outputs": [
    {
     "name": "stdout",
     "output_type": "stream",
     "text": [
      "Площадь ROC-кривой: 0.8293120222585002\n"
     ]
    }
   ],
   "source": [
    "probabilities_undersampled_valid = model_undersampled_dt.predict_proba(features_valid)\n",
    "probabilities_one_undersampled_valid = probabilities_undersampled_valid[:, 1]\n",
    "roc_auc_undersampled_dt = roc_auc_score(target_valid, probabilities_one_undersampled_valid)\n",
    "print('Площадь ROC-кривой:', roc_auc_undersampled_dt)"
   ]
  },
  {
   "cell_type": "markdown",
   "id": "99b51a2d",
   "metadata": {},
   "source": [
    "Случайный лес:"
   ]
  },
  {
   "cell_type": "code",
   "execution_count": 42,
   "id": "02ac6e5a",
   "metadata": {},
   "outputs": [
    {
     "name": "stdout",
     "output_type": "stream",
     "text": [
      "Random Forest undersample\n",
      "F1 лучшей модели: 0.6018691588785047\n",
      "Глубина дерева: 18\n",
      "Количество деревьев: 70\n"
     ]
    }
   ],
   "source": [
    "best_depth_rf = 0\n",
    "best_estimator_rf = 0\n",
    "best_f1_rf = 0\n",
    "for depth in range(2,25):\n",
    "    for estimator in range(40,120,10):\n",
    "        model_undersampled_rf = RandomForestClassifier(random_state=12345, n_estimators=estimator, max_depth=depth,\n",
    "                                                      min_samples_leaf=5, class_weight = 'balanced')\n",
    "        model_undersampled_rf.fit(features_undersampled, target_undersampled)\n",
    "        predicted_valid_undersampled_rf = model_undersampled_rf.predict(features_valid)\n",
    "        f1_rf_undersampled = f1_score(target_valid, predicted_valid_undersampled_rf)\n",
    "        if f1_rf_undersampled > best_f1_rf:\n",
    "            best_f1_rf = f1_rf_undersampled\n",
    "            best_depth_rf = depth\n",
    "            best_estimator_rf = estimator\n",
    "print('Random Forest undersample')\n",
    "print('F1 лучшей модели:', best_f1_rf)\n",
    "print('Глубина дерева:', best_depth_rf)\n",
    "print('Количество деревьев:', best_estimator_rf)"
   ]
  },
  {
   "cell_type": "code",
   "execution_count": 43,
   "id": "8b90040d",
   "metadata": {},
   "outputs": [
    {
     "name": "stdout",
     "output_type": "stream",
     "text": [
      "Площадь ROC-кривой: 0.8485723408752591\n"
     ]
    }
   ],
   "source": [
    "probabilities_undersampled_valid_rf = model_undersampled_rf.predict_proba(features_valid)\n",
    "probabilities_one_undersampled_valid_rf = probabilities_undersampled_valid_rf[:, 1]\n",
    "roc_auc_undersampled_rf = roc_auc_score(target_valid, probabilities_one_undersampled_valid_rf)\n",
    "print('Площадь ROC-кривой:', roc_auc_undersampled_rf)"
   ]
  },
  {
   "cell_type": "markdown",
   "id": "c37de93e",
   "metadata": {},
   "source": [
    "**Вывод:**\n",
    "- с помощью взвешивания классов (class_weight='balanced') удалось достичь нужных результатов метрик модели дерева решений (F1 0.59 , roc_auc 0.82), и результатов случайного леса (f1 0.625, roc_auc 0.85)\n",
    "- с помощью увеличения классов результаты метрик дерева решений немного хуже (F1 0.58 , roc_auc 0.80), а результатов случайного леса примерно такие же как и при взвешивании (f1 0.617, roc_auc 0.84)\n",
    "- с помощью уменьшения классов результаты метрик дерева решений немного хуже (F1 0.60 , roc_auc 0.83), а результатов случайного леса примерно такие же как и при взвешивании (f1 0.60, roc_auc 0.84)\n",
    "- лучшие результаты метрики F1 получила модель случайного леса на сбалансированной выборке при взвешивании классов (class_weight='balanced') (f1 0.62, roc_auc 0.85)\n",
    "\n",
    "Тестировать будем модель случайного леса, так как ее точность f1 выше, чем f1 дерева решений. При этом стоит отметить, по скорости модель случайного леса немного уступает модели дерева решений."
   ]
  },
  {
   "cell_type": "markdown",
   "id": "177f62fa",
   "metadata": {},
   "source": [
    "## 4 Тестирование модели"
   ]
  },
  {
   "cell_type": "markdown",
   "id": "8cdf3395",
   "metadata": {},
   "source": [
    "Протестируем модель случайного леса со сбалансированными классами (class_weight='balanced') посчитанными ранее, дополнительно вычислим метрики f1 и roc_auc на тестовой выборке"
   ]
  },
  {
   "cell_type": "code",
   "execution_count": 44,
   "id": "4d491077",
   "metadata": {},
   "outputs": [
    {
     "name": "stdout",
     "output_type": "stream",
     "text": [
      "F1 Random Forest на тестовой выборке: 0.6394557823129251\n",
      "Roc_auc Random Forest на тестовой выборке: 0.7797984502688742\n"
     ]
    }
   ],
   "source": [
    "model_balanced_rf.fit(features_train, target_train)\n",
    "predicted_test_rf = model_balanced_rf.predict(features_test)\n",
    "print('F1 Random Forest на тестовой выборке:', f1_score(target_test, predicted_test_rf))\n",
    "print('Roc_auc Random Forest на тестовой выборке:', roc_auc_score(target_test, predicted_test_rf))"
   ]
  },
  {
   "cell_type": "markdown",
   "id": "b7313c6b",
   "metadata": {},
   "source": [
    "Построим Roc-кривую и матрицу ошибок"
   ]
  },
  {
   "cell_type": "code",
   "execution_count": 45,
   "id": "c389df54",
   "metadata": {},
   "outputs": [
    {
     "data": {
      "image/png": "[encoded data removed]",
      "text/plain": [
       "<Figure size 400x400 with 1 Axes>"
      ]
     },
     "metadata": {},
     "output_type": "display_data"
    }
   ],
   "source": [
    "fpr, tpr, thresholds = roc_curve(target_test, model_balanced_rf.predict_proba(features_test)[:,1], pos_label=1)\n",
    "plt.figure(figsize=(4,4))\n",
    "plt.plot(fpr, tpr)\n",
    "plt.xlim([0.0, 1.0])\n",
    "plt.ylim([0.0, 1.0])\n",
    "plt.xlabel('False Positive Rate')\n",
    "plt.ylabel('True Positive Rate')\n",
    "plt.title('ROC-кривая')\n",
    "plt.plot([0, 1], [0, 1], linestyle='--')\n",
    "plt.show()"
   ]
  },
  {
   "cell_type": "code",
   "execution_count": 46,
   "id": "f3ced414",
   "metadata": {},
   "outputs": [
    {
     "data": {
      "text/plain": [
       "Text(0.5, 1.0, 'Confusion matrix')"
      ]
     },
     "execution_count": 46,
     "metadata": {},
     "output_type": "execute_result"
    },
    {
     "data": {
      "image/png": "[encoded data removed]",
      "text/plain": [
       "<Figure size 640x480 with 2 Axes>"
      ]
     },
     "metadata": {},
     "output_type": "display_data"
    }
   ],
   "source": [
    "sbrn.heatmap(confusion_matrix(target_test, predicted_test_rf), annot=True, fmt='3.0f')\n",
    "plt.title('Confusion matrix')"
   ]
  },
  {
   "cell_type": "code",
   "execution_count": 47,
   "id": "d805c74e",
   "metadata": {},
   "outputs": [
    {
     "name": "stdout",
     "output_type": "stream",
     "text": [
      "F1: 0.3457402812241522\n"
     ]
    }
   ],
   "source": [
    "dummy_model = DummyClassifier(strategy='constant', constant=1)\n",
    "dummy_model.fit(features_train, target_train)\n",
    "print('F1:', f1_score(dummy_model.predict(features_test), target_test))"
   ]
  },
  {
   "cell_type": "markdown",
   "id": "864de9a7",
   "metadata": {},
   "source": [
    "**Вывод:** f1 оценка на тестовой модели случайного леса дала результат 0.639, auc_roc 0.779. Roc-кривая и матрица ошибок показали хорошие результаты, это значит, что модель предсказывала не случайно и чаще отвечала верно."
   ]
  },
  {
   "cell_type": "markdown",
   "id": "626b154e",
   "metadata": {},
   "source": [
    "**Вывод по пректу:**\n",
    "- удалось достичь результат метрики f1 равный 0.639, что выше минимально установленного порога в 0.59\n",
    "- в выборке представлены данные, в которых 79,6% клиентов продолжают оставаться клиентами банками, а 20,4% клиентов ушли из банка\n",
    "- клиентами банка преимущественно являются жители Франции (50,1%), а также Германии (25,1%) и Испании (24,8%)\n",
    "- мы применили масштабирование к числовым признакам и использовали метод One-Hot Encoding для преобразования категориальных признаков\n",
    "- лучший результат на несбалансированной выборке показали модели RandomForestClassifier (f1 0.51, roc_auc 0.86) и DecisionTreeClassifier(f1 0.55, roc_auc 0.80). Худший результат показала модель логистической регрессии с f1 равным 0.27 и roc_auc 0.73. В дальнейшем будем рассматривать две наиболее успешные модели.\n",
    "- с помощью взвешивания классов (class_weight='balanced') удалось достичь нужных результатов метрик модели дерева решений (F1 0.59 , roc_auc 0.82), и результатов случайного леса (f1 0.625, roc_auc 0.85)\n",
    "- с помощью увеличения классов результаты метрик дерева решений немного хуже (F1 0.58 , roc_auc 0.80), а результатов случайного леса примерно такие же как и при взвешивании (f1 0.617, roc_auc 0.84)\n",
    "- с помощью уменьшения классов результаты метрик дерева решений немного хуже (F1 0.60 , roc_auc 0.83), а результатов случайного леса примерно такие же как и при взвешивании (f1 0.60, roc_auc 0.84)\n",
    "- лучшие результаты метрики F1 получила модель случайного леса на сбалансированной выборке при взвешивании классов (class_weight='balanced') (f1 0.62, roc_auc 0.85)\n",
    "-  f1 оценка на тестовой модели случайного леса дала результат 0.639, auc_roc 0.779. Roc-кривая и матрица ошибок показали хорошие результаты, это значит, что модель предсказывала не случайно и чаще отвечала верно."
   ]
  }
 ],
 "metadata": {
  "kernelspec": {
   "display_name": "Python 3 (ipykernel)",
   "language": "python",
   "name": "python3"
  },
  "language_info": {
   "codemirror_mode": {
    "name": "ipython",
    "version": 3
   },
   "file_extension": ".py",
   "mimetype": "text/x-python",
   "name": "python",
   "nbconvert_exporter": "python",
   "pygments_lexer": "ipython3",
   "version": "3.9.13"
  },
  "toc": {
   "base_numbering": 1,
   "nav_menu": {},
   "number_sections": true,
   "sideBar": true,
   "skip_h1_title": true,
   "title_cell": "Table of Contents",
   "title_sidebar": "Contents",
   "toc_cell": false,
   "toc_position": {},
   "toc_section_display": true,
   "toc_window_display": false
  }
 },
 "nbformat": 4,
 "nbformat_minor": 5
}
